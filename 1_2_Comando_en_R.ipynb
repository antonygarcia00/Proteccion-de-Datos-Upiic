{
  "nbformat": 4,
  "nbformat_minor": 0,
  "metadata": {
    "colab": {
      "provenance": [],
      "include_colab_link": true
    },
    "kernelspec": {
      "name": "ir",
      "display_name": "R"
    },
    "language_info": {
      "name": "R"
    }
  },
  "cells": [
    {
      "cell_type": "markdown",
      "metadata": {
        "id": "view-in-github",
        "colab_type": "text"
      },
      "source": [
        "<a href=\"https://colab.research.google.com/github/antonygarcia00/Proteccion-de-Datos-Upiic/blob/main/1_2_Comando_en_R.ipynb\" target=\"_parent\"><img src=\"https://colab.research.google.com/assets/colab-badge.svg\" alt=\"Open In Colab\"/></a>"
      ]
    },
    {
      "cell_type": "markdown",
      "source": [
        "2.3 Numeric values and arithmetic"
      ],
      "metadata": {
        "id": "9iH27YVD2E-Y"
      }
    },
    {
      "cell_type": "code",
      "execution_count": null,
      "metadata": {
        "colab": {
          "base_uri": "https://localhost:8080/"
        },
        "id": "WF1i7Bv6VvsX",
        "outputId": "778e1f8c-f003-41d1-f0bf-d6aa40a48779"
      },
      "outputs": [
        {
          "output_type": "stream",
          "name": "stdout",
          "text": [
            "[1] \"hello\"\n",
            "[1] 10.2\n"
          ]
        }
      ],
      "source": [
        "print(\"hello\")\n",
        "a <- c(1,7,8,10,25)\n",
        "print(mean(a))"
      ]
    },
    {
      "cell_type": "code",
      "source": [
        "(3 + exp(2)) / sin(pi)"
      ],
      "metadata": {
        "colab": {
          "base_uri": "https://localhost:8080/",
          "height": 34
        },
        "id": "oRnU1QNCV2La",
        "outputId": "834846a6-9d75-4e8f-ddf7-08a5728f12be"
      },
      "execution_count": null,
      "outputs": [
        {
          "output_type": "display_data",
          "data": {
            "text/html": [
              "84833080902705296"
            ],
            "text/markdown": "84833080902705296",
            "text/latex": "84833080902705296",
            "text/plain": [
              "[1] 8.483308e+16"
            ]
          },
          "metadata": {}
        }
      ]
    },
    {
      "cell_type": "code",
      "source": [
        "1 + 2 * 3\n",
        "\n",
        "1 + (2 * 3)\n",
        "\n",
        "(1 + 2) * 3"
      ],
      "metadata": {
        "colab": {
          "base_uri": "https://localhost:8080/",
          "height": 69
        },
        "id": "79n7Kv6hV9eT",
        "outputId": "5991b09b-09c0-4ea8-f4b4-5d4452edba85"
      },
      "execution_count": null,
      "outputs": [
        {
          "output_type": "display_data",
          "data": {
            "text/html": [
              "7"
            ],
            "text/markdown": "7",
            "text/latex": "7",
            "text/plain": [
              "[1] 7"
            ]
          },
          "metadata": {}
        },
        {
          "output_type": "display_data",
          "data": {
            "text/html": [
              "7"
            ],
            "text/markdown": "7",
            "text/latex": "7",
            "text/plain": [
              "[1] 7"
            ]
          },
          "metadata": {}
        },
        {
          "output_type": "display_data",
          "data": {
            "text/html": [
              "9"
            ],
            "text/markdown": "9",
            "text/latex": "9",
            "text/plain": [
              "[1] 9"
            ]
          },
          "metadata": {}
        }
      ]
    },
    {
      "cell_type": "code",
      "source": [
        "1 + 1\n",
        "2 * 2\n",
        "2 + 10 / 5\n",
        "(2 + 10) / 5\n",
        "10^2 + 1\n",
        "sqrt(9)\n",
        "pi # whole precision not shown when printing\n",
        "print(pi, digits = 22)\n",
        "sin(pi) # oops! Read on for explanation.\n",
        "log(100)\n",
        "log10(100)\n",
        "log2(8)\n",
        "exp(1)"
      ],
      "metadata": {
        "colab": {
          "base_uri": "https://localhost:8080/",
          "height": 243
        },
        "id": "kUv7nhkIWAby",
        "outputId": "7f3c12cc-cdda-4717-d332-e76753553ae3"
      },
      "execution_count": null,
      "outputs": [
        {
          "output_type": "display_data",
          "data": {
            "text/html": [
              "2"
            ],
            "text/markdown": "2",
            "text/latex": "2",
            "text/plain": [
              "[1] 2"
            ]
          },
          "metadata": {}
        },
        {
          "output_type": "display_data",
          "data": {
            "text/html": [
              "4"
            ],
            "text/markdown": "4",
            "text/latex": "4",
            "text/plain": [
              "[1] 4"
            ]
          },
          "metadata": {}
        },
        {
          "output_type": "display_data",
          "data": {
            "text/html": [
              "4"
            ],
            "text/markdown": "4",
            "text/latex": "4",
            "text/plain": [
              "[1] 4"
            ]
          },
          "metadata": {}
        },
        {
          "output_type": "display_data",
          "data": {
            "text/html": [
              "2.4"
            ],
            "text/markdown": "2.4",
            "text/latex": "2.4",
            "text/plain": [
              "[1] 2.4"
            ]
          },
          "metadata": {}
        },
        {
          "output_type": "display_data",
          "data": {
            "text/html": [
              "101"
            ],
            "text/markdown": "101",
            "text/latex": "101",
            "text/plain": [
              "[1] 101"
            ]
          },
          "metadata": {}
        },
        {
          "output_type": "display_data",
          "data": {
            "text/html": [
              "3"
            ],
            "text/markdown": "3",
            "text/latex": "3",
            "text/plain": [
              "[1] 3"
            ]
          },
          "metadata": {}
        },
        {
          "output_type": "display_data",
          "data": {
            "text/html": [
              "3.14159265358979"
            ],
            "text/markdown": "3.14159265358979",
            "text/latex": "3.14159265358979",
            "text/plain": [
              "[1] 3.141593"
            ]
          },
          "metadata": {}
        },
        {
          "output_type": "stream",
          "name": "stdout",
          "text": [
            "[1] 3.141592653589793115998\n"
          ]
        },
        {
          "output_type": "display_data",
          "data": {
            "text/html": [
              "1.22464679914735e-16"
            ],
            "text/markdown": "1.22464679914735e-16",
            "text/latex": "1.22464679914735e-16",
            "text/plain": [
              "[1] 1.224647e-16"
            ]
          },
          "metadata": {}
        },
        {
          "output_type": "display_data",
          "data": {
            "text/html": [
              "4.60517018598809"
            ],
            "text/markdown": "4.60517018598809",
            "text/latex": "4.60517018598809",
            "text/plain": [
              "[1] 4.60517"
            ]
          },
          "metadata": {}
        },
        {
          "output_type": "display_data",
          "data": {
            "text/html": [
              "2"
            ],
            "text/markdown": "2",
            "text/latex": "2",
            "text/plain": [
              "[1] 2"
            ]
          },
          "metadata": {}
        },
        {
          "output_type": "display_data",
          "data": {
            "text/html": [
              "3"
            ],
            "text/markdown": "3",
            "text/latex": "3",
            "text/plain": [
              "[1] 3"
            ]
          },
          "metadata": {}
        },
        {
          "output_type": "display_data",
          "data": {
            "text/html": [
              "2.71828182845905"
            ],
            "text/markdown": "2.71828182845905",
            "text/latex": "2.71828182845905",
            "text/plain": [
              "[1] 2.718282"
            ]
          },
          "metadata": {}
        }
      ]
    },
    {
      "cell_type": "code",
      "source": [
        "a <- 1\n",
        "a + 1\n",
        "\n",
        "a\n",
        "\n",
        "b <- 10\n",
        "b <- a + b\n",
        "b\n",
        "\n",
        "3e-2 * 2.0"
      ],
      "metadata": {
        "colab": {
          "base_uri": "https://localhost:8080/",
          "height": 86
        },
        "id": "NvBWG0otWDgs",
        "outputId": "2c7a744a-7a25-4d85-a979-3eb34cc8c00b"
      },
      "execution_count": null,
      "outputs": [
        {
          "output_type": "display_data",
          "data": {
            "text/html": [
              "2"
            ],
            "text/markdown": "2",
            "text/latex": "2",
            "text/plain": [
              "[1] 2"
            ]
          },
          "metadata": {}
        },
        {
          "output_type": "display_data",
          "data": {
            "text/html": [
              "1"
            ],
            "text/markdown": "1",
            "text/latex": "1",
            "text/plain": [
              "[1] 1"
            ]
          },
          "metadata": {}
        },
        {
          "output_type": "display_data",
          "data": {
            "text/html": [
              "11"
            ],
            "text/markdown": "11",
            "text/latex": "11",
            "text/plain": [
              "[1] 11"
            ]
          },
          "metadata": {}
        },
        {
          "output_type": "display_data",
          "data": {
            "text/html": [
              "0.06"
            ],
            "text/markdown": "0.06",
            "text/latex": "0.06",
            "text/plain": [
              "[1] 0.06"
            ]
          },
          "metadata": {}
        }
      ]
    },
    {
      "cell_type": "code",
      "source": [
        "a\n",
        "\n",
        "print(a)\n",
        "\n",
        "a + 1\n",
        "\n",
        "print(a + 1)"
      ],
      "metadata": {
        "colab": {
          "base_uri": "https://localhost:8080/",
          "height": 86
        },
        "id": "mnJVTcLHWJAF",
        "outputId": "990204db-d609-477f-d9ae-d724d49620d4"
      },
      "execution_count": null,
      "outputs": [
        {
          "output_type": "display_data",
          "data": {
            "text/html": [
              "1"
            ],
            "text/markdown": "1",
            "text/latex": "1",
            "text/plain": [
              "[1] 1"
            ]
          },
          "metadata": {}
        },
        {
          "output_type": "stream",
          "name": "stdout",
          "text": [
            "[1] 1\n"
          ]
        },
        {
          "output_type": "display_data",
          "data": {
            "text/html": [
              "2"
            ],
            "text/markdown": "2",
            "text/latex": "2",
            "text/plain": [
              "[1] 2"
            ]
          },
          "metadata": {}
        },
        {
          "output_type": "stream",
          "name": "stdout",
          "text": [
            "[1] 2\n"
          ]
        }
      ]
    },
    {
      "cell_type": "code",
      "source": [
        "a <- b <- c <- 0.0\n",
        "a\n",
        "b\n",
        "c\n",
        "1 -> a\n",
        "a\n",
        "a = 3\n",
        "a"
      ],
      "metadata": {
        "colab": {
          "base_uri": "https://localhost:8080/",
          "height": 104
        },
        "id": "6eEV61aIWNzR",
        "outputId": "9fc6c39a-2e43-46ba-8e49-6d912db8049e"
      },
      "execution_count": null,
      "outputs": [
        {
          "output_type": "display_data",
          "data": {
            "text/html": [
              "0"
            ],
            "text/markdown": "0",
            "text/latex": "0",
            "text/plain": [
              "[1] 0"
            ]
          },
          "metadata": {}
        },
        {
          "output_type": "display_data",
          "data": {
            "text/html": [
              "0"
            ],
            "text/markdown": "0",
            "text/latex": "0",
            "text/plain": [
              "[1] 0"
            ]
          },
          "metadata": {}
        },
        {
          "output_type": "display_data",
          "data": {
            "text/html": [
              "0"
            ],
            "text/markdown": "0",
            "text/latex": "0",
            "text/plain": [
              "[1] 0"
            ]
          },
          "metadata": {}
        },
        {
          "output_type": "display_data",
          "data": {
            "text/html": [
              "1"
            ],
            "text/markdown": "1",
            "text/latex": "1",
            "text/plain": [
              "[1] 1"
            ]
          },
          "metadata": {}
        },
        {
          "output_type": "display_data",
          "data": {
            "text/html": [
              "3"
            ],
            "text/markdown": "3",
            "text/latex": "3",
            "text/plain": [
              "[1] 3"
            ]
          },
          "metadata": {}
        }
      ]
    },
    {
      "cell_type": "code",
      "source": [
        "mode(1)\n",
        "\n",
        "a <- 1\n",
        "is.numeric(a)"
      ],
      "metadata": {
        "colab": {
          "base_uri": "https://localhost:8080/",
          "height": 52
        },
        "id": "PwqyyKcZWSyl",
        "outputId": "7e88627d-e53b-4f77-c248-fa390a594fa2"
      },
      "execution_count": null,
      "outputs": [
        {
          "output_type": "display_data",
          "data": {
            "text/html": [
              "'numeric'"
            ],
            "text/markdown": "'numeric'",
            "text/latex": "'numeric'",
            "text/plain": [
              "[1] \"numeric\""
            ]
          },
          "metadata": {}
        },
        {
          "output_type": "display_data",
          "data": {
            "text/html": [
              "TRUE"
            ],
            "text/markdown": "TRUE",
            "text/latex": "TRUE",
            "text/plain": [
              "[1] TRUE"
            ]
          },
          "metadata": {}
        }
      ]
    },
    {
      "cell_type": "code",
      "source": [
        "is.numeric(1L)\n",
        "\n",
        "is.integer(1L)\n",
        "\n",
        "is.double(1L)"
      ],
      "metadata": {
        "colab": {
          "base_uri": "https://localhost:8080/",
          "height": 69
        },
        "id": "E-Q4vk2gWW71",
        "outputId": "76f29c61-6d8e-4da6-d703-67bfa54afdaf"
      },
      "execution_count": null,
      "outputs": [
        {
          "output_type": "display_data",
          "data": {
            "text/html": [
              "TRUE"
            ],
            "text/markdown": "TRUE",
            "text/latex": "TRUE",
            "text/plain": [
              "[1] TRUE"
            ]
          },
          "metadata": {}
        },
        {
          "output_type": "display_data",
          "data": {
            "text/html": [
              "TRUE"
            ],
            "text/markdown": "TRUE",
            "text/latex": "TRUE",
            "text/plain": [
              "[1] TRUE"
            ]
          },
          "metadata": {}
        },
        {
          "output_type": "display_data",
          "data": {
            "text/html": [
              "FALSE"
            ],
            "text/markdown": "FALSE",
            "text/latex": "FALSE",
            "text/plain": [
              "[1] FALSE"
            ]
          },
          "metadata": {}
        }
      ]
    },
    {
      "cell_type": "code",
      "source": [
        "is.numeric(1)\n",
        "\n",
        "is.integer(1)\n",
        "\n",
        "is.double(1)"
      ],
      "metadata": {
        "colab": {
          "base_uri": "https://localhost:8080/",
          "height": 69
        },
        "id": "RKHuP6yWWZVn",
        "outputId": "1fe2bad9-c924-4e3a-9f8c-c353f86b34c7"
      },
      "execution_count": null,
      "outputs": [
        {
          "output_type": "display_data",
          "data": {
            "text/html": [
              "TRUE"
            ],
            "text/markdown": "TRUE",
            "text/latex": "TRUE",
            "text/plain": [
              "[1] TRUE"
            ]
          },
          "metadata": {}
        },
        {
          "output_type": "display_data",
          "data": {
            "text/html": [
              "FALSE"
            ],
            "text/markdown": "FALSE",
            "text/latex": "FALSE",
            "text/plain": [
              "[1] FALSE"
            ]
          },
          "metadata": {}
        },
        {
          "output_type": "display_data",
          "data": {
            "text/html": [
              "TRUE"
            ],
            "text/markdown": "TRUE",
            "text/latex": "TRUE",
            "text/plain": [
              "[1] TRUE"
            ]
          },
          "metadata": {}
        }
      ]
    },
    {
      "cell_type": "code",
      "source": [
        "a <- c(3, 1, 2)\n",
        "a\n",
        "\n",
        "b <- c(4, 5, 0)\n",
        "b\n",
        "\n",
        "c <- c(a, b)\n",
        "c\n",
        "\n",
        "d <- c(b, a)\n",
        "d"
      ],
      "metadata": {
        "colab": {
          "base_uri": "https://localhost:8080/",
          "height": 86
        },
        "id": "-SozrU98WdJH",
        "outputId": "98881dbb-f8eb-40a2-8b88-4f9755d0146c"
      },
      "execution_count": null,
      "outputs": [
        {
          "output_type": "display_data",
          "data": {
            "text/html": [
              "<style>\n",
              ".list-inline {list-style: none; margin:0; padding: 0}\n",
              ".list-inline>li {display: inline-block}\n",
              ".list-inline>li:not(:last-child)::after {content: \"\\00b7\"; padding: 0 .5ex}\n",
              "</style>\n",
              "<ol class=list-inline><li>3</li><li>1</li><li>2</li></ol>\n"
            ],
            "text/markdown": "1. 3\n2. 1\n3. 2\n\n\n",
            "text/latex": "\\begin{enumerate*}\n\\item 3\n\\item 1\n\\item 2\n\\end{enumerate*}\n",
            "text/plain": [
              "[1] 3 1 2"
            ]
          },
          "metadata": {}
        },
        {
          "output_type": "display_data",
          "data": {
            "text/html": [
              "<style>\n",
              ".list-inline {list-style: none; margin:0; padding: 0}\n",
              ".list-inline>li {display: inline-block}\n",
              ".list-inline>li:not(:last-child)::after {content: \"\\00b7\"; padding: 0 .5ex}\n",
              "</style>\n",
              "<ol class=list-inline><li>4</li><li>5</li><li>0</li></ol>\n"
            ],
            "text/markdown": "1. 4\n2. 5\n3. 0\n\n\n",
            "text/latex": "\\begin{enumerate*}\n\\item 4\n\\item 5\n\\item 0\n\\end{enumerate*}\n",
            "text/plain": [
              "[1] 4 5 0"
            ]
          },
          "metadata": {}
        },
        {
          "output_type": "display_data",
          "data": {
            "text/html": [
              "<style>\n",
              ".list-inline {list-style: none; margin:0; padding: 0}\n",
              ".list-inline>li {display: inline-block}\n",
              ".list-inline>li:not(:last-child)::after {content: \"\\00b7\"; padding: 0 .5ex}\n",
              "</style>\n",
              "<ol class=list-inline><li>3</li><li>1</li><li>2</li><li>4</li><li>5</li><li>0</li></ol>\n"
            ],
            "text/markdown": "1. 3\n2. 1\n3. 2\n4. 4\n5. 5\n6. 0\n\n\n",
            "text/latex": "\\begin{enumerate*}\n\\item 3\n\\item 1\n\\item 2\n\\item 4\n\\item 5\n\\item 0\n\\end{enumerate*}\n",
            "text/plain": [
              "[1] 3 1 2 4 5 0"
            ]
          },
          "metadata": {}
        },
        {
          "output_type": "display_data",
          "data": {
            "text/html": [
              "<style>\n",
              ".list-inline {list-style: none; margin:0; padding: 0}\n",
              ".list-inline>li {display: inline-block}\n",
              ".list-inline>li:not(:last-child)::after {content: \"\\00b7\"; padding: 0 .5ex}\n",
              "</style>\n",
              "<ol class=list-inline><li>4</li><li>5</li><li>0</li><li>3</li><li>1</li><li>2</li></ol>\n"
            ],
            "text/markdown": "1. 4\n2. 5\n3. 0\n4. 3\n5. 1\n6. 2\n\n\n",
            "text/latex": "\\begin{enumerate*}\n\\item 4\n\\item 5\n\\item 0\n\\item 3\n\\item 1\n\\item 2\n\\end{enumerate*}\n",
            "text/plain": [
              "[1] 4 5 0 3 1 2"
            ]
          },
          "metadata": {}
        }
      ]
    },
    {
      "cell_type": "code",
      "source": [
        "append(a, b)"
      ],
      "metadata": {
        "colab": {
          "base_uri": "https://localhost:8080/",
          "height": 34
        },
        "id": "Je5xOmySWjgm",
        "outputId": "a7dcd448-20b7-4a50-fabc-66792986a483"
      },
      "execution_count": null,
      "outputs": [
        {
          "output_type": "display_data",
          "data": {
            "text/html": [
              "<style>\n",
              ".list-inline {list-style: none; margin:0; padding: 0}\n",
              ".list-inline>li {display: inline-block}\n",
              ".list-inline>li:not(:last-child)::after {content: \"\\00b7\"; padding: 0 .5ex}\n",
              "</style>\n",
              "<ol class=list-inline><li>3</li><li>1</li><li>2</li><li>4</li><li>5</li><li>0</li></ol>\n"
            ],
            "text/markdown": "1. 3\n2. 1\n3. 2\n4. 4\n5. 5\n6. 0\n\n\n",
            "text/latex": "\\begin{enumerate*}\n\\item 3\n\\item 1\n\\item 2\n\\item 4\n\\item 5\n\\item 0\n\\end{enumerate*}\n",
            "text/plain": [
              "[1] 3 1 2 4 5 0"
            ]
          },
          "metadata": {}
        }
      ]
    },
    {
      "cell_type": "code",
      "source": [
        "append(a, values = b, after = 2L)"
      ],
      "metadata": {
        "colab": {
          "base_uri": "https://localhost:8080/",
          "height": 34
        },
        "id": "WhwNIuE9WlMc",
        "outputId": "abd6a538-a347-45fb-95fd-7f2c63148235"
      },
      "execution_count": null,
      "outputs": [
        {
          "output_type": "display_data",
          "data": {
            "text/html": [
              "<style>\n",
              ".list-inline {list-style: none; margin:0; padding: 0}\n",
              ".list-inline>li {display: inline-block}\n",
              ".list-inline>li:not(:last-child)::after {content: \"\\00b7\"; padding: 0 .5ex}\n",
              "</style>\n",
              "<ol class=list-inline><li>3</li><li>1</li><li>4</li><li>5</li><li>0</li><li>2</li></ol>\n"
            ],
            "text/markdown": "1. 3\n2. 1\n3. 4\n4. 5\n5. 0\n6. 2\n\n\n",
            "text/latex": "\\begin{enumerate*}\n\\item 3\n\\item 1\n\\item 4\n\\item 5\n\\item 0\n\\item 2\n\\end{enumerate*}\n",
            "text/plain": [
              "[1] 3 1 4 5 0 2"
            ]
          },
          "metadata": {}
        }
      ]
    },
    {
      "cell_type": "code",
      "source": [
        "a <- -1:5\n",
        "a\n",
        "b <- 5:-1\n",
        "b\n",
        "c <- seq(from = -1, to = 1, by = 0.1)\n",
        "c\n",
        "d <- rep(-5, 4)\n",
        "d"
      ],
      "metadata": {
        "colab": {
          "base_uri": "https://localhost:8080/",
          "height": 86
        },
        "id": "oynFkLb6Wm34",
        "outputId": "bfdc2f3f-6162-4c2a-cb0f-50b303c16386"
      },
      "execution_count": null,
      "outputs": [
        {
          "output_type": "display_data",
          "data": {
            "text/html": [
              "<style>\n",
              ".list-inline {list-style: none; margin:0; padding: 0}\n",
              ".list-inline>li {display: inline-block}\n",
              ".list-inline>li:not(:last-child)::after {content: \"\\00b7\"; padding: 0 .5ex}\n",
              "</style>\n",
              "<ol class=list-inline><li>-1</li><li>0</li><li>1</li><li>2</li><li>3</li><li>4</li><li>5</li></ol>\n"
            ],
            "text/markdown": "1. -1\n2. 0\n3. 1\n4. 2\n5. 3\n6. 4\n7. 5\n\n\n",
            "text/latex": "\\begin{enumerate*}\n\\item -1\n\\item 0\n\\item 1\n\\item 2\n\\item 3\n\\item 4\n\\item 5\n\\end{enumerate*}\n",
            "text/plain": [
              "[1] -1  0  1  2  3  4  5"
            ]
          },
          "metadata": {}
        },
        {
          "output_type": "display_data",
          "data": {
            "text/html": [
              "<style>\n",
              ".list-inline {list-style: none; margin:0; padding: 0}\n",
              ".list-inline>li {display: inline-block}\n",
              ".list-inline>li:not(:last-child)::after {content: \"\\00b7\"; padding: 0 .5ex}\n",
              "</style>\n",
              "<ol class=list-inline><li>5</li><li>4</li><li>3</li><li>2</li><li>1</li><li>0</li><li>-1</li></ol>\n"
            ],
            "text/markdown": "1. 5\n2. 4\n3. 3\n4. 2\n5. 1\n6. 0\n7. -1\n\n\n",
            "text/latex": "\\begin{enumerate*}\n\\item 5\n\\item 4\n\\item 3\n\\item 2\n\\item 1\n\\item 0\n\\item -1\n\\end{enumerate*}\n",
            "text/plain": [
              "[1]  5  4  3  2  1  0 -1"
            ]
          },
          "metadata": {}
        },
        {
          "output_type": "display_data",
          "data": {
            "text/html": [
              "<style>\n",
              ".list-inline {list-style: none; margin:0; padding: 0}\n",
              ".list-inline>li {display: inline-block}\n",
              ".list-inline>li:not(:last-child)::after {content: \"\\00b7\"; padding: 0 .5ex}\n",
              "</style>\n",
              "<ol class=list-inline><li>-1</li><li>-0.9</li><li>-0.8</li><li>-0.7</li><li>-0.6</li><li>-0.5</li><li>-0.4</li><li>-0.3</li><li>-0.2</li><li>-0.1</li><li>0</li><li>0.1</li><li>0.2</li><li>0.3</li><li>0.4</li><li>0.5</li><li>0.6</li><li>0.7</li><li>0.8</li><li>0.9</li><li>1</li></ol>\n"
            ],
            "text/markdown": "1. -1\n2. -0.9\n3. -0.8\n4. -0.7\n5. -0.6\n6. -0.5\n7. -0.4\n8. -0.3\n9. -0.2\n10. -0.1\n11. 0\n12. 0.1\n13. 0.2\n14. 0.3\n15. 0.4\n16. 0.5\n17. 0.6\n18. 0.7\n19. 0.8\n20. 0.9\n21. 1\n\n\n",
            "text/latex": "\\begin{enumerate*}\n\\item -1\n\\item -0.9\n\\item -0.8\n\\item -0.7\n\\item -0.6\n\\item -0.5\n\\item -0.4\n\\item -0.3\n\\item -0.2\n\\item -0.1\n\\item 0\n\\item 0.1\n\\item 0.2\n\\item 0.3\n\\item 0.4\n\\item 0.5\n\\item 0.6\n\\item 0.7\n\\item 0.8\n\\item 0.9\n\\item 1\n\\end{enumerate*}\n",
            "text/plain": [
              " [1] -1.0 -0.9 -0.8 -0.7 -0.6 -0.5 -0.4 -0.3 -0.2 -0.1  0.0  0.1  0.2  0.3  0.4\n",
              "[16]  0.5  0.6  0.7  0.8  0.9  1.0"
            ]
          },
          "metadata": {}
        },
        {
          "output_type": "display_data",
          "data": {
            "text/html": [
              "<style>\n",
              ".list-inline {list-style: none; margin:0; padding: 0}\n",
              ".list-inline>li {display: inline-block}\n",
              ".list-inline>li:not(:last-child)::after {content: \"\\00b7\"; padding: 0 .5ex}\n",
              "</style>\n",
              "<ol class=list-inline><li>-5</li><li>-5</li><li>-5</li><li>-5</li></ol>\n"
            ],
            "text/markdown": "1. -5\n2. -5\n3. -5\n4. -5\n\n\n",
            "text/latex": "\\begin{enumerate*}\n\\item -5\n\\item -5\n\\item -5\n\\item -5\n\\end{enumerate*}\n",
            "text/plain": [
              "[1] -5 -5 -5 -5"
            ]
          },
          "metadata": {}
        }
      ]
    },
    {
      "cell_type": "code",
      "source": [
        "a + 1 # we add one to vector a defined above\n",
        "\n",
        "(a + 1) * 2\n",
        "\n",
        "a + b\n",
        "\n",
        "a - a"
      ],
      "metadata": {
        "colab": {
          "base_uri": "https://localhost:8080/",
          "height": 86
        },
        "id": "RqwkbVHhWpl8",
        "outputId": "34063471-0c2c-4b4d-c964-fbdfa9ea06b9"
      },
      "execution_count": null,
      "outputs": [
        {
          "output_type": "display_data",
          "data": {
            "text/html": [
              "<style>\n",
              ".list-inline {list-style: none; margin:0; padding: 0}\n",
              ".list-inline>li {display: inline-block}\n",
              ".list-inline>li:not(:last-child)::after {content: \"\\00b7\"; padding: 0 .5ex}\n",
              "</style>\n",
              "<ol class=list-inline><li>0</li><li>1</li><li>2</li><li>3</li><li>4</li><li>5</li><li>6</li></ol>\n"
            ],
            "text/markdown": "1. 0\n2. 1\n3. 2\n4. 3\n5. 4\n6. 5\n7. 6\n\n\n",
            "text/latex": "\\begin{enumerate*}\n\\item 0\n\\item 1\n\\item 2\n\\item 3\n\\item 4\n\\item 5\n\\item 6\n\\end{enumerate*}\n",
            "text/plain": [
              "[1] 0 1 2 3 4 5 6"
            ]
          },
          "metadata": {}
        },
        {
          "output_type": "display_data",
          "data": {
            "text/html": [
              "<style>\n",
              ".list-inline {list-style: none; margin:0; padding: 0}\n",
              ".list-inline>li {display: inline-block}\n",
              ".list-inline>li:not(:last-child)::after {content: \"\\00b7\"; padding: 0 .5ex}\n",
              "</style>\n",
              "<ol class=list-inline><li>0</li><li>2</li><li>4</li><li>6</li><li>8</li><li>10</li><li>12</li></ol>\n"
            ],
            "text/markdown": "1. 0\n2. 2\n3. 4\n4. 6\n5. 8\n6. 10\n7. 12\n\n\n",
            "text/latex": "\\begin{enumerate*}\n\\item 0\n\\item 2\n\\item 4\n\\item 6\n\\item 8\n\\item 10\n\\item 12\n\\end{enumerate*}\n",
            "text/plain": [
              "[1]  0  2  4  6  8 10 12"
            ]
          },
          "metadata": {}
        },
        {
          "output_type": "display_data",
          "data": {
            "text/html": [
              "<style>\n",
              ".list-inline {list-style: none; margin:0; padding: 0}\n",
              ".list-inline>li {display: inline-block}\n",
              ".list-inline>li:not(:last-child)::after {content: \"\\00b7\"; padding: 0 .5ex}\n",
              "</style>\n",
              "<ol class=list-inline><li>4</li><li>4</li><li>4</li><li>4</li><li>4</li><li>4</li><li>4</li></ol>\n"
            ],
            "text/markdown": "1. 4\n2. 4\n3. 4\n4. 4\n5. 4\n6. 4\n7. 4\n\n\n",
            "text/latex": "\\begin{enumerate*}\n\\item 4\n\\item 4\n\\item 4\n\\item 4\n\\item 4\n\\item 4\n\\item 4\n\\end{enumerate*}\n",
            "text/plain": [
              "[1] 4 4 4 4 4 4 4"
            ]
          },
          "metadata": {}
        },
        {
          "output_type": "display_data",
          "data": {
            "text/html": [
              "<style>\n",
              ".list-inline {list-style: none; margin:0; padding: 0}\n",
              ".list-inline>li {display: inline-block}\n",
              ".list-inline>li:not(:last-child)::after {content: \"\\00b7\"; padding: 0 .5ex}\n",
              "</style>\n",
              "<ol class=list-inline><li>0</li><li>0</li><li>0</li><li>0</li><li>0</li><li>0</li><li>0</li></ol>\n"
            ],
            "text/markdown": "1. 0\n2. 0\n3. 0\n4. 0\n5. 0\n6. 0\n7. 0\n\n\n",
            "text/latex": "\\begin{enumerate*}\n\\item 0\n\\item 0\n\\item 0\n\\item 0\n\\item 0\n\\item 0\n\\item 0\n\\end{enumerate*}\n",
            "text/plain": [
              "[1] 0 0 0 0 0 0 0"
            ]
          },
          "metadata": {}
        }
      ]
    },
    {
      "cell_type": "code",
      "source": [
        "a <- rep(1, 6)\n",
        "a\n",
        "\n",
        "a + 1:2\n",
        "\n",
        "a + 1:3\n",
        "\n",
        "a + 1:4\n",
        "## Warning in a + 1:4: longer object length is not a multiple of shorter object\n",
        "length"
      ],
      "metadata": {
        "colab": {
          "base_uri": "https://localhost:8080/",
          "height": 139
        },
        "id": "80mnMgMHW0ME",
        "outputId": "293c178f-68d3-495d-dc2a-476de26dd20e"
      },
      "execution_count": null,
      "outputs": [
        {
          "output_type": "display_data",
          "data": {
            "text/html": [
              "<style>\n",
              ".list-inline {list-style: none; margin:0; padding: 0}\n",
              ".list-inline>li {display: inline-block}\n",
              ".list-inline>li:not(:last-child)::after {content: \"\\00b7\"; padding: 0 .5ex}\n",
              "</style>\n",
              "<ol class=list-inline><li>1</li><li>1</li><li>1</li><li>1</li><li>1</li><li>1</li></ol>\n"
            ],
            "text/markdown": "1. 1\n2. 1\n3. 1\n4. 1\n5. 1\n6. 1\n\n\n",
            "text/latex": "\\begin{enumerate*}\n\\item 1\n\\item 1\n\\item 1\n\\item 1\n\\item 1\n\\item 1\n\\end{enumerate*}\n",
            "text/plain": [
              "[1] 1 1 1 1 1 1"
            ]
          },
          "metadata": {}
        },
        {
          "output_type": "display_data",
          "data": {
            "text/html": [
              "<style>\n",
              ".list-inline {list-style: none; margin:0; padding: 0}\n",
              ".list-inline>li {display: inline-block}\n",
              ".list-inline>li:not(:last-child)::after {content: \"\\00b7\"; padding: 0 .5ex}\n",
              "</style>\n",
              "<ol class=list-inline><li>2</li><li>3</li><li>2</li><li>3</li><li>2</li><li>3</li></ol>\n"
            ],
            "text/markdown": "1. 2\n2. 3\n3. 2\n4. 3\n5. 2\n6. 3\n\n\n",
            "text/latex": "\\begin{enumerate*}\n\\item 2\n\\item 3\n\\item 2\n\\item 3\n\\item 2\n\\item 3\n\\end{enumerate*}\n",
            "text/plain": [
              "[1] 2 3 2 3 2 3"
            ]
          },
          "metadata": {}
        },
        {
          "output_type": "display_data",
          "data": {
            "text/html": [
              "<style>\n",
              ".list-inline {list-style: none; margin:0; padding: 0}\n",
              ".list-inline>li {display: inline-block}\n",
              ".list-inline>li:not(:last-child)::after {content: \"\\00b7\"; padding: 0 .5ex}\n",
              "</style>\n",
              "<ol class=list-inline><li>2</li><li>3</li><li>4</li><li>2</li><li>3</li><li>4</li></ol>\n"
            ],
            "text/markdown": "1. 2\n2. 3\n3. 4\n4. 2\n5. 3\n6. 4\n\n\n",
            "text/latex": "\\begin{enumerate*}\n\\item 2\n\\item 3\n\\item 4\n\\item 2\n\\item 3\n\\item 4\n\\end{enumerate*}\n",
            "text/plain": [
              "[1] 2 3 4 2 3 4"
            ]
          },
          "metadata": {}
        },
        {
          "output_type": "stream",
          "name": "stderr",
          "text": [
            "Warning message in a + 1:4:\n",
            "“longer object length is not a multiple of shorter object length”\n"
          ]
        },
        {
          "output_type": "display_data",
          "data": {
            "text/html": [
              "<style>\n",
              ".list-inline {list-style: none; margin:0; padding: 0}\n",
              ".list-inline>li {display: inline-block}\n",
              ".list-inline>li:not(:last-child)::after {content: \"\\00b7\"; padding: 0 .5ex}\n",
              "</style>\n",
              "<ol class=list-inline><li>2</li><li>3</li><li>4</li><li>5</li><li>2</li><li>3</li></ol>\n"
            ],
            "text/markdown": "1. 2\n2. 3\n3. 4\n4. 5\n5. 2\n6. 3\n\n\n",
            "text/latex": "\\begin{enumerate*}\n\\item 2\n\\item 3\n\\item 4\n\\item 5\n\\item 2\n\\item 3\n\\end{enumerate*}\n",
            "text/plain": [
              "[1] 2 3 4 5 2 3"
            ]
          },
          "metadata": {}
        },
        {
          "output_type": "display_data",
          "data": {
            "text/html": [
              "<pre class=language-r><code>.Primitive(\"length\")</code></pre>"
            ],
            "text/markdown": "```r\n.Primitive(\"length\")\n```",
            "text/latex": "\\begin{minted}{r}\n.Primitive(\"length\")\n\\end{minted}",
            "text/plain": [
              "function (x)  .Primitive(\"length\")"
            ]
          },
          "metadata": {}
        }
      ]
    },
    {
      "cell_type": "code",
      "source": [
        "z <- numeric(0)\n",
        "z\n",
        "\n",
        "length(z)"
      ],
      "metadata": {
        "colab": {
          "base_uri": "https://localhost:8080/",
          "height": 34
        },
        "id": "h6Fiu0qaW6Ys",
        "outputId": "57dc8875-b884-48cd-d9b6-e62d4c5236d1"
      },
      "execution_count": null,
      "outputs": [
        {
          "output_type": "display_data",
          "data": {
            "text/html": [],
            "text/markdown": "",
            "text/latex": "",
            "text/plain": [
              "numeric(0)"
            ]
          },
          "metadata": {}
        },
        {
          "output_type": "display_data",
          "data": {
            "text/html": [
              "0"
            ],
            "text/markdown": "0",
            "text/latex": "0",
            "text/plain": [
              "[1] 0"
            ]
          },
          "metadata": {}
        }
      ]
    },
    {
      "cell_type": "code",
      "source": [
        "length(c(a, numeric(0), b))\n",
        "\n",
        "length(c(a, b))"
      ],
      "metadata": {
        "colab": {
          "base_uri": "https://localhost:8080/",
          "height": 52
        },
        "id": "b9lB7OEWXEyp",
        "outputId": "9e7b833e-4be6-420e-8388-4385ecadcf77"
      },
      "execution_count": null,
      "outputs": [
        {
          "output_type": "display_data",
          "data": {
            "text/html": [
              "13"
            ],
            "text/markdown": "13",
            "text/latex": "13",
            "text/plain": [
              "[1] 13"
            ]
          },
          "metadata": {}
        },
        {
          "output_type": "display_data",
          "data": {
            "text/html": [
              "13"
            ],
            "text/markdown": "13",
            "text/latex": "13",
            "text/plain": [
              "[1] 13"
            ]
          },
          "metadata": {}
        }
      ]
    },
    {
      "cell_type": "code",
      "source": [
        "log(numeric(0))\n",
        "\n",
        "5 + numeric(0)"
      ],
      "metadata": {
        "colab": {
          "base_uri": "https://localhost:8080/",
          "height": 17
        },
        "id": "u02GUXcWXG5Y",
        "outputId": "ac072903-904a-4c54-af55-b87273a48d8e"
      },
      "execution_count": null,
      "outputs": [
        {
          "output_type": "display_data",
          "data": {
            "text/html": [],
            "text/markdown": "",
            "text/latex": "",
            "text/plain": [
              "numeric(0)"
            ]
          },
          "metadata": {}
        },
        {
          "output_type": "display_data",
          "data": {
            "text/html": [],
            "text/markdown": "",
            "text/latex": "",
            "text/plain": [
              "numeric(0)"
            ]
          },
          "metadata": {}
        }
      ]
    },
    {
      "cell_type": "code",
      "source": [
        "ls(pattern=\"^z$\")\n",
        "\n",
        "rm(z)\n",
        "ls(pattern=\"^z$\")"
      ],
      "metadata": {
        "colab": {
          "base_uri": "https://localhost:8080/",
          "height": 34
        },
        "id": "86kA_u59XIve",
        "outputId": "6b1d14b6-9532-435a-bce1-390efa3924d5"
      },
      "execution_count": null,
      "outputs": [
        {
          "output_type": "display_data",
          "data": {
            "text/html": [
              "'z'"
            ],
            "text/markdown": "'z'",
            "text/latex": "'z'",
            "text/plain": [
              "[1] \"z\""
            ]
          },
          "metadata": {}
        },
        {
          "output_type": "display_data",
          "data": {
            "text/html": [],
            "text/markdown": "",
            "text/latex": "",
            "text/plain": [
              "character(0)"
            ]
          },
          "metadata": {}
        }
      ]
    },
    {
      "cell_type": "code",
      "source": [
        "a <- NA\n",
        "a\n",
        "\n",
        "-1 / 0\n",
        "\n",
        "1 / 0\n",
        "\n",
        "Inf / Inf\n",
        "\n",
        "Inf + 4\n",
        "\n",
        "b <- -Inf\n",
        "b * -1"
      ],
      "metadata": {
        "colab": {
          "base_uri": "https://localhost:8080/",
          "height": 121
        },
        "id": "g_DMpcsDXLfL",
        "outputId": "8af99303-54ba-48ed-acfd-9eadc8e186cc"
      },
      "execution_count": null,
      "outputs": [
        {
          "output_type": "display_data",
          "data": {
            "text/html": [
              "&lt;NA&gt;"
            ],
            "text/markdown": "&lt;NA&gt;",
            "text/latex": "<NA>",
            "text/plain": [
              "[1] NA"
            ]
          },
          "metadata": {}
        },
        {
          "output_type": "display_data",
          "data": {
            "text/html": [
              "-Inf"
            ],
            "text/markdown": "-Inf",
            "text/latex": "-Inf",
            "text/plain": [
              "[1] -Inf"
            ]
          },
          "metadata": {}
        },
        {
          "output_type": "display_data",
          "data": {
            "text/html": [
              "Inf"
            ],
            "text/markdown": "Inf",
            "text/latex": "Inf",
            "text/plain": [
              "[1] Inf"
            ]
          },
          "metadata": {}
        },
        {
          "output_type": "display_data",
          "data": {
            "text/html": [
              "NaN"
            ],
            "text/markdown": "NaN",
            "text/latex": "NaN",
            "text/plain": [
              "[1] NaN"
            ]
          },
          "metadata": {}
        },
        {
          "output_type": "display_data",
          "data": {
            "text/html": [
              "Inf"
            ],
            "text/markdown": "Inf",
            "text/latex": "Inf",
            "text/plain": [
              "[1] Inf"
            ]
          },
          "metadata": {}
        },
        {
          "output_type": "display_data",
          "data": {
            "text/html": [
              "Inf"
            ],
            "text/markdown": "Inf",
            "text/latex": "Inf",
            "text/plain": [
              "[1] Inf"
            ]
          },
          "metadata": {}
        }
      ]
    },
    {
      "cell_type": "code",
      "source": [
        "A <- NA\n",
        "A\n",
        "\n",
        "A + 1\n",
        "\n",
        "A + Inf"
      ],
      "metadata": {
        "colab": {
          "base_uri": "https://localhost:8080/",
          "height": 69
        },
        "id": "ahh-H-_QXQVm",
        "outputId": "6a476b7f-717b-4cb3-a08d-244a3955d79f"
      },
      "execution_count": null,
      "outputs": [
        {
          "output_type": "display_data",
          "data": {
            "text/html": [
              "&lt;NA&gt;"
            ],
            "text/markdown": "&lt;NA&gt;",
            "text/latex": "<NA>",
            "text/plain": [
              "[1] NA"
            ]
          },
          "metadata": {}
        },
        {
          "output_type": "display_data",
          "data": {
            "text/html": [
              "&lt;NA&gt;"
            ],
            "text/markdown": "&lt;NA&gt;",
            "text/latex": "<NA>",
            "text/plain": [
              "[1] NA"
            ]
          },
          "metadata": {}
        },
        {
          "output_type": "display_data",
          "data": {
            "text/html": [
              "&lt;NA&gt;"
            ],
            "text/markdown": "&lt;NA&gt;",
            "text/latex": "<NA>",
            "text/plain": [
              "[1] NA"
            ]
          },
          "metadata": {}
        }
      ]
    },
    {
      "cell_type": "code",
      "source": [
        "123 + numeric()\n",
        "123 + NA"
      ],
      "metadata": {
        "colab": {
          "base_uri": "https://localhost:8080/",
          "height": 34
        },
        "id": "v3vZEU0oXS4d",
        "outputId": "88fadb92-3148-41ac-958c-b001d6f9ac88"
      },
      "execution_count": null,
      "outputs": [
        {
          "output_type": "display_data",
          "data": {
            "text/html": [],
            "text/markdown": "",
            "text/latex": "",
            "text/plain": [
              "numeric(0)"
            ]
          },
          "metadata": {}
        },
        {
          "output_type": "display_data",
          "data": {
            "text/html": [
              "&lt;NA&gt;"
            ],
            "text/markdown": "&lt;NA&gt;",
            "text/latex": "<NA>",
            "text/plain": [
              "[1] NA"
            ]
          },
          "metadata": {}
        }
      ]
    },
    {
      "cell_type": "code",
      "source": [
        "is.na(c(NA, 1))"
      ],
      "metadata": {
        "colab": {
          "base_uri": "https://localhost:8080/",
          "height": 34
        },
        "id": "Yh-B-iZbXUp1",
        "outputId": "0376df5e-9b87-466b-b069-e2b4c4690cfb"
      },
      "execution_count": null,
      "outputs": [
        {
          "output_type": "display_data",
          "data": {
            "text/html": [
              "<style>\n",
              ".list-inline {list-style: none; margin:0; padding: 0}\n",
              ".list-inline>li {display: inline-block}\n",
              ".list-inline>li:not(:last-child)::after {content: \"\\00b7\"; padding: 0 .5ex}\n",
              "</style>\n",
              "<ol class=list-inline><li>TRUE</li><li>FALSE</li></ol>\n"
            ],
            "text/markdown": "1. TRUE\n2. FALSE\n\n\n",
            "text/latex": "\\begin{enumerate*}\n\\item TRUE\n\\item FALSE\n\\end{enumerate*}\n",
            "text/plain": [
              "[1]  TRUE FALSE"
            ]
          },
          "metadata": {}
        }
      ]
    },
    {
      "cell_type": "code",
      "source": [
        "1 - 1e-20"
      ],
      "metadata": {
        "colab": {
          "base_uri": "https://localhost:8080/",
          "height": 34
        },
        "id": "fuRkcCucXWRA",
        "outputId": "9192dea2-86b4-4cde-c881-3080bd1a7e1c"
      },
      "execution_count": null,
      "outputs": [
        {
          "output_type": "display_data",
          "data": {
            "text/html": [
              "1"
            ],
            "text/markdown": "1",
            "text/latex": "1",
            "text/plain": [
              "[1] 1"
            ]
          },
          "metadata": {}
        }
      ]
    },
    {
      "cell_type": "code",
      "source": [
        "1L + 3L\n",
        "\n",
        "1L * 3L\n",
        "\n",
        "1L %/% 3L\n",
        "\n",
        "1L %% 3L\n",
        "\n",
        "1L / 3L"
      ],
      "metadata": {
        "colab": {
          "base_uri": "https://localhost:8080/",
          "height": 104
        },
        "id": "bJ7YlSpBXXn-",
        "outputId": "6388c9a1-6a64-4fbe-d7d5-7267bf0bbaee"
      },
      "execution_count": null,
      "outputs": [
        {
          "output_type": "display_data",
          "data": {
            "text/html": [
              "4"
            ],
            "text/markdown": "4",
            "text/latex": "4",
            "text/plain": [
              "[1] 4"
            ]
          },
          "metadata": {}
        },
        {
          "output_type": "display_data",
          "data": {
            "text/html": [
              "3"
            ],
            "text/markdown": "3",
            "text/latex": "3",
            "text/plain": [
              "[1] 3"
            ]
          },
          "metadata": {}
        },
        {
          "output_type": "display_data",
          "data": {
            "text/html": [
              "0"
            ],
            "text/markdown": "0",
            "text/latex": "0",
            "text/plain": [
              "[1] 0"
            ]
          },
          "metadata": {}
        },
        {
          "output_type": "display_data",
          "data": {
            "text/html": [
              "1"
            ],
            "text/markdown": "1",
            "text/latex": "1",
            "text/plain": [
              "[1] 1"
            ]
          },
          "metadata": {}
        },
        {
          "output_type": "display_data",
          "data": {
            "text/html": [
              "0.333333333333333"
            ],
            "text/markdown": "0.333333333333333",
            "text/latex": "0.333333333333333",
            "text/plain": [
              "[1] 0.3333333"
            ]
          },
          "metadata": {}
        }
      ]
    },
    {
      "cell_type": "code",
      "source": [
        "round(0.0124567, digits = 3)\n",
        "\n",
        "signif(0.0124567, digits = 3)\n",
        "\n",
        "round(1789.1234, digits = 3)\n",
        "\n",
        "signif(1789.1234, digits = 3)\n",
        "\n",
        "round(1789.1234, digits = -1)\n",
        "\n",
        "a <- 0.12345\n",
        "b <- round(a, digits = 2)\n",
        "a == b\n",
        "\n",
        "a - b\n",
        "\n",
        "b"
      ],
      "metadata": {
        "colab": {
          "base_uri": "https://localhost:8080/",
          "height": 156
        },
        "id": "eLxBtDv6XZiV",
        "outputId": "ea83598c-04df-40cc-c3ee-d6213c454431"
      },
      "execution_count": null,
      "outputs": [
        {
          "output_type": "display_data",
          "data": {
            "text/html": [
              "0.012"
            ],
            "text/markdown": "0.012",
            "text/latex": "0.012",
            "text/plain": [
              "[1] 0.012"
            ]
          },
          "metadata": {}
        },
        {
          "output_type": "display_data",
          "data": {
            "text/html": [
              "0.0125"
            ],
            "text/markdown": "0.0125",
            "text/latex": "0.0125",
            "text/plain": [
              "[1] 0.0125"
            ]
          },
          "metadata": {}
        },
        {
          "output_type": "display_data",
          "data": {
            "text/html": [
              "1789.123"
            ],
            "text/markdown": "1789.123",
            "text/latex": "1789.123",
            "text/plain": [
              "[1] 1789.123"
            ]
          },
          "metadata": {}
        },
        {
          "output_type": "display_data",
          "data": {
            "text/html": [
              "1790"
            ],
            "text/markdown": "1790",
            "text/latex": "1790",
            "text/plain": [
              "[1] 1790"
            ]
          },
          "metadata": {}
        },
        {
          "output_type": "display_data",
          "data": {
            "text/html": [
              "1790"
            ],
            "text/markdown": "1790",
            "text/latex": "1790",
            "text/plain": [
              "[1] 1790"
            ]
          },
          "metadata": {}
        },
        {
          "output_type": "display_data",
          "data": {
            "text/html": [
              "FALSE"
            ],
            "text/markdown": "FALSE",
            "text/latex": "FALSE",
            "text/plain": [
              "[1] FALSE"
            ]
          },
          "metadata": {}
        },
        {
          "output_type": "display_data",
          "data": {
            "text/html": [
              "0.00345000000000001"
            ],
            "text/markdown": "0.00345000000000001",
            "text/latex": "0.00345000000000001",
            "text/plain": [
              "[1] 0.00345"
            ]
          },
          "metadata": {}
        },
        {
          "output_type": "display_data",
          "data": {
            "text/html": [
              "0.12"
            ],
            "text/markdown": "0.12",
            "text/latex": "0.12",
            "text/plain": [
              "[1] 0.12"
            ]
          },
          "metadata": {}
        }
      ]
    },
    {
      "cell_type": "code",
      "source": [
        "round(0.0124567, digits = 3)\n",
        "\n",
        "round(0.0124567, 3)"
      ],
      "metadata": {
        "colab": {
          "base_uri": "https://localhost:8080/",
          "height": 52
        },
        "id": "ajuTCptsX8EJ",
        "outputId": "e7b22202-0acb-4624-8a01-5589a2ac9d27"
      },
      "execution_count": null,
      "outputs": [
        {
          "output_type": "display_data",
          "data": {
            "text/html": [
              "0.012"
            ],
            "text/markdown": "0.012",
            "text/latex": "0.012",
            "text/plain": [
              "[1] 0.012"
            ]
          },
          "metadata": {}
        },
        {
          "output_type": "display_data",
          "data": {
            "text/html": [
              "0.012"
            ],
            "text/markdown": "0.012",
            "text/latex": "0.012",
            "text/plain": [
              "[1] 0.012"
            ]
          },
          "metadata": {}
        }
      ]
    },
    {
      "cell_type": "markdown",
      "source": [
        "2.4 Logical values and Boolean algebra"
      ],
      "metadata": {
        "id": "QlDm-LvTYF8f"
      }
    },
    {
      "cell_type": "code",
      "source": [
        "a <- TRUE\n",
        "b <- FALSE\n",
        "mode(a)\n",
        "\n",
        "a\n",
        "\n",
        "!a # negation\n",
        "\n",
        "a && b # logical AND\n",
        "\n",
        "a || b # logical OR\n",
        "\n",
        "xor(a, b)"
      ],
      "metadata": {
        "colab": {
          "base_uri": "https://localhost:8080/",
          "height": 121
        },
        "id": "oWJJK8eDX-UO",
        "outputId": "0a2ef010-ec0d-4ccb-a5cc-fdb8c288243e"
      },
      "execution_count": null,
      "outputs": [
        {
          "output_type": "display_data",
          "data": {
            "text/html": [
              "'logical'"
            ],
            "text/markdown": "'logical'",
            "text/latex": "'logical'",
            "text/plain": [
              "[1] \"logical\""
            ]
          },
          "metadata": {}
        },
        {
          "output_type": "display_data",
          "data": {
            "text/html": [
              "TRUE"
            ],
            "text/markdown": "TRUE",
            "text/latex": "TRUE",
            "text/plain": [
              "[1] TRUE"
            ]
          },
          "metadata": {}
        },
        {
          "output_type": "display_data",
          "data": {
            "text/html": [
              "FALSE"
            ],
            "text/markdown": "FALSE",
            "text/latex": "FALSE",
            "text/plain": [
              "[1] FALSE"
            ]
          },
          "metadata": {}
        },
        {
          "output_type": "display_data",
          "data": {
            "text/html": [
              "FALSE"
            ],
            "text/markdown": "FALSE",
            "text/latex": "FALSE",
            "text/plain": [
              "[1] FALSE"
            ]
          },
          "metadata": {}
        },
        {
          "output_type": "display_data",
          "data": {
            "text/html": [
              "TRUE"
            ],
            "text/markdown": "TRUE",
            "text/latex": "TRUE",
            "text/plain": [
              "[1] TRUE"
            ]
          },
          "metadata": {}
        },
        {
          "output_type": "display_data",
          "data": {
            "text/html": [
              "TRUE"
            ],
            "text/markdown": "TRUE",
            "text/latex": "TRUE",
            "text/plain": [
              "[1] TRUE"
            ]
          },
          "metadata": {}
        }
      ]
    },
    {
      "cell_type": "code",
      "source": [
        "a <- c(TRUE,FALSE)\n",
        "b <- c(TRUE,TRUE)\n",
        "a\n",
        "\n",
        "b\n",
        "\n",
        "a & b # vectorized AND\n",
        "\n",
        "a | b # vectorized OR\n",
        "\n",
        "a && b # not vectorized\n",
        "\n",
        "a || b"
      ],
      "metadata": {
        "colab": {
          "base_uri": "https://localhost:8080/",
          "height": 175
        },
        "id": "6jl3l3ukYKvn",
        "outputId": "0c241d05-caf7-4872-c990-bf2ba97f5d3d"
      },
      "execution_count": null,
      "outputs": [
        {
          "output_type": "display_data",
          "data": {
            "text/html": [
              "<style>\n",
              ".list-inline {list-style: none; margin:0; padding: 0}\n",
              ".list-inline>li {display: inline-block}\n",
              ".list-inline>li:not(:last-child)::after {content: \"\\00b7\"; padding: 0 .5ex}\n",
              "</style>\n",
              "<ol class=list-inline><li>TRUE</li><li>FALSE</li></ol>\n"
            ],
            "text/markdown": "1. TRUE\n2. FALSE\n\n\n",
            "text/latex": "\\begin{enumerate*}\n\\item TRUE\n\\item FALSE\n\\end{enumerate*}\n",
            "text/plain": [
              "[1]  TRUE FALSE"
            ]
          },
          "metadata": {}
        },
        {
          "output_type": "display_data",
          "data": {
            "text/html": [
              "<style>\n",
              ".list-inline {list-style: none; margin:0; padding: 0}\n",
              ".list-inline>li {display: inline-block}\n",
              ".list-inline>li:not(:last-child)::after {content: \"\\00b7\"; padding: 0 .5ex}\n",
              "</style>\n",
              "<ol class=list-inline><li>TRUE</li><li>TRUE</li></ol>\n"
            ],
            "text/markdown": "1. TRUE\n2. TRUE\n\n\n",
            "text/latex": "\\begin{enumerate*}\n\\item TRUE\n\\item TRUE\n\\end{enumerate*}\n",
            "text/plain": [
              "[1] TRUE TRUE"
            ]
          },
          "metadata": {}
        },
        {
          "output_type": "display_data",
          "data": {
            "text/html": [
              "<style>\n",
              ".list-inline {list-style: none; margin:0; padding: 0}\n",
              ".list-inline>li {display: inline-block}\n",
              ".list-inline>li:not(:last-child)::after {content: \"\\00b7\"; padding: 0 .5ex}\n",
              "</style>\n",
              "<ol class=list-inline><li>TRUE</li><li>FALSE</li></ol>\n"
            ],
            "text/markdown": "1. TRUE\n2. FALSE\n\n\n",
            "text/latex": "\\begin{enumerate*}\n\\item TRUE\n\\item FALSE\n\\end{enumerate*}\n",
            "text/plain": [
              "[1]  TRUE FALSE"
            ]
          },
          "metadata": {}
        },
        {
          "output_type": "display_data",
          "data": {
            "text/html": [
              "<style>\n",
              ".list-inline {list-style: none; margin:0; padding: 0}\n",
              ".list-inline>li {display: inline-block}\n",
              ".list-inline>li:not(:last-child)::after {content: \"\\00b7\"; padding: 0 .5ex}\n",
              "</style>\n",
              "<ol class=list-inline><li>TRUE</li><li>TRUE</li></ol>\n"
            ],
            "text/markdown": "1. TRUE\n2. TRUE\n\n\n",
            "text/latex": "\\begin{enumerate*}\n\\item TRUE\n\\item TRUE\n\\end{enumerate*}\n",
            "text/plain": [
              "[1] TRUE TRUE"
            ]
          },
          "metadata": {}
        },
        {
          "output_type": "error",
          "ename": "ERROR",
          "evalue": "ignored",
          "traceback": [
            "Error in a && b: 'length = 2' in coercion to 'logical(1)'\nTraceback:\n"
          ]
        }
      ]
    },
    {
      "cell_type": "code",
      "source": [
        "any(a)\n",
        "\n",
        "all(a)\n",
        "\n",
        "any(a & b)\n",
        "\n",
        "all(a & b)"
      ],
      "metadata": {
        "id": "ABtu71FSYOsP"
      },
      "execution_count": null,
      "outputs": []
    },
    {
      "cell_type": "code",
      "source": [
        "TRUE || NA\n",
        "\n",
        "FALSE || NA\n",
        "\n",
        "TRUE && NA\n",
        "\n",
        "FALSE && NA\n",
        "\n",
        "TRUE && FALSE && NA\n",
        "\n",
        "TRUE && TRUE && NA"
      ],
      "metadata": {
        "id": "G90QHBj6YS2V"
      },
      "execution_count": null,
      "outputs": []
    },
    {
      "cell_type": "code",
      "source": [
        "a & b & NA\n",
        "\n",
        "a & b & c(NA, NA)\n",
        "\n",
        "a | b | c(NA, NA)"
      ],
      "metadata": {
        "id": "s_Paxjw6YWRh"
      },
      "execution_count": null,
      "outputs": []
    },
    {
      "cell_type": "markdown",
      "source": [
        "2.5 Comparison operators and operations"
      ],
      "metadata": {
        "id": "_CZU1-QNYbfI"
      }
    },
    {
      "cell_type": "code",
      "source": [
        "1.2 > 1.0\n",
        "\n",
        "1.2 >= 1.0\n",
        "\n",
        "1.2 == 1.0 # be aware that here we use two = symbols\n",
        "\n",
        "1.2 != 1.0\n",
        "\n",
        "1.2 <= 1.0\n",
        "\n",
        "1.2 < 1.0\n",
        "\n",
        "a <- 20\n",
        "a < 100 && a > 10"
      ],
      "metadata": {
        "id": "r-nFohl1YZrZ"
      },
      "execution_count": null,
      "outputs": []
    },
    {
      "cell_type": "code",
      "source": [
        "a <- 1:10\n",
        "a > 5\n",
        "\n",
        "a < 5\n",
        "\n",
        "a == 5\n",
        "\n",
        "all(a > 5)\n",
        "\n",
        "any(a > 5)\n",
        "\n",
        "b <- a > 5\n",
        "b\n",
        "\n",
        "any(b)\n",
        "\n",
        "all(b)"
      ],
      "metadata": {
        "id": "kSW64BGTYgDU"
      },
      "execution_count": null,
      "outputs": []
    },
    {
      "cell_type": "code",
      "source": [
        "a > 2 + 3\n",
        "\n",
        "(a > 2) + 3"
      ],
      "metadata": {
        "id": "pbwtjcGJY0J9"
      },
      "execution_count": null,
      "outputs": []
    },
    {
      "cell_type": "code",
      "source": [
        "c <- c(a, NA)\n",
        "c > 5"
      ],
      "metadata": {
        "id": "IwfodHMwY2SD"
      },
      "execution_count": null,
      "outputs": []
    },
    {
      "cell_type": "code",
      "source": [
        "all(c > 5)\n",
        "\n",
        "any(c > 5)\n",
        "\n",
        "all(c < 20)\n",
        "\n",
        "any(c > 20)\n",
        "\n",
        "is.na(a)\n",
        "\n",
        "is.na(c)\n",
        "\n",
        "any(is.na(c))\n",
        "\n",
        "all(is.na(c))"
      ],
      "metadata": {
        "id": "oozKN_AtY4Y-"
      },
      "execution_count": null,
      "outputs": []
    },
    {
      "cell_type": "code",
      "source": [
        "all(c < 20)\n",
        "\n",
        "any(c > 20)\n",
        "\n",
        "all(c < 20, na.rm=TRUE)\n",
        "\n",
        "any(c > 20, na.rm=TRUE)"
      ],
      "metadata": {
        "colab": {
          "base_uri": "https://localhost:8080/",
          "height": 86
        },
        "id": "2cv2lsXSY8gF",
        "outputId": "54657496-1728-4082-ec05-5798c78b5ea1"
      },
      "execution_count": null,
      "outputs": [
        {
          "output_type": "display_data",
          "data": {
            "text/html": [
              "TRUE"
            ],
            "text/markdown": "TRUE",
            "text/latex": "TRUE",
            "text/plain": [
              "[1] TRUE"
            ]
          },
          "metadata": {}
        },
        {
          "output_type": "display_data",
          "data": {
            "text/html": [
              "FALSE"
            ],
            "text/markdown": "FALSE",
            "text/latex": "FALSE",
            "text/plain": [
              "[1] FALSE"
            ]
          },
          "metadata": {}
        },
        {
          "output_type": "display_data",
          "data": {
            "text/html": [
              "TRUE"
            ],
            "text/markdown": "TRUE",
            "text/latex": "TRUE",
            "text/plain": [
              "[1] TRUE"
            ]
          },
          "metadata": {}
        },
        {
          "output_type": "display_data",
          "data": {
            "text/html": [
              "FALSE"
            ],
            "text/markdown": "FALSE",
            "text/latex": "FALSE",
            "text/plain": [
              "[1] FALSE"
            ]
          },
          "metadata": {}
        }
      ]
    },
    {
      "cell_type": "code",
      "source": [
        "0 - 1e-20\n",
        "\n",
        "1 - 1e-20"
      ],
      "metadata": {
        "colab": {
          "base_uri": "https://localhost:8080/",
          "height": 52
        },
        "id": "EkL0d_JPY-n2",
        "outputId": "8eb65add-598b-435c-e4bb-d38a062bc330"
      },
      "execution_count": null,
      "outputs": [
        {
          "output_type": "display_data",
          "data": {
            "text/html": [
              "-1e-20"
            ],
            "text/markdown": "-1e-20",
            "text/latex": "-1e-20",
            "text/plain": [
              "[1] -1e-20"
            ]
          },
          "metadata": {}
        },
        {
          "output_type": "display_data",
          "data": {
            "text/html": [
              "1"
            ],
            "text/markdown": "1",
            "text/latex": "1",
            "text/plain": [
              "[1] 1"
            ]
          },
          "metadata": {}
        }
      ]
    },
    {
      "cell_type": "code",
      "source": [
        "1e20 == 1 + 1e20\n",
        "\n",
        "1 == 1 + 1e-20\n",
        "\n",
        "0 == 1e-20"
      ],
      "metadata": {
        "colab": {
          "base_uri": "https://localhost:8080/",
          "height": 69
        },
        "id": "FM3hOvcWZF8Q",
        "outputId": "72dfa8d2-12ed-4fce-9889-e73b32dc07b5"
      },
      "execution_count": null,
      "outputs": [
        {
          "output_type": "display_data",
          "data": {
            "text/html": [
              "TRUE"
            ],
            "text/markdown": "TRUE",
            "text/latex": "TRUE",
            "text/plain": [
              "[1] TRUE"
            ]
          },
          "metadata": {}
        },
        {
          "output_type": "display_data",
          "data": {
            "text/html": [
              "TRUE"
            ],
            "text/markdown": "TRUE",
            "text/latex": "TRUE",
            "text/plain": [
              "[1] TRUE"
            ]
          },
          "metadata": {}
        },
        {
          "output_type": "display_data",
          "data": {
            "text/html": [
              "FALSE"
            ],
            "text/markdown": "FALSE",
            "text/latex": "FALSE",
            "text/plain": [
              "[1] FALSE"
            ]
          },
          "metadata": {}
        }
      ]
    },
    {
      "cell_type": "code",
      "source": [
        "1e1026\n",
        "\n",
        "1e-1026\n",
        "\n",
        "Inf + 1\n",
        "\n",
        "-Inf + 1"
      ],
      "metadata": {
        "colab": {
          "base_uri": "https://localhost:8080/",
          "height": 86
        },
        "id": "PWLVOaSXZH3l",
        "outputId": "902ff607-d2ac-41e1-b5e9-60d249368630"
      },
      "execution_count": null,
      "outputs": [
        {
          "output_type": "display_data",
          "data": {
            "text/html": [
              "Inf"
            ],
            "text/markdown": "Inf",
            "text/latex": "Inf",
            "text/plain": [
              "[1] Inf"
            ]
          },
          "metadata": {}
        },
        {
          "output_type": "display_data",
          "data": {
            "text/html": [
              "0"
            ],
            "text/markdown": "0",
            "text/latex": "0",
            "text/plain": [
              "[1] 0"
            ]
          },
          "metadata": {}
        },
        {
          "output_type": "display_data",
          "data": {
            "text/html": [
              "Inf"
            ],
            "text/markdown": "Inf",
            "text/latex": "Inf",
            "text/plain": [
              "[1] Inf"
            ]
          },
          "metadata": {}
        },
        {
          "output_type": "display_data",
          "data": {
            "text/html": [
              "-Inf"
            ],
            "text/markdown": "-Inf",
            "text/latex": "-Inf",
            "text/plain": [
              "[1] -Inf"
            ]
          },
          "metadata": {}
        }
      ]
    },
    {
      "cell_type": "code",
      "source": [
        ".Machine$integer.max\n",
        "\n",
        "2147483699L"
      ],
      "metadata": {
        "colab": {
          "base_uri": "https://localhost:8080/",
          "height": 52
        },
        "id": "2fJ-4i0KZMML",
        "outputId": "f198416e-1f11-40f0-cca9-7f167c95c42e"
      },
      "execution_count": null,
      "outputs": [
        {
          "output_type": "display_data",
          "data": {
            "text/html": [
              "2147483647"
            ],
            "text/markdown": "2147483647",
            "text/latex": "2147483647",
            "text/plain": [
              "[1] 2147483647"
            ]
          },
          "metadata": {}
        },
        {
          "output_type": "display_data",
          "data": {
            "text/html": [
              "2147483699"
            ],
            "text/markdown": "2147483699",
            "text/latex": "2147483699",
            "text/plain": [
              "[1] 2147483699"
            ]
          },
          "metadata": {}
        }
      ]
    },
    {
      "cell_type": "code",
      "source": [
        "2147483600L + 99L\n",
        "\n",
        "2147483600L + 99\n",
        "\n",
        "2147483600L * 2147483600L\n",
        "\n",
        "2147483600L * 2147483600"
      ],
      "metadata": {
        "colab": {
          "base_uri": "https://localhost:8080/",
          "height": 156
        },
        "id": "2pguyE5zZPSB",
        "outputId": "cb3df0eb-1cdb-4c8c-fe80-3442595a4fe2"
      },
      "execution_count": null,
      "outputs": [
        {
          "output_type": "stream",
          "name": "stderr",
          "text": [
            "Warning message in 2147483600L + 99L:\n",
            "“NAs produced by integer overflow”\n"
          ]
        },
        {
          "output_type": "display_data",
          "data": {
            "text/html": [
              "&lt;NA&gt;"
            ],
            "text/markdown": "&lt;NA&gt;",
            "text/latex": "<NA>",
            "text/plain": [
              "[1] NA"
            ]
          },
          "metadata": {}
        },
        {
          "output_type": "display_data",
          "data": {
            "text/html": [
              "2147483699"
            ],
            "text/markdown": "2147483699",
            "text/latex": "2147483699",
            "text/plain": [
              "[1] 2147483699"
            ]
          },
          "metadata": {}
        },
        {
          "output_type": "stream",
          "name": "stderr",
          "text": [
            "Warning message in 2147483600L * 2147483600L:\n",
            "“NAs produced by integer overflow”\n"
          ]
        },
        {
          "output_type": "display_data",
          "data": {
            "text/html": [
              "&lt;NA&gt;"
            ],
            "text/markdown": "&lt;NA&gt;",
            "text/latex": "<NA>",
            "text/plain": [
              "[1] NA"
            ]
          },
          "metadata": {}
        },
        {
          "output_type": "display_data",
          "data": {
            "text/html": [
              "4611685812268959744"
            ],
            "text/markdown": "4611685812268959744",
            "text/latex": "4611685812268959744",
            "text/plain": [
              "[1] 4.611686e+18"
            ]
          },
          "metadata": {}
        }
      ]
    },
    {
      "cell_type": "code",
      "source": [
        "2147483600L * 2147483600L\n",
        "\n",
        "2147483600L^2L"
      ],
      "metadata": {
        "colab": {
          "base_uri": "https://localhost:8080/",
          "height": 86
        },
        "id": "KRpZfshaZT3n",
        "outputId": "742bb0fe-32b2-45a3-ce2f-e674dbb8ce40"
      },
      "execution_count": null,
      "outputs": [
        {
          "output_type": "stream",
          "name": "stderr",
          "text": [
            "Warning message in 2147483600L * 2147483600L:\n",
            "“NAs produced by integer overflow”\n"
          ]
        },
        {
          "output_type": "display_data",
          "data": {
            "text/html": [
              "&lt;NA&gt;"
            ],
            "text/markdown": "&lt;NA&gt;",
            "text/latex": "<NA>",
            "text/plain": [
              "[1] NA"
            ]
          },
          "metadata": {}
        },
        {
          "output_type": "display_data",
          "data": {
            "text/html": [
              "4611685812268959744"
            ],
            "text/markdown": "4611685812268959744",
            "text/latex": "4611685812268959744",
            "text/plain": [
              "[1] 4.611686e+18"
            ]
          },
          "metadata": {}
        }
      ]
    },
    {
      "cell_type": "code",
      "source": [
        "a == 0.0 # may not always work\n",
        "\n",
        "abs(a) < 1e-15 # is safer"
      ],
      "metadata": {
        "colab": {
          "base_uri": "https://localhost:8080/",
          "height": 52
        },
        "id": "WjHncA9XZXdj",
        "outputId": "bff58c1d-c201-4ddd-b992-07af8e0c0401"
      },
      "execution_count": null,
      "outputs": [
        {
          "output_type": "display_data",
          "data": {
            "text/html": [
              "<style>\n",
              ".list-inline {list-style: none; margin:0; padding: 0}\n",
              ".list-inline>li {display: inline-block}\n",
              ".list-inline>li:not(:last-child)::after {content: \"\\00b7\"; padding: 0 .5ex}\n",
              "</style>\n",
              "<ol class=list-inline><li>FALSE</li><li>TRUE</li></ol>\n"
            ],
            "text/markdown": "1. FALSE\n2. TRUE\n\n\n",
            "text/latex": "\\begin{enumerate*}\n\\item FALSE\n\\item TRUE\n\\end{enumerate*}\n",
            "text/plain": [
              "[1] FALSE  TRUE"
            ]
          },
          "metadata": {}
        },
        {
          "output_type": "display_data",
          "data": {
            "text/html": [
              "<style>\n",
              ".list-inline {list-style: none; margin:0; padding: 0}\n",
              ".list-inline>li {display: inline-block}\n",
              ".list-inline>li:not(:last-child)::after {content: \"\\00b7\"; padding: 0 .5ex}\n",
              "</style>\n",
              "<ol class=list-inline><li>FALSE</li><li>TRUE</li></ol>\n"
            ],
            "text/markdown": "1. FALSE\n2. TRUE\n\n\n",
            "text/latex": "\\begin{enumerate*}\n\\item FALSE\n\\item TRUE\n\\end{enumerate*}\n",
            "text/plain": [
              "[1] FALSE  TRUE"
            ]
          },
          "metadata": {}
        }
      ]
    },
    {
      "cell_type": "code",
      "source": [
        "sin(pi) == 0.0 # angle in radians, not degrees!\n",
        "\n",
        "sin(2 * pi) == 0.0\n",
        "\n",
        "abs(sin(pi)) < 1e-15\n",
        "\n",
        "abs(sin(2 * pi)) < 1e-15\n",
        "\n",
        "sin(pi)\n",
        "\n",
        "sin(2 * pi)"
      ],
      "metadata": {
        "colab": {
          "base_uri": "https://localhost:8080/",
          "height": 121
        },
        "id": "Dcz0w2_6ZZvk",
        "outputId": "d88f5dd4-9426-4e92-9b1d-402916bbc3fd"
      },
      "execution_count": null,
      "outputs": [
        {
          "output_type": "display_data",
          "data": {
            "text/html": [
              "FALSE"
            ],
            "text/markdown": "FALSE",
            "text/latex": "FALSE",
            "text/plain": [
              "[1] FALSE"
            ]
          },
          "metadata": {}
        },
        {
          "output_type": "display_data",
          "data": {
            "text/html": [
              "FALSE"
            ],
            "text/markdown": "FALSE",
            "text/latex": "FALSE",
            "text/plain": [
              "[1] FALSE"
            ]
          },
          "metadata": {}
        },
        {
          "output_type": "display_data",
          "data": {
            "text/html": [
              "TRUE"
            ],
            "text/markdown": "TRUE",
            "text/latex": "TRUE",
            "text/plain": [
              "[1] TRUE"
            ]
          },
          "metadata": {}
        },
        {
          "output_type": "display_data",
          "data": {
            "text/html": [
              "TRUE"
            ],
            "text/markdown": "TRUE",
            "text/latex": "TRUE",
            "text/plain": [
              "[1] TRUE"
            ]
          },
          "metadata": {}
        },
        {
          "output_type": "display_data",
          "data": {
            "text/html": [
              "1.22464679914735e-16"
            ],
            "text/markdown": "1.22464679914735e-16",
            "text/latex": "1.22464679914735e-16",
            "text/plain": [
              "[1] 1.224647e-16"
            ]
          },
          "metadata": {}
        },
        {
          "output_type": "display_data",
          "data": {
            "text/html": [
              "-2.44929359829471e-16"
            ],
            "text/markdown": "-2.44929359829471e-16",
            "text/latex": "-2.44929359829471e-16",
            "text/plain": [
              "[1] -2.449294e-16"
            ]
          },
          "metadata": {}
        }
      ]
    },
    {
      "cell_type": "markdown",
      "source": [
        "2.6 Sets and set operations"
      ],
      "metadata": {
        "id": "UKhK6XCmZfyT"
      }
    },
    {
      "cell_type": "code",
      "source": [
        "fruits <- c(\"apple\", \"pear\", \"orange\", \"lemon\", \"tangerine\")\n",
        "bakery <- c(\"bread\", \"buns\", \"cake\", \"cookies\")\n",
        "dairy <- c(\"milk\", \"butter\", \"cheese\")\n",
        "shopping <- c(\"bread\", \"butter\", \"apple\", \"cheese\", \"orange\")\n",
        "intersect(fruits, shopping)\n",
        "\n",
        "intersect(bakery, shopping)"
      ],
      "metadata": {
        "colab": {
          "base_uri": "https://localhost:8080/",
          "height": 52
        },
        "id": "7BABPPw5ZeWl",
        "outputId": "d6e515d9-4b61-4c90-b12f-f9e43fc21607"
      },
      "execution_count": null,
      "outputs": [
        {
          "output_type": "display_data",
          "data": {
            "text/html": [
              "<style>\n",
              ".list-inline {list-style: none; margin:0; padding: 0}\n",
              ".list-inline>li {display: inline-block}\n",
              ".list-inline>li:not(:last-child)::after {content: \"\\00b7\"; padding: 0 .5ex}\n",
              "</style>\n",
              "<ol class=list-inline><li>'apple'</li><li>'orange'</li></ol>\n"
            ],
            "text/markdown": "1. 'apple'\n2. 'orange'\n\n\n",
            "text/latex": "\\begin{enumerate*}\n\\item 'apple'\n\\item 'orange'\n\\end{enumerate*}\n",
            "text/plain": [
              "[1] \"apple\"  \"orange\""
            ]
          },
          "metadata": {}
        },
        {
          "output_type": "display_data",
          "data": {
            "text/html": [
              "'bread'"
            ],
            "text/markdown": "'bread'",
            "text/latex": "'bread'",
            "text/plain": [
              "[1] \"bread\""
            ]
          },
          "metadata": {}
        }
      ]
    },
    {
      "cell_type": "code",
      "source": [
        "intersect(dairy, shopping)\n",
        "\n",
        "\"lemon\" %in% dairy\n",
        "\n",
        "\"lemon\" %in% fruits\n",
        "\n",
        "setdiff(union(bakery, dairy), shopping)"
      ],
      "metadata": {
        "colab": {
          "base_uri": "https://localhost:8080/",
          "height": 86
        },
        "id": "LW_UfS9AZjrQ",
        "outputId": "688d7ec2-58ee-444c-d6be-99f5cc876b56"
      },
      "execution_count": null,
      "outputs": [
        {
          "output_type": "display_data",
          "data": {
            "text/html": [
              "<style>\n",
              ".list-inline {list-style: none; margin:0; padding: 0}\n",
              ".list-inline>li {display: inline-block}\n",
              ".list-inline>li:not(:last-child)::after {content: \"\\00b7\"; padding: 0 .5ex}\n",
              "</style>\n",
              "<ol class=list-inline><li>'butter'</li><li>'cheese'</li></ol>\n"
            ],
            "text/markdown": "1. 'butter'\n2. 'cheese'\n\n\n",
            "text/latex": "\\begin{enumerate*}\n\\item 'butter'\n\\item 'cheese'\n\\end{enumerate*}\n",
            "text/plain": [
              "[1] \"butter\" \"cheese\""
            ]
          },
          "metadata": {}
        },
        {
          "output_type": "display_data",
          "data": {
            "text/html": [
              "FALSE"
            ],
            "text/markdown": "FALSE",
            "text/latex": "FALSE",
            "text/plain": [
              "[1] FALSE"
            ]
          },
          "metadata": {}
        },
        {
          "output_type": "display_data",
          "data": {
            "text/html": [
              "TRUE"
            ],
            "text/markdown": "TRUE",
            "text/latex": "TRUE",
            "text/plain": [
              "[1] TRUE"
            ]
          },
          "metadata": {}
        },
        {
          "output_type": "display_data",
          "data": {
            "text/html": [
              "<style>\n",
              ".list-inline {list-style: none; margin:0; padding: 0}\n",
              ".list-inline>li {display: inline-block}\n",
              ".list-inline>li:not(:last-child)::after {content: \"\\00b7\"; padding: 0 .5ex}\n",
              "</style>\n",
              "<ol class=list-inline><li>'buns'</li><li>'cake'</li><li>'cookies'</li><li>'milk'</li></ol>\n"
            ],
            "text/markdown": "1. 'buns'\n2. 'cake'\n3. 'cookies'\n4. 'milk'\n\n\n",
            "text/latex": "\\begin{enumerate*}\n\\item 'buns'\n\\item 'cake'\n\\item 'cookies'\n\\item 'milk'\n\\end{enumerate*}\n",
            "text/plain": [
              "[1] \"buns\"    \"cake\"    \"cookies\" \"milk\"   "
            ]
          },
          "metadata": {}
        }
      ]
    },
    {
      "cell_type": "code",
      "source": [
        "my.set <- c(\"a\", \"b\", \"c\", \"b\")"
      ],
      "metadata": {
        "id": "yRysZalbZmYu"
      },
      "execution_count": null,
      "outputs": []
    },
    {
      "cell_type": "code",
      "source": [
        "\"a\" %in% my.set\n",
        "\n",
        "c(\"a\", \"a\", \"z\") %in% my.set"
      ],
      "metadata": {
        "colab": {
          "base_uri": "https://localhost:8080/",
          "height": 52
        },
        "id": "afSN-zBsZoCM",
        "outputId": "0fa82989-9d14-4aa8-a9b0-97876572e4ea"
      },
      "execution_count": null,
      "outputs": [
        {
          "output_type": "display_data",
          "data": {
            "text/html": [
              "TRUE"
            ],
            "text/markdown": "TRUE",
            "text/latex": "TRUE",
            "text/plain": [
              "[1] TRUE"
            ]
          },
          "metadata": {}
        },
        {
          "output_type": "display_data",
          "data": {
            "text/html": [
              "<style>\n",
              ".list-inline {list-style: none; margin:0; padding: 0}\n",
              ".list-inline>li {display: inline-block}\n",
              ".list-inline>li:not(:last-child)::after {content: \"\\00b7\"; padding: 0 .5ex}\n",
              "</style>\n",
              "<ol class=list-inline><li>TRUE</li><li>TRUE</li><li>FALSE</li></ol>\n"
            ],
            "text/markdown": "1. TRUE\n2. TRUE\n3. FALSE\n\n\n",
            "text/latex": "\\begin{enumerate*}\n\\item TRUE\n\\item TRUE\n\\item FALSE\n\\end{enumerate*}\n",
            "text/plain": [
              "[1]  TRUE  TRUE FALSE"
            ]
          },
          "metadata": {}
        }
      ]
    },
    {
      "cell_type": "code",
      "source": [
        "!\"a\" %in% my.set\n",
        "\n",
        "!c(\"a\", \"a\", \"z\") %in% my.set"
      ],
      "metadata": {
        "colab": {
          "base_uri": "https://localhost:8080/",
          "height": 52
        },
        "id": "va4K0OJiZqLK",
        "outputId": "c98490cf-97c9-4a7f-9bd1-2353c3d7c627"
      },
      "execution_count": null,
      "outputs": [
        {
          "output_type": "display_data",
          "data": {
            "text/html": [
              "FALSE"
            ],
            "text/markdown": "FALSE",
            "text/latex": "FALSE",
            "text/plain": [
              "[1] FALSE"
            ]
          },
          "metadata": {}
        },
        {
          "output_type": "display_data",
          "data": {
            "text/html": [
              "<style>\n",
              ".list-inline {list-style: none; margin:0; padding: 0}\n",
              ".list-inline>li {display: inline-block}\n",
              ".list-inline>li:not(:last-child)::after {content: \"\\00b7\"; padding: 0 .5ex}\n",
              "</style>\n",
              "<ol class=list-inline><li>FALSE</li><li>FALSE</li><li>TRUE</li></ol>\n"
            ],
            "text/markdown": "1. FALSE\n2. FALSE\n3. TRUE\n\n\n",
            "text/latex": "\\begin{enumerate*}\n\\item FALSE\n\\item FALSE\n\\item TRUE\n\\end{enumerate*}\n",
            "text/plain": [
              "[1] FALSE FALSE  TRUE"
            ]
          },
          "metadata": {}
        }
      ]
    },
    {
      "cell_type": "code",
      "source": [
        "x <- c(\"a\", \"a\", \"z\")\n",
        "x == \"a\" | x == \"b\" | x == \"c\" | x == \"d\""
      ],
      "metadata": {
        "colab": {
          "base_uri": "https://localhost:8080/",
          "height": 34
        },
        "id": "MfjN9ccOZsL_",
        "outputId": "9875a09f-c5c1-4b15-9bd9-52f60ed7d8c2"
      },
      "execution_count": null,
      "outputs": [
        {
          "output_type": "display_data",
          "data": {
            "text/html": [
              "<style>\n",
              ".list-inline {list-style: none; margin:0; padding: 0}\n",
              ".list-inline>li {display: inline-block}\n",
              ".list-inline>li:not(:last-child)::after {content: \"\\00b7\"; padding: 0 .5ex}\n",
              "</style>\n",
              "<ol class=list-inline><li>TRUE</li><li>TRUE</li><li>FALSE</li></ol>\n"
            ],
            "text/markdown": "1. TRUE\n2. TRUE\n3. FALSE\n\n\n",
            "text/latex": "\\begin{enumerate*}\n\\item TRUE\n\\item TRUE\n\\item FALSE\n\\end{enumerate*}\n",
            "text/plain": [
              "[1]  TRUE  TRUE FALSE"
            ]
          },
          "metadata": {}
        }
      ]
    },
    {
      "cell_type": "code",
      "source": [
        "unique(my.set)\n",
        "\n",
        "c(\"a\", \"a\", \"z\") %in% unique(my.set)"
      ],
      "metadata": {
        "colab": {
          "base_uri": "https://localhost:8080/",
          "height": 52
        },
        "id": "crGg0PNAZt71",
        "outputId": "63cf0f91-cfac-48f9-cd5d-e26a9d55ee14"
      },
      "execution_count": null,
      "outputs": [
        {
          "output_type": "display_data",
          "data": {
            "text/html": [
              "<style>\n",
              ".list-inline {list-style: none; margin:0; padding: 0}\n",
              ".list-inline>li {display: inline-block}\n",
              ".list-inline>li:not(:last-child)::after {content: \"\\00b7\"; padding: 0 .5ex}\n",
              "</style>\n",
              "<ol class=list-inline><li>'a'</li><li>'b'</li><li>'c'</li></ol>\n"
            ],
            "text/markdown": "1. 'a'\n2. 'b'\n3. 'c'\n\n\n",
            "text/latex": "\\begin{enumerate*}\n\\item 'a'\n\\item 'b'\n\\item 'c'\n\\end{enumerate*}\n",
            "text/plain": [
              "[1] \"a\" \"b\" \"c\""
            ]
          },
          "metadata": {}
        },
        {
          "output_type": "display_data",
          "data": {
            "text/html": [
              "<style>\n",
              ".list-inline {list-style: none; margin:0; padding: 0}\n",
              ".list-inline>li {display: inline-block}\n",
              ".list-inline>li:not(:last-child)::after {content: \"\\00b7\"; padding: 0 .5ex}\n",
              "</style>\n",
              "<ol class=list-inline><li>TRUE</li><li>TRUE</li><li>FALSE</li></ol>\n"
            ],
            "text/markdown": "1. TRUE\n2. TRUE\n3. FALSE\n\n\n",
            "text/latex": "\\begin{enumerate*}\n\\item TRUE\n\\item TRUE\n\\item FALSE\n\\end{enumerate*}\n",
            "text/plain": [
              "[1]  TRUE  TRUE FALSE"
            ]
          },
          "metadata": {}
        }
      ]
    },
    {
      "cell_type": "code",
      "source": [
        "union(c(\"a\", \"a\", \"z\"), my.set)"
      ],
      "metadata": {
        "colab": {
          "base_uri": "https://localhost:8080/",
          "height": 34
        },
        "id": "7PP3pOCmZwOY",
        "outputId": "6ca62b29-6307-4c6a-ce1c-fd830c855f4e"
      },
      "execution_count": null,
      "outputs": [
        {
          "output_type": "display_data",
          "data": {
            "text/html": [
              "<style>\n",
              ".list-inline {list-style: none; margin:0; padding: 0}\n",
              ".list-inline>li {display: inline-block}\n",
              ".list-inline>li:not(:last-child)::after {content: \"\\00b7\"; padding: 0 .5ex}\n",
              "</style>\n",
              "<ol class=list-inline><li>'a'</li><li>'z'</li><li>'b'</li><li>'c'</li></ol>\n"
            ],
            "text/markdown": "1. 'a'\n2. 'z'\n3. 'b'\n4. 'c'\n\n\n",
            "text/latex": "\\begin{enumerate*}\n\\item 'a'\n\\item 'z'\n\\item 'b'\n\\item 'c'\n\\end{enumerate*}\n",
            "text/plain": [
              "[1] \"a\" \"z\" \"b\" \"c\""
            ]
          },
          "metadata": {}
        }
      ]
    },
    {
      "cell_type": "code",
      "source": [
        "intersect(c(\"a\", \"a\", \"z\"), my.set)"
      ],
      "metadata": {
        "colab": {
          "base_uri": "https://localhost:8080/",
          "height": 34
        },
        "id": "8FMtN7sHZxXh",
        "outputId": "da558f2f-6b25-458a-b5cf-593387e9c8d9"
      },
      "execution_count": null,
      "outputs": [
        {
          "output_type": "display_data",
          "data": {
            "text/html": [
              "'a'"
            ],
            "text/markdown": "'a'",
            "text/latex": "'a'",
            "text/plain": [
              "[1] \"a\""
            ]
          },
          "metadata": {}
        }
      ]
    },
    {
      "cell_type": "code",
      "source": [
        "9L %in% 2L:4L\n",
        "\n",
        "9L %in% ((2L:4L) * (2L:4L))\n",
        "\n",
        "c(1L, 16L) %in% ((2L:4L) * (2L:4L))"
      ],
      "metadata": {
        "colab": {
          "base_uri": "https://localhost:8080/"
        },
        "id": "cyS77Le9Z05-",
        "outputId": "0a8e6aac-2d28-4adf-9f4f-98f3a49c747d"
      },
      "execution_count": null,
      "outputs": [
        {
          "output_type": "display_data",
          "data": {
            "text/html": [
              "FALSE"
            ],
            "text/markdown": "FALSE",
            "text/latex": "FALSE",
            "text/plain": [
              "[1] FALSE"
            ]
          },
          "metadata": {}
        },
        {
          "output_type": "display_data",
          "data": {
            "text/html": [
              "TRUE"
            ],
            "text/markdown": "TRUE",
            "text/latex": "TRUE",
            "text/plain": [
              "[1] TRUE"
            ]
          },
          "metadata": {}
        },
        {
          "output_type": "display_data",
          "data": {
            "text/html": [
              "<style>\n",
              ".list-inline {list-style: none; margin:0; padding: 0}\n",
              ".list-inline>li {display: inline-block}\n",
              ".list-inline>li:not(:last-child)::after {content: \"\\00b7\"; padding: 0 .5ex}\n",
              "</style>\n",
              "<ol class=list-inline><li>FALSE</li><li>TRUE</li></ol>\n"
            ],
            "text/markdown": "1. FALSE\n2. TRUE\n\n\n",
            "text/latex": "\\begin{enumerate*}\n\\item FALSE\n\\item TRUE\n\\end{enumerate*}\n",
            "text/plain": [
              "[1] FALSE  TRUE"
            ]
          },
          "metadata": {}
        }
      ]
    },
    {
      "cell_type": "code",
      "source": [
        "length(integer())"
      ],
      "metadata": {
        "colab": {
          "base_uri": "https://localhost:8080/"
        },
        "id": "LDSMEnA0Z3_v",
        "outputId": "39e9c25c-442b-4d1f-b8a9-a3f0ce3d74f3"
      },
      "execution_count": null,
      "outputs": [
        {
          "output_type": "display_data",
          "data": {
            "text/html": [
              "0"
            ],
            "text/markdown": "0",
            "text/latex": "0",
            "text/plain": [
              "[1] 0"
            ]
          },
          "metadata": {}
        }
      ]
    },
    {
      "cell_type": "code",
      "source": [
        "1L %in% integer()\n",
        "\n",
        "setdiff(1L:4L, union(1L:4L, integer()))"
      ],
      "metadata": {
        "colab": {
          "base_uri": "https://localhost:8080/"
        },
        "id": "by27rl0pZ5RP",
        "outputId": "a48fd851-2d45-4c62-8288-e61684743b8c"
      },
      "execution_count": null,
      "outputs": [
        {
          "output_type": "display_data",
          "data": {
            "text/html": [
              "FALSE"
            ],
            "text/markdown": "FALSE",
            "text/latex": "FALSE",
            "text/plain": [
              "[1] FALSE"
            ]
          },
          "metadata": {}
        },
        {
          "output_type": "display_data",
          "data": {
            "text/html": [],
            "text/markdown": "",
            "text/latex": "",
            "text/plain": [
              "integer(0)"
            ]
          },
          "metadata": {}
        }
      ]
    },
    {
      "cell_type": "code",
      "source": [
        "9 %in% (2:4)^2\n",
        "\n",
        "c(1, 5) %in% (1:10)^2"
      ],
      "metadata": {
        "colab": {
          "base_uri": "https://localhost:8080/"
        },
        "id": "TlfEVhNXZ7R3",
        "outputId": "d5ba7b79-e956-4d83-fe97-339d3ae987a5"
      },
      "execution_count": null,
      "outputs": [
        {
          "output_type": "display_data",
          "data": {
            "text/html": [
              "TRUE"
            ],
            "text/markdown": "TRUE",
            "text/latex": "TRUE",
            "text/plain": [
              "[1] TRUE"
            ]
          },
          "metadata": {}
        },
        {
          "output_type": "display_data",
          "data": {
            "text/html": [
              "<style>\n",
              ".list-inline {list-style: none; margin:0; padding: 0}\n",
              ".list-inline>li {display: inline-block}\n",
              ".list-inline>li:not(:last-child)::after {content: \"\\00b7\"; padding: 0 .5ex}\n",
              "</style>\n",
              "<ol class=list-inline><li>TRUE</li><li>FALSE</li></ol>\n"
            ],
            "text/markdown": "1. TRUE\n2. FALSE\n\n\n",
            "text/latex": "\\begin{enumerate*}\n\\item TRUE\n\\item FALSE\n\\end{enumerate*}\n",
            "text/plain": [
              "[1]  TRUE FALSE"
            ]
          },
          "metadata": {}
        }
      ]
    },
    {
      "cell_type": "markdown",
      "source": [
        "2.7 Character values"
      ],
      "metadata": {
        "id": "RFIsuRU82b3Z"
      }
    },
    {
      "cell_type": "code",
      "source": [
        "a <- \"A\"\n",
        "a"
      ],
      "metadata": {
        "colab": {
          "base_uri": "https://localhost:8080/"
        },
        "id": "mmMblJsjZ-7z",
        "outputId": "5b2a8111-e1b1-41c5-9353-f2a440dc619b"
      },
      "execution_count": null,
      "outputs": [
        {
          "output_type": "display_data",
          "data": {
            "text/html": [
              "'A'"
            ],
            "text/markdown": "'A'",
            "text/latex": "'A'",
            "text/plain": [
              "[1] \"A\""
            ]
          },
          "metadata": {}
        }
      ]
    },
    {
      "cell_type": "code",
      "source": [
        "b <- 'A'\n",
        "b\n",
        "\n",
        "a == b"
      ],
      "metadata": {
        "colab": {
          "base_uri": "https://localhost:8080/",
          "height": 52
        },
        "id": "FjwQxQ7XaAuf",
        "outputId": "4c28ca7d-b489-4368-9b96-751af803b379"
      },
      "execution_count": null,
      "outputs": [
        {
          "output_type": "display_data",
          "data": {
            "text/html": [
              "'A'"
            ],
            "text/markdown": "'A'",
            "text/latex": "'A'",
            "text/plain": [
              "[1] \"A\""
            ]
          },
          "metadata": {}
        },
        {
          "output_type": "display_data",
          "data": {
            "text/html": [
              "TRUE"
            ],
            "text/markdown": "TRUE",
            "text/latex": "TRUE",
            "text/plain": [
              "[1] TRUE"
            ]
          },
          "metadata": {}
        }
      ]
    },
    {
      "cell_type": "code",
      "source": [
        "a <- 'A'\n",
        "b <- \"bcdefg\"\n",
        "c <- \"123\"\n",
        "d <- c(a, b, c)\n",
        "d"
      ],
      "metadata": {
        "colab": {
          "base_uri": "https://localhost:8080/",
          "height": 34
        },
        "id": "ueq8xrNeaCob",
        "outputId": "e9219114-fe11-4731-d679-cacb2b22edd9"
      },
      "execution_count": null,
      "outputs": [
        {
          "output_type": "display_data",
          "data": {
            "text/html": [
              "<style>\n",
              ".list-inline {list-style: none; margin:0; padding: 0}\n",
              ".list-inline>li {display: inline-block}\n",
              ".list-inline>li:not(:last-child)::after {content: \"\\00b7\"; padding: 0 .5ex}\n",
              "</style>\n",
              "<ol class=list-inline><li>'A'</li><li>'bcdefg'</li><li>'123'</li></ol>\n"
            ],
            "text/markdown": "1. 'A'\n2. 'bcdefg'\n3. '123'\n\n\n",
            "text/latex": "\\begin{enumerate*}\n\\item 'A'\n\\item 'bcdefg'\n\\item '123'\n\\end{enumerate*}\n",
            "text/plain": [
              "[1] \"A\"      \"bcdefg\" \"123\"   "
            ]
          },
          "metadata": {}
        }
      ]
    },
    {
      "cell_type": "code",
      "source": [
        "a <- \"He said 'hello' when he came in\"\n",
        "a\n",
        "\n",
        "b <- 'He said \"hello\" when he came in'\n",
        "b"
      ],
      "metadata": {
        "colab": {
          "base_uri": "https://localhost:8080/",
          "height": 52
        },
        "id": "QVjGWmSHaEW-",
        "outputId": "9df72347-318f-4b3e-bdad-66164bd54fe7"
      },
      "execution_count": null,
      "outputs": [
        {
          "output_type": "display_data",
          "data": {
            "text/html": [
              "'He said \\'hello\\' when he came in'"
            ],
            "text/markdown": "'He said \\'hello\\' when he came in'",
            "text/latex": "'He said \\textbackslash{}'hello\\textbackslash{}' when he came in'",
            "text/plain": [
              "[1] \"He said 'hello' when he came in\""
            ]
          },
          "metadata": {}
        },
        {
          "output_type": "display_data",
          "data": {
            "text/html": [
              "'He said \"hello\" when he came in'"
            ],
            "text/markdown": "'He said \"hello\" when he came in'",
            "text/latex": "'He said \"hello\" when he came in'",
            "text/plain": [
              "[1] \"He said \\\"hello\\\" when he came in\""
            ]
          },
          "metadata": {}
        }
      ]
    },
    {
      "cell_type": "code",
      "source": [
        "c <- \"abc\\ndef\\tx\\\"yz\\\"\\\\\\tm\"\n",
        "print(c)\n",
        "\n",
        "cat(c)"
      ],
      "metadata": {
        "colab": {
          "base_uri": "https://localhost:8080/"
        },
        "id": "ZpRUehD6aHtE",
        "outputId": "4305fa43-fa25-4fbd-f0f4-6e9871b28913"
      },
      "execution_count": null,
      "outputs": [
        {
          "output_type": "stream",
          "name": "stdout",
          "text": [
            "[1] \"abc\\ndef\\tx\\\"yz\\\"\\\\\\tm\"\n",
            "abc\n",
            "def\tx\"yz\"\\\tm"
          ]
        }
      ]
    },
    {
      "cell_type": "markdown",
      "source": [
        "2.8 The ‘mode’ and ‘class’ of objects"
      ],
      "metadata": {
        "id": "mHepysgPaLQO"
      }
    },
    {
      "cell_type": "code",
      "source": [
        "my_var <- 1:5\n",
        "mode(my_var) # no distinction of integer or double\n",
        "\n",
        "typeof(my_var)\n",
        "\n",
        "is.numeric(my_var) # no distinction of integer or double\n",
        "\n",
        "is.double(my_var)\n",
        "\n",
        "is.integer(my_var)\n",
        "\n",
        "is.logical(my_var)\n",
        "\n",
        "is.character(my_var)\n",
        "\n",
        "my_var <- \"abc\"\n",
        "mode(my_var)"
      ],
      "metadata": {
        "colab": {
          "base_uri": "https://localhost:8080/",
          "height": 156
        },
        "id": "KrrGqeU5aKAa",
        "outputId": "3bd48b64-f9b6-4f0e-8da0-bf6a0ad08d1f"
      },
      "execution_count": null,
      "outputs": [
        {
          "output_type": "display_data",
          "data": {
            "text/html": [
              "'numeric'"
            ],
            "text/markdown": "'numeric'",
            "text/latex": "'numeric'",
            "text/plain": [
              "[1] \"numeric\""
            ]
          },
          "metadata": {}
        },
        {
          "output_type": "display_data",
          "data": {
            "text/html": [
              "'integer'"
            ],
            "text/markdown": "'integer'",
            "text/latex": "'integer'",
            "text/plain": [
              "[1] \"integer\""
            ]
          },
          "metadata": {}
        },
        {
          "output_type": "display_data",
          "data": {
            "text/html": [
              "TRUE"
            ],
            "text/markdown": "TRUE",
            "text/latex": "TRUE",
            "text/plain": [
              "[1] TRUE"
            ]
          },
          "metadata": {}
        },
        {
          "output_type": "display_data",
          "data": {
            "text/html": [
              "FALSE"
            ],
            "text/markdown": "FALSE",
            "text/latex": "FALSE",
            "text/plain": [
              "[1] FALSE"
            ]
          },
          "metadata": {}
        },
        {
          "output_type": "display_data",
          "data": {
            "text/html": [
              "TRUE"
            ],
            "text/markdown": "TRUE",
            "text/latex": "TRUE",
            "text/plain": [
              "[1] TRUE"
            ]
          },
          "metadata": {}
        },
        {
          "output_type": "display_data",
          "data": {
            "text/html": [
              "FALSE"
            ],
            "text/markdown": "FALSE",
            "text/latex": "FALSE",
            "text/plain": [
              "[1] FALSE"
            ]
          },
          "metadata": {}
        },
        {
          "output_type": "display_data",
          "data": {
            "text/html": [
              "FALSE"
            ],
            "text/markdown": "FALSE",
            "text/latex": "FALSE",
            "text/plain": [
              "[1] FALSE"
            ]
          },
          "metadata": {}
        },
        {
          "output_type": "display_data",
          "data": {
            "text/html": [
              "'character'"
            ],
            "text/markdown": "'character'",
            "text/latex": "'character'",
            "text/plain": [
              "[1] \"character\""
            ]
          },
          "metadata": {}
        }
      ]
    },
    {
      "cell_type": "code",
      "source": [
        "class(my_var)\n",
        "\n",
        "inherits(my_var, \"character\")\n",
        "\n",
        "inherits(my_var, \"numeric\")"
      ],
      "metadata": {
        "colab": {
          "base_uri": "https://localhost:8080/",
          "height": 69
        },
        "id": "VdJRWxnVaP9Q",
        "outputId": "a0e5bc69-525a-460e-c852-94db96ae3fc1"
      },
      "execution_count": null,
      "outputs": [
        {
          "output_type": "display_data",
          "data": {
            "text/html": [
              "'character'"
            ],
            "text/markdown": "'character'",
            "text/latex": "'character'",
            "text/plain": [
              "[1] \"character\""
            ]
          },
          "metadata": {}
        },
        {
          "output_type": "display_data",
          "data": {
            "text/html": [
              "TRUE"
            ],
            "text/markdown": "TRUE",
            "text/latex": "TRUE",
            "text/plain": [
              "[1] TRUE"
            ]
          },
          "metadata": {}
        },
        {
          "output_type": "display_data",
          "data": {
            "text/html": [
              "FALSE"
            ],
            "text/markdown": "FALSE",
            "text/latex": "FALSE",
            "text/plain": [
              "[1] FALSE"
            ]
          },
          "metadata": {}
        }
      ]
    },
    {
      "cell_type": "markdown",
      "source": [
        "2.9 ‘Type’ conversions"
      ],
      "metadata": {
        "id": "VCEgArJPaZ3w"
      }
    },
    {
      "cell_type": "code",
      "source": [
        "as.character(1)\n",
        "\n",
        "as.numeric(\"1\")\n",
        "\n",
        "as.logical(\"TRUE\")\n",
        "\n",
        "as.logical(\"NA\")"
      ],
      "metadata": {
        "colab": {
          "base_uri": "https://localhost:8080/",
          "height": 86
        },
        "id": "PnqO6tn0aYPL",
        "outputId": "2dce07b7-6289-4b56-f7f4-d134f23f18db"
      },
      "execution_count": null,
      "outputs": [
        {
          "output_type": "display_data",
          "data": {
            "text/html": [
              "'1'"
            ],
            "text/markdown": "'1'",
            "text/latex": "'1'",
            "text/plain": [
              "[1] \"1\""
            ]
          },
          "metadata": {}
        },
        {
          "output_type": "display_data",
          "data": {
            "text/html": [
              "1"
            ],
            "text/markdown": "1",
            "text/latex": "1",
            "text/plain": [
              "[1] 1"
            ]
          },
          "metadata": {}
        },
        {
          "output_type": "display_data",
          "data": {
            "text/html": [
              "TRUE"
            ],
            "text/markdown": "TRUE",
            "text/latex": "TRUE",
            "text/plain": [
              "[1] TRUE"
            ]
          },
          "metadata": {}
        },
        {
          "output_type": "display_data",
          "data": {
            "text/html": [
              "&lt;NA&gt;"
            ],
            "text/markdown": "&lt;NA&gt;",
            "text/latex": "<NA>",
            "text/plain": [
              "[1] NA"
            ]
          },
          "metadata": {}
        }
      ]
    },
    {
      "cell_type": "code",
      "source": [
        "TRUE + 10\n",
        "\n",
        "1 || 0\n",
        "\n",
        "FALSE | -2:2"
      ],
      "metadata": {
        "colab": {
          "base_uri": "https://localhost:8080/",
          "height": 69
        },
        "id": "lSn1raAKacif",
        "outputId": "db9555b6-6d2a-4719-d0ed-ea7324bd0c76"
      },
      "execution_count": null,
      "outputs": [
        {
          "output_type": "display_data",
          "data": {
            "text/html": [
              "11"
            ],
            "text/markdown": "11",
            "text/latex": "11",
            "text/plain": [
              "[1] 11"
            ]
          },
          "metadata": {}
        },
        {
          "output_type": "display_data",
          "data": {
            "text/html": [
              "TRUE"
            ],
            "text/markdown": "TRUE",
            "text/latex": "TRUE",
            "text/plain": [
              "[1] TRUE"
            ]
          },
          "metadata": {}
        },
        {
          "output_type": "display_data",
          "data": {
            "text/html": [
              "<style>\n",
              ".list-inline {list-style: none; margin:0; padding: 0}\n",
              ".list-inline>li {display: inline-block}\n",
              ".list-inline>li:not(:last-child)::after {content: \"\\00b7\"; padding: 0 .5ex}\n",
              "</style>\n",
              "<ol class=list-inline><li>TRUE</li><li>TRUE</li><li>FALSE</li><li>TRUE</li><li>TRUE</li></ol>\n"
            ],
            "text/markdown": "1. TRUE\n2. TRUE\n3. FALSE\n4. TRUE\n5. TRUE\n\n\n",
            "text/latex": "\\begin{enumerate*}\n\\item TRUE\n\\item TRUE\n\\item FALSE\n\\item TRUE\n\\item TRUE\n\\end{enumerate*}\n",
            "text/plain": [
              "[1]  TRUE  TRUE FALSE  TRUE  TRUE"
            ]
          },
          "metadata": {}
        }
      ]
    },
    {
      "cell_type": "code",
      "source": [
        "f <- c(\"1\", \"2\", \"3\")\n",
        "length(f)\n",
        "\n",
        "g <- \"123\"\n",
        "length(g)\n",
        "\n",
        "as.numeric(f)\n",
        "\n",
        "as.numeric(g)"
      ],
      "metadata": {
        "colab": {
          "base_uri": "https://localhost:8080/",
          "height": 86
        },
        "id": "t_Mv-YRGaeai",
        "outputId": "f28dbcb0-600f-4054-f5b3-715ad3b224eb"
      },
      "execution_count": null,
      "outputs": [
        {
          "output_type": "display_data",
          "data": {
            "text/html": [
              "3"
            ],
            "text/markdown": "3",
            "text/latex": "3",
            "text/plain": [
              "[1] 3"
            ]
          },
          "metadata": {}
        },
        {
          "output_type": "display_data",
          "data": {
            "text/html": [
              "1"
            ],
            "text/markdown": "1",
            "text/latex": "1",
            "text/plain": [
              "[1] 1"
            ]
          },
          "metadata": {}
        },
        {
          "output_type": "display_data",
          "data": {
            "text/html": [
              "<style>\n",
              ".list-inline {list-style: none; margin:0; padding: 0}\n",
              ".list-inline>li {display: inline-block}\n",
              ".list-inline>li:not(:last-child)::after {content: \"\\00b7\"; padding: 0 .5ex}\n",
              "</style>\n",
              "<ol class=list-inline><li>1</li><li>2</li><li>3</li></ol>\n"
            ],
            "text/markdown": "1. 1\n2. 2\n3. 3\n\n\n",
            "text/latex": "\\begin{enumerate*}\n\\item 1\n\\item 2\n\\item 3\n\\end{enumerate*}\n",
            "text/plain": [
              "[1] 1 2 3"
            ]
          },
          "metadata": {}
        },
        {
          "output_type": "display_data",
          "data": {
            "text/html": [
              "123"
            ],
            "text/markdown": "123",
            "text/latex": "123",
            "text/plain": [
              "[1] 123"
            ]
          },
          "metadata": {}
        }
      ]
    },
    {
      "cell_type": "code",
      "source": [
        "x = c(123.4567890, 1.0)\n",
        "format(x) # using defaults\n",
        "\n",
        "format(x[1]) # using defaults\n",
        "\n",
        "format(x[2]) # using defaults\n",
        "\n",
        "format(x, digits = 3, nsmall = 1)\n",
        "\n",
        "format(x[1], digits = 3, nsmall = 1)\n",
        "\n",
        "format(x[2], digits = 3, nsmall = 1)\n",
        "\n",
        "format(x, digits = 3, scientific = TRUE)"
      ],
      "metadata": {
        "colab": {
          "base_uri": "https://localhost:8080/",
          "height": 139
        },
        "id": "LjixruwIahmA",
        "outputId": "edcfe97a-70ec-4a5b-915d-456056330d70"
      },
      "execution_count": null,
      "outputs": [
        {
          "output_type": "display_data",
          "data": {
            "text/html": [
              "<style>\n",
              ".list-inline {list-style: none; margin:0; padding: 0}\n",
              ".list-inline>li {display: inline-block}\n",
              ".list-inline>li:not(:last-child)::after {content: \"\\00b7\"; padding: 0 .5ex}\n",
              "</style>\n",
              "<ol class=list-inline><li>'123.4568'</li><li><span style=white-space:pre-wrap>'  1.0000'</span></li></ol>\n"
            ],
            "text/markdown": "1. '123.4568'\n2. <span style=white-space:pre-wrap>'  1.0000'</span>\n\n\n",
            "text/latex": "\\begin{enumerate*}\n\\item '123.4568'\n\\item '  1.0000'\n\\end{enumerate*}\n",
            "text/plain": [
              "[1] \"123.4568\" \"  1.0000\""
            ]
          },
          "metadata": {}
        },
        {
          "output_type": "display_data",
          "data": {
            "text/html": [
              "'123.4568'"
            ],
            "text/markdown": "'123.4568'",
            "text/latex": "'123.4568'",
            "text/plain": [
              "[1] \"123.4568\""
            ]
          },
          "metadata": {}
        },
        {
          "output_type": "display_data",
          "data": {
            "text/html": [
              "'1'"
            ],
            "text/markdown": "'1'",
            "text/latex": "'1'",
            "text/plain": [
              "[1] \"1\""
            ]
          },
          "metadata": {}
        },
        {
          "output_type": "display_data",
          "data": {
            "text/html": [
              "<style>\n",
              ".list-inline {list-style: none; margin:0; padding: 0}\n",
              ".list-inline>li {display: inline-block}\n",
              ".list-inline>li:not(:last-child)::after {content: \"\\00b7\"; padding: 0 .5ex}\n",
              "</style>\n",
              "<ol class=list-inline><li>'123.5'</li><li><span style=white-space:pre-wrap>'  1.0'</span></li></ol>\n"
            ],
            "text/markdown": "1. '123.5'\n2. <span style=white-space:pre-wrap>'  1.0'</span>\n\n\n",
            "text/latex": "\\begin{enumerate*}\n\\item '123.5'\n\\item '  1.0'\n\\end{enumerate*}\n",
            "text/plain": [
              "[1] \"123.5\" \"  1.0\""
            ]
          },
          "metadata": {}
        },
        {
          "output_type": "display_data",
          "data": {
            "text/html": [
              "'123.5'"
            ],
            "text/markdown": "'123.5'",
            "text/latex": "'123.5'",
            "text/plain": [
              "[1] \"123.5\""
            ]
          },
          "metadata": {}
        },
        {
          "output_type": "display_data",
          "data": {
            "text/html": [
              "'1.0'"
            ],
            "text/markdown": "'1.0'",
            "text/latex": "'1.0'",
            "text/plain": [
              "[1] \"1.0\""
            ]
          },
          "metadata": {}
        },
        {
          "output_type": "display_data",
          "data": {
            "text/html": [
              "<style>\n",
              ".list-inline {list-style: none; margin:0; padding: 0}\n",
              ".list-inline>li {display: inline-block}\n",
              ".list-inline>li:not(:last-child)::after {content: \"\\00b7\"; padding: 0 .5ex}\n",
              "</style>\n",
              "<ol class=list-inline><li>'1.23e+02'</li><li>'1.00e+00'</li></ol>\n"
            ],
            "text/markdown": "1. '1.23e+02'\n2. '1.00e+00'\n\n\n",
            "text/latex": "\\begin{enumerate*}\n\\item '1.23e+02'\n\\item '1.00e+00'\n\\end{enumerate*}\n",
            "text/plain": [
              "[1] \"1.23e+02\" \"1.00e+00\""
            ]
          },
          "metadata": {}
        }
      ]
    },
    {
      "cell_type": "code",
      "source": [
        "x = c(123.4567890, 1.0)\n",
        "sprintf(\"The numbers are: %4.2f and %.0f\", x[1], x[2])\n",
        "\n",
        "sprintf(\"The numbers are: %.4g and %.2g\", x[1], x[2])\n",
        "\n",
        "sprintf(\"The numbers are: %4.2e and %.0e\", x[1], x[2])"
      ],
      "metadata": {
        "colab": {
          "base_uri": "https://localhost:8080/",
          "height": 69
        },
        "id": "6fV4r2IMalQb",
        "outputId": "6621b8c7-1b83-40d0-c2ee-10833c52b9d7"
      },
      "execution_count": null,
      "outputs": [
        {
          "output_type": "display_data",
          "data": {
            "text/html": [
              "'The numbers are: 123.46 and 1'"
            ],
            "text/markdown": "'The numbers are: 123.46 and 1'",
            "text/latex": "'The numbers are: 123.46 and 1'",
            "text/plain": [
              "[1] \"The numbers are: 123.46 and 1\""
            ]
          },
          "metadata": {}
        },
        {
          "output_type": "display_data",
          "data": {
            "text/html": [
              "'The numbers are: 123.5 and 1'"
            ],
            "text/markdown": "'The numbers are: 123.5 and 1'",
            "text/latex": "'The numbers are: 123.5 and 1'",
            "text/plain": [
              "[1] \"The numbers are: 123.5 and 1\""
            ]
          },
          "metadata": {}
        },
        {
          "output_type": "display_data",
          "data": {
            "text/html": [
              "'The numbers are: 1.23e+02 and 1e+00'"
            ],
            "text/markdown": "'The numbers are: 1.23e+02 and 1e+00'",
            "text/latex": "'The numbers are: 1.23e+02 and 1e+00'",
            "text/plain": [
              "[1] \"The numbers are: 1.23e+02 and 1e+00\""
            ]
          },
          "metadata": {}
        }
      ]
    },
    {
      "cell_type": "code",
      "source": [
        "a <- c(1, NA)\n",
        "is.numeric(a[2])\n",
        "\n",
        "is.numeric(NA)\n",
        "\n",
        "b <- c(\"abc\", NA)\n",
        "is.character(b[2])\n",
        "\n",
        "is.character(NA)\n",
        "\n",
        "class(NA)"
      ],
      "metadata": {
        "colab": {
          "base_uri": "https://localhost:8080/",
          "height": 104
        },
        "id": "-Hrm6k3KanPz",
        "outputId": "81768f21-e1db-4e2f-cc5d-981060f2d9a0"
      },
      "execution_count": null,
      "outputs": [
        {
          "output_type": "display_data",
          "data": {
            "text/html": [
              "TRUE"
            ],
            "text/markdown": "TRUE",
            "text/latex": "TRUE",
            "text/plain": [
              "[1] TRUE"
            ]
          },
          "metadata": {}
        },
        {
          "output_type": "display_data",
          "data": {
            "text/html": [
              "FALSE"
            ],
            "text/markdown": "FALSE",
            "text/latex": "FALSE",
            "text/plain": [
              "[1] FALSE"
            ]
          },
          "metadata": {}
        },
        {
          "output_type": "display_data",
          "data": {
            "text/html": [
              "TRUE"
            ],
            "text/markdown": "TRUE",
            "text/latex": "TRUE",
            "text/plain": [
              "[1] TRUE"
            ]
          },
          "metadata": {}
        },
        {
          "output_type": "display_data",
          "data": {
            "text/html": [
              "FALSE"
            ],
            "text/markdown": "FALSE",
            "text/latex": "FALSE",
            "text/plain": [
              "[1] FALSE"
            ]
          },
          "metadata": {}
        },
        {
          "output_type": "display_data",
          "data": {
            "text/html": [
              "'logical'"
            ],
            "text/markdown": "'logical'",
            "text/latex": "'logical'",
            "text/plain": [
              "[1] \"logical\""
            ]
          },
          "metadata": {}
        }
      ]
    },
    {
      "cell_type": "code",
      "source": [
        "a[3] <- b[2]"
      ],
      "metadata": {
        "id": "2vVN_6lIap4U"
      },
      "execution_count": null,
      "outputs": []
    },
    {
      "cell_type": "markdown",
      "source": [
        "2.10 Vector manipulation"
      ],
      "metadata": {
        "id": "_di-I7jsasRg"
      }
    },
    {
      "cell_type": "code",
      "source": [
        "a <- letters[1:10]\n",
        "a\n",
        "\n",
        "a[2]"
      ],
      "metadata": {
        "colab": {
          "base_uri": "https://localhost:8080/",
          "height": 52
        },
        "id": "r_SGTXByarWr",
        "outputId": "a0e604f8-2749-48f8-9c4f-73d4def3e59b"
      },
      "execution_count": null,
      "outputs": [
        {
          "output_type": "display_data",
          "data": {
            "text/html": [
              "<style>\n",
              ".list-inline {list-style: none; margin:0; padding: 0}\n",
              ".list-inline>li {display: inline-block}\n",
              ".list-inline>li:not(:last-child)::after {content: \"\\00b7\"; padding: 0 .5ex}\n",
              "</style>\n",
              "<ol class=list-inline><li>'a'</li><li>'b'</li><li>'c'</li><li>'d'</li><li>'e'</li><li>'f'</li><li>'g'</li><li>'h'</li><li>'i'</li><li>'j'</li></ol>\n"
            ],
            "text/markdown": "1. 'a'\n2. 'b'\n3. 'c'\n4. 'd'\n5. 'e'\n6. 'f'\n7. 'g'\n8. 'h'\n9. 'i'\n10. 'j'\n\n\n",
            "text/latex": "\\begin{enumerate*}\n\\item 'a'\n\\item 'b'\n\\item 'c'\n\\item 'd'\n\\item 'e'\n\\item 'f'\n\\item 'g'\n\\item 'h'\n\\item 'i'\n\\item 'j'\n\\end{enumerate*}\n",
            "text/plain": [
              " [1] \"a\" \"b\" \"c\" \"d\" \"e\" \"f\" \"g\" \"h\" \"i\" \"j\""
            ]
          },
          "metadata": {}
        },
        {
          "output_type": "display_data",
          "data": {
            "text/html": [
              "'b'"
            ],
            "text/markdown": "'b'",
            "text/latex": "'b'",
            "text/plain": [
              "[1] \"b\""
            ]
          },
          "metadata": {}
        }
      ]
    },
    {
      "cell_type": "code",
      "source": [
        "a[c(3,2)]\n",
        "\n",
        "a[10:1]"
      ],
      "metadata": {
        "colab": {
          "base_uri": "https://localhost:8080/",
          "height": 52
        },
        "id": "h26r9u66bCQo",
        "outputId": "cacd2ad6-e73b-44bb-b199-7873a6e8ae71"
      },
      "execution_count": null,
      "outputs": [
        {
          "output_type": "display_data",
          "data": {
            "text/html": [
              "<style>\n",
              ".list-inline {list-style: none; margin:0; padding: 0}\n",
              ".list-inline>li {display: inline-block}\n",
              ".list-inline>li:not(:last-child)::after {content: \"\\00b7\"; padding: 0 .5ex}\n",
              "</style>\n",
              "<ol class=list-inline><li>'c'</li><li>'b'</li></ol>\n"
            ],
            "text/markdown": "1. 'c'\n2. 'b'\n\n\n",
            "text/latex": "\\begin{enumerate*}\n\\item 'c'\n\\item 'b'\n\\end{enumerate*}\n",
            "text/plain": [
              "[1] \"c\" \"b\""
            ]
          },
          "metadata": {}
        },
        {
          "output_type": "display_data",
          "data": {
            "text/html": [
              "<style>\n",
              ".list-inline {list-style: none; margin:0; padding: 0}\n",
              ".list-inline>li {display: inline-block}\n",
              ".list-inline>li:not(:last-child)::after {content: \"\\00b7\"; padding: 0 .5ex}\n",
              "</style>\n",
              "<ol class=list-inline><li>'j'</li><li>'i'</li><li>'h'</li><li>'g'</li><li>'f'</li><li>'e'</li><li>'d'</li><li>'c'</li><li>'b'</li><li>'a'</li></ol>\n"
            ],
            "text/markdown": "1. 'j'\n2. 'i'\n3. 'h'\n4. 'g'\n5. 'f'\n6. 'e'\n7. 'd'\n8. 'c'\n9. 'b'\n10. 'a'\n\n\n",
            "text/latex": "\\begin{enumerate*}\n\\item 'j'\n\\item 'i'\n\\item 'h'\n\\item 'g'\n\\item 'f'\n\\item 'e'\n\\item 'd'\n\\item 'c'\n\\item 'b'\n\\item 'a'\n\\end{enumerate*}\n",
            "text/plain": [
              " [1] \"j\" \"i\" \"h\" \"g\" \"f\" \"e\" \"d\" \"c\" \"b\" \"a\""
            ]
          },
          "metadata": {}
        }
      ]
    },
    {
      "cell_type": "code",
      "source": [
        "length(a)\n",
        "a[c(3,3,3,3)]\n",
        "a[c(10:1, 1:10)]\n",
        "a[c(1,11)]\n",
        "a[11]"
      ],
      "metadata": {
        "colab": {
          "base_uri": "https://localhost:8080/",
          "height": 104
        },
        "id": "TR5rMm83bEct",
        "outputId": "add75214-d122-4785-8066-213368917ce9"
      },
      "execution_count": null,
      "outputs": [
        {
          "output_type": "display_data",
          "data": {
            "text/html": [
              "10"
            ],
            "text/markdown": "10",
            "text/latex": "10",
            "text/plain": [
              "[1] 10"
            ]
          },
          "metadata": {}
        },
        {
          "output_type": "display_data",
          "data": {
            "text/html": [
              "<style>\n",
              ".list-inline {list-style: none; margin:0; padding: 0}\n",
              ".list-inline>li {display: inline-block}\n",
              ".list-inline>li:not(:last-child)::after {content: \"\\00b7\"; padding: 0 .5ex}\n",
              "</style>\n",
              "<ol class=list-inline><li>'c'</li><li>'c'</li><li>'c'</li><li>'c'</li></ol>\n"
            ],
            "text/markdown": "1. 'c'\n2. 'c'\n3. 'c'\n4. 'c'\n\n\n",
            "text/latex": "\\begin{enumerate*}\n\\item 'c'\n\\item 'c'\n\\item 'c'\n\\item 'c'\n\\end{enumerate*}\n",
            "text/plain": [
              "[1] \"c\" \"c\" \"c\" \"c\""
            ]
          },
          "metadata": {}
        },
        {
          "output_type": "display_data",
          "data": {
            "text/html": [
              "<style>\n",
              ".list-inline {list-style: none; margin:0; padding: 0}\n",
              ".list-inline>li {display: inline-block}\n",
              ".list-inline>li:not(:last-child)::after {content: \"\\00b7\"; padding: 0 .5ex}\n",
              "</style>\n",
              "<ol class=list-inline><li>'j'</li><li>'i'</li><li>'h'</li><li>'g'</li><li>'f'</li><li>'e'</li><li>'d'</li><li>'c'</li><li>'b'</li><li>'a'</li><li>'a'</li><li>'b'</li><li>'c'</li><li>'d'</li><li>'e'</li><li>'f'</li><li>'g'</li><li>'h'</li><li>'i'</li><li>'j'</li></ol>\n"
            ],
            "text/markdown": "1. 'j'\n2. 'i'\n3. 'h'\n4. 'g'\n5. 'f'\n6. 'e'\n7. 'd'\n8. 'c'\n9. 'b'\n10. 'a'\n11. 'a'\n12. 'b'\n13. 'c'\n14. 'd'\n15. 'e'\n16. 'f'\n17. 'g'\n18. 'h'\n19. 'i'\n20. 'j'\n\n\n",
            "text/latex": "\\begin{enumerate*}\n\\item 'j'\n\\item 'i'\n\\item 'h'\n\\item 'g'\n\\item 'f'\n\\item 'e'\n\\item 'd'\n\\item 'c'\n\\item 'b'\n\\item 'a'\n\\item 'a'\n\\item 'b'\n\\item 'c'\n\\item 'd'\n\\item 'e'\n\\item 'f'\n\\item 'g'\n\\item 'h'\n\\item 'i'\n\\item 'j'\n\\end{enumerate*}\n",
            "text/plain": [
              " [1] \"j\" \"i\" \"h\" \"g\" \"f\" \"e\" \"d\" \"c\" \"b\" \"a\" \"a\" \"b\" \"c\" \"d\" \"e\" \"f\" \"g\" \"h\" \"i\"\n",
              "[20] \"j\""
            ]
          },
          "metadata": {}
        },
        {
          "output_type": "display_data",
          "data": {
            "text/html": [
              "<style>\n",
              ".list-inline {list-style: none; margin:0; padding: 0}\n",
              ".list-inline>li {display: inline-block}\n",
              ".list-inline>li:not(:last-child)::after {content: \"\\00b7\"; padding: 0 .5ex}\n",
              "</style>\n",
              "<ol class=list-inline><li>'a'</li><li>NA</li></ol>\n"
            ],
            "text/markdown": "1. 'a'\n2. NA\n\n\n",
            "text/latex": "\\begin{enumerate*}\n\\item 'a'\n\\item NA\n\\end{enumerate*}\n",
            "text/plain": [
              "[1] \"a\" NA "
            ]
          },
          "metadata": {}
        },
        {
          "output_type": "display_data",
          "data": {
            "text/html": [
              "NA"
            ],
            "text/markdown": "NA",
            "text/latex": "NA",
            "text/plain": [
              "[1] NA"
            ]
          },
          "metadata": {}
        }
      ]
    },
    {
      "cell_type": "code",
      "source": [
        "a[-2]\n",
        "\n",
        "a[-c(3,2)]\n",
        "\n",
        "a[-3:-2]"
      ],
      "metadata": {
        "colab": {
          "base_uri": "https://localhost:8080/",
          "height": 69
        },
        "id": "De9kAX8wbGFB",
        "outputId": "2420316a-28ac-459f-9b46-292e8cec7f86"
      },
      "execution_count": null,
      "outputs": [
        {
          "output_type": "display_data",
          "data": {
            "text/html": [
              "<style>\n",
              ".list-inline {list-style: none; margin:0; padding: 0}\n",
              ".list-inline>li {display: inline-block}\n",
              ".list-inline>li:not(:last-child)::after {content: \"\\00b7\"; padding: 0 .5ex}\n",
              "</style>\n",
              "<ol class=list-inline><li>'a'</li><li>'c'</li><li>'d'</li><li>'e'</li><li>'f'</li><li>'g'</li><li>'h'</li><li>'i'</li><li>'j'</li></ol>\n"
            ],
            "text/markdown": "1. 'a'\n2. 'c'\n3. 'd'\n4. 'e'\n5. 'f'\n6. 'g'\n7. 'h'\n8. 'i'\n9. 'j'\n\n\n",
            "text/latex": "\\begin{enumerate*}\n\\item 'a'\n\\item 'c'\n\\item 'd'\n\\item 'e'\n\\item 'f'\n\\item 'g'\n\\item 'h'\n\\item 'i'\n\\item 'j'\n\\end{enumerate*}\n",
            "text/plain": [
              "[1] \"a\" \"c\" \"d\" \"e\" \"f\" \"g\" \"h\" \"i\" \"j\""
            ]
          },
          "metadata": {}
        },
        {
          "output_type": "display_data",
          "data": {
            "text/html": [
              "<style>\n",
              ".list-inline {list-style: none; margin:0; padding: 0}\n",
              ".list-inline>li {display: inline-block}\n",
              ".list-inline>li:not(:last-child)::after {content: \"\\00b7\"; padding: 0 .5ex}\n",
              "</style>\n",
              "<ol class=list-inline><li>'a'</li><li>'d'</li><li>'e'</li><li>'f'</li><li>'g'</li><li>'h'</li><li>'i'</li><li>'j'</li></ol>\n"
            ],
            "text/markdown": "1. 'a'\n2. 'd'\n3. 'e'\n4. 'f'\n5. 'g'\n6. 'h'\n7. 'i'\n8. 'j'\n\n\n",
            "text/latex": "\\begin{enumerate*}\n\\item 'a'\n\\item 'd'\n\\item 'e'\n\\item 'f'\n\\item 'g'\n\\item 'h'\n\\item 'i'\n\\item 'j'\n\\end{enumerate*}\n",
            "text/plain": [
              "[1] \"a\" \"d\" \"e\" \"f\" \"g\" \"h\" \"i\" \"j\""
            ]
          },
          "metadata": {}
        },
        {
          "output_type": "display_data",
          "data": {
            "text/html": [
              "<style>\n",
              ".list-inline {list-style: none; margin:0; padding: 0}\n",
              ".list-inline>li {display: inline-block}\n",
              ".list-inline>li:not(:last-child)::after {content: \"\\00b7\"; padding: 0 .5ex}\n",
              "</style>\n",
              "<ol class=list-inline><li>'a'</li><li>'d'</li><li>'e'</li><li>'f'</li><li>'g'</li><li>'h'</li><li>'i'</li><li>'j'</li></ol>\n"
            ],
            "text/markdown": "1. 'a'\n2. 'd'\n3. 'e'\n4. 'f'\n5. 'g'\n6. 'h'\n7. 'i'\n8. 'j'\n\n\n",
            "text/latex": "\\begin{enumerate*}\n\\item 'a'\n\\item 'd'\n\\item 'e'\n\\item 'f'\n\\item 'g'\n\\item 'h'\n\\item 'i'\n\\item 'j'\n\\end{enumerate*}\n",
            "text/plain": [
              "[1] \"a\" \"d\" \"e\" \"f\" \"g\" \"h\" \"i\" \"j\""
            ]
          },
          "metadata": {}
        }
      ]
    },
    {
      "cell_type": "code",
      "source": [
        "a[TRUE]\n",
        "\n",
        "a[FALSE]\n",
        "\n",
        "a[c(TRUE, FALSE)]\n",
        "\n",
        "a[c(FALSE, TRUE)]\n",
        "\n",
        "a > \"c\"\n",
        "\n",
        "a[a > \"c\"]"
      ],
      "metadata": {
        "colab": {
          "base_uri": "https://localhost:8080/",
          "height": 104
        },
        "id": "BzczLGWlbHZ1",
        "outputId": "e300ad9a-8bc8-4c1e-c352-c71b5bac15b9"
      },
      "execution_count": null,
      "outputs": [
        {
          "output_type": "display_data",
          "data": {
            "text/html": [
              "<style>\n",
              ".list-inline {list-style: none; margin:0; padding: 0}\n",
              ".list-inline>li {display: inline-block}\n",
              ".list-inline>li:not(:last-child)::after {content: \"\\00b7\"; padding: 0 .5ex}\n",
              "</style>\n",
              "<ol class=list-inline><li>'a'</li><li>'b'</li><li>'c'</li><li>'d'</li><li>'e'</li><li>'f'</li><li>'g'</li><li>'h'</li><li>'i'</li><li>'j'</li></ol>\n"
            ],
            "text/markdown": "1. 'a'\n2. 'b'\n3. 'c'\n4. 'd'\n5. 'e'\n6. 'f'\n7. 'g'\n8. 'h'\n9. 'i'\n10. 'j'\n\n\n",
            "text/latex": "\\begin{enumerate*}\n\\item 'a'\n\\item 'b'\n\\item 'c'\n\\item 'd'\n\\item 'e'\n\\item 'f'\n\\item 'g'\n\\item 'h'\n\\item 'i'\n\\item 'j'\n\\end{enumerate*}\n",
            "text/plain": [
              " [1] \"a\" \"b\" \"c\" \"d\" \"e\" \"f\" \"g\" \"h\" \"i\" \"j\""
            ]
          },
          "metadata": {}
        },
        {
          "output_type": "display_data",
          "data": {
            "text/html": [],
            "text/markdown": "",
            "text/latex": "",
            "text/plain": [
              "character(0)"
            ]
          },
          "metadata": {}
        },
        {
          "output_type": "display_data",
          "data": {
            "text/html": [
              "<style>\n",
              ".list-inline {list-style: none; margin:0; padding: 0}\n",
              ".list-inline>li {display: inline-block}\n",
              ".list-inline>li:not(:last-child)::after {content: \"\\00b7\"; padding: 0 .5ex}\n",
              "</style>\n",
              "<ol class=list-inline><li>'a'</li><li>'c'</li><li>'e'</li><li>'g'</li><li>'i'</li></ol>\n"
            ],
            "text/markdown": "1. 'a'\n2. 'c'\n3. 'e'\n4. 'g'\n5. 'i'\n\n\n",
            "text/latex": "\\begin{enumerate*}\n\\item 'a'\n\\item 'c'\n\\item 'e'\n\\item 'g'\n\\item 'i'\n\\end{enumerate*}\n",
            "text/plain": [
              "[1] \"a\" \"c\" \"e\" \"g\" \"i\""
            ]
          },
          "metadata": {}
        },
        {
          "output_type": "display_data",
          "data": {
            "text/html": [
              "<style>\n",
              ".list-inline {list-style: none; margin:0; padding: 0}\n",
              ".list-inline>li {display: inline-block}\n",
              ".list-inline>li:not(:last-child)::after {content: \"\\00b7\"; padding: 0 .5ex}\n",
              "</style>\n",
              "<ol class=list-inline><li>'b'</li><li>'d'</li><li>'f'</li><li>'h'</li><li>'j'</li></ol>\n"
            ],
            "text/markdown": "1. 'b'\n2. 'd'\n3. 'f'\n4. 'h'\n5. 'j'\n\n\n",
            "text/latex": "\\begin{enumerate*}\n\\item 'b'\n\\item 'd'\n\\item 'f'\n\\item 'h'\n\\item 'j'\n\\end{enumerate*}\n",
            "text/plain": [
              "[1] \"b\" \"d\" \"f\" \"h\" \"j\""
            ]
          },
          "metadata": {}
        },
        {
          "output_type": "display_data",
          "data": {
            "text/html": [
              "<style>\n",
              ".list-inline {list-style: none; margin:0; padding: 0}\n",
              ".list-inline>li {display: inline-block}\n",
              ".list-inline>li:not(:last-child)::after {content: \"\\00b7\"; padding: 0 .5ex}\n",
              "</style>\n",
              "<ol class=list-inline><li>FALSE</li><li>FALSE</li><li>FALSE</li><li>TRUE</li><li>TRUE</li><li>TRUE</li><li>TRUE</li><li>TRUE</li><li>TRUE</li><li>TRUE</li></ol>\n"
            ],
            "text/markdown": "1. FALSE\n2. FALSE\n3. FALSE\n4. TRUE\n5. TRUE\n6. TRUE\n7. TRUE\n8. TRUE\n9. TRUE\n10. TRUE\n\n\n",
            "text/latex": "\\begin{enumerate*}\n\\item FALSE\n\\item FALSE\n\\item FALSE\n\\item TRUE\n\\item TRUE\n\\item TRUE\n\\item TRUE\n\\item TRUE\n\\item TRUE\n\\item TRUE\n\\end{enumerate*}\n",
            "text/plain": [
              " [1] FALSE FALSE FALSE  TRUE  TRUE  TRUE  TRUE  TRUE  TRUE  TRUE"
            ]
          },
          "metadata": {}
        },
        {
          "output_type": "display_data",
          "data": {
            "text/html": [
              "<style>\n",
              ".list-inline {list-style: none; margin:0; padding: 0}\n",
              ".list-inline>li {display: inline-block}\n",
              ".list-inline>li:not(:last-child)::after {content: \"\\00b7\"; padding: 0 .5ex}\n",
              "</style>\n",
              "<ol class=list-inline><li>'d'</li><li>'e'</li><li>'f'</li><li>'g'</li><li>'h'</li><li>'i'</li><li>'j'</li></ol>\n"
            ],
            "text/markdown": "1. 'd'\n2. 'e'\n3. 'f'\n4. 'g'\n5. 'h'\n6. 'i'\n7. 'j'\n\n\n",
            "text/latex": "\\begin{enumerate*}\n\\item 'd'\n\\item 'e'\n\\item 'f'\n\\item 'g'\n\\item 'h'\n\\item 'i'\n\\item 'j'\n\\end{enumerate*}\n",
            "text/plain": [
              "[1] \"d\" \"e\" \"f\" \"g\" \"h\" \"i\" \"j\""
            ]
          },
          "metadata": {}
        }
      ]
    },
    {
      "cell_type": "code",
      "source": [
        "a <- 1:10\n",
        "a\n",
        "\n",
        "a[1] <- 99\n",
        "a\n",
        "\n",
        "b <- 1:10\n",
        "b[c(2,4)] <- -99 # recycling\n",
        "b\n",
        "\n",
        "c <- 1:10\n",
        "c[c(2,4)] <- c(-99, 99)\n",
        "c\n",
        "\n",
        "d <- 1:10\n",
        "d[TRUE] <- 1 # recycling\n",
        "d\n",
        "\n",
        "e <- 1:10\n",
        "e <- 1 # no recycling\n",
        "e"
      ],
      "metadata": {
        "colab": {
          "base_uri": "https://localhost:8080/",
          "height": 121
        },
        "id": "UGEMBuRLbM5n",
        "outputId": "85fff06c-9364-4663-c31e-50285ea72eec"
      },
      "execution_count": null,
      "outputs": [
        {
          "output_type": "display_data",
          "data": {
            "text/html": [
              "<style>\n",
              ".list-inline {list-style: none; margin:0; padding: 0}\n",
              ".list-inline>li {display: inline-block}\n",
              ".list-inline>li:not(:last-child)::after {content: \"\\00b7\"; padding: 0 .5ex}\n",
              "</style>\n",
              "<ol class=list-inline><li>1</li><li>2</li><li>3</li><li>4</li><li>5</li><li>6</li><li>7</li><li>8</li><li>9</li><li>10</li></ol>\n"
            ],
            "text/markdown": "1. 1\n2. 2\n3. 3\n4. 4\n5. 5\n6. 6\n7. 7\n8. 8\n9. 9\n10. 10\n\n\n",
            "text/latex": "\\begin{enumerate*}\n\\item 1\n\\item 2\n\\item 3\n\\item 4\n\\item 5\n\\item 6\n\\item 7\n\\item 8\n\\item 9\n\\item 10\n\\end{enumerate*}\n",
            "text/plain": [
              " [1]  1  2  3  4  5  6  7  8  9 10"
            ]
          },
          "metadata": {}
        },
        {
          "output_type": "display_data",
          "data": {
            "text/html": [
              "<style>\n",
              ".list-inline {list-style: none; margin:0; padding: 0}\n",
              ".list-inline>li {display: inline-block}\n",
              ".list-inline>li:not(:last-child)::after {content: \"\\00b7\"; padding: 0 .5ex}\n",
              "</style>\n",
              "<ol class=list-inline><li>99</li><li>2</li><li>3</li><li>4</li><li>5</li><li>6</li><li>7</li><li>8</li><li>9</li><li>10</li></ol>\n"
            ],
            "text/markdown": "1. 99\n2. 2\n3. 3\n4. 4\n5. 5\n6. 6\n7. 7\n8. 8\n9. 9\n10. 10\n\n\n",
            "text/latex": "\\begin{enumerate*}\n\\item 99\n\\item 2\n\\item 3\n\\item 4\n\\item 5\n\\item 6\n\\item 7\n\\item 8\n\\item 9\n\\item 10\n\\end{enumerate*}\n",
            "text/plain": [
              " [1] 99  2  3  4  5  6  7  8  9 10"
            ]
          },
          "metadata": {}
        },
        {
          "output_type": "display_data",
          "data": {
            "text/html": [
              "<style>\n",
              ".list-inline {list-style: none; margin:0; padding: 0}\n",
              ".list-inline>li {display: inline-block}\n",
              ".list-inline>li:not(:last-child)::after {content: \"\\00b7\"; padding: 0 .5ex}\n",
              "</style>\n",
              "<ol class=list-inline><li>1</li><li>-99</li><li>3</li><li>-99</li><li>5</li><li>6</li><li>7</li><li>8</li><li>9</li><li>10</li></ol>\n"
            ],
            "text/markdown": "1. 1\n2. -99\n3. 3\n4. -99\n5. 5\n6. 6\n7. 7\n8. 8\n9. 9\n10. 10\n\n\n",
            "text/latex": "\\begin{enumerate*}\n\\item 1\n\\item -99\n\\item 3\n\\item -99\n\\item 5\n\\item 6\n\\item 7\n\\item 8\n\\item 9\n\\item 10\n\\end{enumerate*}\n",
            "text/plain": [
              " [1]   1 -99   3 -99   5   6   7   8   9  10"
            ]
          },
          "metadata": {}
        },
        {
          "output_type": "display_data",
          "data": {
            "text/html": [
              "<style>\n",
              ".list-inline {list-style: none; margin:0; padding: 0}\n",
              ".list-inline>li {display: inline-block}\n",
              ".list-inline>li:not(:last-child)::after {content: \"\\00b7\"; padding: 0 .5ex}\n",
              "</style>\n",
              "<ol class=list-inline><li>1</li><li>-99</li><li>3</li><li>99</li><li>5</li><li>6</li><li>7</li><li>8</li><li>9</li><li>10</li></ol>\n"
            ],
            "text/markdown": "1. 1\n2. -99\n3. 3\n4. 99\n5. 5\n6. 6\n7. 7\n8. 8\n9. 9\n10. 10\n\n\n",
            "text/latex": "\\begin{enumerate*}\n\\item 1\n\\item -99\n\\item 3\n\\item 99\n\\item 5\n\\item 6\n\\item 7\n\\item 8\n\\item 9\n\\item 10\n\\end{enumerate*}\n",
            "text/plain": [
              " [1]   1 -99   3  99   5   6   7   8   9  10"
            ]
          },
          "metadata": {}
        },
        {
          "output_type": "display_data",
          "data": {
            "text/html": [
              "<style>\n",
              ".list-inline {list-style: none; margin:0; padding: 0}\n",
              ".list-inline>li {display: inline-block}\n",
              ".list-inline>li:not(:last-child)::after {content: \"\\00b7\"; padding: 0 .5ex}\n",
              "</style>\n",
              "<ol class=list-inline><li>1</li><li>1</li><li>1</li><li>1</li><li>1</li><li>1</li><li>1</li><li>1</li><li>1</li><li>1</li></ol>\n"
            ],
            "text/markdown": "1. 1\n2. 1\n3. 1\n4. 1\n5. 1\n6. 1\n7. 1\n8. 1\n9. 1\n10. 1\n\n\n",
            "text/latex": "\\begin{enumerate*}\n\\item 1\n\\item 1\n\\item 1\n\\item 1\n\\item 1\n\\item 1\n\\item 1\n\\item 1\n\\item 1\n\\item 1\n\\end{enumerate*}\n",
            "text/plain": [
              " [1] 1 1 1 1 1 1 1 1 1 1"
            ]
          },
          "metadata": {}
        },
        {
          "output_type": "display_data",
          "data": {
            "text/html": [
              "1"
            ],
            "text/markdown": "1",
            "text/latex": "1",
            "text/plain": [
              "[1] 1"
            ]
          },
          "metadata": {}
        }
      ]
    },
    {
      "cell_type": "code",
      "source": [
        "a <- letters[1:10]\n",
        "a[1:2] <- a[2:1]\n",
        "a"
      ],
      "metadata": {
        "colab": {
          "base_uri": "https://localhost:8080/",
          "height": 34
        },
        "id": "NhHXFm1lbTy0",
        "outputId": "8b1c97d0-a1cb-4f7b-afd7-9794bbddad62"
      },
      "execution_count": null,
      "outputs": [
        {
          "output_type": "display_data",
          "data": {
            "text/html": [
              "<style>\n",
              ".list-inline {list-style: none; margin:0; padding: 0}\n",
              ".list-inline>li {display: inline-block}\n",
              ".list-inline>li:not(:last-child)::after {content: \"\\00b7\"; padding: 0 .5ex}\n",
              "</style>\n",
              "<ol class=list-inline><li>'b'</li><li>'a'</li><li>'c'</li><li>'d'</li><li>'e'</li><li>'f'</li><li>'g'</li><li>'h'</li><li>'i'</li><li>'j'</li></ol>\n"
            ],
            "text/markdown": "1. 'b'\n2. 'a'\n3. 'c'\n4. 'd'\n5. 'e'\n6. 'f'\n7. 'g'\n8. 'h'\n9. 'i'\n10. 'j'\n\n\n",
            "text/latex": "\\begin{enumerate*}\n\\item 'b'\n\\item 'a'\n\\item 'c'\n\\item 'd'\n\\item 'e'\n\\item 'f'\n\\item 'g'\n\\item 'h'\n\\item 'i'\n\\item 'j'\n\\end{enumerate*}\n",
            "text/plain": [
              " [1] \"b\" \"a\" \"c\" \"d\" \"e\" \"f\" \"g\" \"h\" \"i\" \"j\""
            ]
          },
          "metadata": {}
        }
      ]
    },
    {
      "cell_type": "code",
      "source": [
        "a <- letters[1:10]\n",
        "a[5:1] <- a[c(TRUE,FALSE)]\n",
        "a"
      ],
      "metadata": {
        "colab": {
          "base_uri": "https://localhost:8080/",
          "height": 34
        },
        "id": "zP1gso6JbVad",
        "outputId": "dee14a3c-b733-4195-b000-3b1104f77ff3"
      },
      "execution_count": null,
      "outputs": [
        {
          "output_type": "display_data",
          "data": {
            "text/html": [
              "<style>\n",
              ".list-inline {list-style: none; margin:0; padding: 0}\n",
              ".list-inline>li {display: inline-block}\n",
              ".list-inline>li:not(:last-child)::after {content: \"\\00b7\"; padding: 0 .5ex}\n",
              "</style>\n",
              "<ol class=list-inline><li>'i'</li><li>'g'</li><li>'e'</li><li>'c'</li><li>'a'</li><li>'f'</li><li>'g'</li><li>'h'</li><li>'i'</li><li>'j'</li></ol>\n"
            ],
            "text/markdown": "1. 'i'\n2. 'g'\n3. 'e'\n4. 'c'\n5. 'a'\n6. 'f'\n7. 'g'\n8. 'h'\n9. 'i'\n10. 'j'\n\n\n",
            "text/latex": "\\begin{enumerate*}\n\\item 'i'\n\\item 'g'\n\\item 'e'\n\\item 'c'\n\\item 'a'\n\\item 'f'\n\\item 'g'\n\\item 'h'\n\\item 'i'\n\\item 'j'\n\\end{enumerate*}\n",
            "text/plain": [
              " [1] \"i\" \"g\" \"e\" \"c\" \"a\" \"f\" \"g\" \"h\" \"i\" \"j\""
            ]
          },
          "metadata": {}
        }
      ]
    },
    {
      "cell_type": "code",
      "source": [
        "b <- LETTERS[1:10]\n",
        "b[1]\n",
        "\n",
        "b[1.1]\n",
        "\n",
        "b[1.9999] # surprise!!\n",
        "\n",
        "b[2]"
      ],
      "metadata": {
        "colab": {
          "base_uri": "https://localhost:8080/",
          "height": 86
        },
        "id": "gtbPRykYbWhq",
        "outputId": "04db2166-4079-448c-a16e-4c8276721e6e"
      },
      "execution_count": null,
      "outputs": [
        {
          "output_type": "display_data",
          "data": {
            "text/html": [
              "'A'"
            ],
            "text/markdown": "'A'",
            "text/latex": "'A'",
            "text/plain": [
              "[1] \"A\""
            ]
          },
          "metadata": {}
        },
        {
          "output_type": "display_data",
          "data": {
            "text/html": [
              "'A'"
            ],
            "text/markdown": "'A'",
            "text/latex": "'A'",
            "text/plain": [
              "[1] \"A\""
            ]
          },
          "metadata": {}
        },
        {
          "output_type": "display_data",
          "data": {
            "text/html": [
              "'A'"
            ],
            "text/markdown": "'A'",
            "text/latex": "'A'",
            "text/plain": [
              "[1] \"A\""
            ]
          },
          "metadata": {}
        },
        {
          "output_type": "display_data",
          "data": {
            "text/html": [
              "'B'"
            ],
            "text/markdown": "'B'",
            "text/latex": "'B'",
            "text/plain": [
              "[1] \"B\""
            ]
          },
          "metadata": {}
        }
      ]
    },
    {
      "cell_type": "code",
      "source": [
        "b <- LETTERS[1:10]\n",
        "b[-1]\n",
        "\n",
        "b[-1.1]\n",
        "\n",
        "b[-1.9999]\n",
        "\n",
        "b[-2]"
      ],
      "metadata": {
        "colab": {
          "base_uri": "https://localhost:8080/",
          "height": 86
        },
        "id": "2RRg62tGbYmp",
        "outputId": "2e15493d-4b85-40db-d4ae-dc1ef0fe8551"
      },
      "execution_count": null,
      "outputs": [
        {
          "output_type": "display_data",
          "data": {
            "text/html": [
              "<style>\n",
              ".list-inline {list-style: none; margin:0; padding: 0}\n",
              ".list-inline>li {display: inline-block}\n",
              ".list-inline>li:not(:last-child)::after {content: \"\\00b7\"; padding: 0 .5ex}\n",
              "</style>\n",
              "<ol class=list-inline><li>'B'</li><li>'C'</li><li>'D'</li><li>'E'</li><li>'F'</li><li>'G'</li><li>'H'</li><li>'I'</li><li>'J'</li></ol>\n"
            ],
            "text/markdown": "1. 'B'\n2. 'C'\n3. 'D'\n4. 'E'\n5. 'F'\n6. 'G'\n7. 'H'\n8. 'I'\n9. 'J'\n\n\n",
            "text/latex": "\\begin{enumerate*}\n\\item 'B'\n\\item 'C'\n\\item 'D'\n\\item 'E'\n\\item 'F'\n\\item 'G'\n\\item 'H'\n\\item 'I'\n\\item 'J'\n\\end{enumerate*}\n",
            "text/plain": [
              "[1] \"B\" \"C\" \"D\" \"E\" \"F\" \"G\" \"H\" \"I\" \"J\""
            ]
          },
          "metadata": {}
        },
        {
          "output_type": "display_data",
          "data": {
            "text/html": [
              "<style>\n",
              ".list-inline {list-style: none; margin:0; padding: 0}\n",
              ".list-inline>li {display: inline-block}\n",
              ".list-inline>li:not(:last-child)::after {content: \"\\00b7\"; padding: 0 .5ex}\n",
              "</style>\n",
              "<ol class=list-inline><li>'B'</li><li>'C'</li><li>'D'</li><li>'E'</li><li>'F'</li><li>'G'</li><li>'H'</li><li>'I'</li><li>'J'</li></ol>\n"
            ],
            "text/markdown": "1. 'B'\n2. 'C'\n3. 'D'\n4. 'E'\n5. 'F'\n6. 'G'\n7. 'H'\n8. 'I'\n9. 'J'\n\n\n",
            "text/latex": "\\begin{enumerate*}\n\\item 'B'\n\\item 'C'\n\\item 'D'\n\\item 'E'\n\\item 'F'\n\\item 'G'\n\\item 'H'\n\\item 'I'\n\\item 'J'\n\\end{enumerate*}\n",
            "text/plain": [
              "[1] \"B\" \"C\" \"D\" \"E\" \"F\" \"G\" \"H\" \"I\" \"J\""
            ]
          },
          "metadata": {}
        },
        {
          "output_type": "display_data",
          "data": {
            "text/html": [
              "<style>\n",
              ".list-inline {list-style: none; margin:0; padding: 0}\n",
              ".list-inline>li {display: inline-block}\n",
              ".list-inline>li:not(:last-child)::after {content: \"\\00b7\"; padding: 0 .5ex}\n",
              "</style>\n",
              "<ol class=list-inline><li>'B'</li><li>'C'</li><li>'D'</li><li>'E'</li><li>'F'</li><li>'G'</li><li>'H'</li><li>'I'</li><li>'J'</li></ol>\n"
            ],
            "text/markdown": "1. 'B'\n2. 'C'\n3. 'D'\n4. 'E'\n5. 'F'\n6. 'G'\n7. 'H'\n8. 'I'\n9. 'J'\n\n\n",
            "text/latex": "\\begin{enumerate*}\n\\item 'B'\n\\item 'C'\n\\item 'D'\n\\item 'E'\n\\item 'F'\n\\item 'G'\n\\item 'H'\n\\item 'I'\n\\item 'J'\n\\end{enumerate*}\n",
            "text/plain": [
              "[1] \"B\" \"C\" \"D\" \"E\" \"F\" \"G\" \"H\" \"I\" \"J\""
            ]
          },
          "metadata": {}
        },
        {
          "output_type": "display_data",
          "data": {
            "text/html": [
              "<style>\n",
              ".list-inline {list-style: none; margin:0; padding: 0}\n",
              ".list-inline>li {display: inline-block}\n",
              ".list-inline>li:not(:last-child)::after {content: \"\\00b7\"; padding: 0 .5ex}\n",
              "</style>\n",
              "<ol class=list-inline><li>'A'</li><li>'C'</li><li>'D'</li><li>'E'</li><li>'F'</li><li>'G'</li><li>'H'</li><li>'I'</li><li>'J'</li></ol>\n"
            ],
            "text/markdown": "1. 'A'\n2. 'C'\n3. 'D'\n4. 'E'\n5. 'F'\n6. 'G'\n7. 'H'\n8. 'I'\n9. 'J'\n\n\n",
            "text/latex": "\\begin{enumerate*}\n\\item 'A'\n\\item 'C'\n\\item 'D'\n\\item 'E'\n\\item 'F'\n\\item 'G'\n\\item 'H'\n\\item 'I'\n\\item 'J'\n\\end{enumerate*}\n",
            "text/plain": [
              "[1] \"A\" \"C\" \"D\" \"E\" \"F\" \"G\" \"H\" \"I\" \"J\""
            ]
          },
          "metadata": {}
        }
      ]
    },
    {
      "cell_type": "code",
      "source": [
        "my.vector <- c(10, 4, 22, 1, 4)\n",
        "sort(my.vector)\n",
        "\n",
        "sort(my.vector, decreasing = TRUE)"
      ],
      "metadata": {
        "colab": {
          "base_uri": "https://localhost:8080/",
          "height": 52
        },
        "id": "X0h26OTnbjia",
        "outputId": "3570d3b0-d886-472e-907a-afda909a0e3d"
      },
      "execution_count": null,
      "outputs": [
        {
          "output_type": "display_data",
          "data": {
            "text/html": [
              "<style>\n",
              ".list-inline {list-style: none; margin:0; padding: 0}\n",
              ".list-inline>li {display: inline-block}\n",
              ".list-inline>li:not(:last-child)::after {content: \"\\00b7\"; padding: 0 .5ex}\n",
              "</style>\n",
              "<ol class=list-inline><li>1</li><li>4</li><li>4</li><li>10</li><li>22</li></ol>\n"
            ],
            "text/markdown": "1. 1\n2. 4\n3. 4\n4. 10\n5. 22\n\n\n",
            "text/latex": "\\begin{enumerate*}\n\\item 1\n\\item 4\n\\item 4\n\\item 10\n\\item 22\n\\end{enumerate*}\n",
            "text/plain": [
              "[1]  1  4  4 10 22"
            ]
          },
          "metadata": {}
        },
        {
          "output_type": "display_data",
          "data": {
            "text/html": [
              "<style>\n",
              ".list-inline {list-style: none; margin:0; padding: 0}\n",
              ".list-inline>li {display: inline-block}\n",
              ".list-inline>li:not(:last-child)::after {content: \"\\00b7\"; padding: 0 .5ex}\n",
              "</style>\n",
              "<ol class=list-inline><li>22</li><li>10</li><li>4</li><li>4</li><li>1</li></ol>\n"
            ],
            "text/markdown": "1. 22\n2. 10\n3. 4\n4. 4\n5. 1\n\n\n",
            "text/latex": "\\begin{enumerate*}\n\\item 22\n\\item 10\n\\item 4\n\\item 4\n\\item 1\n\\end{enumerate*}\n",
            "text/plain": [
              "[1] 22 10  4  4  1"
            ]
          },
          "metadata": {}
        }
      ]
    },
    {
      "cell_type": "code",
      "source": [
        "order(my.vector)"
      ],
      "metadata": {
        "colab": {
          "base_uri": "https://localhost:8080/",
          "height": 34
        },
        "id": "EUIRXKNPblJi",
        "outputId": "5aa99bad-1682-4fe7-8799-ba31f3cdaf7b"
      },
      "execution_count": null,
      "outputs": [
        {
          "output_type": "display_data",
          "data": {
            "text/html": [
              "<style>\n",
              ".list-inline {list-style: none; margin:0; padding: 0}\n",
              ".list-inline>li {display: inline-block}\n",
              ".list-inline>li:not(:last-child)::after {content: \"\\00b7\"; padding: 0 .5ex}\n",
              "</style>\n",
              "<ol class=list-inline><li>4</li><li>2</li><li>5</li><li>1</li><li>3</li></ol>\n"
            ],
            "text/markdown": "1. 4\n2. 2\n3. 5\n4. 1\n5. 3\n\n\n",
            "text/latex": "\\begin{enumerate*}\n\\item 4\n\\item 2\n\\item 5\n\\item 1\n\\item 3\n\\end{enumerate*}\n",
            "text/plain": [
              "[1] 4 2 5 1 3"
            ]
          },
          "metadata": {}
        }
      ]
    },
    {
      "cell_type": "code",
      "source": [
        "my.vector[order(my.vector)]\n",
        "\n",
        "another.vector <- c(\"ab\", \"aa\", \"c\", \"zy\", \"e\")\n",
        "another.vector[order(my.vector)]"
      ],
      "metadata": {
        "colab": {
          "base_uri": "https://localhost:8080/",
          "height": 52
        },
        "id": "PBLjef1_bmRJ",
        "outputId": "4a6b70c0-f456-4386-80ee-349b76b87ca8"
      },
      "execution_count": null,
      "outputs": [
        {
          "output_type": "display_data",
          "data": {
            "text/html": [
              "<style>\n",
              ".list-inline {list-style: none; margin:0; padding: 0}\n",
              ".list-inline>li {display: inline-block}\n",
              ".list-inline>li:not(:last-child)::after {content: \"\\00b7\"; padding: 0 .5ex}\n",
              "</style>\n",
              "<ol class=list-inline><li>1</li><li>4</li><li>4</li><li>10</li><li>22</li></ol>\n"
            ],
            "text/markdown": "1. 1\n2. 4\n3. 4\n4. 10\n5. 22\n\n\n",
            "text/latex": "\\begin{enumerate*}\n\\item 1\n\\item 4\n\\item 4\n\\item 10\n\\item 22\n\\end{enumerate*}\n",
            "text/plain": [
              "[1]  1  4  4 10 22"
            ]
          },
          "metadata": {}
        },
        {
          "output_type": "display_data",
          "data": {
            "text/html": [
              "<style>\n",
              ".list-inline {list-style: none; margin:0; padding: 0}\n",
              ".list-inline>li {display: inline-block}\n",
              ".list-inline>li:not(:last-child)::after {content: \"\\00b7\"; padding: 0 .5ex}\n",
              "</style>\n",
              "<ol class=list-inline><li>'zy'</li><li>'aa'</li><li>'e'</li><li>'ab'</li><li>'c'</li></ol>\n"
            ],
            "text/markdown": "1. 'zy'\n2. 'aa'\n3. 'e'\n4. 'ab'\n5. 'c'\n\n\n",
            "text/latex": "\\begin{enumerate*}\n\\item 'zy'\n\\item 'aa'\n\\item 'e'\n\\item 'ab'\n\\item 'c'\n\\end{enumerate*}\n",
            "text/plain": [
              "[1] \"zy\" \"aa\" \"e\"  \"ab\" \"c\" "
            ]
          },
          "metadata": {}
        }
      ]
    },
    {
      "cell_type": "code",
      "source": [
        "my.letters <- letters[c(1,5,10,3,1,4,21,1,10)]\n",
        "my.letters\n",
        "\n",
        "sort(my.letters)\n",
        "\n",
        "rle(sort(my.letters))"
      ],
      "metadata": {
        "colab": {
          "base_uri": "https://localhost:8080/",
          "height": 104
        },
        "id": "Dbz8tB8Lbn0V",
        "outputId": "c6a8b504-11ae-4b1f-b1e9-814371ee4b26"
      },
      "execution_count": null,
      "outputs": [
        {
          "output_type": "display_data",
          "data": {
            "text/html": [
              "<style>\n",
              ".list-inline {list-style: none; margin:0; padding: 0}\n",
              ".list-inline>li {display: inline-block}\n",
              ".list-inline>li:not(:last-child)::after {content: \"\\00b7\"; padding: 0 .5ex}\n",
              "</style>\n",
              "<ol class=list-inline><li>'a'</li><li>'e'</li><li>'j'</li><li>'c'</li><li>'a'</li><li>'d'</li><li>'u'</li><li>'a'</li><li>'j'</li></ol>\n"
            ],
            "text/markdown": "1. 'a'\n2. 'e'\n3. 'j'\n4. 'c'\n5. 'a'\n6. 'd'\n7. 'u'\n8. 'a'\n9. 'j'\n\n\n",
            "text/latex": "\\begin{enumerate*}\n\\item 'a'\n\\item 'e'\n\\item 'j'\n\\item 'c'\n\\item 'a'\n\\item 'd'\n\\item 'u'\n\\item 'a'\n\\item 'j'\n\\end{enumerate*}\n",
            "text/plain": [
              "[1] \"a\" \"e\" \"j\" \"c\" \"a\" \"d\" \"u\" \"a\" \"j\""
            ]
          },
          "metadata": {}
        },
        {
          "output_type": "display_data",
          "data": {
            "text/html": [
              "<style>\n",
              ".list-inline {list-style: none; margin:0; padding: 0}\n",
              ".list-inline>li {display: inline-block}\n",
              ".list-inline>li:not(:last-child)::after {content: \"\\00b7\"; padding: 0 .5ex}\n",
              "</style>\n",
              "<ol class=list-inline><li>'a'</li><li>'a'</li><li>'a'</li><li>'c'</li><li>'d'</li><li>'e'</li><li>'j'</li><li>'j'</li><li>'u'</li></ol>\n"
            ],
            "text/markdown": "1. 'a'\n2. 'a'\n3. 'a'\n4. 'c'\n5. 'd'\n6. 'e'\n7. 'j'\n8. 'j'\n9. 'u'\n\n\n",
            "text/latex": "\\begin{enumerate*}\n\\item 'a'\n\\item 'a'\n\\item 'a'\n\\item 'c'\n\\item 'd'\n\\item 'e'\n\\item 'j'\n\\item 'j'\n\\item 'u'\n\\end{enumerate*}\n",
            "text/plain": [
              "[1] \"a\" \"a\" \"a\" \"c\" \"d\" \"e\" \"j\" \"j\" \"u\""
            ]
          },
          "metadata": {}
        },
        {
          "output_type": "display_data",
          "data": {
            "text/plain": [
              "Run Length Encoding\n",
              "  lengths: int [1:6] 3 1 1 1 2 1\n",
              "  values : chr [1:6] \"a\" \"c\" \"d\" \"e\" \"j\" \"u\""
            ]
          },
          "metadata": {}
        }
      ]
    },
    {
      "cell_type": "markdown",
      "source": [
        "2.11 Matrices and multidimensional arrays"
      ],
      "metadata": {
        "id": "cApIFvpvbv2b"
      }
    },
    {
      "cell_type": "code",
      "source": [
        "matrix(1:15, ncol = 3)\n",
        "\n",
        "matrix(1:15, nrow = 3)\n"
      ],
      "metadata": {
        "colab": {
          "base_uri": "https://localhost:8080/",
          "height": 337
        },
        "id": "HCrXOCQabud_",
        "outputId": "12bb4fb1-3d8d-46a1-a257-5878c7fb2fcf"
      },
      "execution_count": null,
      "outputs": [
        {
          "output_type": "display_data",
          "data": {
            "text/html": [
              "<table class=\"dataframe\">\n",
              "<caption>A matrix: 5 × 3 of type int</caption>\n",
              "<tbody>\n",
              "\t<tr><td>1</td><td> 6</td><td>11</td></tr>\n",
              "\t<tr><td>2</td><td> 7</td><td>12</td></tr>\n",
              "\t<tr><td>3</td><td> 8</td><td>13</td></tr>\n",
              "\t<tr><td>4</td><td> 9</td><td>14</td></tr>\n",
              "\t<tr><td>5</td><td>10</td><td>15</td></tr>\n",
              "</tbody>\n",
              "</table>\n"
            ],
            "text/markdown": "\nA matrix: 5 × 3 of type int\n\n| 1 |  6 | 11 |\n| 2 |  7 | 12 |\n| 3 |  8 | 13 |\n| 4 |  9 | 14 |\n| 5 | 10 | 15 |\n\n",
            "text/latex": "A matrix: 5 × 3 of type int\n\\begin{tabular}{lll}\n\t 1 &  6 & 11\\\\\n\t 2 &  7 & 12\\\\\n\t 3 &  8 & 13\\\\\n\t 4 &  9 & 14\\\\\n\t 5 & 10 & 15\\\\\n\\end{tabular}\n",
            "text/plain": [
              "     [,1] [,2] [,3]\n",
              "[1,] 1     6   11  \n",
              "[2,] 2     7   12  \n",
              "[3,] 3     8   13  \n",
              "[4,] 4     9   14  \n",
              "[5,] 5    10   15  "
            ]
          },
          "metadata": {}
        },
        {
          "output_type": "display_data",
          "data": {
            "text/html": [
              "<table class=\"dataframe\">\n",
              "<caption>A matrix: 3 × 5 of type int</caption>\n",
              "<tbody>\n",
              "\t<tr><td>1</td><td>4</td><td>7</td><td>10</td><td>13</td></tr>\n",
              "\t<tr><td>2</td><td>5</td><td>8</td><td>11</td><td>14</td></tr>\n",
              "\t<tr><td>3</td><td>6</td><td>9</td><td>12</td><td>15</td></tr>\n",
              "</tbody>\n",
              "</table>\n"
            ],
            "text/markdown": "\nA matrix: 3 × 5 of type int\n\n| 1 | 4 | 7 | 10 | 13 |\n| 2 | 5 | 8 | 11 | 14 |\n| 3 | 6 | 9 | 12 | 15 |\n\n",
            "text/latex": "A matrix: 3 × 5 of type int\n\\begin{tabular}{lllll}\n\t 1 & 4 & 7 & 10 & 13\\\\\n\t 2 & 5 & 8 & 11 & 14\\\\\n\t 3 & 6 & 9 & 12 & 15\\\\\n\\end{tabular}\n",
            "text/plain": [
              "     [,1] [,2] [,3] [,4] [,5]\n",
              "[1,] 1    4    7    10   13  \n",
              "[2,] 2    5    8    11   14  \n",
              "[3,] 3    6    9    12   15  "
            ]
          },
          "metadata": {}
        }
      ]
    },
    {
      "cell_type": "code",
      "source": [
        "matrix(1:15)"
      ],
      "metadata": {
        "colab": {
          "base_uri": "https://localhost:8080/",
          "height": 592
        },
        "id": "AGUXDL1-bxRC",
        "outputId": "86ae5a07-24b5-406c-c8a8-c31af55df069"
      },
      "execution_count": null,
      "outputs": [
        {
          "output_type": "display_data",
          "data": {
            "text/html": [
              "<table class=\"dataframe\">\n",
              "<caption>A matrix: 15 × 1 of type int</caption>\n",
              "<tbody>\n",
              "\t<tr><td> 1</td></tr>\n",
              "\t<tr><td> 2</td></tr>\n",
              "\t<tr><td> 3</td></tr>\n",
              "\t<tr><td> 4</td></tr>\n",
              "\t<tr><td> 5</td></tr>\n",
              "\t<tr><td> 6</td></tr>\n",
              "\t<tr><td> 7</td></tr>\n",
              "\t<tr><td> 8</td></tr>\n",
              "\t<tr><td> 9</td></tr>\n",
              "\t<tr><td>10</td></tr>\n",
              "\t<tr><td>11</td></tr>\n",
              "\t<tr><td>12</td></tr>\n",
              "\t<tr><td>13</td></tr>\n",
              "\t<tr><td>14</td></tr>\n",
              "\t<tr><td>15</td></tr>\n",
              "</tbody>\n",
              "</table>\n"
            ],
            "text/markdown": "\nA matrix: 15 × 1 of type int\n\n|  1 |\n|  2 |\n|  3 |\n|  4 |\n|  5 |\n|  6 |\n|  7 |\n|  8 |\n|  9 |\n| 10 |\n| 11 |\n| 12 |\n| 13 |\n| 14 |\n| 15 |\n\n",
            "text/latex": "A matrix: 15 × 1 of type int\n\\begin{tabular}{l}\n\t  1\\\\\n\t  2\\\\\n\t  3\\\\\n\t  4\\\\\n\t  5\\\\\n\t  6\\\\\n\t  7\\\\\n\t  8\\\\\n\t  9\\\\\n\t 10\\\\\n\t 11\\\\\n\t 12\\\\\n\t 13\\\\\n\t 14\\\\\n\t 15\\\\\n\\end{tabular}\n",
            "text/plain": [
              "      [,1]\n",
              " [1,]  1  \n",
              " [2,]  2  \n",
              " [3,]  3  \n",
              " [4,]  4  \n",
              " [5,]  5  \n",
              " [6,]  6  \n",
              " [7,]  7  \n",
              " [8,]  8  \n",
              " [9,]  9  \n",
              "[10,] 10  \n",
              "[11,] 11  \n",
              "[12,] 12  \n",
              "[13,] 13  \n",
              "[14,] 14  \n",
              "[15,] 15  "
            ]
          },
          "metadata": {}
        }
      ]
    },
    {
      "cell_type": "code",
      "source": [
        "matrix(1:15, ncol = 2)"
      ],
      "metadata": {
        "colab": {
          "base_uri": "https://localhost:8080/",
          "height": 372
        },
        "id": "GgoCtg6Ib5-p",
        "outputId": "5ce11a4a-759b-40e1-f5a5-943b0f438a88"
      },
      "execution_count": null,
      "outputs": [
        {
          "output_type": "stream",
          "name": "stderr",
          "text": [
            "Warning message in matrix(1:15, ncol = 2):\n",
            "“data length [15] is not a sub-multiple or multiple of the number of rows [8]”\n"
          ]
        },
        {
          "output_type": "display_data",
          "data": {
            "text/html": [
              "<table class=\"dataframe\">\n",
              "<caption>A matrix: 8 × 2 of type int</caption>\n",
              "<tbody>\n",
              "\t<tr><td>1</td><td> 9</td></tr>\n",
              "\t<tr><td>2</td><td>10</td></tr>\n",
              "\t<tr><td>3</td><td>11</td></tr>\n",
              "\t<tr><td>4</td><td>12</td></tr>\n",
              "\t<tr><td>5</td><td>13</td></tr>\n",
              "\t<tr><td>6</td><td>14</td></tr>\n",
              "\t<tr><td>7</td><td>15</td></tr>\n",
              "\t<tr><td>8</td><td> 1</td></tr>\n",
              "</tbody>\n",
              "</table>\n"
            ],
            "text/markdown": "\nA matrix: 8 × 2 of type int\n\n| 1 |  9 |\n| 2 | 10 |\n| 3 | 11 |\n| 4 | 12 |\n| 5 | 13 |\n| 6 | 14 |\n| 7 | 15 |\n| 8 |  1 |\n\n",
            "text/latex": "A matrix: 8 × 2 of type int\n\\begin{tabular}{ll}\n\t 1 &  9\\\\\n\t 2 & 10\\\\\n\t 3 & 11\\\\\n\t 4 & 12\\\\\n\t 5 & 13\\\\\n\t 6 & 14\\\\\n\t 7 & 15\\\\\n\t 8 &  1\\\\\n\\end{tabular}\n",
            "text/plain": [
              "     [,1] [,2]\n",
              "[1,] 1     9  \n",
              "[2,] 2    10  \n",
              "[3,] 3    11  \n",
              "[4,] 4    12  \n",
              "[5,] 5    13  \n",
              "[6,] 6    14  \n",
              "[7,] 7    15  \n",
              "[8,] 8     1  "
            ]
          },
          "metadata": {}
        }
      ]
    },
    {
      "cell_type": "code",
      "source": [
        "A <- matrix(1:20, ncol = 4)\n",
        "A\n",
        "A[1, 1]"
      ],
      "metadata": {
        "colab": {
          "base_uri": "https://localhost:8080/",
          "height": 226
        },
        "id": "NKQy9XLYb7Ly",
        "outputId": "bd50012c-dec1-4c71-e828-80e0b4a8070a"
      },
      "execution_count": null,
      "outputs": [
        {
          "output_type": "display_data",
          "data": {
            "text/html": [
              "<table class=\"dataframe\">\n",
              "<caption>A matrix: 5 × 4 of type int</caption>\n",
              "<tbody>\n",
              "\t<tr><td>1</td><td> 6</td><td>11</td><td>16</td></tr>\n",
              "\t<tr><td>2</td><td> 7</td><td>12</td><td>17</td></tr>\n",
              "\t<tr><td>3</td><td> 8</td><td>13</td><td>18</td></tr>\n",
              "\t<tr><td>4</td><td> 9</td><td>14</td><td>19</td></tr>\n",
              "\t<tr><td>5</td><td>10</td><td>15</td><td>20</td></tr>\n",
              "</tbody>\n",
              "</table>\n"
            ],
            "text/markdown": "\nA matrix: 5 × 4 of type int\n\n| 1 |  6 | 11 | 16 |\n| 2 |  7 | 12 | 17 |\n| 3 |  8 | 13 | 18 |\n| 4 |  9 | 14 | 19 |\n| 5 | 10 | 15 | 20 |\n\n",
            "text/latex": "A matrix: 5 × 4 of type int\n\\begin{tabular}{llll}\n\t 1 &  6 & 11 & 16\\\\\n\t 2 &  7 & 12 & 17\\\\\n\t 3 &  8 & 13 & 18\\\\\n\t 4 &  9 & 14 & 19\\\\\n\t 5 & 10 & 15 & 20\\\\\n\\end{tabular}\n",
            "text/plain": [
              "     [,1] [,2] [,3] [,4]\n",
              "[1,] 1     6   11   16  \n",
              "[2,] 2     7   12   17  \n",
              "[3,] 3     8   13   18  \n",
              "[4,] 4     9   14   19  \n",
              "[5,] 5    10   15   20  "
            ]
          },
          "metadata": {}
        },
        {
          "output_type": "display_data",
          "data": {
            "text/html": [
              "1"
            ],
            "text/markdown": "1",
            "text/latex": "1",
            "text/plain": [
              "[1] 1"
            ]
          },
          "metadata": {}
        }
      ]
    },
    {
      "cell_type": "code",
      "source": [
        "A[1, ]\n",
        "\n",
        "A[ , 1]\n",
        "\n",
        "A[2:3, c(1,3)]\n",
        "\n",
        "A[3, 4] <- 99\n",
        "A\n",
        "\n",
        "A[4:3, 2:1] <- A[3:4, 1:2]\n",
        "A"
      ],
      "metadata": {
        "colab": {
          "base_uri": "https://localhost:8080/",
          "height": 567
        },
        "id": "n2OltzA8b8wJ",
        "outputId": "8a7bbed4-7204-4b33-9ded-95c3e58538c3"
      },
      "execution_count": null,
      "outputs": [
        {
          "output_type": "display_data",
          "data": {
            "text/html": [
              "<style>\n",
              ".list-inline {list-style: none; margin:0; padding: 0}\n",
              ".list-inline>li {display: inline-block}\n",
              ".list-inline>li:not(:last-child)::after {content: \"\\00b7\"; padding: 0 .5ex}\n",
              "</style>\n",
              "<ol class=list-inline><li>1</li><li>6</li><li>11</li><li>16</li></ol>\n"
            ],
            "text/markdown": "1. 1\n2. 6\n3. 11\n4. 16\n\n\n",
            "text/latex": "\\begin{enumerate*}\n\\item 1\n\\item 6\n\\item 11\n\\item 16\n\\end{enumerate*}\n",
            "text/plain": [
              "[1]  1  6 11 16"
            ]
          },
          "metadata": {}
        },
        {
          "output_type": "display_data",
          "data": {
            "text/html": [
              "<style>\n",
              ".list-inline {list-style: none; margin:0; padding: 0}\n",
              ".list-inline>li {display: inline-block}\n",
              ".list-inline>li:not(:last-child)::after {content: \"\\00b7\"; padding: 0 .5ex}\n",
              "</style>\n",
              "<ol class=list-inline><li>1</li><li>2</li><li>3</li><li>4</li><li>5</li></ol>\n"
            ],
            "text/markdown": "1. 1\n2. 2\n3. 3\n4. 4\n5. 5\n\n\n",
            "text/latex": "\\begin{enumerate*}\n\\item 1\n\\item 2\n\\item 3\n\\item 4\n\\item 5\n\\end{enumerate*}\n",
            "text/plain": [
              "[1] 1 2 3 4 5"
            ]
          },
          "metadata": {}
        },
        {
          "output_type": "display_data",
          "data": {
            "text/html": [
              "<table class=\"dataframe\">\n",
              "<caption>A matrix: 2 × 2 of type int</caption>\n",
              "<tbody>\n",
              "\t<tr><td>2</td><td>12</td></tr>\n",
              "\t<tr><td>3</td><td>13</td></tr>\n",
              "</tbody>\n",
              "</table>\n"
            ],
            "text/markdown": "\nA matrix: 2 × 2 of type int\n\n| 2 | 12 |\n| 3 | 13 |\n\n",
            "text/latex": "A matrix: 2 × 2 of type int\n\\begin{tabular}{ll}\n\t 2 & 12\\\\\n\t 3 & 13\\\\\n\\end{tabular}\n",
            "text/plain": [
              "     [,1] [,2]\n",
              "[1,] 2    12  \n",
              "[2,] 3    13  "
            ]
          },
          "metadata": {}
        },
        {
          "output_type": "display_data",
          "data": {
            "text/html": [
              "<table class=\"dataframe\">\n",
              "<caption>A matrix: 5 × 4 of type dbl</caption>\n",
              "<tbody>\n",
              "\t<tr><td>1</td><td> 6</td><td>11</td><td>16</td></tr>\n",
              "\t<tr><td>2</td><td> 7</td><td>12</td><td>17</td></tr>\n",
              "\t<tr><td>3</td><td> 8</td><td>13</td><td>99</td></tr>\n",
              "\t<tr><td>4</td><td> 9</td><td>14</td><td>19</td></tr>\n",
              "\t<tr><td>5</td><td>10</td><td>15</td><td>20</td></tr>\n",
              "</tbody>\n",
              "</table>\n"
            ],
            "text/markdown": "\nA matrix: 5 × 4 of type dbl\n\n| 1 |  6 | 11 | 16 |\n| 2 |  7 | 12 | 17 |\n| 3 |  8 | 13 | 99 |\n| 4 |  9 | 14 | 19 |\n| 5 | 10 | 15 | 20 |\n\n",
            "text/latex": "A matrix: 5 × 4 of type dbl\n\\begin{tabular}{llll}\n\t 1 &  6 & 11 & 16\\\\\n\t 2 &  7 & 12 & 17\\\\\n\t 3 &  8 & 13 & 99\\\\\n\t 4 &  9 & 14 & 19\\\\\n\t 5 & 10 & 15 & 20\\\\\n\\end{tabular}\n",
            "text/plain": [
              "     [,1] [,2] [,3] [,4]\n",
              "[1,] 1     6   11   16  \n",
              "[2,] 2     7   12   17  \n",
              "[3,] 3     8   13   99  \n",
              "[4,] 4     9   14   19  \n",
              "[5,] 5    10   15   20  "
            ]
          },
          "metadata": {}
        },
        {
          "output_type": "display_data",
          "data": {
            "text/html": [
              "<table class=\"dataframe\">\n",
              "<caption>A matrix: 5 × 4 of type dbl</caption>\n",
              "<tbody>\n",
              "\t<tr><td>1</td><td> 6</td><td>11</td><td>16</td></tr>\n",
              "\t<tr><td>2</td><td> 7</td><td>12</td><td>17</td></tr>\n",
              "\t<tr><td>9</td><td> 4</td><td>13</td><td>99</td></tr>\n",
              "\t<tr><td>8</td><td> 3</td><td>14</td><td>19</td></tr>\n",
              "\t<tr><td>5</td><td>10</td><td>15</td><td>20</td></tr>\n",
              "</tbody>\n",
              "</table>\n"
            ],
            "text/markdown": "\nA matrix: 5 × 4 of type dbl\n\n| 1 |  6 | 11 | 16 |\n| 2 |  7 | 12 | 17 |\n| 9 |  4 | 13 | 99 |\n| 8 |  3 | 14 | 19 |\n| 5 | 10 | 15 | 20 |\n\n",
            "text/latex": "A matrix: 5 × 4 of type dbl\n\\begin{tabular}{llll}\n\t 1 &  6 & 11 & 16\\\\\n\t 2 &  7 & 12 & 17\\\\\n\t 9 &  4 & 13 & 99\\\\\n\t 8 &  3 & 14 & 19\\\\\n\t 5 & 10 & 15 & 20\\\\\n\\end{tabular}\n",
            "text/plain": [
              "     [,1] [,2] [,3] [,4]\n",
              "[1,] 1     6   11   16  \n",
              "[2,] 2     7   12   17  \n",
              "[3,] 9     4   13   99  \n",
              "[4,] 8     3   14   19  \n",
              "[5,] 5    10   15   20  "
            ]
          },
          "metadata": {}
        }
      ]
    },
    {
      "cell_type": "code",
      "source": [
        "my.vector <- 1:6\n",
        "dim(my.vector)\n",
        "\n",
        "one.col.matrix <- matrix(1:6, ncol = 1)\n",
        "dim(one.col.matrix)\n",
        "\n",
        "two.col.matrix <- matrix(1:6, ncol = 2)\n",
        "dim(two.col.matrix)\n",
        "\n",
        "one.elem.matrix <- matrix(1, ncol = 1)\n",
        "dim(one.elem.matrix)\n",
        "\n",
        "no.elem.matrix <- matrix(numeric(), ncol = 0)\n",
        "dim(no.elem.matrix)"
      ],
      "metadata": {
        "colab": {
          "base_uri": "https://localhost:8080/",
          "height": 104
        },
        "id": "fZbhD0ilb92W",
        "outputId": "79b19566-4d0f-4ae9-ce39-bfafc067cb44"
      },
      "execution_count": null,
      "outputs": [
        {
          "output_type": "display_data",
          "data": {
            "text/plain": [
              "NULL"
            ]
          },
          "metadata": {}
        },
        {
          "output_type": "display_data",
          "data": {
            "text/html": [
              "<style>\n",
              ".list-inline {list-style: none; margin:0; padding: 0}\n",
              ".list-inline>li {display: inline-block}\n",
              ".list-inline>li:not(:last-child)::after {content: \"\\00b7\"; padding: 0 .5ex}\n",
              "</style>\n",
              "<ol class=list-inline><li>6</li><li>1</li></ol>\n"
            ],
            "text/markdown": "1. 6\n2. 1\n\n\n",
            "text/latex": "\\begin{enumerate*}\n\\item 6\n\\item 1\n\\end{enumerate*}\n",
            "text/plain": [
              "[1] 6 1"
            ]
          },
          "metadata": {}
        },
        {
          "output_type": "display_data",
          "data": {
            "text/html": [
              "<style>\n",
              ".list-inline {list-style: none; margin:0; padding: 0}\n",
              ".list-inline>li {display: inline-block}\n",
              ".list-inline>li:not(:last-child)::after {content: \"\\00b7\"; padding: 0 .5ex}\n",
              "</style>\n",
              "<ol class=list-inline><li>3</li><li>2</li></ol>\n"
            ],
            "text/markdown": "1. 3\n2. 2\n\n\n",
            "text/latex": "\\begin{enumerate*}\n\\item 3\n\\item 2\n\\end{enumerate*}\n",
            "text/plain": [
              "[1] 3 2"
            ]
          },
          "metadata": {}
        },
        {
          "output_type": "display_data",
          "data": {
            "text/html": [
              "<style>\n",
              ".list-inline {list-style: none; margin:0; padding: 0}\n",
              ".list-inline>li {display: inline-block}\n",
              ".list-inline>li:not(:last-child)::after {content: \"\\00b7\"; padding: 0 .5ex}\n",
              "</style>\n",
              "<ol class=list-inline><li>1</li><li>1</li></ol>\n"
            ],
            "text/markdown": "1. 1\n2. 1\n\n\n",
            "text/latex": "\\begin{enumerate*}\n\\item 1\n\\item 1\n\\end{enumerate*}\n",
            "text/plain": [
              "[1] 1 1"
            ]
          },
          "metadata": {}
        },
        {
          "output_type": "display_data",
          "data": {
            "text/html": [
              "<style>\n",
              ".list-inline {list-style: none; margin:0; padding: 0}\n",
              ".list-inline>li {display: inline-block}\n",
              ".list-inline>li:not(:last-child)::after {content: \"\\00b7\"; padding: 0 .5ex}\n",
              "</style>\n",
              "<ol class=list-inline><li>0</li><li>0</li></ol>\n"
            ],
            "text/markdown": "1. 0\n2. 0\n\n\n",
            "text/latex": "\\begin{enumerate*}\n\\item 0\n\\item 0\n\\end{enumerate*}\n",
            "text/plain": [
              "[1] 0 0"
            ]
          },
          "metadata": {}
        }
      ]
    },
    {
      "cell_type": "code",
      "source": [
        "B <- array(1:27, dim = c(3, 3, 3))\n",
        "B\n",
        "\n",
        "B[2, 2, 2]"
      ],
      "metadata": {
        "colab": {
          "base_uri": "https://localhost:8080/",
          "height": 52
        },
        "id": "89j-S2pBcpaL",
        "outputId": "7ed0b625-6b92-4c31-8677-c0af5149a22a"
      },
      "execution_count": null,
      "outputs": [
        {
          "output_type": "display_data",
          "data": {
            "text/html": [
              "<style>\n",
              ".list-inline {list-style: none; margin:0; padding: 0}\n",
              ".list-inline>li {display: inline-block}\n",
              ".list-inline>li:not(:last-child)::after {content: \"\\00b7\"; padding: 0 .5ex}\n",
              "</style>\n",
              "<ol class=list-inline><li>1</li><li>2</li><li>3</li><li>4</li><li>5</li><li>6</li><li>7</li><li>8</li><li>9</li><li>10</li><li>11</li><li>12</li><li>13</li><li>14</li><li>15</li><li>16</li><li>17</li><li>18</li><li>19</li><li>20</li><li>21</li><li>22</li><li>23</li><li>24</li><li>25</li><li>26</li><li>27</li></ol>\n"
            ],
            "text/markdown": "1. 1\n2. 2\n3. 3\n4. 4\n5. 5\n6. 6\n7. 7\n8. 8\n9. 9\n10. 10\n11. 11\n12. 12\n13. 13\n14. 14\n15. 15\n16. 16\n17. 17\n18. 18\n19. 19\n20. 20\n21. 21\n22. 22\n23. 23\n24. 24\n25. 25\n26. 26\n27. 27\n\n\n",
            "text/latex": "\\begin{enumerate*}\n\\item 1\n\\item 2\n\\item 3\n\\item 4\n\\item 5\n\\item 6\n\\item 7\n\\item 8\n\\item 9\n\\item 10\n\\item 11\n\\item 12\n\\item 13\n\\item 14\n\\item 15\n\\item 16\n\\item 17\n\\item 18\n\\item 19\n\\item 20\n\\item 21\n\\item 22\n\\item 23\n\\item 24\n\\item 25\n\\item 26\n\\item 27\n\\end{enumerate*}\n",
            "text/plain": [
              ", , 1\n",
              "\n",
              "     [,1] [,2] [,3]\n",
              "[1,]    1    4    7\n",
              "[2,]    2    5    8\n",
              "[3,]    3    6    9\n",
              "\n",
              ", , 2\n",
              "\n",
              "     [,1] [,2] [,3]\n",
              "[1,]   10   13   16\n",
              "[2,]   11   14   17\n",
              "[3,]   12   15   18\n",
              "\n",
              ", , 3\n",
              "\n",
              "     [,1] [,2] [,3]\n",
              "[1,]   19   22   25\n",
              "[2,]   20   23   26\n",
              "[3,]   21   24   27\n"
            ]
          },
          "metadata": {}
        },
        {
          "output_type": "display_data",
          "data": {
            "text/html": [
              "14"
            ],
            "text/markdown": "14",
            "text/latex": "14",
            "text/plain": [
              "[1] 14"
            ]
          },
          "metadata": {}
        }
      ]
    },
    {
      "cell_type": "code",
      "source": [
        "A <- matrix(1:20, ncol = 4)\n",
        "A\n",
        "\n",
        "t(A)"
      ],
      "metadata": {
        "colab": {
          "base_uri": "https://localhost:8080/",
          "height": 369
        },
        "id": "FLskHv9vcrdz",
        "outputId": "2c7500a8-b046-48fb-d184-8d7308566f82"
      },
      "execution_count": null,
      "outputs": [
        {
          "output_type": "display_data",
          "data": {
            "text/html": [
              "<table class=\"dataframe\">\n",
              "<caption>A matrix: 5 × 4 of type int</caption>\n",
              "<tbody>\n",
              "\t<tr><td>1</td><td> 6</td><td>11</td><td>16</td></tr>\n",
              "\t<tr><td>2</td><td> 7</td><td>12</td><td>17</td></tr>\n",
              "\t<tr><td>3</td><td> 8</td><td>13</td><td>18</td></tr>\n",
              "\t<tr><td>4</td><td> 9</td><td>14</td><td>19</td></tr>\n",
              "\t<tr><td>5</td><td>10</td><td>15</td><td>20</td></tr>\n",
              "</tbody>\n",
              "</table>\n"
            ],
            "text/markdown": "\nA matrix: 5 × 4 of type int\n\n| 1 |  6 | 11 | 16 |\n| 2 |  7 | 12 | 17 |\n| 3 |  8 | 13 | 18 |\n| 4 |  9 | 14 | 19 |\n| 5 | 10 | 15 | 20 |\n\n",
            "text/latex": "A matrix: 5 × 4 of type int\n\\begin{tabular}{llll}\n\t 1 &  6 & 11 & 16\\\\\n\t 2 &  7 & 12 & 17\\\\\n\t 3 &  8 & 13 & 18\\\\\n\t 4 &  9 & 14 & 19\\\\\n\t 5 & 10 & 15 & 20\\\\\n\\end{tabular}\n",
            "text/plain": [
              "     [,1] [,2] [,3] [,4]\n",
              "[1,] 1     6   11   16  \n",
              "[2,] 2     7   12   17  \n",
              "[3,] 3     8   13   18  \n",
              "[4,] 4     9   14   19  \n",
              "[5,] 5    10   15   20  "
            ]
          },
          "metadata": {}
        },
        {
          "output_type": "display_data",
          "data": {
            "text/html": [
              "<table class=\"dataframe\">\n",
              "<caption>A matrix: 4 × 5 of type int</caption>\n",
              "<tbody>\n",
              "\t<tr><td> 1</td><td> 2</td><td> 3</td><td> 4</td><td> 5</td></tr>\n",
              "\t<tr><td> 6</td><td> 7</td><td> 8</td><td> 9</td><td>10</td></tr>\n",
              "\t<tr><td>11</td><td>12</td><td>13</td><td>14</td><td>15</td></tr>\n",
              "\t<tr><td>16</td><td>17</td><td>18</td><td>19</td><td>20</td></tr>\n",
              "</tbody>\n",
              "</table>\n"
            ],
            "text/markdown": "\nA matrix: 4 × 5 of type int\n\n|  1 |  2 |  3 |  4 |  5 |\n|  6 |  7 |  8 |  9 | 10 |\n| 11 | 12 | 13 | 14 | 15 |\n| 16 | 17 | 18 | 19 | 20 |\n\n",
            "text/latex": "A matrix: 4 × 5 of type int\n\\begin{tabular}{lllll}\n\t  1 &  2 &  3 &  4 &  5\\\\\n\t  6 &  7 &  8 &  9 & 10\\\\\n\t 11 & 12 & 13 & 14 & 15\\\\\n\t 16 & 17 & 18 & 19 & 20\\\\\n\\end{tabular}\n",
            "text/plain": [
              "     [,1] [,2] [,3] [,4] [,5]\n",
              "[1,]  1    2    3    4    5  \n",
              "[2,]  6    7    8    9   10  \n",
              "[3,] 11   12   13   14   15  \n",
              "[4,] 16   17   18   19   20  "
            ]
          },
          "metadata": {}
        }
      ]
    },
    {
      "cell_type": "code",
      "source": [
        "A + 2\n",
        "\n",
        "A * 0:1\n",
        "\n",
        "A * 1:0"
      ],
      "metadata": {
        "colab": {
          "base_uri": "https://localhost:8080/",
          "height": 592
        },
        "id": "MHb4AyoGcvlQ",
        "outputId": "ab5756b1-68ff-40c7-c3b6-8b07dff20294"
      },
      "execution_count": null,
      "outputs": [
        {
          "output_type": "display_data",
          "data": {
            "text/html": [
              "<table class=\"dataframe\">\n",
              "<caption>A matrix: 5 × 4 of type dbl</caption>\n",
              "<tbody>\n",
              "\t<tr><td>3</td><td> 8</td><td>13</td><td>18</td></tr>\n",
              "\t<tr><td>4</td><td> 9</td><td>14</td><td>19</td></tr>\n",
              "\t<tr><td>5</td><td>10</td><td>15</td><td>20</td></tr>\n",
              "\t<tr><td>6</td><td>11</td><td>16</td><td>21</td></tr>\n",
              "\t<tr><td>7</td><td>12</td><td>17</td><td>22</td></tr>\n",
              "</tbody>\n",
              "</table>\n"
            ],
            "text/markdown": "\nA matrix: 5 × 4 of type dbl\n\n| 3 |  8 | 13 | 18 |\n| 4 |  9 | 14 | 19 |\n| 5 | 10 | 15 | 20 |\n| 6 | 11 | 16 | 21 |\n| 7 | 12 | 17 | 22 |\n\n",
            "text/latex": "A matrix: 5 × 4 of type dbl\n\\begin{tabular}{llll}\n\t 3 &  8 & 13 & 18\\\\\n\t 4 &  9 & 14 & 19\\\\\n\t 5 & 10 & 15 & 20\\\\\n\t 6 & 11 & 16 & 21\\\\\n\t 7 & 12 & 17 & 22\\\\\n\\end{tabular}\n",
            "text/plain": [
              "     [,1] [,2] [,3] [,4]\n",
              "[1,] 3     8   13   18  \n",
              "[2,] 4     9   14   19  \n",
              "[3,] 5    10   15   20  \n",
              "[4,] 6    11   16   21  \n",
              "[5,] 7    12   17   22  "
            ]
          },
          "metadata": {}
        },
        {
          "output_type": "display_data",
          "data": {
            "text/html": [
              "<table class=\"dataframe\">\n",
              "<caption>A matrix: 5 × 4 of type int</caption>\n",
              "<tbody>\n",
              "\t<tr><td>0</td><td> 6</td><td> 0</td><td>16</td></tr>\n",
              "\t<tr><td>2</td><td> 0</td><td>12</td><td> 0</td></tr>\n",
              "\t<tr><td>0</td><td> 8</td><td> 0</td><td>18</td></tr>\n",
              "\t<tr><td>4</td><td> 0</td><td>14</td><td> 0</td></tr>\n",
              "\t<tr><td>0</td><td>10</td><td> 0</td><td>20</td></tr>\n",
              "</tbody>\n",
              "</table>\n"
            ],
            "text/markdown": "\nA matrix: 5 × 4 of type int\n\n| 0 |  6 |  0 | 16 |\n| 2 |  0 | 12 |  0 |\n| 0 |  8 |  0 | 18 |\n| 4 |  0 | 14 |  0 |\n| 0 | 10 |  0 | 20 |\n\n",
            "text/latex": "A matrix: 5 × 4 of type int\n\\begin{tabular}{llll}\n\t 0 &  6 &  0 & 16\\\\\n\t 2 &  0 & 12 &  0\\\\\n\t 0 &  8 &  0 & 18\\\\\n\t 4 &  0 & 14 &  0\\\\\n\t 0 & 10 &  0 & 20\\\\\n\\end{tabular}\n",
            "text/plain": [
              "     [,1] [,2] [,3] [,4]\n",
              "[1,] 0     6    0   16  \n",
              "[2,] 2     0   12    0  \n",
              "[3,] 0     8    0   18  \n",
              "[4,] 4     0   14    0  \n",
              "[5,] 0    10    0   20  "
            ]
          },
          "metadata": {}
        },
        {
          "output_type": "display_data",
          "data": {
            "text/html": [
              "<table class=\"dataframe\">\n",
              "<caption>A matrix: 5 × 4 of type int</caption>\n",
              "<tbody>\n",
              "\t<tr><td>1</td><td>0</td><td>11</td><td> 0</td></tr>\n",
              "\t<tr><td>0</td><td>7</td><td> 0</td><td>17</td></tr>\n",
              "\t<tr><td>3</td><td>0</td><td>13</td><td> 0</td></tr>\n",
              "\t<tr><td>0</td><td>9</td><td> 0</td><td>19</td></tr>\n",
              "\t<tr><td>5</td><td>0</td><td>15</td><td> 0</td></tr>\n",
              "</tbody>\n",
              "</table>\n"
            ],
            "text/markdown": "\nA matrix: 5 × 4 of type int\n\n| 1 | 0 | 11 |  0 |\n| 0 | 7 |  0 | 17 |\n| 3 | 0 | 13 |  0 |\n| 0 | 9 |  0 | 19 |\n| 5 | 0 | 15 |  0 |\n\n",
            "text/latex": "A matrix: 5 × 4 of type int\n\\begin{tabular}{llll}\n\t 1 & 0 & 11 &  0\\\\\n\t 0 & 7 &  0 & 17\\\\\n\t 3 & 0 & 13 &  0\\\\\n\t 0 & 9 &  0 & 19\\\\\n\t 5 & 0 & 15 &  0\\\\\n\\end{tabular}\n",
            "text/plain": [
              "     [,1] [,2] [,3] [,4]\n",
              "[1,] 1    0    11    0  \n",
              "[2,] 0    7     0   17  \n",
              "[3,] 3    0    13    0  \n",
              "[4,] 0    9     0   19  \n",
              "[5,] 5    0    15    0  "
            ]
          },
          "metadata": {}
        }
      ]
    },
    {
      "cell_type": "code",
      "source": [
        "B <- matrix(1:16, ncol = 4)\n",
        "B * B\n",
        "\n",
        "B %*% B"
      ],
      "metadata": {
        "colab": {
          "base_uri": "https://localhost:8080/",
          "height": 337
        },
        "id": "u0t60rEIc5Fb",
        "outputId": "5d481eb9-7f88-408a-b4bf-ecfff8d9984a"
      },
      "execution_count": null,
      "outputs": [
        {
          "output_type": "display_data",
          "data": {
            "text/html": [
              "<table class=\"dataframe\">\n",
              "<caption>A matrix: 4 × 4 of type int</caption>\n",
              "<tbody>\n",
              "\t<tr><td> 1</td><td>25</td><td> 81</td><td>169</td></tr>\n",
              "\t<tr><td> 4</td><td>36</td><td>100</td><td>196</td></tr>\n",
              "\t<tr><td> 9</td><td>49</td><td>121</td><td>225</td></tr>\n",
              "\t<tr><td>16</td><td>64</td><td>144</td><td>256</td></tr>\n",
              "</tbody>\n",
              "</table>\n"
            ],
            "text/markdown": "\nA matrix: 4 × 4 of type int\n\n|  1 | 25 |  81 | 169 |\n|  4 | 36 | 100 | 196 |\n|  9 | 49 | 121 | 225 |\n| 16 | 64 | 144 | 256 |\n\n",
            "text/latex": "A matrix: 4 × 4 of type int\n\\begin{tabular}{llll}\n\t  1 & 25 &  81 & 169\\\\\n\t  4 & 36 & 100 & 196\\\\\n\t  9 & 49 & 121 & 225\\\\\n\t 16 & 64 & 144 & 256\\\\\n\\end{tabular}\n",
            "text/plain": [
              "     [,1] [,2] [,3] [,4]\n",
              "[1,]  1   25    81  169 \n",
              "[2,]  4   36   100  196 \n",
              "[3,]  9   49   121  225 \n",
              "[4,] 16   64   144  256 "
            ]
          },
          "metadata": {}
        },
        {
          "output_type": "display_data",
          "data": {
            "text/html": [
              "<table class=\"dataframe\">\n",
              "<caption>A matrix: 4 × 4 of type dbl</caption>\n",
              "<tbody>\n",
              "\t<tr><td> 90</td><td>202</td><td>314</td><td>426</td></tr>\n",
              "\t<tr><td>100</td><td>228</td><td>356</td><td>484</td></tr>\n",
              "\t<tr><td>110</td><td>254</td><td>398</td><td>542</td></tr>\n",
              "\t<tr><td>120</td><td>280</td><td>440</td><td>600</td></tr>\n",
              "</tbody>\n",
              "</table>\n"
            ],
            "text/markdown": "\nA matrix: 4 × 4 of type dbl\n\n|  90 | 202 | 314 | 426 |\n| 100 | 228 | 356 | 484 |\n| 110 | 254 | 398 | 542 |\n| 120 | 280 | 440 | 600 |\n\n",
            "text/latex": "A matrix: 4 × 4 of type dbl\n\\begin{tabular}{llll}\n\t  90 & 202 & 314 & 426\\\\\n\t 100 & 228 & 356 & 484\\\\\n\t 110 & 254 & 398 & 542\\\\\n\t 120 & 280 & 440 & 600\\\\\n\\end{tabular}\n",
            "text/plain": [
              "     [,1] [,2] [,3] [,4]\n",
              "[1,]  90  202  314  426 \n",
              "[2,] 100  228  356  484 \n",
              "[3,] 110  254  398  542 \n",
              "[4,] 120  280  440  600 "
            ]
          },
          "metadata": {}
        }
      ]
    },
    {
      "cell_type": "markdown",
      "source": [
        "2.12 Factors"
      ],
      "metadata": {
        "id": "fuoShPVzc-eM"
      }
    },
    {
      "cell_type": "code",
      "source": [
        "my.vector <- c(\"treated\", \"treated\", \"control\", \"control\", \"control\", \"treated\")\n",
        "my.factor <- factor(my.vector)\n",
        "my.factor\n",
        "\n",
        "my.factor <- factor(x = my.vector, levels = c(\"treated\", \"control\"))\n",
        "my.factor"
      ],
      "metadata": {
        "colab": {
          "base_uri": "https://localhost:8080/",
          "height": 86
        },
        "id": "CR2k35g7c8-L",
        "outputId": "e154d3ef-ab2c-46ec-c135-9900a0791ef2"
      },
      "execution_count": null,
      "outputs": [
        {
          "output_type": "display_data",
          "data": {
            "text/html": [
              "<style>\n",
              ".list-inline {list-style: none; margin:0; padding: 0}\n",
              ".list-inline>li {display: inline-block}\n",
              ".list-inline>li:not(:last-child)::after {content: \"\\00b7\"; padding: 0 .5ex}\n",
              "</style>\n",
              "<ol class=list-inline><li>treated</li><li>treated</li><li>control</li><li>control</li><li>control</li><li>treated</li></ol>\n",
              "\n",
              "<details>\n",
              "\t<summary style=display:list-item;cursor:pointer>\n",
              "\t\t<strong>Levels</strong>:\n",
              "\t</summary>\n",
              "\t<style>\n",
              "\t.list-inline {list-style: none; margin:0; padding: 0}\n",
              "\t.list-inline>li {display: inline-block}\n",
              "\t.list-inline>li:not(:last-child)::after {content: \"\\00b7\"; padding: 0 .5ex}\n",
              "\t</style>\n",
              "\t<ol class=list-inline><li>'control'</li><li>'treated'</li></ol>\n",
              "</details>"
            ],
            "text/markdown": "1. treated\n2. treated\n3. control\n4. control\n5. control\n6. treated\n\n\n\n**Levels**: 1. 'control'\n2. 'treated'\n\n\n",
            "text/latex": "\\begin{enumerate*}\n\\item treated\n\\item treated\n\\item control\n\\item control\n\\item control\n\\item treated\n\\end{enumerate*}\n\n\\emph{Levels}: \\begin{enumerate*}\n\\item 'control'\n\\item 'treated'\n\\end{enumerate*}\n",
            "text/plain": [
              "[1] treated treated control control control treated\n",
              "Levels: control treated"
            ]
          },
          "metadata": {}
        },
        {
          "output_type": "display_data",
          "data": {
            "text/html": [
              "<style>\n",
              ".list-inline {list-style: none; margin:0; padding: 0}\n",
              ".list-inline>li {display: inline-block}\n",
              ".list-inline>li:not(:last-child)::after {content: \"\\00b7\"; padding: 0 .5ex}\n",
              "</style>\n",
              "<ol class=list-inline><li>treated</li><li>treated</li><li>control</li><li>control</li><li>control</li><li>treated</li></ol>\n",
              "\n",
              "<details>\n",
              "\t<summary style=display:list-item;cursor:pointer>\n",
              "\t\t<strong>Levels</strong>:\n",
              "\t</summary>\n",
              "\t<style>\n",
              "\t.list-inline {list-style: none; margin:0; padding: 0}\n",
              "\t.list-inline>li {display: inline-block}\n",
              "\t.list-inline>li:not(:last-child)::after {content: \"\\00b7\"; padding: 0 .5ex}\n",
              "\t</style>\n",
              "\t<ol class=list-inline><li>'treated'</li><li>'control'</li></ol>\n",
              "</details>"
            ],
            "text/markdown": "1. treated\n2. treated\n3. control\n4. control\n5. control\n6. treated\n\n\n\n**Levels**: 1. 'treated'\n2. 'control'\n\n\n",
            "text/latex": "\\begin{enumerate*}\n\\item treated\n\\item treated\n\\item control\n\\item control\n\\item control\n\\item treated\n\\end{enumerate*}\n\n\\emph{Levels}: \\begin{enumerate*}\n\\item 'treated'\n\\item 'control'\n\\end{enumerate*}\n",
            "text/plain": [
              "[1] treated treated control control control treated\n",
              "Levels: treated control"
            ]
          },
          "metadata": {}
        }
      ]
    },
    {
      "cell_type": "code",
      "source": [
        "my.vector <- c(1, 1, 0, 0, 0, 1)\n",
        "my.factor <- factor(x = my.vector, levels = c(1, 0), labels = c(\"treated\", \"control\"))\n",
        "my.factor"
      ],
      "metadata": {
        "colab": {
          "base_uri": "https://localhost:8080/",
          "height": 52
        },
        "id": "YAKARBNsdCZf",
        "outputId": "510c1d33-dec8-41a5-fbba-8b985eface98"
      },
      "execution_count": null,
      "outputs": [
        {
          "output_type": "display_data",
          "data": {
            "text/html": [
              "<style>\n",
              ".list-inline {list-style: none; margin:0; padding: 0}\n",
              ".list-inline>li {display: inline-block}\n",
              ".list-inline>li:not(:last-child)::after {content: \"\\00b7\"; padding: 0 .5ex}\n",
              "</style>\n",
              "<ol class=list-inline><li>treated</li><li>treated</li><li>control</li><li>control</li><li>control</li><li>treated</li></ol>\n",
              "\n",
              "<details>\n",
              "\t<summary style=display:list-item;cursor:pointer>\n",
              "\t\t<strong>Levels</strong>:\n",
              "\t</summary>\n",
              "\t<style>\n",
              "\t.list-inline {list-style: none; margin:0; padding: 0}\n",
              "\t.list-inline>li {display: inline-block}\n",
              "\t.list-inline>li:not(:last-child)::after {content: \"\\00b7\"; padding: 0 .5ex}\n",
              "\t</style>\n",
              "\t<ol class=list-inline><li>'treated'</li><li>'control'</li></ol>\n",
              "</details>"
            ],
            "text/markdown": "1. treated\n2. treated\n3. control\n4. control\n5. control\n6. treated\n\n\n\n**Levels**: 1. 'treated'\n2. 'control'\n\n\n",
            "text/latex": "\\begin{enumerate*}\n\\item treated\n\\item treated\n\\item control\n\\item control\n\\item control\n\\item treated\n\\end{enumerate*}\n\n\\emph{Levels}: \\begin{enumerate*}\n\\item 'treated'\n\\item 'control'\n\\end{enumerate*}\n",
            "text/plain": [
              "[1] treated treated control control control treated\n",
              "Levels: treated control"
            ]
          },
          "metadata": {}
        }
      ]
    },
    {
      "cell_type": "code",
      "source": [
        "levels(my.factor)\n",
        "\n",
        "control.factor <- my.factor[my.factor == \"control\"]\n",
        "control.factor\n",
        "\n",
        "\n",
        "control.factor <- factor(control.factor)\n",
        "control.factor"
      ],
      "metadata": {
        "colab": {
          "base_uri": "https://localhost:8080/",
          "height": 104
        },
        "id": "JLqMcqdPdFk9",
        "outputId": "8ea6324d-5175-4613-cee8-c248b650ecc9"
      },
      "execution_count": null,
      "outputs": [
        {
          "output_type": "display_data",
          "data": {
            "text/html": [
              "<style>\n",
              ".list-inline {list-style: none; margin:0; padding: 0}\n",
              ".list-inline>li {display: inline-block}\n",
              ".list-inline>li:not(:last-child)::after {content: \"\\00b7\"; padding: 0 .5ex}\n",
              "</style>\n",
              "<ol class=list-inline><li>'treated'</li><li>'control'</li></ol>\n"
            ],
            "text/markdown": "1. 'treated'\n2. 'control'\n\n\n",
            "text/latex": "\\begin{enumerate*}\n\\item 'treated'\n\\item 'control'\n\\end{enumerate*}\n",
            "text/plain": [
              "[1] \"treated\" \"control\""
            ]
          },
          "metadata": {}
        },
        {
          "output_type": "display_data",
          "data": {
            "text/html": [
              "<style>\n",
              ".list-inline {list-style: none; margin:0; padding: 0}\n",
              ".list-inline>li {display: inline-block}\n",
              ".list-inline>li:not(:last-child)::after {content: \"\\00b7\"; padding: 0 .5ex}\n",
              "</style>\n",
              "<ol class=list-inline><li>control</li><li>control</li><li>control</li></ol>\n",
              "\n",
              "<details>\n",
              "\t<summary style=display:list-item;cursor:pointer>\n",
              "\t\t<strong>Levels</strong>:\n",
              "\t</summary>\n",
              "\t<style>\n",
              "\t.list-inline {list-style: none; margin:0; padding: 0}\n",
              "\t.list-inline>li {display: inline-block}\n",
              "\t.list-inline>li:not(:last-child)::after {content: \"\\00b7\"; padding: 0 .5ex}\n",
              "\t</style>\n",
              "\t<ol class=list-inline><li>'treated'</li><li>'control'</li></ol>\n",
              "</details>"
            ],
            "text/markdown": "1. control\n2. control\n3. control\n\n\n\n**Levels**: 1. 'treated'\n2. 'control'\n\n\n",
            "text/latex": "\\begin{enumerate*}\n\\item control\n\\item control\n\\item control\n\\end{enumerate*}\n\n\\emph{Levels}: \\begin{enumerate*}\n\\item 'treated'\n\\item 'control'\n\\end{enumerate*}\n",
            "text/plain": [
              "[1] control control control\n",
              "Levels: treated control"
            ]
          },
          "metadata": {}
        },
        {
          "output_type": "display_data",
          "data": {
            "text/html": [
              "<style>\n",
              ".list-inline {list-style: none; margin:0; padding: 0}\n",
              ".list-inline>li {display: inline-block}\n",
              ".list-inline>li:not(:last-child)::after {content: \"\\00b7\"; padding: 0 .5ex}\n",
              "</style>\n",
              "<ol class=list-inline><li>control</li><li>control</li><li>control</li></ol>\n",
              "\n",
              "<details>\n",
              "\t<summary style=display:list-item;cursor:pointer>\n",
              "\t\t<strong>Levels</strong>:\n",
              "\t</summary>\n",
              "\t'control'\n",
              "</details>"
            ],
            "text/markdown": "1. control\n2. control\n3. control\n\n\n\n**Levels**: 'control'",
            "text/latex": "\\begin{enumerate*}\n\\item control\n\\item control\n\\item control\n\\end{enumerate*}\n\n\\emph{Levels}: 'control'",
            "text/plain": [
              "[1] control control control\n",
              "Levels: control"
            ]
          },
          "metadata": {}
        }
      ]
    },
    {
      "cell_type": "code",
      "source": [
        "gl(2, 5, labels = c(\"A\", \"B\"))"
      ],
      "metadata": {
        "colab": {
          "base_uri": "https://localhost:8080/",
          "height": 52
        },
        "id": "53nKbN5edIw_",
        "outputId": "e15b83d8-9b03-46b7-8c39-81265fbe53bf"
      },
      "execution_count": null,
      "outputs": [
        {
          "output_type": "display_data",
          "data": {
            "text/html": [
              "<style>\n",
              ".list-inline {list-style: none; margin:0; padding: 0}\n",
              ".list-inline>li {display: inline-block}\n",
              ".list-inline>li:not(:last-child)::after {content: \"\\00b7\"; padding: 0 .5ex}\n",
              "</style>\n",
              "<ol class=list-inline><li>A</li><li>A</li><li>A</li><li>A</li><li>A</li><li>B</li><li>B</li><li>B</li><li>B</li><li>B</li></ol>\n",
              "\n",
              "<details>\n",
              "\t<summary style=display:list-item;cursor:pointer>\n",
              "\t\t<strong>Levels</strong>:\n",
              "\t</summary>\n",
              "\t<style>\n",
              "\t.list-inline {list-style: none; margin:0; padding: 0}\n",
              "\t.list-inline>li {display: inline-block}\n",
              "\t.list-inline>li:not(:last-child)::after {content: \"\\00b7\"; padding: 0 .5ex}\n",
              "\t</style>\n",
              "\t<ol class=list-inline><li>'A'</li><li>'B'</li></ol>\n",
              "</details>"
            ],
            "text/markdown": "1. A\n2. A\n3. A\n4. A\n5. A\n6. B\n7. B\n8. B\n9. B\n10. B\n\n\n\n**Levels**: 1. 'A'\n2. 'B'\n\n\n",
            "text/latex": "\\begin{enumerate*}\n\\item A\n\\item A\n\\item A\n\\item A\n\\item A\n\\item B\n\\item B\n\\item B\n\\item B\n\\item B\n\\end{enumerate*}\n\n\\emph{Levels}: \\begin{enumerate*}\n\\item 'A'\n\\item 'B'\n\\end{enumerate*}\n",
            "text/plain": [
              " [1] A A A A A B B B B B\n",
              "Levels: A B"
            ]
          },
          "metadata": {}
        }
      ]
    },
    {
      "cell_type": "code",
      "source": [
        "my.vector2 <- rep(3:5, 4)\n",
        "my.vector2\n",
        "\n",
        "my.factor2 <- factor(my.vector2)\n",
        "my.factor2\n",
        "\n",
        "as.numeric(my.factor2)\n",
        "\n",
        "as.numeric(as.character(my.factor2))"
      ],
      "metadata": {
        "colab": {
          "base_uri": "https://localhost:8080/",
          "height": 104
        },
        "id": "v_ErYdoRdKFH",
        "outputId": "f7d5761a-d562-4547-e135-a3e6253439bc"
      },
      "execution_count": null,
      "outputs": [
        {
          "output_type": "display_data",
          "data": {
            "text/html": [
              "<style>\n",
              ".list-inline {list-style: none; margin:0; padding: 0}\n",
              ".list-inline>li {display: inline-block}\n",
              ".list-inline>li:not(:last-child)::after {content: \"\\00b7\"; padding: 0 .5ex}\n",
              "</style>\n",
              "<ol class=list-inline><li>3</li><li>4</li><li>5</li><li>3</li><li>4</li><li>5</li><li>3</li><li>4</li><li>5</li><li>3</li><li>4</li><li>5</li></ol>\n"
            ],
            "text/markdown": "1. 3\n2. 4\n3. 5\n4. 3\n5. 4\n6. 5\n7. 3\n8. 4\n9. 5\n10. 3\n11. 4\n12. 5\n\n\n",
            "text/latex": "\\begin{enumerate*}\n\\item 3\n\\item 4\n\\item 5\n\\item 3\n\\item 4\n\\item 5\n\\item 3\n\\item 4\n\\item 5\n\\item 3\n\\item 4\n\\item 5\n\\end{enumerate*}\n",
            "text/plain": [
              " [1] 3 4 5 3 4 5 3 4 5 3 4 5"
            ]
          },
          "metadata": {}
        },
        {
          "output_type": "display_data",
          "data": {
            "text/html": [
              "<style>\n",
              ".list-inline {list-style: none; margin:0; padding: 0}\n",
              ".list-inline>li {display: inline-block}\n",
              ".list-inline>li:not(:last-child)::after {content: \"\\00b7\"; padding: 0 .5ex}\n",
              "</style>\n",
              "<ol class=list-inline><li>3</li><li>4</li><li>5</li><li>3</li><li>4</li><li>5</li><li>3</li><li>4</li><li>5</li><li>3</li><li>4</li><li>5</li></ol>\n",
              "\n",
              "<details>\n",
              "\t<summary style=display:list-item;cursor:pointer>\n",
              "\t\t<strong>Levels</strong>:\n",
              "\t</summary>\n",
              "\t<style>\n",
              "\t.list-inline {list-style: none; margin:0; padding: 0}\n",
              "\t.list-inline>li {display: inline-block}\n",
              "\t.list-inline>li:not(:last-child)::after {content: \"\\00b7\"; padding: 0 .5ex}\n",
              "\t</style>\n",
              "\t<ol class=list-inline><li>'3'</li><li>'4'</li><li>'5'</li></ol>\n",
              "</details>"
            ],
            "text/markdown": "1. 3\n2. 4\n3. 5\n4. 3\n5. 4\n6. 5\n7. 3\n8. 4\n9. 5\n10. 3\n11. 4\n12. 5\n\n\n\n**Levels**: 1. '3'\n2. '4'\n3. '5'\n\n\n",
            "text/latex": "\\begin{enumerate*}\n\\item 3\n\\item 4\n\\item 5\n\\item 3\n\\item 4\n\\item 5\n\\item 3\n\\item 4\n\\item 5\n\\item 3\n\\item 4\n\\item 5\n\\end{enumerate*}\n\n\\emph{Levels}: \\begin{enumerate*}\n\\item '3'\n\\item '4'\n\\item '5'\n\\end{enumerate*}\n",
            "text/plain": [
              " [1] 3 4 5 3 4 5 3 4 5 3 4 5\n",
              "Levels: 3 4 5"
            ]
          },
          "metadata": {}
        },
        {
          "output_type": "display_data",
          "data": {
            "text/html": [
              "<style>\n",
              ".list-inline {list-style: none; margin:0; padding: 0}\n",
              ".list-inline>li {display: inline-block}\n",
              ".list-inline>li:not(:last-child)::after {content: \"\\00b7\"; padding: 0 .5ex}\n",
              "</style>\n",
              "<ol class=list-inline><li>1</li><li>2</li><li>3</li><li>1</li><li>2</li><li>3</li><li>1</li><li>2</li><li>3</li><li>1</li><li>2</li><li>3</li></ol>\n"
            ],
            "text/markdown": "1. 1\n2. 2\n3. 3\n4. 1\n5. 2\n6. 3\n7. 1\n8. 2\n9. 3\n10. 1\n11. 2\n12. 3\n\n\n",
            "text/latex": "\\begin{enumerate*}\n\\item 1\n\\item 2\n\\item 3\n\\item 1\n\\item 2\n\\item 3\n\\item 1\n\\item 2\n\\item 3\n\\item 1\n\\item 2\n\\item 3\n\\end{enumerate*}\n",
            "text/plain": [
              " [1] 1 2 3 1 2 3 1 2 3 1 2 3"
            ]
          },
          "metadata": {}
        },
        {
          "output_type": "display_data",
          "data": {
            "text/html": [
              "<style>\n",
              ".list-inline {list-style: none; margin:0; padding: 0}\n",
              ".list-inline>li {display: inline-block}\n",
              ".list-inline>li:not(:last-child)::after {content: \"\\00b7\"; padding: 0 .5ex}\n",
              "</style>\n",
              "<ol class=list-inline><li>3</li><li>4</li><li>5</li><li>3</li><li>4</li><li>5</li><li>3</li><li>4</li><li>5</li><li>3</li><li>4</li><li>5</li></ol>\n"
            ],
            "text/markdown": "1. 3\n2. 4\n3. 5\n4. 3\n5. 4\n6. 5\n7. 3\n8. 4\n9. 5\n10. 3\n11. 4\n12. 5\n\n\n",
            "text/latex": "\\begin{enumerate*}\n\\item 3\n\\item 4\n\\item 5\n\\item 3\n\\item 4\n\\item 5\n\\item 3\n\\item 4\n\\item 5\n\\item 3\n\\item 4\n\\item 5\n\\end{enumerate*}\n",
            "text/plain": [
              " [1] 3 4 5 3 4 5 3 4 5 3 4 5"
            ]
          },
          "metadata": {}
        }
      ]
    },
    {
      "cell_type": "code",
      "source": [
        "my.factor1 <- gl(4, 3, labels = c(\"A\", \"F\", \"B\", \"Z\"))\n",
        "my.factor1\n",
        "\n",
        "levels(my.factor1) <- c(\"a\", \"b\", \"c\", \"d\")\n",
        "my.factor1"
      ],
      "metadata": {
        "colab": {
          "base_uri": "https://localhost:8080/",
          "height": 86
        },
        "id": "xHLPAnh6dwbk",
        "outputId": "1a8c752b-0b78-4e66-c253-1f3ec32d8aca"
      },
      "execution_count": null,
      "outputs": [
        {
          "output_type": "display_data",
          "data": {
            "text/html": [
              "<style>\n",
              ".list-inline {list-style: none; margin:0; padding: 0}\n",
              ".list-inline>li {display: inline-block}\n",
              ".list-inline>li:not(:last-child)::after {content: \"\\00b7\"; padding: 0 .5ex}\n",
              "</style>\n",
              "<ol class=list-inline><li>A</li><li>A</li><li>A</li><li>F</li><li>F</li><li>F</li><li>B</li><li>B</li><li>B</li><li>Z</li><li>Z</li><li>Z</li></ol>\n",
              "\n",
              "<details>\n",
              "\t<summary style=display:list-item;cursor:pointer>\n",
              "\t\t<strong>Levels</strong>:\n",
              "\t</summary>\n",
              "\t<style>\n",
              "\t.list-inline {list-style: none; margin:0; padding: 0}\n",
              "\t.list-inline>li {display: inline-block}\n",
              "\t.list-inline>li:not(:last-child)::after {content: \"\\00b7\"; padding: 0 .5ex}\n",
              "\t</style>\n",
              "\t<ol class=list-inline><li>'A'</li><li>'F'</li><li>'B'</li><li>'Z'</li></ol>\n",
              "</details>"
            ],
            "text/markdown": "1. A\n2. A\n3. A\n4. F\n5. F\n6. F\n7. B\n8. B\n9. B\n10. Z\n11. Z\n12. Z\n\n\n\n**Levels**: 1. 'A'\n2. 'F'\n3. 'B'\n4. 'Z'\n\n\n",
            "text/latex": "\\begin{enumerate*}\n\\item A\n\\item A\n\\item A\n\\item F\n\\item F\n\\item F\n\\item B\n\\item B\n\\item B\n\\item Z\n\\item Z\n\\item Z\n\\end{enumerate*}\n\n\\emph{Levels}: \\begin{enumerate*}\n\\item 'A'\n\\item 'F'\n\\item 'B'\n\\item 'Z'\n\\end{enumerate*}\n",
            "text/plain": [
              " [1] A A A F F F B B B Z Z Z\n",
              "Levels: A F B Z"
            ]
          },
          "metadata": {}
        },
        {
          "output_type": "display_data",
          "data": {
            "text/html": [
              "<style>\n",
              ".list-inline {list-style: none; margin:0; padding: 0}\n",
              ".list-inline>li {display: inline-block}\n",
              ".list-inline>li:not(:last-child)::after {content: \"\\00b7\"; padding: 0 .5ex}\n",
              "</style>\n",
              "<ol class=list-inline><li>a</li><li>a</li><li>a</li><li>b</li><li>b</li><li>b</li><li>c</li><li>c</li><li>c</li><li>d</li><li>d</li><li>d</li></ol>\n",
              "\n",
              "<details>\n",
              "\t<summary style=display:list-item;cursor:pointer>\n",
              "\t\t<strong>Levels</strong>:\n",
              "\t</summary>\n",
              "\t<style>\n",
              "\t.list-inline {list-style: none; margin:0; padding: 0}\n",
              "\t.list-inline>li {display: inline-block}\n",
              "\t.list-inline>li:not(:last-child)::after {content: \"\\00b7\"; padding: 0 .5ex}\n",
              "\t</style>\n",
              "\t<ol class=list-inline><li>'a'</li><li>'b'</li><li>'c'</li><li>'d'</li></ol>\n",
              "</details>"
            ],
            "text/markdown": "1. a\n2. a\n3. a\n4. b\n5. b\n6. b\n7. c\n8. c\n9. c\n10. d\n11. d\n12. d\n\n\n\n**Levels**: 1. 'a'\n2. 'b'\n3. 'c'\n4. 'd'\n\n\n",
            "text/latex": "\\begin{enumerate*}\n\\item a\n\\item a\n\\item a\n\\item b\n\\item b\n\\item b\n\\item c\n\\item c\n\\item c\n\\item d\n\\item d\n\\item d\n\\end{enumerate*}\n\n\\emph{Levels}: \\begin{enumerate*}\n\\item 'a'\n\\item 'b'\n\\item 'c'\n\\item 'd'\n\\end{enumerate*}\n",
            "text/plain": [
              " [1] a a a b b b c c c d d d\n",
              "Levels: a b c d"
            ]
          },
          "metadata": {}
        }
      ]
    },
    {
      "cell_type": "code",
      "source": [
        "my.factor1 <- gl(4, 3, labels = c(\"A\", \"F\", \"B\", \"Z\"))\n",
        "my.factor1\n",
        "\n",
        "levels(my.factor1) <- list(\"a\" = \"A\", \"d\" = \"Z\", \"c\" = \"B\", \"b\" = \"F\")\n",
        "my.factor1"
      ],
      "metadata": {
        "colab": {
          "base_uri": "https://localhost:8080/",
          "height": 86
        },
        "id": "6OkMLeJud1Cv",
        "outputId": "051362f2-369e-478b-f17e-fd7a47743be7"
      },
      "execution_count": null,
      "outputs": [
        {
          "output_type": "display_data",
          "data": {
            "text/html": [
              "<style>\n",
              ".list-inline {list-style: none; margin:0; padding: 0}\n",
              ".list-inline>li {display: inline-block}\n",
              ".list-inline>li:not(:last-child)::after {content: \"\\00b7\"; padding: 0 .5ex}\n",
              "</style>\n",
              "<ol class=list-inline><li>A</li><li>A</li><li>A</li><li>F</li><li>F</li><li>F</li><li>B</li><li>B</li><li>B</li><li>Z</li><li>Z</li><li>Z</li></ol>\n",
              "\n",
              "<details>\n",
              "\t<summary style=display:list-item;cursor:pointer>\n",
              "\t\t<strong>Levels</strong>:\n",
              "\t</summary>\n",
              "\t<style>\n",
              "\t.list-inline {list-style: none; margin:0; padding: 0}\n",
              "\t.list-inline>li {display: inline-block}\n",
              "\t.list-inline>li:not(:last-child)::after {content: \"\\00b7\"; padding: 0 .5ex}\n",
              "\t</style>\n",
              "\t<ol class=list-inline><li>'A'</li><li>'F'</li><li>'B'</li><li>'Z'</li></ol>\n",
              "</details>"
            ],
            "text/markdown": "1. A\n2. A\n3. A\n4. F\n5. F\n6. F\n7. B\n8. B\n9. B\n10. Z\n11. Z\n12. Z\n\n\n\n**Levels**: 1. 'A'\n2. 'F'\n3. 'B'\n4. 'Z'\n\n\n",
            "text/latex": "\\begin{enumerate*}\n\\item A\n\\item A\n\\item A\n\\item F\n\\item F\n\\item F\n\\item B\n\\item B\n\\item B\n\\item Z\n\\item Z\n\\item Z\n\\end{enumerate*}\n\n\\emph{Levels}: \\begin{enumerate*}\n\\item 'A'\n\\item 'F'\n\\item 'B'\n\\item 'Z'\n\\end{enumerate*}\n",
            "text/plain": [
              " [1] A A A F F F B B B Z Z Z\n",
              "Levels: A F B Z"
            ]
          },
          "metadata": {}
        },
        {
          "output_type": "display_data",
          "data": {
            "text/html": [
              "<style>\n",
              ".list-inline {list-style: none; margin:0; padding: 0}\n",
              ".list-inline>li {display: inline-block}\n",
              ".list-inline>li:not(:last-child)::after {content: \"\\00b7\"; padding: 0 .5ex}\n",
              "</style>\n",
              "<ol class=list-inline><li>a</li><li>a</li><li>a</li><li>b</li><li>b</li><li>b</li><li>c</li><li>c</li><li>c</li><li>d</li><li>d</li><li>d</li></ol>\n",
              "\n",
              "<details>\n",
              "\t<summary style=display:list-item;cursor:pointer>\n",
              "\t\t<strong>Levels</strong>:\n",
              "\t</summary>\n",
              "\t<style>\n",
              "\t.list-inline {list-style: none; margin:0; padding: 0}\n",
              "\t.list-inline>li {display: inline-block}\n",
              "\t.list-inline>li:not(:last-child)::after {content: \"\\00b7\"; padding: 0 .5ex}\n",
              "\t</style>\n",
              "\t<ol class=list-inline><li>'a'</li><li>'d'</li><li>'c'</li><li>'b'</li></ol>\n",
              "</details>"
            ],
            "text/markdown": "1. a\n2. a\n3. a\n4. b\n5. b\n6. b\n7. c\n8. c\n9. c\n10. d\n11. d\n12. d\n\n\n\n**Levels**: 1. 'a'\n2. 'd'\n3. 'c'\n4. 'b'\n\n\n",
            "text/latex": "\\begin{enumerate*}\n\\item a\n\\item a\n\\item a\n\\item b\n\\item b\n\\item b\n\\item c\n\\item c\n\\item c\n\\item d\n\\item d\n\\item d\n\\end{enumerate*}\n\n\\emph{Levels}: \\begin{enumerate*}\n\\item 'a'\n\\item 'd'\n\\item 'c'\n\\item 'b'\n\\end{enumerate*}\n",
            "text/plain": [
              " [1] a a a b b b c c c d d d\n",
              "Levels: a d c b"
            ]
          },
          "metadata": {}
        }
      ]
    },
    {
      "cell_type": "code",
      "source": [
        "my.factor1 <- gl(4, 3, labels = c(\"A\", \"F\", \"B\", \"Z\"))\n",
        "my.factor1"
      ],
      "metadata": {
        "colab": {
          "base_uri": "https://localhost:8080/",
          "height": 52
        },
        "id": "4hz_r-yMd3Gu",
        "outputId": "248075d4-291d-4783-9c13-eec6b05cb9f8"
      },
      "execution_count": null,
      "outputs": [
        {
          "output_type": "display_data",
          "data": {
            "text/html": [
              "<style>\n",
              ".list-inline {list-style: none; margin:0; padding: 0}\n",
              ".list-inline>li {display: inline-block}\n",
              ".list-inline>li:not(:last-child)::after {content: \"\\00b7\"; padding: 0 .5ex}\n",
              "</style>\n",
              "<ol class=list-inline><li>A</li><li>A</li><li>A</li><li>F</li><li>F</li><li>F</li><li>B</li><li>B</li><li>B</li><li>Z</li><li>Z</li><li>Z</li></ol>\n",
              "\n",
              "<details>\n",
              "\t<summary style=display:list-item;cursor:pointer>\n",
              "\t\t<strong>Levels</strong>:\n",
              "\t</summary>\n",
              "\t<style>\n",
              "\t.list-inline {list-style: none; margin:0; padding: 0}\n",
              "\t.list-inline>li {display: inline-block}\n",
              "\t.list-inline>li:not(:last-child)::after {content: \"\\00b7\"; padding: 0 .5ex}\n",
              "\t</style>\n",
              "\t<ol class=list-inline><li>'A'</li><li>'F'</li><li>'B'</li><li>'Z'</li></ol>\n",
              "</details>"
            ],
            "text/markdown": "1. A\n2. A\n3. A\n4. F\n5. F\n6. F\n7. B\n8. B\n9. B\n10. Z\n11. Z\n12. Z\n\n\n\n**Levels**: 1. 'A'\n2. 'F'\n3. 'B'\n4. 'Z'\n\n\n",
            "text/latex": "\\begin{enumerate*}\n\\item A\n\\item A\n\\item A\n\\item F\n\\item F\n\\item F\n\\item B\n\\item B\n\\item B\n\\item Z\n\\item Z\n\\item Z\n\\end{enumerate*}\n\n\\emph{Levels}: \\begin{enumerate*}\n\\item 'A'\n\\item 'F'\n\\item 'B'\n\\item 'Z'\n\\end{enumerate*}\n",
            "text/plain": [
              " [1] A A A F F F B B B Z Z Z\n",
              "Levels: A F B Z"
            ]
          },
          "metadata": {}
        }
      ]
    },
    {
      "cell_type": "code",
      "source": [
        "levels(my.factor1)[c(1, 4)] <- c(\"a\", \"d\")\n",
        "my.factor1"
      ],
      "metadata": {
        "colab": {
          "base_uri": "https://localhost:8080/",
          "height": 52
        },
        "id": "ooLPAFBDd4zs",
        "outputId": "19d3279b-ad8f-4eee-b87e-26a7193af6ca"
      },
      "execution_count": null,
      "outputs": [
        {
          "output_type": "display_data",
          "data": {
            "text/html": [
              "<style>\n",
              ".list-inline {list-style: none; margin:0; padding: 0}\n",
              ".list-inline>li {display: inline-block}\n",
              ".list-inline>li:not(:last-child)::after {content: \"\\00b7\"; padding: 0 .5ex}\n",
              "</style>\n",
              "<ol class=list-inline><li>a</li><li>a</li><li>a</li><li>F</li><li>F</li><li>F</li><li>B</li><li>B</li><li>B</li><li>d</li><li>d</li><li>d</li></ol>\n",
              "\n",
              "<details>\n",
              "\t<summary style=display:list-item;cursor:pointer>\n",
              "\t\t<strong>Levels</strong>:\n",
              "\t</summary>\n",
              "\t<style>\n",
              "\t.list-inline {list-style: none; margin:0; padding: 0}\n",
              "\t.list-inline>li {display: inline-block}\n",
              "\t.list-inline>li:not(:last-child)::after {content: \"\\00b7\"; padding: 0 .5ex}\n",
              "\t</style>\n",
              "\t<ol class=list-inline><li>'a'</li><li>'F'</li><li>'B'</li><li>'d'</li></ol>\n",
              "</details>"
            ],
            "text/markdown": "1. a\n2. a\n3. a\n4. F\n5. F\n6. F\n7. B\n8. B\n9. B\n10. d\n11. d\n12. d\n\n\n\n**Levels**: 1. 'a'\n2. 'F'\n3. 'B'\n4. 'd'\n\n\n",
            "text/latex": "\\begin{enumerate*}\n\\item a\n\\item a\n\\item a\n\\item F\n\\item F\n\\item F\n\\item B\n\\item B\n\\item B\n\\item d\n\\item d\n\\item d\n\\end{enumerate*}\n\n\\emph{Levels}: \\begin{enumerate*}\n\\item 'a'\n\\item 'F'\n\\item 'B'\n\\item 'd'\n\\end{enumerate*}\n",
            "text/plain": [
              " [1] a a a F F F B B B d d d\n",
              "Levels: a F B d"
            ]
          },
          "metadata": {}
        }
      ]
    },
    {
      "cell_type": "code",
      "source": [
        "my.factor1 <- gl(4, 3, labels = c(\"A\", \"F\", \"B\", \"Z\"))\n",
        "my.factor1\n",
        "\n",
        "factor(my.factor1,\n",
        "levels = c(\"A\", \"B\", \"F\", \"Z\"),\n",
        "labels = c(\"A\", \"B\", \"C\", \"C\"))"
      ],
      "metadata": {
        "colab": {
          "base_uri": "https://localhost:8080/",
          "height": 86
        },
        "id": "y6vqFwfsd6je",
        "outputId": "874ce13e-bef5-4390-dd27-b6dbb8c28f16"
      },
      "execution_count": null,
      "outputs": [
        {
          "output_type": "display_data",
          "data": {
            "text/html": [
              "<style>\n",
              ".list-inline {list-style: none; margin:0; padding: 0}\n",
              ".list-inline>li {display: inline-block}\n",
              ".list-inline>li:not(:last-child)::after {content: \"\\00b7\"; padding: 0 .5ex}\n",
              "</style>\n",
              "<ol class=list-inline><li>A</li><li>A</li><li>A</li><li>F</li><li>F</li><li>F</li><li>B</li><li>B</li><li>B</li><li>Z</li><li>Z</li><li>Z</li></ol>\n",
              "\n",
              "<details>\n",
              "\t<summary style=display:list-item;cursor:pointer>\n",
              "\t\t<strong>Levels</strong>:\n",
              "\t</summary>\n",
              "\t<style>\n",
              "\t.list-inline {list-style: none; margin:0; padding: 0}\n",
              "\t.list-inline>li {display: inline-block}\n",
              "\t.list-inline>li:not(:last-child)::after {content: \"\\00b7\"; padding: 0 .5ex}\n",
              "\t</style>\n",
              "\t<ol class=list-inline><li>'A'</li><li>'F'</li><li>'B'</li><li>'Z'</li></ol>\n",
              "</details>"
            ],
            "text/markdown": "1. A\n2. A\n3. A\n4. F\n5. F\n6. F\n7. B\n8. B\n9. B\n10. Z\n11. Z\n12. Z\n\n\n\n**Levels**: 1. 'A'\n2. 'F'\n3. 'B'\n4. 'Z'\n\n\n",
            "text/latex": "\\begin{enumerate*}\n\\item A\n\\item A\n\\item A\n\\item F\n\\item F\n\\item F\n\\item B\n\\item B\n\\item B\n\\item Z\n\\item Z\n\\item Z\n\\end{enumerate*}\n\n\\emph{Levels}: \\begin{enumerate*}\n\\item 'A'\n\\item 'F'\n\\item 'B'\n\\item 'Z'\n\\end{enumerate*}\n",
            "text/plain": [
              " [1] A A A F F F B B B Z Z Z\n",
              "Levels: A F B Z"
            ]
          },
          "metadata": {}
        },
        {
          "output_type": "display_data",
          "data": {
            "text/html": [
              "<style>\n",
              ".list-inline {list-style: none; margin:0; padding: 0}\n",
              ".list-inline>li {display: inline-block}\n",
              ".list-inline>li:not(:last-child)::after {content: \"\\00b7\"; padding: 0 .5ex}\n",
              "</style>\n",
              "<ol class=list-inline><li>A</li><li>A</li><li>A</li><li>C</li><li>C</li><li>C</li><li>B</li><li>B</li><li>B</li><li>C</li><li>C</li><li>C</li></ol>\n",
              "\n",
              "<details>\n",
              "\t<summary style=display:list-item;cursor:pointer>\n",
              "\t\t<strong>Levels</strong>:\n",
              "\t</summary>\n",
              "\t<style>\n",
              "\t.list-inline {list-style: none; margin:0; padding: 0}\n",
              "\t.list-inline>li {display: inline-block}\n",
              "\t.list-inline>li:not(:last-child)::after {content: \"\\00b7\"; padding: 0 .5ex}\n",
              "\t</style>\n",
              "\t<ol class=list-inline><li>'A'</li><li>'B'</li><li>'C'</li></ol>\n",
              "</details>"
            ],
            "text/markdown": "1. A\n2. A\n3. A\n4. C\n5. C\n6. C\n7. B\n8. B\n9. B\n10. C\n11. C\n12. C\n\n\n\n**Levels**: 1. 'A'\n2. 'B'\n3. 'C'\n\n\n",
            "text/latex": "\\begin{enumerate*}\n\\item A\n\\item A\n\\item A\n\\item C\n\\item C\n\\item C\n\\item B\n\\item B\n\\item B\n\\item C\n\\item C\n\\item C\n\\end{enumerate*}\n\n\\emph{Levels}: \\begin{enumerate*}\n\\item 'A'\n\\item 'B'\n\\item 'C'\n\\end{enumerate*}\n",
            "text/plain": [
              " [1] A A A C C C B B B C C C\n",
              "Levels: A B C"
            ]
          },
          "metadata": {}
        }
      ]
    },
    {
      "cell_type": "code",
      "source": [
        "levels(my.factor2)\n",
        "\n",
        "my.factor2 <- factor(my.factor2, levels = c(\"5\", \"3\", \"4\"))\n",
        "levels(my.factor2)\n",
        "\n",
        "my.factor2 <- factor(my.factor2, levels = rev(levels(my.factor2)))\n",
        "levels(my.factor2)"
      ],
      "metadata": {
        "colab": {
          "base_uri": "https://localhost:8080/",
          "height": 69
        },
        "id": "3HiY3g34d9Ru",
        "outputId": "918e00aa-f062-4811-9b05-9b074df47484"
      },
      "execution_count": null,
      "outputs": [
        {
          "output_type": "display_data",
          "data": {
            "text/html": [
              "<style>\n",
              ".list-inline {list-style: none; margin:0; padding: 0}\n",
              ".list-inline>li {display: inline-block}\n",
              ".list-inline>li:not(:last-child)::after {content: \"\\00b7\"; padding: 0 .5ex}\n",
              "</style>\n",
              "<ol class=list-inline><li>'3'</li><li>'4'</li><li>'5'</li></ol>\n"
            ],
            "text/markdown": "1. '3'\n2. '4'\n3. '5'\n\n\n",
            "text/latex": "\\begin{enumerate*}\n\\item '3'\n\\item '4'\n\\item '5'\n\\end{enumerate*}\n",
            "text/plain": [
              "[1] \"3\" \"4\" \"5\""
            ]
          },
          "metadata": {}
        },
        {
          "output_type": "display_data",
          "data": {
            "text/html": [
              "<style>\n",
              ".list-inline {list-style: none; margin:0; padding: 0}\n",
              ".list-inline>li {display: inline-block}\n",
              ".list-inline>li:not(:last-child)::after {content: \"\\00b7\"; padding: 0 .5ex}\n",
              "</style>\n",
              "<ol class=list-inline><li>'5'</li><li>'3'</li><li>'4'</li></ol>\n"
            ],
            "text/markdown": "1. '5'\n2. '3'\n3. '4'\n\n\n",
            "text/latex": "\\begin{enumerate*}\n\\item '5'\n\\item '3'\n\\item '4'\n\\end{enumerate*}\n",
            "text/plain": [
              "[1] \"5\" \"3\" \"4\""
            ]
          },
          "metadata": {}
        },
        {
          "output_type": "display_data",
          "data": {
            "text/html": [
              "<style>\n",
              ".list-inline {list-style: none; margin:0; padding: 0}\n",
              ".list-inline>li {display: inline-block}\n",
              ".list-inline>li:not(:last-child)::after {content: \"\\00b7\"; padding: 0 .5ex}\n",
              "</style>\n",
              "<ol class=list-inline><li>'4'</li><li>'3'</li><li>'5'</li></ol>\n"
            ],
            "text/markdown": "1. '4'\n2. '3'\n3. '5'\n\n\n",
            "text/latex": "\\begin{enumerate*}\n\\item '4'\n\\item '3'\n\\item '5'\n\\end{enumerate*}\n",
            "text/plain": [
              "[1] \"4\" \"3\" \"5\""
            ]
          },
          "metadata": {}
        }
      ]
    },
    {
      "cell_type": "code",
      "source": [
        "my.factor2 <- factor(my.factor2,\n",
        "\n",
        "levels = sort(levels(my.factor2), decreasing = TRUE))\n",
        "\n",
        "levels(my.factor2)\n",
        "\n",
        "my.factor2 <- factor(my.factor2, levels = levels(my.factor2)[c(2, 1, 3)])\n",
        "levels(my.factor2)"
      ],
      "metadata": {
        "colab": {
          "base_uri": "https://localhost:8080/",
          "height": 52
        },
        "id": "ARZqfkX2eAPL",
        "outputId": "b9e4b83d-9295-43b2-ea94-d4fbdcf09fc0"
      },
      "execution_count": null,
      "outputs": [
        {
          "output_type": "display_data",
          "data": {
            "text/html": [
              "<style>\n",
              ".list-inline {list-style: none; margin:0; padding: 0}\n",
              ".list-inline>li {display: inline-block}\n",
              ".list-inline>li:not(:last-child)::after {content: \"\\00b7\"; padding: 0 .5ex}\n",
              "</style>\n",
              "<ol class=list-inline><li>'5'</li><li>'4'</li><li>'3'</li></ol>\n"
            ],
            "text/markdown": "1. '5'\n2. '4'\n3. '3'\n\n\n",
            "text/latex": "\\begin{enumerate*}\n\\item '5'\n\\item '4'\n\\item '3'\n\\end{enumerate*}\n",
            "text/plain": [
              "[1] \"5\" \"4\" \"3\""
            ]
          },
          "metadata": {}
        },
        {
          "output_type": "display_data",
          "data": {
            "text/html": [
              "<style>\n",
              ".list-inline {list-style: none; margin:0; padding: 0}\n",
              ".list-inline>li {display: inline-block}\n",
              ".list-inline>li:not(:last-child)::after {content: \"\\00b7\"; padding: 0 .5ex}\n",
              "</style>\n",
              "<ol class=list-inline><li>'4'</li><li>'5'</li><li>'3'</li></ol>\n"
            ],
            "text/markdown": "1. '4'\n2. '5'\n3. '3'\n\n\n",
            "text/latex": "\\begin{enumerate*}\n\\item '4'\n\\item '5'\n\\item '3'\n\\end{enumerate*}\n",
            "text/plain": [
              "[1] \"4\" \"5\" \"3\""
            ]
          },
          "metadata": {}
        }
      ]
    },
    {
      "cell_type": "code",
      "source": [
        "my.factor3 <- gl(2, 5, labels = c(\"A\", \"B\"))\n",
        "my.vector3 <- c(5.6, 7.3, 3.1, 8.7, 6.9, 2.4, 4.5, 2.1, 1.4, 2.0)\n",
        "levels(my.factor3)\n",
        "\n",
        "my.factor3ord <- reorder(my.factor3, my.vector3)\n",
        "levels(my.factor3ord)\n",
        "\n",
        "my.factor3rev <- reorder(my.factor3, -my.vector3) # a simple trick\n",
        "levels(my.factor3rev)"
      ],
      "metadata": {
        "colab": {
          "base_uri": "https://localhost:8080/",
          "height": 69
        },
        "id": "vAYOruKReCVs",
        "outputId": "d365167e-e176-4cb2-f55c-bbb55cfee51a"
      },
      "execution_count": null,
      "outputs": [
        {
          "output_type": "display_data",
          "data": {
            "text/html": [
              "<style>\n",
              ".list-inline {list-style: none; margin:0; padding: 0}\n",
              ".list-inline>li {display: inline-block}\n",
              ".list-inline>li:not(:last-child)::after {content: \"\\00b7\"; padding: 0 .5ex}\n",
              "</style>\n",
              "<ol class=list-inline><li>'A'</li><li>'B'</li></ol>\n"
            ],
            "text/markdown": "1. 'A'\n2. 'B'\n\n\n",
            "text/latex": "\\begin{enumerate*}\n\\item 'A'\n\\item 'B'\n\\end{enumerate*}\n",
            "text/plain": [
              "[1] \"A\" \"B\""
            ]
          },
          "metadata": {}
        },
        {
          "output_type": "display_data",
          "data": {
            "text/html": [
              "<style>\n",
              ".list-inline {list-style: none; margin:0; padding: 0}\n",
              ".list-inline>li {display: inline-block}\n",
              ".list-inline>li:not(:last-child)::after {content: \"\\00b7\"; padding: 0 .5ex}\n",
              "</style>\n",
              "<ol class=list-inline><li>'B'</li><li>'A'</li></ol>\n"
            ],
            "text/markdown": "1. 'B'\n2. 'A'\n\n\n",
            "text/latex": "\\begin{enumerate*}\n\\item 'B'\n\\item 'A'\n\\end{enumerate*}\n",
            "text/plain": [
              "[1] \"B\" \"A\""
            ]
          },
          "metadata": {}
        },
        {
          "output_type": "display_data",
          "data": {
            "text/html": [
              "<style>\n",
              ".list-inline {list-style: none; margin:0; padding: 0}\n",
              ".list-inline>li {display: inline-block}\n",
              ".list-inline>li:not(:last-child)::after {content: \"\\00b7\"; padding: 0 .5ex}\n",
              "</style>\n",
              "<ol class=list-inline><li>'A'</li><li>'B'</li></ol>\n"
            ],
            "text/markdown": "1. 'A'\n2. 'B'\n\n\n",
            "text/latex": "\\begin{enumerate*}\n\\item 'A'\n\\item 'B'\n\\end{enumerate*}\n",
            "text/plain": [
              "[1] \"A\" \"B\""
            ]
          },
          "metadata": {}
        }
      ]
    },
    {
      "cell_type": "markdown",
      "source": [
        "2.13 Lists"
      ],
      "metadata": {
        "id": "6NytaHOYeJDo"
      }
    },
    {
      "cell_type": "code",
      "source": [
        "a.list <- list(x = 1:6, y = \"a\", z = c(TRUE, FALSE))\n",
        "a.list"
      ],
      "metadata": {
        "colab": {
          "base_uri": "https://localhost:8080/",
          "height": 149
        },
        "id": "ht3a-c1QeFG6",
        "outputId": "b5503d19-88b4-477c-a2a2-4a2243fd855f"
      },
      "execution_count": null,
      "outputs": [
        {
          "output_type": "display_data",
          "data": {
            "text/html": [
              "<dl>\n",
              "\t<dt>$x</dt>\n",
              "\t\t<dd><style>\n",
              ".list-inline {list-style: none; margin:0; padding: 0}\n",
              ".list-inline>li {display: inline-block}\n",
              ".list-inline>li:not(:last-child)::after {content: \"\\00b7\"; padding: 0 .5ex}\n",
              "</style>\n",
              "<ol class=list-inline><li>1</li><li>2</li><li>3</li><li>4</li><li>5</li><li>6</li></ol>\n",
              "</dd>\n",
              "\t<dt>$y</dt>\n",
              "\t\t<dd>'a'</dd>\n",
              "\t<dt>$z</dt>\n",
              "\t\t<dd><style>\n",
              ".list-inline {list-style: none; margin:0; padding: 0}\n",
              ".list-inline>li {display: inline-block}\n",
              ".list-inline>li:not(:last-child)::after {content: \"\\00b7\"; padding: 0 .5ex}\n",
              "</style>\n",
              "<ol class=list-inline><li>TRUE</li><li>FALSE</li></ol>\n",
              "</dd>\n",
              "</dl>\n"
            ],
            "text/markdown": "$x\n:   1. 1\n2. 2\n3. 3\n4. 4\n5. 5\n6. 6\n\n\n\n$y\n:   'a'\n$z\n:   1. TRUE\n2. FALSE\n\n\n\n\n\n",
            "text/latex": "\\begin{description}\n\\item[\\$x] \\begin{enumerate*}\n\\item 1\n\\item 2\n\\item 3\n\\item 4\n\\item 5\n\\item 6\n\\end{enumerate*}\n\n\\item[\\$y] 'a'\n\\item[\\$z] \\begin{enumerate*}\n\\item TRUE\n\\item FALSE\n\\end{enumerate*}\n\n\\end{description}\n",
            "text/plain": [
              "$x\n",
              "[1] 1 2 3 4 5 6\n",
              "\n",
              "$y\n",
              "[1] \"a\"\n",
              "\n",
              "$z\n",
              "[1]  TRUE FALSE\n"
            ]
          },
          "metadata": {}
        }
      ]
    },
    {
      "cell_type": "markdown",
      "source": [
        "2.13.1 Member extraction and subsetting"
      ],
      "metadata": {
        "id": "TQBf9XAOeMbO"
      }
    },
    {
      "cell_type": "code",
      "source": [
        "a.list$x\n",
        "\n",
        "a.list[[\"x\"]]\n",
        "\n",
        "a.list[[1]]\n",
        "\n",
        "a.list[\"x\"]\n",
        "\n",
        "a.list[1]\n",
        "\n",
        "a.list[c(1,3)]\n",
        "\n",
        "try(a.list[[c(1,3)]])"
      ],
      "metadata": {
        "colab": {
          "base_uri": "https://localhost:8080/",
          "height": 253
        },
        "id": "Lyl5PToVeKnu",
        "outputId": "1b13ea4f-521e-4ffb-d6e3-d5cab35e59a8"
      },
      "execution_count": null,
      "outputs": [
        {
          "output_type": "display_data",
          "data": {
            "text/html": [
              "<style>\n",
              ".list-inline {list-style: none; margin:0; padding: 0}\n",
              ".list-inline>li {display: inline-block}\n",
              ".list-inline>li:not(:last-child)::after {content: \"\\00b7\"; padding: 0 .5ex}\n",
              "</style>\n",
              "<ol class=list-inline><li>1</li><li>2</li><li>3</li><li>4</li><li>5</li><li>6</li></ol>\n"
            ],
            "text/markdown": "1. 1\n2. 2\n3. 3\n4. 4\n5. 5\n6. 6\n\n\n",
            "text/latex": "\\begin{enumerate*}\n\\item 1\n\\item 2\n\\item 3\n\\item 4\n\\item 5\n\\item 6\n\\end{enumerate*}\n",
            "text/plain": [
              "[1] 1 2 3 4 5 6"
            ]
          },
          "metadata": {}
        },
        {
          "output_type": "display_data",
          "data": {
            "text/html": [
              "<style>\n",
              ".list-inline {list-style: none; margin:0; padding: 0}\n",
              ".list-inline>li {display: inline-block}\n",
              ".list-inline>li:not(:last-child)::after {content: \"\\00b7\"; padding: 0 .5ex}\n",
              "</style>\n",
              "<ol class=list-inline><li>1</li><li>2</li><li>3</li><li>4</li><li>5</li><li>6</li></ol>\n"
            ],
            "text/markdown": "1. 1\n2. 2\n3. 3\n4. 4\n5. 5\n6. 6\n\n\n",
            "text/latex": "\\begin{enumerate*}\n\\item 1\n\\item 2\n\\item 3\n\\item 4\n\\item 5\n\\item 6\n\\end{enumerate*}\n",
            "text/plain": [
              "[1] 1 2 3 4 5 6"
            ]
          },
          "metadata": {}
        },
        {
          "output_type": "display_data",
          "data": {
            "text/html": [
              "<style>\n",
              ".list-inline {list-style: none; margin:0; padding: 0}\n",
              ".list-inline>li {display: inline-block}\n",
              ".list-inline>li:not(:last-child)::after {content: \"\\00b7\"; padding: 0 .5ex}\n",
              "</style>\n",
              "<ol class=list-inline><li>1</li><li>2</li><li>3</li><li>4</li><li>5</li><li>6</li></ol>\n"
            ],
            "text/markdown": "1. 1\n2. 2\n3. 3\n4. 4\n5. 5\n6. 6\n\n\n",
            "text/latex": "\\begin{enumerate*}\n\\item 1\n\\item 2\n\\item 3\n\\item 4\n\\item 5\n\\item 6\n\\end{enumerate*}\n",
            "text/plain": [
              "[1] 1 2 3 4 5 6"
            ]
          },
          "metadata": {}
        },
        {
          "output_type": "display_data",
          "data": {
            "text/html": [
              "<strong>$x</strong> = <style>\n",
              ".list-inline {list-style: none; margin:0; padding: 0}\n",
              ".list-inline>li {display: inline-block}\n",
              ".list-inline>li:not(:last-child)::after {content: \"\\00b7\"; padding: 0 .5ex}\n",
              "</style>\n",
              "<ol class=list-inline><li>1</li><li>2</li><li>3</li><li>4</li><li>5</li><li>6</li></ol>\n"
            ],
            "text/markdown": "**$x** = 1. 1\n2. 2\n3. 3\n4. 4\n5. 5\n6. 6\n\n\n",
            "text/latex": "\\textbf{\\$x} = \\begin{enumerate*}\n\\item 1\n\\item 2\n\\item 3\n\\item 4\n\\item 5\n\\item 6\n\\end{enumerate*}\n",
            "text/plain": [
              "$x\n",
              "[1] 1 2 3 4 5 6\n"
            ]
          },
          "metadata": {}
        },
        {
          "output_type": "display_data",
          "data": {
            "text/html": [
              "<strong>$x</strong> = <style>\n",
              ".list-inline {list-style: none; margin:0; padding: 0}\n",
              ".list-inline>li {display: inline-block}\n",
              ".list-inline>li:not(:last-child)::after {content: \"\\00b7\"; padding: 0 .5ex}\n",
              "</style>\n",
              "<ol class=list-inline><li>1</li><li>2</li><li>3</li><li>4</li><li>5</li><li>6</li></ol>\n"
            ],
            "text/markdown": "**$x** = 1. 1\n2. 2\n3. 3\n4. 4\n5. 5\n6. 6\n\n\n",
            "text/latex": "\\textbf{\\$x} = \\begin{enumerate*}\n\\item 1\n\\item 2\n\\item 3\n\\item 4\n\\item 5\n\\item 6\n\\end{enumerate*}\n",
            "text/plain": [
              "$x\n",
              "[1] 1 2 3 4 5 6\n"
            ]
          },
          "metadata": {}
        },
        {
          "output_type": "display_data",
          "data": {
            "text/html": [
              "<dl>\n",
              "\t<dt>$x</dt>\n",
              "\t\t<dd><style>\n",
              ".list-inline {list-style: none; margin:0; padding: 0}\n",
              ".list-inline>li {display: inline-block}\n",
              ".list-inline>li:not(:last-child)::after {content: \"\\00b7\"; padding: 0 .5ex}\n",
              "</style>\n",
              "<ol class=list-inline><li>1</li><li>2</li><li>3</li><li>4</li><li>5</li><li>6</li></ol>\n",
              "</dd>\n",
              "\t<dt>$z</dt>\n",
              "\t\t<dd><style>\n",
              ".list-inline {list-style: none; margin:0; padding: 0}\n",
              ".list-inline>li {display: inline-block}\n",
              ".list-inline>li:not(:last-child)::after {content: \"\\00b7\"; padding: 0 .5ex}\n",
              "</style>\n",
              "<ol class=list-inline><li>TRUE</li><li>FALSE</li></ol>\n",
              "</dd>\n",
              "</dl>\n"
            ],
            "text/markdown": "$x\n:   1. 1\n2. 2\n3. 3\n4. 4\n5. 5\n6. 6\n\n\n\n$z\n:   1. TRUE\n2. FALSE\n\n\n\n\n\n",
            "text/latex": "\\begin{description}\n\\item[\\$x] \\begin{enumerate*}\n\\item 1\n\\item 2\n\\item 3\n\\item 4\n\\item 5\n\\item 6\n\\end{enumerate*}\n\n\\item[\\$z] \\begin{enumerate*}\n\\item TRUE\n\\item FALSE\n\\end{enumerate*}\n\n\\end{description}\n",
            "text/plain": [
              "$x\n",
              "[1] 1 2 3 4 5 6\n",
              "\n",
              "$z\n",
              "[1]  TRUE FALSE\n"
            ]
          },
          "metadata": {}
        },
        {
          "output_type": "display_data",
          "data": {
            "text/html": [
              "3"
            ],
            "text/markdown": "3",
            "text/latex": "3",
            "text/plain": [
              "[1] 3"
            ]
          },
          "metadata": {}
        }
      ]
    },
    {
      "cell_type": "code",
      "source": [
        "str(a.list)"
      ],
      "metadata": {
        "colab": {
          "base_uri": "https://localhost:8080/"
        },
        "id": "-w2jvvCieSkT",
        "outputId": "b39cb269-8cff-4d77-d793-65c2e02740f8"
      },
      "execution_count": null,
      "outputs": [
        {
          "output_type": "stream",
          "name": "stdout",
          "text": [
            "List of 3\n",
            " $ x: int [1:6] 1 2 3 4 5 6\n",
            " $ y: chr \"a\"\n",
            " $ z: logi [1:2] TRUE FALSE\n"
          ]
        }
      ]
    },
    {
      "cell_type": "markdown",
      "source": [
        "2.13.2 Adding and removing list members"
      ],
      "metadata": {
        "id": "7CzGS8eeeVdn"
      }
    },
    {
      "cell_type": "code",
      "source": [
        "another.list <- append(a.list, list(yy = 1:10, zz = letters[5:1]), 2L)\n",
        "another.list"
      ],
      "metadata": {
        "colab": {
          "base_uri": "https://localhost:8080/",
          "height": 219
        },
        "id": "mlKxeUmEeUUF",
        "outputId": "8ec66c36-3901-42e7-ad4e-d8b1cce7427a"
      },
      "execution_count": null,
      "outputs": [
        {
          "output_type": "display_data",
          "data": {
            "text/html": [
              "<dl>\n",
              "\t<dt>$x</dt>\n",
              "\t\t<dd><style>\n",
              ".list-inline {list-style: none; margin:0; padding: 0}\n",
              ".list-inline>li {display: inline-block}\n",
              ".list-inline>li:not(:last-child)::after {content: \"\\00b7\"; padding: 0 .5ex}\n",
              "</style>\n",
              "<ol class=list-inline><li>1</li><li>2</li><li>3</li><li>4</li><li>5</li><li>6</li></ol>\n",
              "</dd>\n",
              "\t<dt>$y</dt>\n",
              "\t\t<dd>'a'</dd>\n",
              "\t<dt>$yy</dt>\n",
              "\t\t<dd><style>\n",
              ".list-inline {list-style: none; margin:0; padding: 0}\n",
              ".list-inline>li {display: inline-block}\n",
              ".list-inline>li:not(:last-child)::after {content: \"\\00b7\"; padding: 0 .5ex}\n",
              "</style>\n",
              "<ol class=list-inline><li>1</li><li>2</li><li>3</li><li>4</li><li>5</li><li>6</li><li>7</li><li>8</li><li>9</li><li>10</li></ol>\n",
              "</dd>\n",
              "\t<dt>$zz</dt>\n",
              "\t\t<dd><style>\n",
              ".list-inline {list-style: none; margin:0; padding: 0}\n",
              ".list-inline>li {display: inline-block}\n",
              ".list-inline>li:not(:last-child)::after {content: \"\\00b7\"; padding: 0 .5ex}\n",
              "</style>\n",
              "<ol class=list-inline><li>'e'</li><li>'d'</li><li>'c'</li><li>'b'</li><li>'a'</li></ol>\n",
              "</dd>\n",
              "\t<dt>$z</dt>\n",
              "\t\t<dd><style>\n",
              ".list-inline {list-style: none; margin:0; padding: 0}\n",
              ".list-inline>li {display: inline-block}\n",
              ".list-inline>li:not(:last-child)::after {content: \"\\00b7\"; padding: 0 .5ex}\n",
              "</style>\n",
              "<ol class=list-inline><li>TRUE</li><li>FALSE</li></ol>\n",
              "</dd>\n",
              "</dl>\n"
            ],
            "text/markdown": "$x\n:   1. 1\n2. 2\n3. 3\n4. 4\n5. 5\n6. 6\n\n\n\n$y\n:   'a'\n$yy\n:   1. 1\n2. 2\n3. 3\n4. 4\n5. 5\n6. 6\n7. 7\n8. 8\n9. 9\n10. 10\n\n\n\n$zz\n:   1. 'e'\n2. 'd'\n3. 'c'\n4. 'b'\n5. 'a'\n\n\n\n$z\n:   1. TRUE\n2. FALSE\n\n\n\n\n\n",
            "text/latex": "\\begin{description}\n\\item[\\$x] \\begin{enumerate*}\n\\item 1\n\\item 2\n\\item 3\n\\item 4\n\\item 5\n\\item 6\n\\end{enumerate*}\n\n\\item[\\$y] 'a'\n\\item[\\$yy] \\begin{enumerate*}\n\\item 1\n\\item 2\n\\item 3\n\\item 4\n\\item 5\n\\item 6\n\\item 7\n\\item 8\n\\item 9\n\\item 10\n\\end{enumerate*}\n\n\\item[\\$zz] \\begin{enumerate*}\n\\item 'e'\n\\item 'd'\n\\item 'c'\n\\item 'b'\n\\item 'a'\n\\end{enumerate*}\n\n\\item[\\$z] \\begin{enumerate*}\n\\item TRUE\n\\item FALSE\n\\end{enumerate*}\n\n\\end{description}\n",
            "text/plain": [
              "$x\n",
              "[1] 1 2 3 4 5 6\n",
              "\n",
              "$y\n",
              "[1] \"a\"\n",
              "\n",
              "$yy\n",
              " [1]  1  2  3  4  5  6  7  8  9 10\n",
              "\n",
              "$zz\n",
              "[1] \"e\" \"d\" \"c\" \"b\" \"a\"\n",
              "\n",
              "$z\n",
              "[1]  TRUE FALSE\n"
            ]
          },
          "metadata": {}
        }
      ]
    },
    {
      "cell_type": "code",
      "source": [
        "a.list$y <- NULL\n",
        "a.list"
      ],
      "metadata": {
        "colab": {
          "base_uri": "https://localhost:8080/",
          "height": 114
        },
        "id": "CVnjdYL0eYSj",
        "outputId": "7957b959-c11b-467d-a4be-014857b4d7d5"
      },
      "execution_count": null,
      "outputs": [
        {
          "output_type": "display_data",
          "data": {
            "text/html": [
              "<dl>\n",
              "\t<dt>$x</dt>\n",
              "\t\t<dd><style>\n",
              ".list-inline {list-style: none; margin:0; padding: 0}\n",
              ".list-inline>li {display: inline-block}\n",
              ".list-inline>li:not(:last-child)::after {content: \"\\00b7\"; padding: 0 .5ex}\n",
              "</style>\n",
              "<ol class=list-inline><li>1</li><li>2</li><li>3</li><li>4</li><li>5</li><li>6</li></ol>\n",
              "</dd>\n",
              "\t<dt>$z</dt>\n",
              "\t\t<dd><style>\n",
              ".list-inline {list-style: none; margin:0; padding: 0}\n",
              ".list-inline>li {display: inline-block}\n",
              ".list-inline>li:not(:last-child)::after {content: \"\\00b7\"; padding: 0 .5ex}\n",
              "</style>\n",
              "<ol class=list-inline><li>TRUE</li><li>FALSE</li></ol>\n",
              "</dd>\n",
              "</dl>\n"
            ],
            "text/markdown": "$x\n:   1. 1\n2. 2\n3. 3\n4. 4\n5. 5\n6. 6\n\n\n\n$z\n:   1. TRUE\n2. FALSE\n\n\n\n\n\n",
            "text/latex": "\\begin{description}\n\\item[\\$x] \\begin{enumerate*}\n\\item 1\n\\item 2\n\\item 3\n\\item 4\n\\item 5\n\\item 6\n\\end{enumerate*}\n\n\\item[\\$z] \\begin{enumerate*}\n\\item TRUE\n\\item FALSE\n\\end{enumerate*}\n\n\\end{description}\n",
            "text/plain": [
              "$x\n",
              "[1] 1 2 3 4 5 6\n",
              "\n",
              "$z\n",
              "[1]  TRUE FALSE\n"
            ]
          },
          "metadata": {}
        }
      ]
    },
    {
      "cell_type": "code",
      "source": [
        "a.list <- list(\"a\", \"aa\", \"aaa\")\n",
        "b.list <- list(\"b\", \"bb\")\n",
        "nested.list <- list(A = a.list, B = b.list)\n",
        "str(nested.list)"
      ],
      "metadata": {
        "colab": {
          "base_uri": "https://localhost:8080/"
        },
        "id": "faw42VIYeZvM",
        "outputId": "c84f11a5-4db8-43e2-dfeb-47115d0771f6"
      },
      "execution_count": null,
      "outputs": [
        {
          "output_type": "stream",
          "name": "stdout",
          "text": [
            "List of 2\n",
            " $ A:List of 3\n",
            "  ..$ : chr \"a\"\n",
            "  ..$ : chr \"aa\"\n",
            "  ..$ : chr \"aaa\"\n",
            " $ B:List of 2\n",
            "  ..$ : chr \"b\"\n",
            "  ..$ : chr \"bb\"\n"
          ]
        }
      ]
    },
    {
      "cell_type": "code",
      "source": [
        "str(nested.list, max.level = 1)"
      ],
      "metadata": {
        "colab": {
          "base_uri": "https://localhost:8080/"
        },
        "id": "A7_I2rVYebyt",
        "outputId": "07713e4e-0ac3-45df-c94f-d4e53749e957"
      },
      "execution_count": null,
      "outputs": [
        {
          "output_type": "stream",
          "name": "stdout",
          "text": [
            "List of 2\n",
            " $ A:List of 3\n",
            " $ B:List of 2\n"
          ]
        }
      ]
    },
    {
      "cell_type": "markdown",
      "source": [
        "2.13.3 Nested lists"
      ],
      "metadata": {
        "id": "rOhm3PRQegfK"
      }
    },
    {
      "cell_type": "code",
      "source": [
        "nested.list <- list(A = list(\"a\", \"aa\", \"aaa\"), B = list(\"b\", \"bb\"))\n",
        "str(nested.list)"
      ],
      "metadata": {
        "colab": {
          "base_uri": "https://localhost:8080/"
        },
        "id": "d2C8Q3I-efII",
        "outputId": "97b63788-72e5-45ca-815e-e40dbdb21de9"
      },
      "execution_count": null,
      "outputs": [
        {
          "output_type": "stream",
          "name": "stdout",
          "text": [
            "List of 2\n",
            " $ A:List of 3\n",
            "  ..$ : chr \"a\"\n",
            "  ..$ : chr \"aa\"\n",
            "  ..$ : chr \"aaa\"\n",
            " $ B:List of 2\n",
            "  ..$ : chr \"b\"\n",
            "  ..$ : chr \"bb\"\n"
          ]
        }
      ]
    },
    {
      "cell_type": "code",
      "source": [
        "c.vec <- unlist(nested.list)\n",
        "c.vec\n",
        "\n",
        "is.list(nested.list)\n",
        "\n",
        "is.list(c.vec)\n",
        "\n",
        "mode(nested.list)\n",
        "\n",
        "mode(c.vec)\n",
        "\n",
        "names(nested.list)\n",
        "\n",
        "names(c.vec)"
      ],
      "metadata": {
        "colab": {
          "base_uri": "https://localhost:8080/",
          "height": 139
        },
        "id": "HiFw3b5leiBN",
        "outputId": "badf5339-12a8-4d02-cbbe-e66dd1fce10f"
      },
      "execution_count": null,
      "outputs": [
        {
          "output_type": "display_data",
          "data": {
            "text/html": [
              "<style>\n",
              ".dl-inline {width: auto; margin:0; padding: 0}\n",
              ".dl-inline>dt, .dl-inline>dd {float: none; width: auto; display: inline-block}\n",
              ".dl-inline>dt::after {content: \":\\0020\"; padding-right: .5ex}\n",
              ".dl-inline>dt:not(:first-of-type) {padding-left: .5ex}\n",
              "</style><dl class=dl-inline><dt>A1</dt><dd>'a'</dd><dt>A2</dt><dd>'aa'</dd><dt>A3</dt><dd>'aaa'</dd><dt>B1</dt><dd>'b'</dd><dt>B2</dt><dd>'bb'</dd></dl>\n"
            ],
            "text/markdown": "A1\n:   'a'A2\n:   'aa'A3\n:   'aaa'B1\n:   'b'B2\n:   'bb'\n\n",
            "text/latex": "\\begin{description*}\n\\item[A1] 'a'\n\\item[A2] 'aa'\n\\item[A3] 'aaa'\n\\item[B1] 'b'\n\\item[B2] 'bb'\n\\end{description*}\n",
            "text/plain": [
              "   A1    A2    A3    B1    B2 \n",
              "  \"a\"  \"aa\" \"aaa\"   \"b\"  \"bb\" "
            ]
          },
          "metadata": {}
        },
        {
          "output_type": "display_data",
          "data": {
            "text/html": [
              "TRUE"
            ],
            "text/markdown": "TRUE",
            "text/latex": "TRUE",
            "text/plain": [
              "[1] TRUE"
            ]
          },
          "metadata": {}
        },
        {
          "output_type": "display_data",
          "data": {
            "text/html": [
              "FALSE"
            ],
            "text/markdown": "FALSE",
            "text/latex": "FALSE",
            "text/plain": [
              "[1] FALSE"
            ]
          },
          "metadata": {}
        },
        {
          "output_type": "display_data",
          "data": {
            "text/html": [
              "'list'"
            ],
            "text/markdown": "'list'",
            "text/latex": "'list'",
            "text/plain": [
              "[1] \"list\""
            ]
          },
          "metadata": {}
        },
        {
          "output_type": "display_data",
          "data": {
            "text/html": [
              "'character'"
            ],
            "text/markdown": "'character'",
            "text/latex": "'character'",
            "text/plain": [
              "[1] \"character\""
            ]
          },
          "metadata": {}
        },
        {
          "output_type": "display_data",
          "data": {
            "text/html": [
              "<style>\n",
              ".list-inline {list-style: none; margin:0; padding: 0}\n",
              ".list-inline>li {display: inline-block}\n",
              ".list-inline>li:not(:last-child)::after {content: \"\\00b7\"; padding: 0 .5ex}\n",
              "</style>\n",
              "<ol class=list-inline><li>'A'</li><li>'B'</li></ol>\n"
            ],
            "text/markdown": "1. 'A'\n2. 'B'\n\n\n",
            "text/latex": "\\begin{enumerate*}\n\\item 'A'\n\\item 'B'\n\\end{enumerate*}\n",
            "text/plain": [
              "[1] \"A\" \"B\""
            ]
          },
          "metadata": {}
        },
        {
          "output_type": "display_data",
          "data": {
            "text/html": [
              "<style>\n",
              ".list-inline {list-style: none; margin:0; padding: 0}\n",
              ".list-inline>li {display: inline-block}\n",
              ".list-inline>li:not(:last-child)::after {content: \"\\00b7\"; padding: 0 .5ex}\n",
              "</style>\n",
              "<ol class=list-inline><li>'A1'</li><li>'A2'</li><li>'A3'</li><li>'B1'</li><li>'B2'</li></ol>\n"
            ],
            "text/markdown": "1. 'A1'\n2. 'A2'\n3. 'A3'\n4. 'B1'\n5. 'B2'\n\n\n",
            "text/latex": "\\begin{enumerate*}\n\\item 'A1'\n\\item 'A2'\n\\item 'A3'\n\\item 'B1'\n\\item 'B2'\n\\end{enumerate*}\n",
            "text/plain": [
              "[1] \"A1\" \"A2\" \"A3\" \"B1\" \"B2\""
            ]
          },
          "metadata": {}
        }
      ]
    },
    {
      "cell_type": "code",
      "source": [
        "str(c.vec)\n",
        "\n",
        "c.vec[2]\n",
        "\n",
        "c.vec[\"A2\"]"
      ],
      "metadata": {
        "colab": {
          "base_uri": "https://localhost:8080/",
          "height": 86
        },
        "id": "3JyWsz_WemoE",
        "outputId": "b234a9a5-9f08-4bcd-b79c-1abfbcd50a01"
      },
      "execution_count": null,
      "outputs": [
        {
          "output_type": "stream",
          "name": "stdout",
          "text": [
            " Named chr [1:5] \"a\" \"aa\" \"aaa\" \"b\" \"bb\"\n",
            " - attr(*, \"names\")= chr [1:5] \"A1\" \"A2\" \"A3\" \"B1\" ...\n"
          ]
        },
        {
          "output_type": "display_data",
          "data": {
            "text/html": [
              "<strong>A2:</strong> 'aa'"
            ],
            "text/markdown": "**A2:** 'aa'",
            "text/latex": "\\textbf{A2:} 'aa'",
            "text/plain": [
              "  A2 \n",
              "\"aa\" "
            ]
          },
          "metadata": {}
        },
        {
          "output_type": "display_data",
          "data": {
            "text/html": [
              "<strong>A2:</strong> 'aa'"
            ],
            "text/markdown": "**A2:** 'aa'",
            "text/latex": "\\textbf{A2:} 'aa'",
            "text/plain": [
              "  A2 \n",
              "\"aa\" "
            ]
          },
          "metadata": {}
        }
      ]
    },
    {
      "cell_type": "code",
      "source": [
        "unname(c.vec)"
      ],
      "metadata": {
        "colab": {
          "base_uri": "https://localhost:8080/",
          "height": 34
        },
        "id": "fcZJCykQeqwl",
        "outputId": "2bbcc3bd-1671-45c6-a2f5-fc7b331a16fb"
      },
      "execution_count": null,
      "outputs": [
        {
          "output_type": "display_data",
          "data": {
            "text/html": [
              "<style>\n",
              ".list-inline {list-style: none; margin:0; padding: 0}\n",
              ".list-inline>li {display: inline-block}\n",
              ".list-inline>li:not(:last-child)::after {content: \"\\00b7\"; padding: 0 .5ex}\n",
              "</style>\n",
              "<ol class=list-inline><li>'a'</li><li>'aa'</li><li>'aaa'</li><li>'b'</li><li>'bb'</li></ol>\n"
            ],
            "text/markdown": "1. 'a'\n2. 'aa'\n3. 'aaa'\n4. 'b'\n5. 'bb'\n\n\n",
            "text/latex": "\\begin{enumerate*}\n\\item 'a'\n\\item 'aa'\n\\item 'aaa'\n\\item 'b'\n\\item 'bb'\n\\end{enumerate*}\n",
            "text/plain": [
              "[1] \"a\"   \"aa\"  \"aaa\" \"b\"   \"bb\" "
            ]
          },
          "metadata": {}
        }
      ]
    },
    {
      "cell_type": "markdown",
      "source": [
        "2.14 Data frames"
      ],
      "metadata": {
        "id": "Jn51jaAHe4cy"
      }
    },
    {
      "cell_type": "code",
      "source": [
        "a.df <- data.frame(x = 1:6, y = \"a\", z = c(TRUE, FALSE))\n",
        "a.df\n",
        "\n",
        "str(a.df)\n",
        "\n",
        "class(a.df)\n",
        "\n",
        "mode(a.df)\n",
        "\n",
        "is.data.frame(a.df)\n",
        "\n",
        "is.list(a.df)"
      ],
      "metadata": {
        "colab": {
          "base_uri": "https://localhost:8080/",
          "height": 425
        },
        "id": "bMCi28hNesxx",
        "outputId": "c92ab6c7-e5be-4c85-871a-21348bc93d25"
      },
      "execution_count": null,
      "outputs": [
        {
          "output_type": "display_data",
          "data": {
            "text/html": [
              "<table class=\"dataframe\">\n",
              "<caption>A data.frame: 6 × 3</caption>\n",
              "<thead>\n",
              "\t<tr><th scope=col>x</th><th scope=col>y</th><th scope=col>z</th></tr>\n",
              "\t<tr><th scope=col>&lt;int&gt;</th><th scope=col>&lt;chr&gt;</th><th scope=col>&lt;lgl&gt;</th></tr>\n",
              "</thead>\n",
              "<tbody>\n",
              "\t<tr><td>1</td><td>a</td><td> TRUE</td></tr>\n",
              "\t<tr><td>2</td><td>a</td><td>FALSE</td></tr>\n",
              "\t<tr><td>3</td><td>a</td><td> TRUE</td></tr>\n",
              "\t<tr><td>4</td><td>a</td><td>FALSE</td></tr>\n",
              "\t<tr><td>5</td><td>a</td><td> TRUE</td></tr>\n",
              "\t<tr><td>6</td><td>a</td><td>FALSE</td></tr>\n",
              "</tbody>\n",
              "</table>\n"
            ],
            "text/markdown": "\nA data.frame: 6 × 3\n\n| x &lt;int&gt; | y &lt;chr&gt; | z &lt;lgl&gt; |\n|---|---|---|\n| 1 | a |  TRUE |\n| 2 | a | FALSE |\n| 3 | a |  TRUE |\n| 4 | a | FALSE |\n| 5 | a |  TRUE |\n| 6 | a | FALSE |\n\n",
            "text/latex": "A data.frame: 6 × 3\n\\begin{tabular}{lll}\n x & y & z\\\\\n <int> & <chr> & <lgl>\\\\\n\\hline\n\t 1 & a &  TRUE\\\\\n\t 2 & a & FALSE\\\\\n\t 3 & a &  TRUE\\\\\n\t 4 & a & FALSE\\\\\n\t 5 & a &  TRUE\\\\\n\t 6 & a & FALSE\\\\\n\\end{tabular}\n",
            "text/plain": [
              "  x y z    \n",
              "1 1 a  TRUE\n",
              "2 2 a FALSE\n",
              "3 3 a  TRUE\n",
              "4 4 a FALSE\n",
              "5 5 a  TRUE\n",
              "6 6 a FALSE"
            ]
          },
          "metadata": {}
        },
        {
          "output_type": "stream",
          "name": "stdout",
          "text": [
            "'data.frame':\t6 obs. of  3 variables:\n",
            " $ x: int  1 2 3 4 5 6\n",
            " $ y: chr  \"a\" \"a\" \"a\" \"a\" ...\n",
            " $ z: logi  TRUE FALSE TRUE FALSE TRUE FALSE\n"
          ]
        },
        {
          "output_type": "display_data",
          "data": {
            "text/html": [
              "'data.frame'"
            ],
            "text/markdown": "'data.frame'",
            "text/latex": "'data.frame'",
            "text/plain": [
              "[1] \"data.frame\""
            ]
          },
          "metadata": {}
        },
        {
          "output_type": "display_data",
          "data": {
            "text/html": [
              "'list'"
            ],
            "text/markdown": "'list'",
            "text/latex": "'list'",
            "text/plain": [
              "[1] \"list\""
            ]
          },
          "metadata": {}
        },
        {
          "output_type": "display_data",
          "data": {
            "text/html": [
              "TRUE"
            ],
            "text/markdown": "TRUE",
            "text/latex": "TRUE",
            "text/plain": [
              "[1] TRUE"
            ]
          },
          "metadata": {}
        },
        {
          "output_type": "display_data",
          "data": {
            "text/html": [
              "TRUE"
            ],
            "text/markdown": "TRUE",
            "text/latex": "TRUE",
            "text/plain": [
              "[1] TRUE"
            ]
          },
          "metadata": {}
        }
      ]
    },
    {
      "cell_type": "code",
      "source": [
        "a.df$x\n",
        "\n",
        "a.df[[\"x\"]]\n",
        "\n",
        "a.df[[1]]\n",
        "\n",
        "class(a.df)"
      ],
      "metadata": {
        "colab": {
          "base_uri": "https://localhost:8080/",
          "height": 86
        },
        "id": "mNIcv7ive8kT",
        "outputId": "a91f7191-75d3-459b-b4a5-1d1dcf9edb0a"
      },
      "execution_count": null,
      "outputs": [
        {
          "output_type": "display_data",
          "data": {
            "text/html": [
              "<style>\n",
              ".list-inline {list-style: none; margin:0; padding: 0}\n",
              ".list-inline>li {display: inline-block}\n",
              ".list-inline>li:not(:last-child)::after {content: \"\\00b7\"; padding: 0 .5ex}\n",
              "</style>\n",
              "<ol class=list-inline><li>1</li><li>2</li><li>3</li><li>4</li><li>5</li><li>6</li></ol>\n"
            ],
            "text/markdown": "1. 1\n2. 2\n3. 3\n4. 4\n5. 5\n6. 6\n\n\n",
            "text/latex": "\\begin{enumerate*}\n\\item 1\n\\item 2\n\\item 3\n\\item 4\n\\item 5\n\\item 6\n\\end{enumerate*}\n",
            "text/plain": [
              "[1] 1 2 3 4 5 6"
            ]
          },
          "metadata": {}
        },
        {
          "output_type": "display_data",
          "data": {
            "text/html": [
              "<style>\n",
              ".list-inline {list-style: none; margin:0; padding: 0}\n",
              ".list-inline>li {display: inline-block}\n",
              ".list-inline>li:not(:last-child)::after {content: \"\\00b7\"; padding: 0 .5ex}\n",
              "</style>\n",
              "<ol class=list-inline><li>1</li><li>2</li><li>3</li><li>4</li><li>5</li><li>6</li></ol>\n"
            ],
            "text/markdown": "1. 1\n2. 2\n3. 3\n4. 4\n5. 5\n6. 6\n\n\n",
            "text/latex": "\\begin{enumerate*}\n\\item 1\n\\item 2\n\\item 3\n\\item 4\n\\item 5\n\\item 6\n\\end{enumerate*}\n",
            "text/plain": [
              "[1] 1 2 3 4 5 6"
            ]
          },
          "metadata": {}
        },
        {
          "output_type": "display_data",
          "data": {
            "text/html": [
              "<style>\n",
              ".list-inline {list-style: none; margin:0; padding: 0}\n",
              ".list-inline>li {display: inline-block}\n",
              ".list-inline>li:not(:last-child)::after {content: \"\\00b7\"; padding: 0 .5ex}\n",
              "</style>\n",
              "<ol class=list-inline><li>1</li><li>2</li><li>3</li><li>4</li><li>5</li><li>6</li></ol>\n"
            ],
            "text/markdown": "1. 1\n2. 2\n3. 3\n4. 4\n5. 5\n6. 6\n\n\n",
            "text/latex": "\\begin{enumerate*}\n\\item 1\n\\item 2\n\\item 3\n\\item 4\n\\item 5\n\\item 6\n\\end{enumerate*}\n",
            "text/plain": [
              "[1] 1 2 3 4 5 6"
            ]
          },
          "metadata": {}
        },
        {
          "output_type": "display_data",
          "data": {
            "text/html": [
              "'data.frame'"
            ],
            "text/markdown": "'data.frame'",
            "text/latex": "'data.frame'",
            "text/plain": [
              "[1] \"data.frame\""
            ]
          },
          "metadata": {}
        }
      ]
    },
    {
      "cell_type": "code",
      "source": [
        "a.df$x2 <- 6:1\n",
        "a.df$x3 <- \"b\"\n",
        "str(a.df)"
      ],
      "metadata": {
        "colab": {
          "base_uri": "https://localhost:8080/"
        },
        "id": "7MxIl997fDmO",
        "outputId": "493b133d-8756-4604-fd18-e14f71441b67"
      },
      "execution_count": null,
      "outputs": [
        {
          "output_type": "stream",
          "name": "stdout",
          "text": [
            "'data.frame':\t6 obs. of  5 variables:\n",
            " $ x : int  1 2 3 4 5 6\n",
            " $ y : chr  \"a\" \"a\" \"a\" \"a\" ...\n",
            " $ z : logi  TRUE FALSE TRUE FALSE TRUE FALSE\n",
            " $ x2: int  6 5 4 3 2 1\n",
            " $ x3: chr  \"b\" \"b\" \"b\" \"b\" ...\n"
          ]
        }
      ]
    },
    {
      "cell_type": "code",
      "source": [
        "a.ls <- list(x = 1:6, y = \"a\", z = c(TRUE, FALSE))\n",
        "str(a.ls)\n",
        "\n",
        "a.ls$x2 <- 6:1\n",
        "a.ls$x3 <- \"b\"\n",
        "str(a.ls)"
      ],
      "metadata": {
        "colab": {
          "base_uri": "https://localhost:8080/"
        },
        "id": "CA8CRb4XfE98",
        "outputId": "f50189de-5019-48d2-da12-54043bac7184"
      },
      "execution_count": null,
      "outputs": [
        {
          "output_type": "stream",
          "name": "stdout",
          "text": [
            "List of 3\n",
            " $ x: int [1:6] 1 2 3 4 5 6\n",
            " $ y: chr \"a\"\n",
            " $ z: logi [1:2] TRUE FALSE\n",
            "List of 5\n",
            " $ x : int [1:6] 1 2 3 4 5 6\n",
            " $ y : chr \"a\"\n",
            " $ z : logi [1:2] TRUE FALSE\n",
            " $ x2: int [1:6] 6 5 4 3 2 1\n",
            " $ x3: chr \"b\"\n"
          ]
        }
      ]
    },
    {
      "cell_type": "code",
      "source": [
        "a.df[ , 1]\n",
        "\n",
        "a.df[ , \"x\"]\n",
        "\n",
        "a.df[1, ]\n",
        "\n",
        "a.df[1:2, c(FALSE, FALSE, TRUE, TRUE, FALSE)]\n",
        "\n",
        "a.df[a.df$z , ]\n",
        "\n",
        "a.df[a.df$x > 3, -3]"
      ],
      "metadata": {
        "colab": {
          "base_uri": "https://localhost:8080/",
          "height": 658
        },
        "id": "_Wj9QFmDfJKx",
        "outputId": "7ef0f1b2-0376-4b42-ad04-2e887b4c8b6c"
      },
      "execution_count": null,
      "outputs": [
        {
          "output_type": "display_data",
          "data": {
            "text/html": [
              "<style>\n",
              ".list-inline {list-style: none; margin:0; padding: 0}\n",
              ".list-inline>li {display: inline-block}\n",
              ".list-inline>li:not(:last-child)::after {content: \"\\00b7\"; padding: 0 .5ex}\n",
              "</style>\n",
              "<ol class=list-inline><li>1</li><li>2</li><li>3</li><li>4</li><li>5</li><li>6</li></ol>\n"
            ],
            "text/markdown": "1. 1\n2. 2\n3. 3\n4. 4\n5. 5\n6. 6\n\n\n",
            "text/latex": "\\begin{enumerate*}\n\\item 1\n\\item 2\n\\item 3\n\\item 4\n\\item 5\n\\item 6\n\\end{enumerate*}\n",
            "text/plain": [
              "[1] 1 2 3 4 5 6"
            ]
          },
          "metadata": {}
        },
        {
          "output_type": "display_data",
          "data": {
            "text/html": [
              "<style>\n",
              ".list-inline {list-style: none; margin:0; padding: 0}\n",
              ".list-inline>li {display: inline-block}\n",
              ".list-inline>li:not(:last-child)::after {content: \"\\00b7\"; padding: 0 .5ex}\n",
              "</style>\n",
              "<ol class=list-inline><li>1</li><li>2</li><li>3</li><li>4</li><li>5</li><li>6</li></ol>\n"
            ],
            "text/markdown": "1. 1\n2. 2\n3. 3\n4. 4\n5. 5\n6. 6\n\n\n",
            "text/latex": "\\begin{enumerate*}\n\\item 1\n\\item 2\n\\item 3\n\\item 4\n\\item 5\n\\item 6\n\\end{enumerate*}\n",
            "text/plain": [
              "[1] 1 2 3 4 5 6"
            ]
          },
          "metadata": {}
        },
        {
          "output_type": "display_data",
          "data": {
            "text/html": [
              "<table class=\"dataframe\">\n",
              "<caption>A data.frame: 1 × 5</caption>\n",
              "<thead>\n",
              "\t<tr><th></th><th scope=col>x</th><th scope=col>y</th><th scope=col>z</th><th scope=col>x2</th><th scope=col>x3</th></tr>\n",
              "\t<tr><th></th><th scope=col>&lt;int&gt;</th><th scope=col>&lt;chr&gt;</th><th scope=col>&lt;lgl&gt;</th><th scope=col>&lt;int&gt;</th><th scope=col>&lt;chr&gt;</th></tr>\n",
              "</thead>\n",
              "<tbody>\n",
              "\t<tr><th scope=row>1</th><td>1</td><td>a</td><td>TRUE</td><td>6</td><td>b</td></tr>\n",
              "</tbody>\n",
              "</table>\n"
            ],
            "text/markdown": "\nA data.frame: 1 × 5\n\n| <!--/--> | x &lt;int&gt; | y &lt;chr&gt; | z &lt;lgl&gt; | x2 &lt;int&gt; | x3 &lt;chr&gt; |\n|---|---|---|---|---|---|\n| 1 | 1 | a | TRUE | 6 | b |\n\n",
            "text/latex": "A data.frame: 1 × 5\n\\begin{tabular}{r|lllll}\n  & x & y & z & x2 & x3\\\\\n  & <int> & <chr> & <lgl> & <int> & <chr>\\\\\n\\hline\n\t1 & 1 & a & TRUE & 6 & b\\\\\n\\end{tabular}\n",
            "text/plain": [
              "  x y z    x2 x3\n",
              "1 1 a TRUE 6  b "
            ]
          },
          "metadata": {}
        },
        {
          "output_type": "display_data",
          "data": {
            "text/html": [
              "<table class=\"dataframe\">\n",
              "<caption>A data.frame: 2 × 2</caption>\n",
              "<thead>\n",
              "\t<tr><th></th><th scope=col>z</th><th scope=col>x2</th></tr>\n",
              "\t<tr><th></th><th scope=col>&lt;lgl&gt;</th><th scope=col>&lt;int&gt;</th></tr>\n",
              "</thead>\n",
              "<tbody>\n",
              "\t<tr><th scope=row>1</th><td> TRUE</td><td>6</td></tr>\n",
              "\t<tr><th scope=row>2</th><td>FALSE</td><td>5</td></tr>\n",
              "</tbody>\n",
              "</table>\n"
            ],
            "text/markdown": "\nA data.frame: 2 × 2\n\n| <!--/--> | z &lt;lgl&gt; | x2 &lt;int&gt; |\n|---|---|---|\n| 1 |  TRUE | 6 |\n| 2 | FALSE | 5 |\n\n",
            "text/latex": "A data.frame: 2 × 2\n\\begin{tabular}{r|ll}\n  & z & x2\\\\\n  & <lgl> & <int>\\\\\n\\hline\n\t1 &  TRUE & 6\\\\\n\t2 & FALSE & 5\\\\\n\\end{tabular}\n",
            "text/plain": [
              "  z     x2\n",
              "1  TRUE 6 \n",
              "2 FALSE 5 "
            ]
          },
          "metadata": {}
        },
        {
          "output_type": "display_data",
          "data": {
            "text/html": [
              "<table class=\"dataframe\">\n",
              "<caption>A data.frame: 3 × 5</caption>\n",
              "<thead>\n",
              "\t<tr><th></th><th scope=col>x</th><th scope=col>y</th><th scope=col>z</th><th scope=col>x2</th><th scope=col>x3</th></tr>\n",
              "\t<tr><th></th><th scope=col>&lt;int&gt;</th><th scope=col>&lt;chr&gt;</th><th scope=col>&lt;lgl&gt;</th><th scope=col>&lt;int&gt;</th><th scope=col>&lt;chr&gt;</th></tr>\n",
              "</thead>\n",
              "<tbody>\n",
              "\t<tr><th scope=row>1</th><td>1</td><td>a</td><td>TRUE</td><td>6</td><td>b</td></tr>\n",
              "\t<tr><th scope=row>3</th><td>3</td><td>a</td><td>TRUE</td><td>4</td><td>b</td></tr>\n",
              "\t<tr><th scope=row>5</th><td>5</td><td>a</td><td>TRUE</td><td>2</td><td>b</td></tr>\n",
              "</tbody>\n",
              "</table>\n"
            ],
            "text/markdown": "\nA data.frame: 3 × 5\n\n| <!--/--> | x &lt;int&gt; | y &lt;chr&gt; | z &lt;lgl&gt; | x2 &lt;int&gt; | x3 &lt;chr&gt; |\n|---|---|---|---|---|---|\n| 1 | 1 | a | TRUE | 6 | b |\n| 3 | 3 | a | TRUE | 4 | b |\n| 5 | 5 | a | TRUE | 2 | b |\n\n",
            "text/latex": "A data.frame: 3 × 5\n\\begin{tabular}{r|lllll}\n  & x & y & z & x2 & x3\\\\\n  & <int> & <chr> & <lgl> & <int> & <chr>\\\\\n\\hline\n\t1 & 1 & a & TRUE & 6 & b\\\\\n\t3 & 3 & a & TRUE & 4 & b\\\\\n\t5 & 5 & a & TRUE & 2 & b\\\\\n\\end{tabular}\n",
            "text/plain": [
              "  x y z    x2 x3\n",
              "1 1 a TRUE 6  b \n",
              "3 3 a TRUE 4  b \n",
              "5 5 a TRUE 2  b "
            ]
          },
          "metadata": {}
        },
        {
          "output_type": "display_data",
          "data": {
            "text/html": [
              "<table class=\"dataframe\">\n",
              "<caption>A data.frame: 3 × 4</caption>\n",
              "<thead>\n",
              "\t<tr><th></th><th scope=col>x</th><th scope=col>y</th><th scope=col>x2</th><th scope=col>x3</th></tr>\n",
              "\t<tr><th></th><th scope=col>&lt;int&gt;</th><th scope=col>&lt;chr&gt;</th><th scope=col>&lt;int&gt;</th><th scope=col>&lt;chr&gt;</th></tr>\n",
              "</thead>\n",
              "<tbody>\n",
              "\t<tr><th scope=row>4</th><td>4</td><td>a</td><td>3</td><td>b</td></tr>\n",
              "\t<tr><th scope=row>5</th><td>5</td><td>a</td><td>2</td><td>b</td></tr>\n",
              "\t<tr><th scope=row>6</th><td>6</td><td>a</td><td>1</td><td>b</td></tr>\n",
              "</tbody>\n",
              "</table>\n"
            ],
            "text/markdown": "\nA data.frame: 3 × 4\n\n| <!--/--> | x &lt;int&gt; | y &lt;chr&gt; | x2 &lt;int&gt; | x3 &lt;chr&gt; |\n|---|---|---|---|---|\n| 4 | 4 | a | 3 | b |\n| 5 | 5 | a | 2 | b |\n| 6 | 6 | a | 1 | b |\n\n",
            "text/latex": "A data.frame: 3 × 4\n\\begin{tabular}{r|llll}\n  & x & y & x2 & x3\\\\\n  & <int> & <chr> & <int> & <chr>\\\\\n\\hline\n\t4 & 4 & a & 3 & b\\\\\n\t5 & 5 & a & 2 & b\\\\\n\t6 & 6 & a & 1 & b\\\\\n\\end{tabular}\n",
            "text/plain": [
              "  x y x2 x3\n",
              "4 4 a 3  b \n",
              "5 5 a 2  b \n",
              "6 6 a 1  b "
            ]
          },
          "metadata": {}
        }
      ]
    },
    {
      "cell_type": "code",
      "source": [
        "a.df[1, 1] <- 99\n",
        "a.df\n",
        "\n",
        "a.df[ , 1] <- -99\n",
        "a.df\n",
        "\n",
        "a.df[[\"x\"]] <- 123\n",
        "a.df\n",
        "\n",
        "a.df[1, 1] <- a.df[6, 4]\n",
        "a.df"
      ],
      "metadata": {
        "colab": {
          "base_uri": "https://localhost:8080/",
          "height": 1000
        },
        "id": "wGgXsbj1fUom",
        "outputId": "79b649c1-2ef5-4d24-fec8-644fcf33f45f"
      },
      "execution_count": null,
      "outputs": [
        {
          "output_type": "display_data",
          "data": {
            "text/html": [
              "<table class=\"dataframe\">\n",
              "<caption>A data.frame: 6 × 5</caption>\n",
              "<thead>\n",
              "\t<tr><th scope=col>x</th><th scope=col>y</th><th scope=col>z</th><th scope=col>x2</th><th scope=col>x3</th></tr>\n",
              "\t<tr><th scope=col>&lt;dbl&gt;</th><th scope=col>&lt;chr&gt;</th><th scope=col>&lt;lgl&gt;</th><th scope=col>&lt;int&gt;</th><th scope=col>&lt;chr&gt;</th></tr>\n",
              "</thead>\n",
              "<tbody>\n",
              "\t<tr><td>99</td><td>a</td><td> TRUE</td><td>6</td><td>b</td></tr>\n",
              "\t<tr><td> 2</td><td>a</td><td>FALSE</td><td>5</td><td>b</td></tr>\n",
              "\t<tr><td> 3</td><td>a</td><td> TRUE</td><td>4</td><td>b</td></tr>\n",
              "\t<tr><td> 4</td><td>a</td><td>FALSE</td><td>3</td><td>b</td></tr>\n",
              "\t<tr><td> 5</td><td>a</td><td> TRUE</td><td>2</td><td>b</td></tr>\n",
              "\t<tr><td> 6</td><td>a</td><td>FALSE</td><td>1</td><td>b</td></tr>\n",
              "</tbody>\n",
              "</table>\n"
            ],
            "text/markdown": "\nA data.frame: 6 × 5\n\n| x &lt;dbl&gt; | y &lt;chr&gt; | z &lt;lgl&gt; | x2 &lt;int&gt; | x3 &lt;chr&gt; |\n|---|---|---|---|---|\n| 99 | a |  TRUE | 6 | b |\n|  2 | a | FALSE | 5 | b |\n|  3 | a |  TRUE | 4 | b |\n|  4 | a | FALSE | 3 | b |\n|  5 | a |  TRUE | 2 | b |\n|  6 | a | FALSE | 1 | b |\n\n",
            "text/latex": "A data.frame: 6 × 5\n\\begin{tabular}{lllll}\n x & y & z & x2 & x3\\\\\n <dbl> & <chr> & <lgl> & <int> & <chr>\\\\\n\\hline\n\t 99 & a &  TRUE & 6 & b\\\\\n\t  2 & a & FALSE & 5 & b\\\\\n\t  3 & a &  TRUE & 4 & b\\\\\n\t  4 & a & FALSE & 3 & b\\\\\n\t  5 & a &  TRUE & 2 & b\\\\\n\t  6 & a & FALSE & 1 & b\\\\\n\\end{tabular}\n",
            "text/plain": [
              "  x  y z     x2 x3\n",
              "1 99 a  TRUE 6  b \n",
              "2  2 a FALSE 5  b \n",
              "3  3 a  TRUE 4  b \n",
              "4  4 a FALSE 3  b \n",
              "5  5 a  TRUE 2  b \n",
              "6  6 a FALSE 1  b "
            ]
          },
          "metadata": {}
        },
        {
          "output_type": "display_data",
          "data": {
            "text/html": [
              "<table class=\"dataframe\">\n",
              "<caption>A data.frame: 6 × 5</caption>\n",
              "<thead>\n",
              "\t<tr><th scope=col>x</th><th scope=col>y</th><th scope=col>z</th><th scope=col>x2</th><th scope=col>x3</th></tr>\n",
              "\t<tr><th scope=col>&lt;dbl&gt;</th><th scope=col>&lt;chr&gt;</th><th scope=col>&lt;lgl&gt;</th><th scope=col>&lt;int&gt;</th><th scope=col>&lt;chr&gt;</th></tr>\n",
              "</thead>\n",
              "<tbody>\n",
              "\t<tr><td>-99</td><td>a</td><td> TRUE</td><td>6</td><td>b</td></tr>\n",
              "\t<tr><td>-99</td><td>a</td><td>FALSE</td><td>5</td><td>b</td></tr>\n",
              "\t<tr><td>-99</td><td>a</td><td> TRUE</td><td>4</td><td>b</td></tr>\n",
              "\t<tr><td>-99</td><td>a</td><td>FALSE</td><td>3</td><td>b</td></tr>\n",
              "\t<tr><td>-99</td><td>a</td><td> TRUE</td><td>2</td><td>b</td></tr>\n",
              "\t<tr><td>-99</td><td>a</td><td>FALSE</td><td>1</td><td>b</td></tr>\n",
              "</tbody>\n",
              "</table>\n"
            ],
            "text/markdown": "\nA data.frame: 6 × 5\n\n| x &lt;dbl&gt; | y &lt;chr&gt; | z &lt;lgl&gt; | x2 &lt;int&gt; | x3 &lt;chr&gt; |\n|---|---|---|---|---|\n| -99 | a |  TRUE | 6 | b |\n| -99 | a | FALSE | 5 | b |\n| -99 | a |  TRUE | 4 | b |\n| -99 | a | FALSE | 3 | b |\n| -99 | a |  TRUE | 2 | b |\n| -99 | a | FALSE | 1 | b |\n\n",
            "text/latex": "A data.frame: 6 × 5\n\\begin{tabular}{lllll}\n x & y & z & x2 & x3\\\\\n <dbl> & <chr> & <lgl> & <int> & <chr>\\\\\n\\hline\n\t -99 & a &  TRUE & 6 & b\\\\\n\t -99 & a & FALSE & 5 & b\\\\\n\t -99 & a &  TRUE & 4 & b\\\\\n\t -99 & a & FALSE & 3 & b\\\\\n\t -99 & a &  TRUE & 2 & b\\\\\n\t -99 & a & FALSE & 1 & b\\\\\n\\end{tabular}\n",
            "text/plain": [
              "  x   y z     x2 x3\n",
              "1 -99 a  TRUE 6  b \n",
              "2 -99 a FALSE 5  b \n",
              "3 -99 a  TRUE 4  b \n",
              "4 -99 a FALSE 3  b \n",
              "5 -99 a  TRUE 2  b \n",
              "6 -99 a FALSE 1  b "
            ]
          },
          "metadata": {}
        },
        {
          "output_type": "display_data",
          "data": {
            "text/html": [
              "<table class=\"dataframe\">\n",
              "<caption>A data.frame: 6 × 5</caption>\n",
              "<thead>\n",
              "\t<tr><th scope=col>x</th><th scope=col>y</th><th scope=col>z</th><th scope=col>x2</th><th scope=col>x3</th></tr>\n",
              "\t<tr><th scope=col>&lt;dbl&gt;</th><th scope=col>&lt;chr&gt;</th><th scope=col>&lt;lgl&gt;</th><th scope=col>&lt;int&gt;</th><th scope=col>&lt;chr&gt;</th></tr>\n",
              "</thead>\n",
              "<tbody>\n",
              "\t<tr><td>123</td><td>a</td><td> TRUE</td><td>6</td><td>b</td></tr>\n",
              "\t<tr><td>123</td><td>a</td><td>FALSE</td><td>5</td><td>b</td></tr>\n",
              "\t<tr><td>123</td><td>a</td><td> TRUE</td><td>4</td><td>b</td></tr>\n",
              "\t<tr><td>123</td><td>a</td><td>FALSE</td><td>3</td><td>b</td></tr>\n",
              "\t<tr><td>123</td><td>a</td><td> TRUE</td><td>2</td><td>b</td></tr>\n",
              "\t<tr><td>123</td><td>a</td><td>FALSE</td><td>1</td><td>b</td></tr>\n",
              "</tbody>\n",
              "</table>\n"
            ],
            "text/markdown": "\nA data.frame: 6 × 5\n\n| x &lt;dbl&gt; | y &lt;chr&gt; | z &lt;lgl&gt; | x2 &lt;int&gt; | x3 &lt;chr&gt; |\n|---|---|---|---|---|\n| 123 | a |  TRUE | 6 | b |\n| 123 | a | FALSE | 5 | b |\n| 123 | a |  TRUE | 4 | b |\n| 123 | a | FALSE | 3 | b |\n| 123 | a |  TRUE | 2 | b |\n| 123 | a | FALSE | 1 | b |\n\n",
            "text/latex": "A data.frame: 6 × 5\n\\begin{tabular}{lllll}\n x & y & z & x2 & x3\\\\\n <dbl> & <chr> & <lgl> & <int> & <chr>\\\\\n\\hline\n\t 123 & a &  TRUE & 6 & b\\\\\n\t 123 & a & FALSE & 5 & b\\\\\n\t 123 & a &  TRUE & 4 & b\\\\\n\t 123 & a & FALSE & 3 & b\\\\\n\t 123 & a &  TRUE & 2 & b\\\\\n\t 123 & a & FALSE & 1 & b\\\\\n\\end{tabular}\n",
            "text/plain": [
              "  x   y z     x2 x3\n",
              "1 123 a  TRUE 6  b \n",
              "2 123 a FALSE 5  b \n",
              "3 123 a  TRUE 4  b \n",
              "4 123 a FALSE 3  b \n",
              "5 123 a  TRUE 2  b \n",
              "6 123 a FALSE 1  b "
            ]
          },
          "metadata": {}
        },
        {
          "output_type": "display_data",
          "data": {
            "text/html": [
              "<table class=\"dataframe\">\n",
              "<caption>A data.frame: 6 × 5</caption>\n",
              "<thead>\n",
              "\t<tr><th scope=col>x</th><th scope=col>y</th><th scope=col>z</th><th scope=col>x2</th><th scope=col>x3</th></tr>\n",
              "\t<tr><th scope=col>&lt;dbl&gt;</th><th scope=col>&lt;chr&gt;</th><th scope=col>&lt;lgl&gt;</th><th scope=col>&lt;int&gt;</th><th scope=col>&lt;chr&gt;</th></tr>\n",
              "</thead>\n",
              "<tbody>\n",
              "\t<tr><td>  1</td><td>a</td><td> TRUE</td><td>6</td><td>b</td></tr>\n",
              "\t<tr><td>123</td><td>a</td><td>FALSE</td><td>5</td><td>b</td></tr>\n",
              "\t<tr><td>123</td><td>a</td><td> TRUE</td><td>4</td><td>b</td></tr>\n",
              "\t<tr><td>123</td><td>a</td><td>FALSE</td><td>3</td><td>b</td></tr>\n",
              "\t<tr><td>123</td><td>a</td><td> TRUE</td><td>2</td><td>b</td></tr>\n",
              "\t<tr><td>123</td><td>a</td><td>FALSE</td><td>1</td><td>b</td></tr>\n",
              "</tbody>\n",
              "</table>\n"
            ],
            "text/markdown": "\nA data.frame: 6 × 5\n\n| x &lt;dbl&gt; | y &lt;chr&gt; | z &lt;lgl&gt; | x2 &lt;int&gt; | x3 &lt;chr&gt; |\n|---|---|---|---|---|\n|   1 | a |  TRUE | 6 | b |\n| 123 | a | FALSE | 5 | b |\n| 123 | a |  TRUE | 4 | b |\n| 123 | a | FALSE | 3 | b |\n| 123 | a |  TRUE | 2 | b |\n| 123 | a | FALSE | 1 | b |\n\n",
            "text/latex": "A data.frame: 6 × 5\n\\begin{tabular}{lllll}\n x & y & z & x2 & x3\\\\\n <dbl> & <chr> & <lgl> & <int> & <chr>\\\\\n\\hline\n\t   1 & a &  TRUE & 6 & b\\\\\n\t 123 & a & FALSE & 5 & b\\\\\n\t 123 & a &  TRUE & 4 & b\\\\\n\t 123 & a & FALSE & 3 & b\\\\\n\t 123 & a &  TRUE & 2 & b\\\\\n\t 123 & a & FALSE & 1 & b\\\\\n\\end{tabular}\n",
            "text/plain": [
              "  x   y z     x2 x3\n",
              "1   1 a  TRUE 6  b \n",
              "2 123 a FALSE 5  b \n",
              "3 123 a  TRUE 4  b \n",
              "4 123 a FALSE 3  b \n",
              "5 123 a  TRUE 2  b \n",
              "6 123 a FALSE 1  b "
            ]
          },
          "metadata": {}
        }
      ]
    },
    {
      "cell_type": "code",
      "source": [
        "x.list <- list(abcd = 123, xyzw = 789)\n",
        "x.list[[\"abcd\"]]\n",
        "\n",
        "a.var <- \"abcd\"\n",
        "x.list[[a.var]]\n",
        "\n",
        "x.list$abcd\n",
        "\n",
        "x.list$ab\n",
        "\n",
        "x.list$a"
      ],
      "metadata": {
        "colab": {
          "base_uri": "https://localhost:8080/",
          "height": 104
        },
        "id": "F6N7mLRJfauU",
        "outputId": "7e0e5e6b-e288-43cc-9914-9618bffdc3d1"
      },
      "execution_count": null,
      "outputs": [
        {
          "output_type": "display_data",
          "data": {
            "text/html": [
              "123"
            ],
            "text/markdown": "123",
            "text/latex": "123",
            "text/plain": [
              "[1] 123"
            ]
          },
          "metadata": {}
        },
        {
          "output_type": "display_data",
          "data": {
            "text/html": [
              "123"
            ],
            "text/markdown": "123",
            "text/latex": "123",
            "text/plain": [
              "[1] 123"
            ]
          },
          "metadata": {}
        },
        {
          "output_type": "display_data",
          "data": {
            "text/html": [
              "123"
            ],
            "text/markdown": "123",
            "text/latex": "123",
            "text/plain": [
              "[1] 123"
            ]
          },
          "metadata": {}
        },
        {
          "output_type": "display_data",
          "data": {
            "text/html": [
              "123"
            ],
            "text/markdown": "123",
            "text/latex": "123",
            "text/plain": [
              "[1] 123"
            ]
          },
          "metadata": {}
        },
        {
          "output_type": "display_data",
          "data": {
            "text/html": [
              "123"
            ],
            "text/markdown": "123",
            "text/latex": "123",
            "text/plain": [
              "[1] 123"
            ]
          },
          "metadata": {}
        }
      ]
    },
    {
      "cell_type": "markdown",
      "source": [
        "2.14.1 Operating within data frames"
      ],
      "metadata": {
        "id": "5_6-DjiUfhq9"
      }
    },
    {
      "cell_type": "code",
      "source": [
        "a.df <- data.frame(x = 1:6, y = \"a\", z = c(TRUE, FALSE))\n",
        "subset(a.df, x > 3)"
      ],
      "metadata": {
        "colab": {
          "base_uri": "https://localhost:8080/",
          "height": 192
        },
        "id": "huHO3Hg6fgIh",
        "outputId": "c47d8bba-4be1-4b98-e940-227ae3a0f677"
      },
      "execution_count": null,
      "outputs": [
        {
          "output_type": "display_data",
          "data": {
            "text/html": [
              "<table class=\"dataframe\">\n",
              "<caption>A data.frame: 3 × 3</caption>\n",
              "<thead>\n",
              "\t<tr><th></th><th scope=col>x</th><th scope=col>y</th><th scope=col>z</th></tr>\n",
              "\t<tr><th></th><th scope=col>&lt;int&gt;</th><th scope=col>&lt;chr&gt;</th><th scope=col>&lt;lgl&gt;</th></tr>\n",
              "</thead>\n",
              "<tbody>\n",
              "\t<tr><th scope=row>4</th><td>4</td><td>a</td><td>FALSE</td></tr>\n",
              "\t<tr><th scope=row>5</th><td>5</td><td>a</td><td> TRUE</td></tr>\n",
              "\t<tr><th scope=row>6</th><td>6</td><td>a</td><td>FALSE</td></tr>\n",
              "</tbody>\n",
              "</table>\n"
            ],
            "text/markdown": "\nA data.frame: 3 × 3\n\n| <!--/--> | x &lt;int&gt; | y &lt;chr&gt; | z &lt;lgl&gt; |\n|---|---|---|---|\n| 4 | 4 | a | FALSE |\n| 5 | 5 | a |  TRUE |\n| 6 | 6 | a | FALSE |\n\n",
            "text/latex": "A data.frame: 3 × 3\n\\begin{tabular}{r|lll}\n  & x & y & z\\\\\n  & <int> & <chr> & <lgl>\\\\\n\\hline\n\t4 & 4 & a & FALSE\\\\\n\t5 & 5 & a &  TRUE\\\\\n\t6 & 6 & a & FALSE\\\\\n\\end{tabular}\n",
            "text/plain": [
              "  x y z    \n",
              "4 4 a FALSE\n",
              "5 5 a  TRUE\n",
              "6 6 a FALSE"
            ]
          },
          "metadata": {}
        }
      ]
    },
    {
      "cell_type": "code",
      "source": [
        "subset(a.df, x > 3)[ , -3]\n",
        "\n",
        "subset(a.df, x > 3)$x"
      ],
      "metadata": {
        "colab": {
          "base_uri": "https://localhost:8080/",
          "height": 210
        },
        "id": "b966DOn3fmy4",
        "outputId": "8325f01f-a621-4912-c42e-265deb752241"
      },
      "execution_count": null,
      "outputs": [
        {
          "output_type": "display_data",
          "data": {
            "text/html": [
              "<table class=\"dataframe\">\n",
              "<caption>A data.frame: 3 × 2</caption>\n",
              "<thead>\n",
              "\t<tr><th></th><th scope=col>x</th><th scope=col>y</th></tr>\n",
              "\t<tr><th></th><th scope=col>&lt;int&gt;</th><th scope=col>&lt;chr&gt;</th></tr>\n",
              "</thead>\n",
              "<tbody>\n",
              "\t<tr><th scope=row>4</th><td>4</td><td>a</td></tr>\n",
              "\t<tr><th scope=row>5</th><td>5</td><td>a</td></tr>\n",
              "\t<tr><th scope=row>6</th><td>6</td><td>a</td></tr>\n",
              "</tbody>\n",
              "</table>\n"
            ],
            "text/markdown": "\nA data.frame: 3 × 2\n\n| <!--/--> | x &lt;int&gt; | y &lt;chr&gt; |\n|---|---|---|\n| 4 | 4 | a |\n| 5 | 5 | a |\n| 6 | 6 | a |\n\n",
            "text/latex": "A data.frame: 3 × 2\n\\begin{tabular}{r|ll}\n  & x & y\\\\\n  & <int> & <chr>\\\\\n\\hline\n\t4 & 4 & a\\\\\n\t5 & 5 & a\\\\\n\t6 & 6 & a\\\\\n\\end{tabular}\n",
            "text/plain": [
              "  x y\n",
              "4 4 a\n",
              "5 5 a\n",
              "6 6 a"
            ]
          },
          "metadata": {}
        },
        {
          "output_type": "display_data",
          "data": {
            "text/html": [
              "<style>\n",
              ".list-inline {list-style: none; margin:0; padding: 0}\n",
              ".list-inline>li {display: inline-block}\n",
              ".list-inline>li:not(:last-child)::after {content: \"\\00b7\"; padding: 0 .5ex}\n",
              "</style>\n",
              "<ol class=list-inline><li>4</li><li>5</li><li>6</li></ol>\n"
            ],
            "text/markdown": "1. 4\n2. 5\n3. 6\n\n\n",
            "text/latex": "\\begin{enumerate*}\n\\item 4\n\\item 5\n\\item 6\n\\end{enumerate*}\n",
            "text/plain": [
              "[1] 4 5 6"
            ]
          },
          "metadata": {}
        }
      ]
    },
    {
      "cell_type": "code",
      "source": [
        "A <- 1\n",
        "subset(a.df, A > 3)"
      ],
      "metadata": {
        "colab": {
          "base_uri": "https://localhost:8080/",
          "height": 98
        },
        "id": "yq5nMqXTfo-N",
        "outputId": "41a33cd4-5345-416a-8c06-a296aaebb55c"
      },
      "execution_count": null,
      "outputs": [
        {
          "output_type": "display_data",
          "data": {
            "text/html": [
              "<table class=\"dataframe\">\n",
              "<caption>A data.frame: 0 × 3</caption>\n",
              "<thead>\n",
              "\t<tr><th scope=col>x</th><th scope=col>y</th><th scope=col>z</th></tr>\n",
              "\t<tr><th scope=col>&lt;int&gt;</th><th scope=col>&lt;chr&gt;</th><th scope=col>&lt;lgl&gt;</th></tr>\n",
              "</thead>\n",
              "<tbody>\n",
              "</tbody>\n",
              "</table>\n"
            ],
            "text/markdown": "\nA data.frame: 0 × 3\n\n| x &lt;int&gt; | y &lt;chr&gt; | z &lt;lgl&gt; |\n|---|---|---|\n\n",
            "text/latex": "A data.frame: 0 × 3\n\\begin{tabular}{lll}\n x & y & z\\\\\n <int> & <chr> & <lgl>\\\\\n\\hline\n\\end{tabular}\n",
            "text/plain": [
              "     x y z"
            ]
          },
          "metadata": {}
        }
      ]
    },
    {
      "cell_type": "code",
      "source": [
        "aa.df <- a.df\n",
        "colnames(aa.df)\n",
        "\n",
        "aa.df[[\"y\"]] <- NULL\n",
        "colnames(aa.df)"
      ],
      "metadata": {
        "colab": {
          "base_uri": "https://localhost:8080/",
          "height": 52
        },
        "id": "pN2Sl1RzfrcC",
        "outputId": "0df1ddfe-ca1b-42e3-c8e0-78f185c8e2a3"
      },
      "execution_count": null,
      "outputs": [
        {
          "output_type": "display_data",
          "data": {
            "text/html": [
              "<style>\n",
              ".list-inline {list-style: none; margin:0; padding: 0}\n",
              ".list-inline>li {display: inline-block}\n",
              ".list-inline>li:not(:last-child)::after {content: \"\\00b7\"; padding: 0 .5ex}\n",
              "</style>\n",
              "<ol class=list-inline><li>'x'</li><li>'y'</li><li>'z'</li></ol>\n"
            ],
            "text/markdown": "1. 'x'\n2. 'y'\n3. 'z'\n\n\n",
            "text/latex": "\\begin{enumerate*}\n\\item 'x'\n\\item 'y'\n\\item 'z'\n\\end{enumerate*}\n",
            "text/plain": [
              "[1] \"x\" \"y\" \"z\""
            ]
          },
          "metadata": {}
        },
        {
          "output_type": "display_data",
          "data": {
            "text/html": [
              "<style>\n",
              ".list-inline {list-style: none; margin:0; padding: 0}\n",
              ".list-inline>li {display: inline-block}\n",
              ".list-inline>li:not(:last-child)::after {content: \"\\00b7\"; padding: 0 .5ex}\n",
              "</style>\n",
              "<ol class=list-inline><li>'x'</li><li>'z'</li></ol>\n"
            ],
            "text/markdown": "1. 'x'\n2. 'z'\n\n\n",
            "text/latex": "\\begin{enumerate*}\n\\item 'x'\n\\item 'z'\n\\end{enumerate*}\n",
            "text/plain": [
              "[1] \"x\" \"z\""
            ]
          },
          "metadata": {}
        }
      ]
    },
    {
      "cell_type": "code",
      "source": [
        "a.df[ , -which(colnames(a.df) == \"y\")]"
      ],
      "metadata": {
        "colab": {
          "base_uri": "https://localhost:8080/",
          "height": 304
        },
        "id": "3AbFeS9Wfs45",
        "outputId": "e5d1b0ae-cbf3-47ac-ef1a-ff257d89ec0a"
      },
      "execution_count": null,
      "outputs": [
        {
          "output_type": "display_data",
          "data": {
            "text/html": [
              "<table class=\"dataframe\">\n",
              "<caption>A data.frame: 6 × 2</caption>\n",
              "<thead>\n",
              "\t<tr><th scope=col>x</th><th scope=col>z</th></tr>\n",
              "\t<tr><th scope=col>&lt;int&gt;</th><th scope=col>&lt;lgl&gt;</th></tr>\n",
              "</thead>\n",
              "<tbody>\n",
              "\t<tr><td>1</td><td> TRUE</td></tr>\n",
              "\t<tr><td>2</td><td>FALSE</td></tr>\n",
              "\t<tr><td>3</td><td> TRUE</td></tr>\n",
              "\t<tr><td>4</td><td>FALSE</td></tr>\n",
              "\t<tr><td>5</td><td> TRUE</td></tr>\n",
              "\t<tr><td>6</td><td>FALSE</td></tr>\n",
              "</tbody>\n",
              "</table>\n"
            ],
            "text/markdown": "\nA data.frame: 6 × 2\n\n| x &lt;int&gt; | z &lt;lgl&gt; |\n|---|---|\n| 1 |  TRUE |\n| 2 | FALSE |\n| 3 |  TRUE |\n| 4 | FALSE |\n| 5 |  TRUE |\n| 6 | FALSE |\n\n",
            "text/latex": "A data.frame: 6 × 2\n\\begin{tabular}{ll}\n x & z\\\\\n <int> & <lgl>\\\\\n\\hline\n\t 1 &  TRUE\\\\\n\t 2 & FALSE\\\\\n\t 3 &  TRUE\\\\\n\t 4 & FALSE\\\\\n\t 5 &  TRUE\\\\\n\t 6 & FALSE\\\\\n\\end{tabular}\n",
            "text/plain": [
              "  x z    \n",
              "1 1  TRUE\n",
              "2 2 FALSE\n",
              "3 3  TRUE\n",
              "4 4 FALSE\n",
              "5 5  TRUE\n",
              "6 6 FALSE"
            ]
          },
          "metadata": {}
        }
      ]
    },
    {
      "cell_type": "code",
      "source": [
        "a.df[1:6, c(1,3)] <- a.df[6:1, c(3,1)]\n",
        "a.df"
      ],
      "metadata": {
        "colab": {
          "base_uri": "https://localhost:8080/",
          "height": 286
        },
        "id": "3hgvsXnffvDF",
        "outputId": "f41cc545-25a5-4961-ca2f-3a1c83f11cd0"
      },
      "execution_count": null,
      "outputs": [
        {
          "output_type": "display_data",
          "data": {
            "text/html": [
              "<table class=\"dataframe\">\n",
              "<caption>A data.frame: 6 × 3</caption>\n",
              "<thead>\n",
              "\t<tr><th scope=col>x</th><th scope=col>y</th><th scope=col>z</th></tr>\n",
              "\t<tr><th scope=col>&lt;int&gt;</th><th scope=col>&lt;chr&gt;</th><th scope=col>&lt;int&gt;</th></tr>\n",
              "</thead>\n",
              "<tbody>\n",
              "\t<tr><td>0</td><td>a</td><td>6</td></tr>\n",
              "\t<tr><td>1</td><td>a</td><td>5</td></tr>\n",
              "\t<tr><td>0</td><td>a</td><td>4</td></tr>\n",
              "\t<tr><td>1</td><td>a</td><td>3</td></tr>\n",
              "\t<tr><td>0</td><td>a</td><td>2</td></tr>\n",
              "\t<tr><td>1</td><td>a</td><td>1</td></tr>\n",
              "</tbody>\n",
              "</table>\n"
            ],
            "text/markdown": "\nA data.frame: 6 × 3\n\n| x &lt;int&gt; | y &lt;chr&gt; | z &lt;int&gt; |\n|---|---|---|\n| 0 | a | 6 |\n| 1 | a | 5 |\n| 0 | a | 4 |\n| 1 | a | 3 |\n| 0 | a | 2 |\n| 1 | a | 1 |\n\n",
            "text/latex": "A data.frame: 6 × 3\n\\begin{tabular}{lll}\n x & y & z\\\\\n <int> & <chr> & <int>\\\\\n\\hline\n\t 0 & a & 6\\\\\n\t 1 & a & 5\\\\\n\t 0 & a & 4\\\\\n\t 1 & a & 3\\\\\n\t 0 & a & 2\\\\\n\t 1 & a & 1\\\\\n\\end{tabular}\n",
            "text/plain": [
              "  x y z\n",
              "1 0 a 6\n",
              "2 1 a 5\n",
              "3 0 a 4\n",
              "4 1 a 3\n",
              "5 0 a 2\n",
              "6 1 a 1"
            ]
          },
          "metadata": {}
        }
      ]
    },
    {
      "cell_type": "code",
      "source": [
        "my_data_frame.df <- data.frame(A = 1:10, B = 3)\n",
        "my_data_frame.df$C <-\n",
        "(my_data_frame.df$A + my_data_frame.df$B) / my_data_frame.df$A\n",
        "head(my_data_frame.df, 2)"
      ],
      "metadata": {
        "colab": {
          "base_uri": "https://localhost:8080/",
          "height": 161
        },
        "id": "MuOV-gKvfwh5",
        "outputId": "a6460e56-0050-423c-e382-358ceab43ce4"
      },
      "execution_count": null,
      "outputs": [
        {
          "output_type": "display_data",
          "data": {
            "text/html": [
              "<table class=\"dataframe\">\n",
              "<caption>A data.frame: 2 × 3</caption>\n",
              "<thead>\n",
              "\t<tr><th></th><th scope=col>A</th><th scope=col>B</th><th scope=col>C</th></tr>\n",
              "\t<tr><th></th><th scope=col>&lt;int&gt;</th><th scope=col>&lt;dbl&gt;</th><th scope=col>&lt;dbl&gt;</th></tr>\n",
              "</thead>\n",
              "<tbody>\n",
              "\t<tr><th scope=row>1</th><td>1</td><td>3</td><td>4.0</td></tr>\n",
              "\t<tr><th scope=row>2</th><td>2</td><td>3</td><td>2.5</td></tr>\n",
              "</tbody>\n",
              "</table>\n"
            ],
            "text/markdown": "\nA data.frame: 2 × 3\n\n| <!--/--> | A &lt;int&gt; | B &lt;dbl&gt; | C &lt;dbl&gt; |\n|---|---|---|---|\n| 1 | 1 | 3 | 4.0 |\n| 2 | 2 | 3 | 2.5 |\n\n",
            "text/latex": "A data.frame: 2 × 3\n\\begin{tabular}{r|lll}\n  & A & B & C\\\\\n  & <int> & <dbl> & <dbl>\\\\\n\\hline\n\t1 & 1 & 3 & 4.0\\\\\n\t2 & 2 & 3 & 2.5\\\\\n\\end{tabular}\n",
            "text/plain": [
              "  A B C  \n",
              "1 1 3 4.0\n",
              "2 2 3 2.5"
            ]
          },
          "metadata": {}
        }
      ]
    },
    {
      "cell_type": "markdown",
      "source": [
        "2.14.2 Re-arranging columns and rows"
      ],
      "metadata": {
        "id": "VYm8LOQpgIx6"
      }
    },
    {
      "cell_type": "code",
      "source": [
        "my_data_frame.df <- data.frame(A = 1:10, B = 3)\n",
        "head(my_data_frame.df, 2)\n",
        "\n",
        "my_data_frame.df[ , 1:2] <- my_data_frame.df[ , 2:1]\n",
        "head(my_data_frame.df, 2)\n",
        "\n",
        "colnames(my_data_frame.df)[1:2] <- colnames(my_data_frame.df)[2:1]\n",
        "head(my_data_frame.df, 2)"
      ],
      "metadata": {
        "colab": {
          "base_uri": "https://localhost:8080/",
          "height": 448
        },
        "id": "dMgkNkmsgAcd",
        "outputId": "33ecfc4d-bf03-405c-e13a-7bbc724650a6"
      },
      "execution_count": null,
      "outputs": [
        {
          "output_type": "display_data",
          "data": {
            "text/html": [
              "<table class=\"dataframe\">\n",
              "<caption>A data.frame: 2 × 2</caption>\n",
              "<thead>\n",
              "\t<tr><th></th><th scope=col>A</th><th scope=col>B</th></tr>\n",
              "\t<tr><th></th><th scope=col>&lt;int&gt;</th><th scope=col>&lt;dbl&gt;</th></tr>\n",
              "</thead>\n",
              "<tbody>\n",
              "\t<tr><th scope=row>1</th><td>1</td><td>3</td></tr>\n",
              "\t<tr><th scope=row>2</th><td>2</td><td>3</td></tr>\n",
              "</tbody>\n",
              "</table>\n"
            ],
            "text/markdown": "\nA data.frame: 2 × 2\n\n| <!--/--> | A &lt;int&gt; | B &lt;dbl&gt; |\n|---|---|---|\n| 1 | 1 | 3 |\n| 2 | 2 | 3 |\n\n",
            "text/latex": "A data.frame: 2 × 2\n\\begin{tabular}{r|ll}\n  & A & B\\\\\n  & <int> & <dbl>\\\\\n\\hline\n\t1 & 1 & 3\\\\\n\t2 & 2 & 3\\\\\n\\end{tabular}\n",
            "text/plain": [
              "  A B\n",
              "1 1 3\n",
              "2 2 3"
            ]
          },
          "metadata": {}
        },
        {
          "output_type": "display_data",
          "data": {
            "text/html": [
              "<table class=\"dataframe\">\n",
              "<caption>A data.frame: 2 × 2</caption>\n",
              "<thead>\n",
              "\t<tr><th></th><th scope=col>A</th><th scope=col>B</th></tr>\n",
              "\t<tr><th></th><th scope=col>&lt;dbl&gt;</th><th scope=col>&lt;int&gt;</th></tr>\n",
              "</thead>\n",
              "<tbody>\n",
              "\t<tr><th scope=row>1</th><td>3</td><td>1</td></tr>\n",
              "\t<tr><th scope=row>2</th><td>3</td><td>2</td></tr>\n",
              "</tbody>\n",
              "</table>\n"
            ],
            "text/markdown": "\nA data.frame: 2 × 2\n\n| <!--/--> | A &lt;dbl&gt; | B &lt;int&gt; |\n|---|---|---|\n| 1 | 3 | 1 |\n| 2 | 3 | 2 |\n\n",
            "text/latex": "A data.frame: 2 × 2\n\\begin{tabular}{r|ll}\n  & A & B\\\\\n  & <dbl> & <int>\\\\\n\\hline\n\t1 & 3 & 1\\\\\n\t2 & 3 & 2\\\\\n\\end{tabular}\n",
            "text/plain": [
              "  A B\n",
              "1 3 1\n",
              "2 3 2"
            ]
          },
          "metadata": {}
        },
        {
          "output_type": "display_data",
          "data": {
            "text/html": [
              "<table class=\"dataframe\">\n",
              "<caption>A data.frame: 2 × 2</caption>\n",
              "<thead>\n",
              "\t<tr><th></th><th scope=col>B</th><th scope=col>A</th></tr>\n",
              "\t<tr><th></th><th scope=col>&lt;dbl&gt;</th><th scope=col>&lt;int&gt;</th></tr>\n",
              "</thead>\n",
              "<tbody>\n",
              "\t<tr><th scope=row>1</th><td>3</td><td>1</td></tr>\n",
              "\t<tr><th scope=row>2</th><td>3</td><td>2</td></tr>\n",
              "</tbody>\n",
              "</table>\n"
            ],
            "text/markdown": "\nA data.frame: 2 × 2\n\n| <!--/--> | B &lt;dbl&gt; | A &lt;int&gt; |\n|---|---|---|\n| 1 | 3 | 1 |\n| 2 | 3 | 2 |\n\n",
            "text/latex": "A data.frame: 2 × 2\n\\begin{tabular}{r|ll}\n  & B & A\\\\\n  & <dbl> & <int>\\\\\n\\hline\n\t1 & 3 & 1\\\\\n\t2 & 3 & 2\\\\\n\\end{tabular}\n",
            "text/plain": [
              "  B A\n",
              "1 3 1\n",
              "2 3 2"
            ]
          },
          "metadata": {}
        }
      ]
    },
    {
      "cell_type": "markdown",
      "source": [
        "2.15 Attributes of R objects"
      ],
      "metadata": {
        "id": "M9ncKjyBgO2O"
      }
    },
    {
      "cell_type": "code",
      "source": [
        "a.df <- data.frame(x = 1:6, y = \"a\", z = c(TRUE, FALSE))\n",
        "comment(a.df)\n",
        "\n",
        "comment(a.df) <- \"this is stored as a comment\"\n",
        "comment(a.df)"
      ],
      "metadata": {
        "colab": {
          "base_uri": "https://localhost:8080/",
          "height": 52
        },
        "id": "afWXEGg8gDSB",
        "outputId": "3adfda9b-de63-4eee-e39c-73d86f879162"
      },
      "execution_count": null,
      "outputs": [
        {
          "output_type": "display_data",
          "data": {
            "text/plain": [
              "NULL"
            ]
          },
          "metadata": {}
        },
        {
          "output_type": "display_data",
          "data": {
            "text/html": [
              "'this is stored as a comment'"
            ],
            "text/markdown": "'this is stored as a comment'",
            "text/latex": "'this is stored as a comment'",
            "text/plain": [
              "[1] \"this is stored as a comment\""
            ]
          },
          "metadata": {}
        }
      ]
    },
    {
      "cell_type": "code",
      "source": [
        "names(a.df)\n",
        "\n",
        "names(a.df) <- toupper(names(a.df))\n",
        "names(a.df)\n",
        "\n",
        "attr(a.df, \"names\") # same as previous line\n",
        "\n",
        "attr(a.df, \"my.attribute\") <- \"this is stored in my attribute\"\n",
        "attributes(a.df)"
      ],
      "metadata": {
        "colab": {
          "base_uri": "https://localhost:8080/",
          "height": 271
        },
        "id": "18jsKdIkgRrM",
        "outputId": "41826138-c3f7-41ed-ff30-47407c9dc6ac"
      },
      "execution_count": null,
      "outputs": [
        {
          "output_type": "display_data",
          "data": {
            "text/html": [
              "<style>\n",
              ".list-inline {list-style: none; margin:0; padding: 0}\n",
              ".list-inline>li {display: inline-block}\n",
              ".list-inline>li:not(:last-child)::after {content: \"\\00b7\"; padding: 0 .5ex}\n",
              "</style>\n",
              "<ol class=list-inline><li>'x'</li><li>'y'</li><li>'z'</li></ol>\n"
            ],
            "text/markdown": "1. 'x'\n2. 'y'\n3. 'z'\n\n\n",
            "text/latex": "\\begin{enumerate*}\n\\item 'x'\n\\item 'y'\n\\item 'z'\n\\end{enumerate*}\n",
            "text/plain": [
              "[1] \"x\" \"y\" \"z\""
            ]
          },
          "metadata": {}
        },
        {
          "output_type": "display_data",
          "data": {
            "text/html": [
              "<style>\n",
              ".list-inline {list-style: none; margin:0; padding: 0}\n",
              ".list-inline>li {display: inline-block}\n",
              ".list-inline>li:not(:last-child)::after {content: \"\\00b7\"; padding: 0 .5ex}\n",
              "</style>\n",
              "<ol class=list-inline><li>'X'</li><li>'Y'</li><li>'Z'</li></ol>\n"
            ],
            "text/markdown": "1. 'X'\n2. 'Y'\n3. 'Z'\n\n\n",
            "text/latex": "\\begin{enumerate*}\n\\item 'X'\n\\item 'Y'\n\\item 'Z'\n\\end{enumerate*}\n",
            "text/plain": [
              "[1] \"X\" \"Y\" \"Z\""
            ]
          },
          "metadata": {}
        },
        {
          "output_type": "display_data",
          "data": {
            "text/html": [
              "<style>\n",
              ".list-inline {list-style: none; margin:0; padding: 0}\n",
              ".list-inline>li {display: inline-block}\n",
              ".list-inline>li:not(:last-child)::after {content: \"\\00b7\"; padding: 0 .5ex}\n",
              "</style>\n",
              "<ol class=list-inline><li>'X'</li><li>'Y'</li><li>'Z'</li></ol>\n"
            ],
            "text/markdown": "1. 'X'\n2. 'Y'\n3. 'Z'\n\n\n",
            "text/latex": "\\begin{enumerate*}\n\\item 'X'\n\\item 'Y'\n\\item 'Z'\n\\end{enumerate*}\n",
            "text/plain": [
              "[1] \"X\" \"Y\" \"Z\""
            ]
          },
          "metadata": {}
        },
        {
          "output_type": "display_data",
          "data": {
            "text/html": [
              "<dl>\n",
              "\t<dt>$names</dt>\n",
              "\t\t<dd><style>\n",
              ".list-inline {list-style: none; margin:0; padding: 0}\n",
              ".list-inline>li {display: inline-block}\n",
              ".list-inline>li:not(:last-child)::after {content: \"\\00b7\"; padding: 0 .5ex}\n",
              "</style>\n",
              "<ol class=list-inline><li>'X'</li><li>'Y'</li><li>'Z'</li></ol>\n",
              "</dd>\n",
              "\t<dt>$class</dt>\n",
              "\t\t<dd>'data.frame'</dd>\n",
              "\t<dt>$row.names</dt>\n",
              "\t\t<dd><style>\n",
              ".list-inline {list-style: none; margin:0; padding: 0}\n",
              ".list-inline>li {display: inline-block}\n",
              ".list-inline>li:not(:last-child)::after {content: \"\\00b7\"; padding: 0 .5ex}\n",
              "</style>\n",
              "<ol class=list-inline><li>1</li><li>2</li><li>3</li><li>4</li><li>5</li><li>6</li></ol>\n",
              "</dd>\n",
              "\t<dt>$comment</dt>\n",
              "\t\t<dd>'this is stored as a comment'</dd>\n",
              "\t<dt>$my.attribute</dt>\n",
              "\t\t<dd>'this is stored in my attribute'</dd>\n",
              "</dl>\n"
            ],
            "text/markdown": "$names\n:   1. 'X'\n2. 'Y'\n3. 'Z'\n\n\n\n$class\n:   'data.frame'\n$row.names\n:   1. 1\n2. 2\n3. 3\n4. 4\n5. 5\n6. 6\n\n\n\n$comment\n:   'this is stored as a comment'\n$my.attribute\n:   'this is stored in my attribute'\n\n\n",
            "text/latex": "\\begin{description}\n\\item[\\$names] \\begin{enumerate*}\n\\item 'X'\n\\item 'Y'\n\\item 'Z'\n\\end{enumerate*}\n\n\\item[\\$class] 'data.frame'\n\\item[\\$row.names] \\begin{enumerate*}\n\\item 1\n\\item 2\n\\item 3\n\\item 4\n\\item 5\n\\item 6\n\\end{enumerate*}\n\n\\item[\\$comment] 'this is stored as a comment'\n\\item[\\$my.attribute] 'this is stored in my attribute'\n\\end{description}\n",
            "text/plain": [
              "$names\n",
              "[1] \"X\" \"Y\" \"Z\"\n",
              "\n",
              "$class\n",
              "[1] \"data.frame\"\n",
              "\n",
              "$row.names\n",
              "[1] 1 2 3 4 5 6\n",
              "\n",
              "$comment\n",
              "[1] \"this is stored as a comment\"\n",
              "\n",
              "$my.attribute\n",
              "[1] \"this is stored in my attribute\"\n"
            ]
          },
          "metadata": {}
        }
      ]
    },
    {
      "cell_type": "markdown",
      "source": [
        "2.16 Saving and loading data\n",
        "2.16.1 Data sets in R and packages"
      ],
      "metadata": {
        "id": "wOyISUuegWpH"
      }
    },
    {
      "cell_type": "code",
      "source": [
        "data(cars)"
      ],
      "metadata": {
        "id": "oTVIiG7wgUo6"
      },
      "execution_count": null,
      "outputs": []
    },
    {
      "cell_type": "markdown",
      "source": [
        "2.16.2 .rda files"
      ],
      "metadata": {
        "id": "Vhzp7tvCgZMO"
      }
    },
    {
      "cell_type": "code",
      "source": [
        "my.df <- data.frame(x = 1:5, y = 5:1)\n",
        "my.df\n",
        "\n",
        "save(my.df, file = \"my-df.rda\")"
      ],
      "metadata": {
        "colab": {
          "base_uri": "https://localhost:8080/",
          "height": 272
        },
        "id": "rNpJJWeMgYiA",
        "outputId": "6607c475-5ddb-46d5-8a0d-90b78a4ae285"
      },
      "execution_count": null,
      "outputs": [
        {
          "output_type": "display_data",
          "data": {
            "text/html": [
              "<table class=\"dataframe\">\n",
              "<caption>A data.frame: 5 × 2</caption>\n",
              "<thead>\n",
              "\t<tr><th scope=col>x</th><th scope=col>y</th></tr>\n",
              "\t<tr><th scope=col>&lt;int&gt;</th><th scope=col>&lt;int&gt;</th></tr>\n",
              "</thead>\n",
              "<tbody>\n",
              "\t<tr><td>1</td><td>5</td></tr>\n",
              "\t<tr><td>2</td><td>4</td></tr>\n",
              "\t<tr><td>3</td><td>3</td></tr>\n",
              "\t<tr><td>4</td><td>2</td></tr>\n",
              "\t<tr><td>5</td><td>1</td></tr>\n",
              "</tbody>\n",
              "</table>\n"
            ],
            "text/markdown": "\nA data.frame: 5 × 2\n\n| x &lt;int&gt; | y &lt;int&gt; |\n|---|---|\n| 1 | 5 |\n| 2 | 4 |\n| 3 | 3 |\n| 4 | 2 |\n| 5 | 1 |\n\n",
            "text/latex": "A data.frame: 5 × 2\n\\begin{tabular}{ll}\n x & y\\\\\n <int> & <int>\\\\\n\\hline\n\t 1 & 5\\\\\n\t 2 & 4\\\\\n\t 3 & 3\\\\\n\t 4 & 2\\\\\n\t 5 & 1\\\\\n\\end{tabular}\n",
            "text/plain": [
              "  x y\n",
              "1 1 5\n",
              "2 2 4\n",
              "3 3 3\n",
              "4 4 2\n",
              "5 5 1"
            ]
          },
          "metadata": {}
        }
      ]
    },
    {
      "cell_type": "code",
      "source": [
        "rm(my.df)\n",
        "ls(pattern = \"my.df\")"
      ],
      "metadata": {
        "colab": {
          "base_uri": "https://localhost:8080/",
          "height": 17
        },
        "id": "Ckrhi-_Cgc8l",
        "outputId": "69a7d060-e6e7-4889-d946-feca9b7bea1f"
      },
      "execution_count": null,
      "outputs": [
        {
          "output_type": "display_data",
          "data": {
            "text/html": [],
            "text/markdown": "",
            "text/latex": "",
            "text/plain": [
              "character(0)"
            ]
          },
          "metadata": {}
        }
      ]
    },
    {
      "cell_type": "code",
      "source": [
        "load(file = \"my-df.rda\")\n",
        "ls(pattern = \"my.df\")"
      ],
      "metadata": {
        "colab": {
          "base_uri": "https://localhost:8080/",
          "height": 34
        },
        "id": "U_zLs8dsgeG2",
        "outputId": "ac4c8925-6ea2-4672-ef15-60d2c10eeb0c"
      },
      "execution_count": null,
      "outputs": [
        {
          "output_type": "display_data",
          "data": {
            "text/html": [
              "'my.df'"
            ],
            "text/markdown": "'my.df'",
            "text/latex": "'my.df'",
            "text/plain": [
              "[1] \"my.df\""
            ]
          },
          "metadata": {}
        }
      ]
    },
    {
      "cell_type": "code",
      "source": [
        "objcts <- ls(pattern = \"*.df\")\n",
        "save(list = objcts, file = \"my-df1.rda\")"
      ],
      "metadata": {
        "id": "VJkGWV_PgfeR"
      },
      "execution_count": null,
      "outputs": []
    },
    {
      "cell_type": "code",
      "source": [
        "save(list = ls(pattern = \"*.df\"), file = \"my-df1.rda\")"
      ],
      "metadata": {
        "id": "QO92_4RlghGm"
      },
      "execution_count": null,
      "outputs": []
    },
    {
      "cell_type": "code",
      "source": [
        "unlink(c(\"my-df.rda\", \"my-df1.rda\"))"
      ],
      "metadata": {
        "id": "aVZxG7gEgiX4"
      },
      "execution_count": null,
      "outputs": []
    },
    {
      "cell_type": "markdown",
      "source": [
        "2.16.3 .rds files"
      ],
      "metadata": {
        "id": "zOWoK1dtgk6f"
      }
    },
    {
      "cell_type": "code",
      "source": [
        "saveRDS(my.df, \"my-df.rds\")"
      ],
      "metadata": {
        "id": "Kr1-WrP0gjo2"
      },
      "execution_count": null,
      "outputs": []
    },
    {
      "cell_type": "code",
      "source": [
        "readRDS(\"my-df.rds\")"
      ],
      "metadata": {
        "colab": {
          "base_uri": "https://localhost:8080/",
          "height": 272
        },
        "id": "jNTuOllLgmc-",
        "outputId": "28047bfa-8759-4894-e6e8-d3721429cf35"
      },
      "execution_count": null,
      "outputs": [
        {
          "output_type": "display_data",
          "data": {
            "text/html": [
              "<table class=\"dataframe\">\n",
              "<caption>A data.frame: 5 × 2</caption>\n",
              "<thead>\n",
              "\t<tr><th scope=col>x</th><th scope=col>y</th></tr>\n",
              "\t<tr><th scope=col>&lt;int&gt;</th><th scope=col>&lt;int&gt;</th></tr>\n",
              "</thead>\n",
              "<tbody>\n",
              "\t<tr><td>1</td><td>5</td></tr>\n",
              "\t<tr><td>2</td><td>4</td></tr>\n",
              "\t<tr><td>3</td><td>3</td></tr>\n",
              "\t<tr><td>4</td><td>2</td></tr>\n",
              "\t<tr><td>5</td><td>1</td></tr>\n",
              "</tbody>\n",
              "</table>\n"
            ],
            "text/markdown": "\nA data.frame: 5 × 2\n\n| x &lt;int&gt; | y &lt;int&gt; |\n|---|---|\n| 1 | 5 |\n| 2 | 4 |\n| 3 | 3 |\n| 4 | 2 |\n| 5 | 1 |\n\n",
            "text/latex": "A data.frame: 5 × 2\n\\begin{tabular}{ll}\n x & y\\\\\n <int> & <int>\\\\\n\\hline\n\t 1 & 5\\\\\n\t 2 & 4\\\\\n\t 3 & 3\\\\\n\t 4 & 2\\\\\n\t 5 & 1\\\\\n\\end{tabular}\n",
            "text/plain": [
              "  x y\n",
              "1 1 5\n",
              "2 2 4\n",
              "3 3 3\n",
              "4 4 2\n",
              "5 5 1"
            ]
          },
          "metadata": {}
        }
      ]
    },
    {
      "cell_type": "code",
      "source": [
        "my_read.df <- readRDS(\"my-df.rds\")\n",
        "identical(my.df, my_read.df)"
      ],
      "metadata": {
        "colab": {
          "base_uri": "https://localhost:8080/",
          "height": 34
        },
        "id": "1JzDHb8VgnnD",
        "outputId": "904c91c7-3ed8-4955-c5d7-27297e63cf34"
      },
      "execution_count": null,
      "outputs": [
        {
          "output_type": "display_data",
          "data": {
            "text/html": [
              "TRUE"
            ],
            "text/markdown": "TRUE",
            "text/latex": "TRUE",
            "text/plain": [
              "[1] TRUE"
            ]
          },
          "metadata": {}
        }
      ]
    },
    {
      "cell_type": "code",
      "source": [
        "unlink(\"my-df.rds\")"
      ],
      "metadata": {
        "id": "vVLxnLM8goyC"
      },
      "execution_count": null,
      "outputs": []
    },
    {
      "cell_type": "markdown",
      "source": [
        "2.17 Looking at data"
      ],
      "metadata": {
        "id": "eMO8IaHVgq8B"
      }
    },
    {
      "cell_type": "code",
      "source": [
        "class(cars)\n",
        "\n",
        "nrow(cars)\n",
        "\n",
        "ncol(cars)\n",
        "\n",
        "names(cars)\n",
        "\n",
        "head(cars)\n",
        "\n",
        "tail(cars)\n",
        "\n",
        "str(cars)"
      ],
      "metadata": {
        "colab": {
          "base_uri": "https://localhost:8080/",
          "height": 677
        },
        "id": "wdLZTyKTgpwH",
        "outputId": "759e7d02-f8e9-4030-f553-ff47236909b4"
      },
      "execution_count": null,
      "outputs": [
        {
          "output_type": "display_data",
          "data": {
            "text/html": [
              "'data.frame'"
            ],
            "text/markdown": "'data.frame'",
            "text/latex": "'data.frame'",
            "text/plain": [
              "[1] \"data.frame\""
            ]
          },
          "metadata": {}
        },
        {
          "output_type": "display_data",
          "data": {
            "text/html": [
              "50"
            ],
            "text/markdown": "50",
            "text/latex": "50",
            "text/plain": [
              "[1] 50"
            ]
          },
          "metadata": {}
        },
        {
          "output_type": "display_data",
          "data": {
            "text/html": [
              "2"
            ],
            "text/markdown": "2",
            "text/latex": "2",
            "text/plain": [
              "[1] 2"
            ]
          },
          "metadata": {}
        },
        {
          "output_type": "display_data",
          "data": {
            "text/html": [
              "<style>\n",
              ".list-inline {list-style: none; margin:0; padding: 0}\n",
              ".list-inline>li {display: inline-block}\n",
              ".list-inline>li:not(:last-child)::after {content: \"\\00b7\"; padding: 0 .5ex}\n",
              "</style>\n",
              "<ol class=list-inline><li>'speed'</li><li>'dist'</li></ol>\n"
            ],
            "text/markdown": "1. 'speed'\n2. 'dist'\n\n\n",
            "text/latex": "\\begin{enumerate*}\n\\item 'speed'\n\\item 'dist'\n\\end{enumerate*}\n",
            "text/plain": [
              "[1] \"speed\" \"dist\" "
            ]
          },
          "metadata": {}
        },
        {
          "output_type": "display_data",
          "data": {
            "text/html": [
              "<table class=\"dataframe\">\n",
              "<caption>A data.frame: 6 × 2</caption>\n",
              "<thead>\n",
              "\t<tr><th></th><th scope=col>speed</th><th scope=col>dist</th></tr>\n",
              "\t<tr><th></th><th scope=col>&lt;dbl&gt;</th><th scope=col>&lt;dbl&gt;</th></tr>\n",
              "</thead>\n",
              "<tbody>\n",
              "\t<tr><th scope=row>1</th><td>4</td><td> 2</td></tr>\n",
              "\t<tr><th scope=row>2</th><td>4</td><td>10</td></tr>\n",
              "\t<tr><th scope=row>3</th><td>7</td><td> 4</td></tr>\n",
              "\t<tr><th scope=row>4</th><td>7</td><td>22</td></tr>\n",
              "\t<tr><th scope=row>5</th><td>8</td><td>16</td></tr>\n",
              "\t<tr><th scope=row>6</th><td>9</td><td>10</td></tr>\n",
              "</tbody>\n",
              "</table>\n"
            ],
            "text/markdown": "\nA data.frame: 6 × 2\n\n| <!--/--> | speed &lt;dbl&gt; | dist &lt;dbl&gt; |\n|---|---|---|\n| 1 | 4 |  2 |\n| 2 | 4 | 10 |\n| 3 | 7 |  4 |\n| 4 | 7 | 22 |\n| 5 | 8 | 16 |\n| 6 | 9 | 10 |\n\n",
            "text/latex": "A data.frame: 6 × 2\n\\begin{tabular}{r|ll}\n  & speed & dist\\\\\n  & <dbl> & <dbl>\\\\\n\\hline\n\t1 & 4 &  2\\\\\n\t2 & 4 & 10\\\\\n\t3 & 7 &  4\\\\\n\t4 & 7 & 22\\\\\n\t5 & 8 & 16\\\\\n\t6 & 9 & 10\\\\\n\\end{tabular}\n",
            "text/plain": [
              "  speed dist\n",
              "1 4      2  \n",
              "2 4     10  \n",
              "3 7      4  \n",
              "4 7     22  \n",
              "5 8     16  \n",
              "6 9     10  "
            ]
          },
          "metadata": {}
        },
        {
          "output_type": "display_data",
          "data": {
            "text/html": [
              "<table class=\"dataframe\">\n",
              "<caption>A data.frame: 6 × 2</caption>\n",
              "<thead>\n",
              "\t<tr><th></th><th scope=col>speed</th><th scope=col>dist</th></tr>\n",
              "\t<tr><th></th><th scope=col>&lt;dbl&gt;</th><th scope=col>&lt;dbl&gt;</th></tr>\n",
              "</thead>\n",
              "<tbody>\n",
              "\t<tr><th scope=row>45</th><td>23</td><td> 54</td></tr>\n",
              "\t<tr><th scope=row>46</th><td>24</td><td> 70</td></tr>\n",
              "\t<tr><th scope=row>47</th><td>24</td><td> 92</td></tr>\n",
              "\t<tr><th scope=row>48</th><td>24</td><td> 93</td></tr>\n",
              "\t<tr><th scope=row>49</th><td>24</td><td>120</td></tr>\n",
              "\t<tr><th scope=row>50</th><td>25</td><td> 85</td></tr>\n",
              "</tbody>\n",
              "</table>\n"
            ],
            "text/markdown": "\nA data.frame: 6 × 2\n\n| <!--/--> | speed &lt;dbl&gt; | dist &lt;dbl&gt; |\n|---|---|---|\n| 45 | 23 |  54 |\n| 46 | 24 |  70 |\n| 47 | 24 |  92 |\n| 48 | 24 |  93 |\n| 49 | 24 | 120 |\n| 50 | 25 |  85 |\n\n",
            "text/latex": "A data.frame: 6 × 2\n\\begin{tabular}{r|ll}\n  & speed & dist\\\\\n  & <dbl> & <dbl>\\\\\n\\hline\n\t45 & 23 &  54\\\\\n\t46 & 24 &  70\\\\\n\t47 & 24 &  92\\\\\n\t48 & 24 &  93\\\\\n\t49 & 24 & 120\\\\\n\t50 & 25 &  85\\\\\n\\end{tabular}\n",
            "text/plain": [
              "   speed dist\n",
              "45 23     54 \n",
              "46 24     70 \n",
              "47 24     92 \n",
              "48 24     93 \n",
              "49 24    120 \n",
              "50 25     85 "
            ]
          },
          "metadata": {}
        },
        {
          "output_type": "stream",
          "name": "stdout",
          "text": [
            "'data.frame':\t50 obs. of  2 variables:\n",
            " $ speed: num  4 4 7 7 8 9 10 10 10 11 ...\n",
            " $ dist : num  2 10 4 22 16 10 18 26 34 17 ...\n"
          ]
        }
      ]
    },
    {
      "cell_type": "code",
      "source": [
        "sapply(X = cars, FUN = class)"
      ],
      "metadata": {
        "colab": {
          "base_uri": "https://localhost:8080/",
          "height": 34
        },
        "id": "q3YCmvW2gu23",
        "outputId": "fa656c80-5e7b-43de-e95e-63db976ade00"
      },
      "execution_count": null,
      "outputs": [
        {
          "output_type": "display_data",
          "data": {
            "text/html": [
              "<style>\n",
              ".dl-inline {width: auto; margin:0; padding: 0}\n",
              ".dl-inline>dt, .dl-inline>dd {float: none; width: auto; display: inline-block}\n",
              ".dl-inline>dt::after {content: \":\\0020\"; padding-right: .5ex}\n",
              ".dl-inline>dt:not(:first-of-type) {padding-left: .5ex}\n",
              "</style><dl class=dl-inline><dt>speed</dt><dd>'numeric'</dd><dt>dist</dt><dd>'numeric'</dd></dl>\n"
            ],
            "text/markdown": "speed\n:   'numeric'dist\n:   'numeric'\n\n",
            "text/latex": "\\begin{description*}\n\\item[speed] 'numeric'\n\\item[dist] 'numeric'\n\\end{description*}\n",
            "text/plain": [
              "    speed      dist \n",
              "\"numeric\" \"numeric\" "
            ]
          },
          "metadata": {}
        }
      ]
    },
    {
      "cell_type": "code",
      "source": [
        "summary(cars)\n",
        "\n",
        "sapply(cars, range)"
      ],
      "metadata": {
        "colab": {
          "base_uri": "https://localhost:8080/",
          "height": 268
        },
        "id": "yCd82x1VgzrQ",
        "outputId": "83d6a6d3-6d6b-4adb-c9ce-e83a80135dae"
      },
      "execution_count": null,
      "outputs": [
        {
          "output_type": "display_data",
          "data": {
            "text/plain": [
              "     speed           dist       \n",
              " Min.   : 4.0   Min.   :  2.00  \n",
              " 1st Qu.:12.0   1st Qu.: 26.00  \n",
              " Median :15.0   Median : 36.00  \n",
              " Mean   :15.4   Mean   : 42.98  \n",
              " 3rd Qu.:19.0   3rd Qu.: 56.00  \n",
              " Max.   :25.0   Max.   :120.00  "
            ]
          },
          "metadata": {}
        },
        {
          "output_type": "display_data",
          "data": {
            "text/html": [
              "<table class=\"dataframe\">\n",
              "<caption>A matrix: 2 × 2 of type dbl</caption>\n",
              "<thead>\n",
              "\t<tr><th scope=col>speed</th><th scope=col>dist</th></tr>\n",
              "</thead>\n",
              "<tbody>\n",
              "\t<tr><td> 4</td><td>  2</td></tr>\n",
              "\t<tr><td>25</td><td>120</td></tr>\n",
              "</tbody>\n",
              "</table>\n"
            ],
            "text/markdown": "\nA matrix: 2 × 2 of type dbl\n\n| speed | dist |\n|---|---|\n|  4 |   2 |\n| 25 | 120 |\n\n",
            "text/latex": "A matrix: 2 × 2 of type dbl\n\\begin{tabular}{ll}\n speed & dist\\\\\n\\hline\n\t  4 &   2\\\\\n\t 25 & 120\\\\\n\\end{tabular}\n",
            "text/plain": [
              "     speed dist\n",
              "[1,]  4      2 \n",
              "[2,] 25    120 "
            ]
          },
          "metadata": {}
        }
      ]
    },
    {
      "cell_type": "markdown",
      "source": [
        "2.18 Plotting"
      ],
      "metadata": {
        "id": "XrUIvDytg3gk"
      }
    },
    {
      "cell_type": "code",
      "source": [
        "plot(x = cars$speed, y = cars$dist)"
      ],
      "metadata": {
        "colab": {
          "base_uri": "https://localhost:8080/",
          "height": 437
        },
        "id": "G15o2XApg2OZ",
        "outputId": "b3049a8c-bd96-43dd-beaa-485a5781a346"
      },
      "execution_count": null,
      "outputs": [
        {
          "output_type": "display_data",
          "data": {
            "text/plain": [
              "plot without title"
            ],
            "image/png": "[encoded data removed]"
          },
          "metadata": {
            "image/png": {
              "width": 420,
              "height": 420
            }
          }
        }
      ]
    },
    {
      "cell_type": "code",
      "source": [
        "plot(dist ~ speed, data = cars)"
      ],
      "metadata": {
        "colab": {
          "base_uri": "https://localhost:8080/",
          "height": 437
        },
        "id": "XRFb3gAbg5Pd",
        "outputId": "43e12790-06fe-4e0b-c7f1-56369a910e56"
      },
      "execution_count": null,
      "outputs": [
        {
          "output_type": "display_data",
          "data": {
            "text/plain": [
              "plot without title"
            ],
            "image/png": "[encoded data removed]"
          },
          "metadata": {
            "image/png": {
              "width": 420,
              "height": 420
            }
          }
        }
      ]
    },
    {
      "cell_type": "code",
      "source": [
        "plot(weight ~ feed, data = chickwts)"
      ],
      "metadata": {
        "colab": {
          "base_uri": "https://localhost:8080/",
          "height": 437
        },
        "id": "pT-z4X_Ng62i",
        "outputId": "be4e9f4c-b0b1-4f10-be16-e2cc4dbe33db"
      },
      "execution_count": null,
      "outputs": [
        {
          "output_type": "display_data",
          "data": {
            "text/plain": [
              "plot without title"
            ],
            "image/png": "[encoded data removed]"
          },
          "metadata": {
            "image/png": {
              "width": 420,
              "height": 420
            }
          }
        }
      ]
    },
    {
      "cell_type": "code",
      "source": [
        "pdf(file = \"output/my-file.pdf\", width = 6, height = 5, onefile = TRUE)\n",
        "plot(dist ~ speed, data = cars)\n",
        "plot(weight ~ feed, data = chickwts)\n",
        "dev.off()"
      ],
      "metadata": {
        "colab": {
          "base_uri": "https://localhost:8080/",
          "height": 140
        },
        "id": "eLR0QPalg9Hh",
        "outputId": "1dfec4af-f4af-480f-963e-0f47646bbb8d"
      },
      "execution_count": null,
      "outputs": [
        {
          "output_type": "error",
          "ename": "ERROR",
          "evalue": "ignored",
          "traceback": [
            "Error in pdf(file = \"output/my-file.pdf\", width = 6, height = 5, onefile = TRUE): cannot open file 'output/my-file.pdf'\nTraceback:\n",
            "1. pdf(file = \"output/my-file.pdf\", width = 6, height = 5, onefile = TRUE)"
          ]
        }
      ]
    },
    {
      "cell_type": "code",
      "source": [
        "png(file = \"output/my-file.png\", width = 600, height = 500)\n",
        "plot(weight ~ feed, data = chickwts)\n",
        "dev.off()"
      ],
      "metadata": {
        "colab": {
          "base_uri": "https://localhost:8080/",
          "height": 1000
        },
        "id": "w0m_8inMg-nb",
        "outputId": "99f1ae30-5679-44ad-ac50-eeecd1f076cd"
      },
      "execution_count": null,
      "outputs": [
        {
          "output_type": "error",
          "ename": "ERROR",
          "evalue": "ignored",
          "traceback": [
            "Error in plot.new(): could not open file 'output/my-file.png'\nTraceback:\n",
            "1. plot(weight ~ feed, data = chickwts)",
            "2. plot.formula(weight ~ feed, data = chickwts)",
            "3. do.call(funname, c(list(mf[[i]], y, ylab = yl, xlab = xl), dots))",
            "4. plot(structure(c(2L, 2L, 2L, 2L, 2L, 2L, 2L, 2L, 2L, 2L, 3L, \n . 3L, 3L, 3L, 3L, 3L, 3L, 3L, 3L, 3L, 3L, 3L, 5L, 5L, 5L, 5L, 5L, \n . 5L, 5L, 5L, 5L, 5L, 5L, 5L, 5L, 5L, 6L, 6L, 6L, 6L, 6L, 6L, 6L, \n . 6L, 6L, 6L, 6L, 6L, 4L, 4L, 4L, 4L, 4L, 4L, 4L, 4L, 4L, 4L, 4L, \n . 1L, 1L, 1L, 1L, 1L, 1L, 1L, 1L, 1L, 1L, 1L, 1L), levels = c(\"casein\", \n . \"horsebean\", \"linseed\", \"meatmeal\", \"soybean\", \"sunflower\"), class = \"factor\"), \n .     c(179, 160, 136, 227, 217, 168, 108, 124, 143, 140, 309, \n .     229, 181, 141, 260, 203, 148, 169, 213, 257, 244, 271, 243, \n .     230, 248, 327, 329, 250, 193, 271, 316, 267, 199, 171, 158, \n .     248, 423, 340, 392, 339, 341, 226, 320, 295, 334, 322, 297, \n .     318, 325, 257, 303, 315, 380, 153, 263, 242, 206, 344, 258, \n .     368, 390, 379, 260, 404, 318, 352, 359, 216, 222, 283, 332\n .     ), ylab = \"weight\", xlab = \"feed\")",
            "5. plot.factor(structure(c(2L, 2L, 2L, 2L, 2L, 2L, 2L, 2L, 2L, 2L, \n . 3L, 3L, 3L, 3L, 3L, 3L, 3L, 3L, 3L, 3L, 3L, 3L, 5L, 5L, 5L, 5L, \n . 5L, 5L, 5L, 5L, 5L, 5L, 5L, 5L, 5L, 5L, 6L, 6L, 6L, 6L, 6L, 6L, \n . 6L, 6L, 6L, 6L, 6L, 6L, 4L, 4L, 4L, 4L, 4L, 4L, 4L, 4L, 4L, 4L, \n . 4L, 1L, 1L, 1L, 1L, 1L, 1L, 1L, 1L, 1L, 1L, 1L, 1L), levels = c(\"casein\", \n . \"horsebean\", \"linseed\", \"meatmeal\", \"soybean\", \"sunflower\"), class = \"factor\"), \n .     c(179, 160, 136, 227, 217, 168, 108, 124, 143, 140, 309, \n .     229, 181, 141, 260, 203, 148, 169, 213, 257, 244, 271, 243, \n .     230, 248, 327, 329, 250, 193, 271, 316, 267, 199, 171, 158, \n .     248, 423, 340, 392, 339, 341, 226, 320, 295, 334, 322, 297, \n .     318, 325, 257, 303, 315, 380, 153, 263, 242, 206, 344, 258, \n .     368, 390, 379, 260, 404, 318, 352, 359, 216, 222, 283, 332\n .     ), ylab = \"weight\", xlab = \"feed\")",
            "6. boxplot(y ~ x, ...)",
            "7. boxplot.formula(y ~ x, ...)",
            "8. boxplot(split(mf[[response]], mf[-response], drop = drop, sep = sep, \n .     lex.order = lex.order), xlab = xlab, ylab = ylab, add = add, \n .     ann = ann, horizontal = horizontal, ...)",
            "9. boxplot.default(split(mf[[response]], mf[-response], drop = drop, \n .     sep = sep, lex.order = lex.order), xlab = xlab, ylab = ylab, \n .     add = add, ann = ann, horizontal = horizontal, ...)",
            "10. do.call(bxp, c(list(z, notch = notch, width = width, varwidth = varwidth, \n  .     log = log, border = border, pars = pars, outline = outline, \n  .     horizontal = horizontal, add = add, ann = ann, at = at), \n  .     args[namedargs]), quote = TRUE)",
            "11. (function (z, notch = FALSE, width = NULL, varwidth = FALSE, \n  .     outline = TRUE, notch.frac = 0.5, log = \"\", border = par(\"fg\"), \n  .     pars = NULL, frame.plot = axes, horizontal = FALSE, ann = TRUE, \n  .     add = FALSE, at = NULL, show.names = NULL, ...) \n  . {\n  .     pars <- as.list(pars)\n  .     if (...length()) {\n  .         nmsA <- names(args <- list(...))\n  .         if (anyDuplicated(nmsA)) {\n  .             iD <- duplicated(nmsA)\n  .             warning(sprintf(ngettext(sum(iD), \"Duplicated argument %s is disregarded\", \n  .                 \"Duplicated arguments %s are disregarded\"), sub(\"^list\\\\((.*)\\\\)\", \n  .                 \"\\\\1\", deparse(args[iD]))), domain = NA)\n  .             nmsA <- names(args <- args[!iD])\n  .         }\n  .         pars[nmsA] <- args\n  .     }\n  .     bplt <- function(x, wid, stats, out, conf, notch, xlog, i) {\n  .         ok <- TRUE\n  .         if (!anyNA(stats)) {\n  .             xP <- if (xlog) \n  .                 function(x, w) x * exp(w)\n  .             else function(x, w) x + w\n  .             wid <- wid/2\n  .             if (notch) {\n  .                 ok <- stats[2L] <= conf[1L] && conf[2L] <= stats[4L]\n  .                 xx <- xP(x, wid * c(-1, 1, 1, notch.frac, 1, \n  .                   1, -1, -1, -notch.frac, -1))\n  .                 yy <- c(stats[c(2, 2)], conf[1L], stats[3L], \n  .                   conf[2L], stats[c(4, 4)], conf[2L], stats[3L], \n  .                   conf[1L])\n  .             }\n  .             else {\n  .                 xx <- xP(x, wid * c(-1, 1, 1, -1))\n  .                 yy <- stats[c(2, 2, 4, 4)]\n  .             }\n  .             if (!notch) \n  .                 notch.frac <- 1\n  .             wntch <- notch.frac * wid\n  .             xypolygon(xx, yy, lty = \"blank\", col = boxfill[i])\n  .             xysegments(xP(x, -wntch), stats[3L], xP(x, +wntch), \n  .                 stats[3L], lty = medlty[i], lwd = medlwd[i], \n  .                 col = medcol[i], lend = 1)\n  .             xypoints(x, stats[3L], pch = medpch[i], cex = medcex[i], \n  .                 col = medcol[i], bg = medbg[i])\n  .             xysegments(rep.int(x, 2), stats[c(1, 5)], rep.int(x, \n  .                 2), stats[c(2, 4)], lty = whisklty[i], lwd = whisklwd[i], \n  .                 col = whiskcol[i])\n  .             xysegments(rep.int(xP(x, -wid * staplewex[i]), 2), \n  .                 stats[c(1, 5)], rep.int(xP(x, +wid * staplewex[i]), \n  .                   2), stats[c(1, 5)], lty = staplelty[i], lwd = staplelwd[i], \n  .                 col = staplecol[i])\n  .             xypolygon(xx, yy, lty = boxlty[i], lwd = boxlwd[i], \n  .                 border = boxcol[i])\n  .             if ((nout <- length(out))) {\n  .                 xysegments(rep(x - wid * outwex, nout), out, \n  .                   rep(x + wid * outwex, nout), out, lty = outlty[i], \n  .                   lwd = outlwd[i], col = outcol[i])\n  .                 xypoints(rep.int(x, nout), out, pch = outpch[i], \n  .                   lwd = outlwd[i], cex = outcex[i], col = outcol[i], \n  .                   bg = outbg[i])\n  .             }\n  .             if (any(inf <- !is.finite(out))) {\n  .                 warning(sprintf(ngettext(length(unique(out[inf])), \n  .                   \"Outlier (%s) in boxplot %d is not drawn\", \n  .                   \"Outliers (%s) in boxplot %d are not drawn\"), \n  .                   paste(unique(out[inf]), collapse = \", \"), i), \n  .                   domain = NA)\n  .             }\n  .         }\n  .         return(ok)\n  .     }\n  .     if (!is.list(z) || 0L == (n <- length(z$n))) \n  .         stop(\"invalid first argument\")\n  .     if (is.null(at)) \n  .         at <- 1L:n\n  .     else if (length(at) != n) \n  .         stop(gettextf(\"'at' must have same length as 'z$n', i.e. %d\", \n  .             n), domain = NA)\n  .     if (is.null(z$out)) \n  .         z$out <- numeric()\n  .     if (is.null(z$group) || !outline) \n  .         z$group <- integer()\n  .     if (is.null(pars$ylim)) \n  .         ylim <- range(z$stats[is.finite(z$stats)], if (outline) z$out[is.finite(z$out)], \n  .             if (notch) z$conf[is.finite(z$conf)])\n  .     else {\n  .         ylim <- pars$ylim\n  .         pars$ylim <- NULL\n  .     }\n  .     if (length(border) == 0L) \n  .         border <- par(\"fg\")\n  .     dev.hold()\n  .     on.exit(dev.flush())\n  .     if (!add) {\n  .         if (is.null(pars$xlim)) \n  .             xlim <- range(at, finite = TRUE) + c(-0.5, 0.5)\n  .         else {\n  .             xlim <- pars$xlim\n  .             pars$xlim <- NULL\n  .         }\n  .         plot.new()\n  .         if (horizontal) \n  .             plot.window(ylim = xlim, xlim = ylim, log = log, \n  .                 xaxs = pars$yaxs)\n  .         else plot.window(xlim = xlim, ylim = ylim, log = log, \n  .             yaxs = pars$yaxs)\n  .     }\n  .     xlog <- (par(\"ylog\") && horizontal) || (par(\"xlog\") && !horizontal)\n  .     pcycle <- function(p, def1, def2 = NULL) rep(if (length(p)) p else if (length(def1)) def1 else def2, \n  .         length.out = n)\n  .     p <- function(sym) pars[[sym, exact = TRUE]]\n  .     boxlty <- pcycle(pars$boxlty, p(\"lty\"), par(\"lty\"))\n  .     boxlwd <- pcycle(pars$boxlwd, p(\"lwd\"), par(\"lwd\"))\n  .     boxcol <- pcycle(pars$boxcol, border)\n  .     boxfill <- pcycle(pars$boxfill, par(\"bg\"))\n  .     boxwex <- pcycle(pars$boxwex, 0.8 * {\n  .         if (n <= 1) \n  .             1\n  .         else stats::quantile(diff(sort(if (xlog) \n  .             log(at)\n  .         else at)), 0.1)\n  .     })\n  .     medlty <- pcycle(pars$medlty, p(\"lty\"), par(\"lty\"))\n  .     medlwd <- pcycle(pars$medlwd, 3 * p(\"lwd\"), 3 * par(\"lwd\"))\n  .     medpch <- pcycle(pars$medpch, NA_integer_)\n  .     medcex <- pcycle(pars$medcex, p(\"cex\"), par(\"cex\"))\n  .     medcol <- pcycle(pars$medcol, border)\n  .     medbg <- pcycle(pars$medbg, p(\"bg\"), par(\"bg\"))\n  .     whisklty <- pcycle(pars$whisklty, p(\"lty\"), \"dashed\")\n  .     whisklwd <- pcycle(pars$whisklwd, p(\"lwd\"), par(\"lwd\"))\n  .     whiskcol <- pcycle(pars$whiskcol, border)\n  .     staplelty <- pcycle(pars$staplelty, p(\"lty\"), par(\"lty\"))\n  .     staplelwd <- pcycle(pars$staplelwd, p(\"lwd\"), par(\"lwd\"))\n  .     staplecol <- pcycle(pars$staplecol, border)\n  .     staplewex <- pcycle(pars$staplewex, 0.5)\n  .     outlty <- pcycle(pars$outlty, \"blank\")\n  .     outlwd <- pcycle(pars$outlwd, p(\"lwd\"), par(\"lwd\"))\n  .     outpch <- pcycle(pars$outpch, p(\"pch\"), par(\"pch\"))\n  .     outcex <- pcycle(pars$outcex, p(\"cex\"), par(\"cex\"))\n  .     outcol <- pcycle(pars$outcol, border)\n  .     outbg <- pcycle(pars$outbg, p(\"bg\"), par(\"bg\"))\n  .     outwex <- pcycle(pars$outwex, 0.5)\n  .     width <- if (!is.null(width)) {\n  .         if (length(width) != n || anyNA(width) || any(width <= \n  .             0)) \n  .             stop(\"invalid boxplot widths\")\n  .         boxwex * width/max(width)\n  .     }\n  .     else if (varwidth) \n  .         boxwex * sqrt(z$n/max(z$n))\n  .     else if (n == 1) \n  .         0.5 * boxwex\n  .     else rep.int(boxwex, n)\n  .     if (horizontal) {\n  .         xypoints <- function(x, y, ...) points(y, x, ...)\n  .         xypolygon <- function(x, y, ...) polygon(y, x, ...)\n  .         xysegments <- function(x0, y0, x1, y1, ...) segments(y0, \n  .             x0, y1, x1, ...)\n  .     }\n  .     else {\n  .         xypoints <- points\n  .         xypolygon <- polygon\n  .         xysegments <- segments\n  .     }\n  .     ok <- TRUE\n  .     for (i in 1L:n) ok <- ok & bplt(at[i], wid = width[i], stats = z$stats[, \n  .         i], out = z$out[z$group == i], conf = z$conf[, i], notch = notch, \n  .         xlog = xlog, i = i)\n  .     if (!ok) \n  .         warning(\"some notches went outside hinges ('box'): maybe set notch=FALSE\")\n  .     axes <- is.null(pars$axes)\n  .     if (!axes) {\n  .         axes <- pars$axes\n  .         pars$axes <- NULL\n  .     }\n  .     if (axes) {\n  .         ax.pars <- pars[names(pars) %in% c(\"xaxt\", \"yaxt\", \"xaxp\", \n  .             \"yaxp\", \"gap.axis\", \"las\", \"cex.axis\", \"col.axis\", \n  .             \"format\")]\n  .         if (is.null(show.names)) \n  .             show.names <- n > 1\n  .         if (show.names) \n  .             do.call(\"axis\", c(list(side = 1 + horizontal, at = at, \n  .                 labels = z$names), ax.pars), quote = TRUE)\n  .         do.call(\"Axis\", c(list(x = z$stats, side = 2 - horizontal), \n  .             ax.pars), quote = TRUE)\n  .     }\n  .     if (ann) \n  .         do.call(title, pars[names(pars) %in% c(\"main\", \"cex.main\", \n  .             \"col.main\", \"sub\", \"cex.sub\", \"col.sub\", \"xlab\", \n  .             \"ylab\", \"cex.lab\", \"col.lab\")], quote = TRUE)\n  .     if (frame.plot) \n  .         box()\n  .     invisible(at)\n  . })(base::quote(list(stats = structure(c(216, 271.5, 342, 373.5, \n  . 404, 108, 136, 151.5, 179, 227, 141, 175, 221, 258.5, 309, 153, \n  . 249.5, 263, 320, 380, 158, 199, 248, 271, 329, 295, 307.5, 328, \n  . 340.5, 341), dim = 5:6), n = c(12, 10, 12, 11, 14, 12), conf = structure(c(295.4771153087, \n  . 388.5228846913, 130.015485576816, 172.984514423184, 182.915089492906, \n  . 259.084910507094, 229.414651327483, 296.585348672517, 217.596361120043, \n  . 278.403638879957, 312.948478482226, 343.051521517774), dim = c(2L, \n  . 6L)), out = c(423, 392, 226), group = c(6, 6, 6), names = c(\"casein\", \n  . \"horsebean\", \"linseed\", \"meatmeal\", \"soybean\", \"sunflower\"))), \n  .     notch = base::quote(FALSE), width = base::quote(NULL), varwidth = base::quote(FALSE), \n  .     log = base::quote(\"\"), border = base::quote(\"black\"), pars = base::quote(list(\n  .         boxwex = 0.8, staplewex = 0.5, outwex = 0.5, boxfill = \"lightgray\")), \n  .     outline = base::quote(TRUE), horizontal = base::quote(FALSE), \n  .     add = base::quote(FALSE), ann = base::quote(TRUE), at = base::quote(NULL), \n  .     xlab = base::quote(\"feed\"), ylab = base::quote(\"weight\"))",
            "12. plot.new()"
          ]
        }
      ]
    },
    {
      "cell_type": "markdown",
      "source": [
        "2.19 Further reading"
      ],
      "metadata": {
        "id": "WwLijMtBhCoD"
      }
    },
    {
      "cell_type": "markdown",
      "source": [
        "3\n",
        "The R language: “Paragraphs” and “essays”"
      ],
      "metadata": {
        "id": "2laAHx1LhFIv"
      }
    },
    {
      "cell_type": "markdown",
      "source": [
        "3.1 Aims of this chapter"
      ],
      "metadata": {
        "id": "NiWVWVY4hF-E"
      }
    },
    {
      "cell_type": "markdown",
      "source": [
        "3.2 Writing scripts"
      ],
      "metadata": {
        "id": "5qIVfziRhIam"
      }
    },
    {
      "cell_type": "markdown",
      "source": [
        "3.2.1 What is a script?"
      ],
      "metadata": {
        "id": "qGz4jQbihKIy"
      }
    },
    {
      "cell_type": "markdown",
      "source": [
        "3.2.2 How do we use a script?"
      ],
      "metadata": {
        "id": "RFxKj6INhL0-"
      }
    },
    {
      "cell_type": "code",
      "source": [
        "# this is my first R script\n",
        "#print(3 + 4)\n",
        "#and then source this file:\n",
        "#source(\"my.first.script.r\")\n",
        "## [1] 7"
      ],
      "metadata": {
        "id": "YVHJD5xShA85"
      },
      "execution_count": null,
      "outputs": []
    },
    {
      "cell_type": "markdown",
      "source": [
        "3.2.3 How to write a script"
      ],
      "metadata": {
        "id": "A2boN15ehf4w"
      }
    },
    {
      "cell_type": "markdown",
      "source": [
        "3.2.4 The need to be understandable to people"
      ],
      "metadata": {
        "id": "SFCac31hhj1E"
      }
    },
    {
      "cell_type": "code",
      "source": [
        "a <- 2 # height\n",
        "b <- 4 # length\n",
        "C <-\n",
        "a *\n",
        "b\n",
        "C -> variable\n",
        "print(\n",
        "\"area: \", variable\n",
        ")"
      ],
      "metadata": {
        "colab": {
          "base_uri": "https://localhost:8080/"
        },
        "id": "Zoguw-MphdUL",
        "outputId": "8933a323-c45e-4336-ca5e-3736dc107f07"
      },
      "execution_count": null,
      "outputs": [
        {
          "output_type": "stream",
          "name": "stdout",
          "text": [
            "[1] \"area: \"\n"
          ]
        }
      ]
    },
    {
      "cell_type": "markdown",
      "source": [
        "3.3.1 Compound statements"
      ],
      "metadata": {
        "id": "-iobEwbJhv9G"
      }
    },
    {
      "cell_type": "code",
      "source": [
        "print(\"A\")\n",
        "\n",
        "{\n",
        "print(\"B\")\n",
        "print(\"C\")\n",
        "}"
      ],
      "metadata": {
        "colab": {
          "base_uri": "https://localhost:8080/"
        },
        "id": "GTUDmsF5hoXN",
        "outputId": "106cd195-3912-4d5d-a6b6-5304b4cd5be7"
      },
      "execution_count": null,
      "outputs": [
        {
          "output_type": "stream",
          "name": "stdout",
          "text": [
            "[1] \"A\"\n",
            "[1] \"B\"\n",
            "[1] \"C\"\n"
          ]
        }
      ]
    },
    {
      "cell_type": "markdown",
      "source": [
        "3.3.2 Conditional execution"
      ],
      "metadata": {
        "id": "xUHKNeVdh1Uh"
      }
    },
    {
      "cell_type": "markdown",
      "source": [
        "3.3.2.1 Non-vectorized if, else and switch"
      ],
      "metadata": {
        "id": "37GvpqBvh3QB"
      }
    },
    {
      "cell_type": "code",
      "source": [
        "flag <- TRUE\n",
        "if (flag) print(\"Hello!\")"
      ],
      "metadata": {
        "colab": {
          "base_uri": "https://localhost:8080/"
        },
        "id": "tuYKQY6Whzet",
        "outputId": "43f95017-8f37-4ecd-8306-cc096ebf8107"
      },
      "execution_count": null,
      "outputs": [
        {
          "output_type": "stream",
          "name": "stdout",
          "text": [
            "[1] \"Hello!\"\n"
          ]
        }
      ]
    },
    {
      "cell_type": "code",
      "source": [
        "printing <- TRUE\n",
        "if (printing) {\n",
        "print(\"A\")\n",
        "print(\"B\")\n",
        "}"
      ],
      "metadata": {
        "colab": {
          "base_uri": "https://localhost:8080/"
        },
        "id": "QSlgko6Eh43i",
        "outputId": "1878a17b-565b-4175-d281-eb0a105a6b1e"
      },
      "execution_count": null,
      "outputs": [
        {
          "output_type": "stream",
          "name": "stdout",
          "text": [
            "[1] \"A\"\n",
            "[1] \"B\"\n"
          ]
        }
      ]
    },
    {
      "cell_type": "code",
      "source": [
        "a <- 10.0\n",
        "if (a < 0.0) print(\"'a' is negative\") else print(\"'a' is not negative\")\n",
        "\n",
        "print(\"This is always printed\")"
      ],
      "metadata": {
        "colab": {
          "base_uri": "https://localhost:8080/"
        },
        "id": "KXVDdtSTh6g2",
        "outputId": "ace3542c-317f-4ccf-a8ed-7abf97383f7e"
      },
      "execution_count": null,
      "outputs": [
        {
          "output_type": "stream",
          "name": "stdout",
          "text": [
            "[1] \"'a' is not negative\"\n",
            "[1] \"This is always printed\"\n"
          ]
        }
      ]
    },
    {
      "cell_type": "code",
      "source": [
        "a <- 1\n",
        "my.message <-\n",
        "if (a < 0.0) \"'a' is negative\" else \"'a' is not negative\"\n",
        "print(my.message)"
      ],
      "metadata": {
        "colab": {
          "base_uri": "https://localhost:8080/"
        },
        "id": "rfUQp24rh88f",
        "outputId": "85346b18-c033-4815-b82d-09666c64fcbd"
      },
      "execution_count": null,
      "outputs": [
        {
          "output_type": "stream",
          "name": "stdout",
          "text": [
            "[1] \"'a' is not negative\"\n"
          ]
        }
      ]
    },
    {
      "cell_type": "code",
      "source": [
        "my.object <- \"two\"\n",
        "b <- switch(my.object,\n",
        "one = 1,\n",
        "two = 1 / 2,\n",
        "three = 1 / 4,\n",
        "0\n",
        "\n",
        ")\n",
        "b"
      ],
      "metadata": {
        "colab": {
          "base_uri": "https://localhost:8080/",
          "height": 34
        },
        "id": "KshaUK3Rh_iw",
        "outputId": "b1c2a608-b2e4-45cc-a5f2-97fec9f17d5c"
      },
      "execution_count": null,
      "outputs": [
        {
          "output_type": "display_data",
          "data": {
            "text/html": [
              "0.5"
            ],
            "text/markdown": "0.5",
            "text/latex": "0.5",
            "text/plain": [
              "[1] 0.5"
            ]
          },
          "metadata": {}
        }
      ]
    },
    {
      "cell_type": "markdown",
      "source": [
        "3.3.2.2 Vectorized ifelse()"
      ],
      "metadata": {
        "id": "TN_KRC0_iDuv"
      }
    },
    {
      "cell_type": "code",
      "source": [
        "my.test <- c(TRUE, FALSE, TRUE, TRUE)\n",
        "ifelse(test = my.test, yes = 1, no = -1)"
      ],
      "metadata": {
        "colab": {
          "base_uri": "https://localhost:8080/",
          "height": 34
        },
        "id": "7h0QDng-iBli",
        "outputId": "f249c1b7-b4fa-4ff3-a59f-a1d1222ed739"
      },
      "execution_count": null,
      "outputs": [
        {
          "output_type": "display_data",
          "data": {
            "text/html": [
              "<style>\n",
              ".list-inline {list-style: none; margin:0; padding: 0}\n",
              ".list-inline>li {display: inline-block}\n",
              ".list-inline>li:not(:last-child)::after {content: \"\\00b7\"; padding: 0 .5ex}\n",
              "</style>\n",
              "<ol class=list-inline><li>1</li><li>-1</li><li>1</li><li>1</li></ol>\n"
            ],
            "text/markdown": "1. 1\n2. -1\n3. 1\n4. 1\n\n\n",
            "text/latex": "\\begin{enumerate*}\n\\item 1\n\\item -1\n\\item 1\n\\item 1\n\\end{enumerate*}\n",
            "text/plain": [
              "[1]  1 -1  1  1"
            ]
          },
          "metadata": {}
        }
      ]
    },
    {
      "cell_type": "code",
      "source": [
        "nums <- -3:+3\n",
        "ifelse(nums < 0, -nums, nums)"
      ],
      "metadata": {
        "colab": {
          "base_uri": "https://localhost:8080/",
          "height": 34
        },
        "id": "9GanWHF0iFbv",
        "outputId": "799cb42f-9109-40ef-c08d-12fd72074184"
      },
      "execution_count": null,
      "outputs": [
        {
          "output_type": "display_data",
          "data": {
            "text/html": [
              "<style>\n",
              ".list-inline {list-style: none; margin:0; padding: 0}\n",
              ".list-inline>li {display: inline-block}\n",
              ".list-inline>li:not(:last-child)::after {content: \"\\00b7\"; padding: 0 .5ex}\n",
              "</style>\n",
              "<ol class=list-inline><li>3</li><li>2</li><li>1</li><li>0</li><li>1</li><li>2</li><li>3</li></ol>\n"
            ],
            "text/markdown": "1. 3\n2. 2\n3. 1\n4. 0\n5. 1\n6. 2\n7. 3\n\n\n",
            "text/latex": "\\begin{enumerate*}\n\\item 3\n\\item 2\n\\item 1\n\\item 0\n\\item 1\n\\item 2\n\\item 3\n\\end{enumerate*}\n",
            "text/plain": [
              "[1] 3 2 1 0 1 2 3"
            ]
          },
          "metadata": {}
        }
      ]
    },
    {
      "cell_type": "markdown",
      "source": [
        "3.3.3 Iteration\n",
        "3.3.3.1 for loops"
      ],
      "metadata": {
        "id": "Ho5I0CgjiJQi"
      }
    },
    {
      "cell_type": "code",
      "source": [
        "b <- 0\n",
        "for (a in 1:5) b <- b + a\n",
        "b\n",
        "\n",
        "b <- sum(1:5) # built-in function (faster)\n",
        "b"
      ],
      "metadata": {
        "colab": {
          "base_uri": "https://localhost:8080/",
          "height": 52
        },
        "id": "s5CAeutqiGg0",
        "outputId": "c2242dbe-65da-4bfa-b1c1-082ceda386fd"
      },
      "execution_count": null,
      "outputs": [
        {
          "output_type": "display_data",
          "data": {
            "text/html": [
              "15"
            ],
            "text/markdown": "15",
            "text/latex": "15",
            "text/plain": [
              "[1] 15"
            ]
          },
          "metadata": {}
        },
        {
          "output_type": "display_data",
          "data": {
            "text/html": [
              "15"
            ],
            "text/markdown": "15",
            "text/latex": "15",
            "text/plain": [
              "[1] 15"
            ]
          },
          "metadata": {}
        }
      ]
    },
    {
      "cell_type": "code",
      "source": [
        "a <- c(1, 4, 3, 6, 8)\n",
        "for(x in a) {print(x*2)} # print is needed!"
      ],
      "metadata": {
        "colab": {
          "base_uri": "https://localhost:8080/"
        },
        "id": "rRO3JHmqiNCa",
        "outputId": "234b1e39-61b7-458f-dacb-e3f77d928083"
      },
      "execution_count": null,
      "outputs": [
        {
          "output_type": "stream",
          "name": "stdout",
          "text": [
            "[1] 2\n",
            "[1] 8\n",
            "[1] 6\n",
            "[1] 12\n",
            "[1] 16\n"
          ]
        }
      ]
    },
    {
      "cell_type": "code",
      "source": [
        "b <- for(x in a) {x*2}\n",
        "b\n",
        "\n",
        "b <- numeric()\n",
        "for(i in seq(along.with = a)) {\n",
        "b[i] <- a[i]^2\n",
        "print(b)\n",
        "}\n",
        "\n",
        "b\n",
        "\n",
        "b <- numeric(length(a))\n",
        "for(i in seq(along.with = a)) {\n",
        "b[i] <- a[i]^2\n",
        "print(b)\n",
        "}\n",
        "\n",
        "b\n",
        "\n",
        "b <- a^2\n",
        "b"
      ],
      "metadata": {
        "colab": {
          "base_uri": "https://localhost:8080/",
          "height": 260
        },
        "id": "lB8myNGXiOe9",
        "outputId": "7b24152d-1289-4bfb-b772-fa2bb5c374ad"
      },
      "execution_count": null,
      "outputs": [
        {
          "output_type": "display_data",
          "data": {
            "text/plain": [
              "NULL"
            ]
          },
          "metadata": {}
        },
        {
          "output_type": "stream",
          "name": "stdout",
          "text": [
            "[1] 1\n",
            "[1]  1 16\n",
            "[1]  1 16  9\n",
            "[1]  1 16  9 36\n",
            "[1]  1 16  9 36 64\n"
          ]
        },
        {
          "output_type": "display_data",
          "data": {
            "text/html": [
              "<style>\n",
              ".list-inline {list-style: none; margin:0; padding: 0}\n",
              ".list-inline>li {display: inline-block}\n",
              ".list-inline>li:not(:last-child)::after {content: \"\\00b7\"; padding: 0 .5ex}\n",
              "</style>\n",
              "<ol class=list-inline><li>1</li><li>16</li><li>9</li><li>36</li><li>64</li></ol>\n"
            ],
            "text/markdown": "1. 1\n2. 16\n3. 9\n4. 36\n5. 64\n\n\n",
            "text/latex": "\\begin{enumerate*}\n\\item 1\n\\item 16\n\\item 9\n\\item 36\n\\item 64\n\\end{enumerate*}\n",
            "text/plain": [
              "[1]  1 16  9 36 64"
            ]
          },
          "metadata": {}
        },
        {
          "output_type": "stream",
          "name": "stdout",
          "text": [
            "[1] 1 0 0 0 0\n",
            "[1]  1 16  0  0  0\n",
            "[1]  1 16  9  0  0\n",
            "[1]  1 16  9 36  0\n",
            "[1]  1 16  9 36 64\n"
          ]
        },
        {
          "output_type": "display_data",
          "data": {
            "text/html": [
              "<style>\n",
              ".list-inline {list-style: none; margin:0; padding: 0}\n",
              ".list-inline>li {display: inline-block}\n",
              ".list-inline>li:not(:last-child)::after {content: \"\\00b7\"; padding: 0 .5ex}\n",
              "</style>\n",
              "<ol class=list-inline><li>1</li><li>16</li><li>9</li><li>36</li><li>64</li></ol>\n"
            ],
            "text/markdown": "1. 1\n2. 16\n3. 9\n4. 36\n5. 64\n\n\n",
            "text/latex": "\\begin{enumerate*}\n\\item 1\n\\item 16\n\\item 9\n\\item 36\n\\item 64\n\\end{enumerate*}\n",
            "text/plain": [
              "[1]  1 16  9 36 64"
            ]
          },
          "metadata": {}
        },
        {
          "output_type": "display_data",
          "data": {
            "text/html": [
              "<style>\n",
              ".list-inline {list-style: none; margin:0; padding: 0}\n",
              ".list-inline>li {display: inline-block}\n",
              ".list-inline>li:not(:last-child)::after {content: \"\\00b7\"; padding: 0 .5ex}\n",
              "</style>\n",
              "<ol class=list-inline><li>1</li><li>16</li><li>9</li><li>36</li><li>64</li></ol>\n"
            ],
            "text/markdown": "1. 1\n2. 16\n3. 9\n4. 36\n5. 64\n\n\n",
            "text/latex": "\\begin{enumerate*}\n\\item 1\n\\item 16\n\\item 9\n\\item 36\n\\item 64\n\\end{enumerate*}\n",
            "text/plain": [
              "[1]  1 16  9 36 64"
            ]
          },
          "metadata": {}
        }
      ]
    },
    {
      "cell_type": "markdown",
      "source": [
        "3.3.3.2 while loops"
      ],
      "metadata": {
        "id": "238mlvbli_Y2"
      }
    },
    {
      "cell_type": "code",
      "source": [
        "a <- 2\n",
        "while (a < 50) {\n",
        "print(a)\n",
        "a <- a^2\n",
        "}\n",
        "\n",
        "print(a)"
      ],
      "metadata": {
        "colab": {
          "base_uri": "https://localhost:8080/"
        },
        "id": "moG33lMPi73q",
        "outputId": "1a802aff-055b-4694-fca9-6ee6507063aa"
      },
      "execution_count": null,
      "outputs": [
        {
          "output_type": "stream",
          "name": "stdout",
          "text": [
            "[1] 2\n",
            "[1] 4\n",
            "[1] 16\n",
            "[1] 256\n"
          ]
        }
      ]
    },
    {
      "cell_type": "markdown",
      "source": [
        "3.3.3.3 repeat loops"
      ],
      "metadata": {
        "id": "JKiE0suHjEKC"
      }
    },
    {
      "cell_type": "code",
      "source": [
        "a <- 2\n",
        "repeat{\n",
        "print(a)\n",
        "if (a > 50) break()\n",
        "a <- a^2\n",
        "}"
      ],
      "metadata": {
        "colab": {
          "base_uri": "https://localhost:8080/"
        },
        "id": "hfIyS44gjCUX",
        "outputId": "8434eda0-ac37-43f4-9f9d-ca07a2fd7853"
      },
      "execution_count": null,
      "outputs": [
        {
          "output_type": "stream",
          "name": "stdout",
          "text": [
            "[1] 2\n",
            "[1] 4\n",
            "[1] 16\n",
            "[1] 256\n"
          ]
        }
      ]
    },
    {
      "cell_type": "markdown",
      "source": [
        "3.3.4 Explicit loops can be slow in R"
      ],
      "metadata": {
        "id": "td8ZA_5NjIZP"
      }
    },
    {
      "cell_type": "code",
      "source": [
        "system.time({a <- numeric()\n",
        "for (i in 1:1000000) {\n",
        "a[i] <- i / 1000\n",
        "}\n",
        "})"
      ],
      "metadata": {
        "colab": {
          "base_uri": "https://localhost:8080/",
          "height": 52
        },
        "id": "nUH0roYBjFsM",
        "outputId": "c6fd4171-8a35-4b0e-ae97-783267e44fa8"
      },
      "execution_count": null,
      "outputs": [
        {
          "output_type": "display_data",
          "data": {
            "text/plain": [
              "   user  system elapsed \n",
              "  0.221   0.018   0.239 "
            ]
          },
          "metadata": {}
        }
      ]
    },
    {
      "cell_type": "code",
      "source": [
        "a <- rnorm(10^7)"
      ],
      "metadata": {
        "id": "qxonUhqijJ9J"
      },
      "execution_count": null,
      "outputs": []
    },
    {
      "cell_type": "markdown",
      "source": [
        "3.3.5 Nesting of loops"
      ],
      "metadata": {
        "id": "RNUlXe-NjW2X"
      }
    },
    {
      "cell_type": "code",
      "source": [
        "A <- matrix(1:50, 10)\n",
        "A\n"
      ],
      "metadata": {
        "colab": {
          "base_uri": "https://localhost:8080/",
          "height": 365
        },
        "id": "c1-f4efsjSLa",
        "outputId": "b7e066e4-db4b-45c3-9171-8031cce59ecc"
      },
      "execution_count": null,
      "outputs": [
        {
          "output_type": "display_data",
          "data": {
            "text/html": [
              "<table class=\"dataframe\">\n",
              "<caption>A matrix: 10 × 5 of type int</caption>\n",
              "<tbody>\n",
              "\t<tr><td> 1</td><td>11</td><td>21</td><td>31</td><td>41</td></tr>\n",
              "\t<tr><td> 2</td><td>12</td><td>22</td><td>32</td><td>42</td></tr>\n",
              "\t<tr><td> 3</td><td>13</td><td>23</td><td>33</td><td>43</td></tr>\n",
              "\t<tr><td> 4</td><td>14</td><td>24</td><td>34</td><td>44</td></tr>\n",
              "\t<tr><td> 5</td><td>15</td><td>25</td><td>35</td><td>45</td></tr>\n",
              "\t<tr><td> 6</td><td>16</td><td>26</td><td>36</td><td>46</td></tr>\n",
              "\t<tr><td> 7</td><td>17</td><td>27</td><td>37</td><td>47</td></tr>\n",
              "\t<tr><td> 8</td><td>18</td><td>28</td><td>38</td><td>48</td></tr>\n",
              "\t<tr><td> 9</td><td>19</td><td>29</td><td>39</td><td>49</td></tr>\n",
              "\t<tr><td>10</td><td>20</td><td>30</td><td>40</td><td>50</td></tr>\n",
              "</tbody>\n",
              "</table>\n"
            ],
            "text/markdown": "\nA matrix: 10 × 5 of type int\n\n|  1 | 11 | 21 | 31 | 41 |\n|  2 | 12 | 22 | 32 | 42 |\n|  3 | 13 | 23 | 33 | 43 |\n|  4 | 14 | 24 | 34 | 44 |\n|  5 | 15 | 25 | 35 | 45 |\n|  6 | 16 | 26 | 36 | 46 |\n|  7 | 17 | 27 | 37 | 47 |\n|  8 | 18 | 28 | 38 | 48 |\n|  9 | 19 | 29 | 39 | 49 |\n| 10 | 20 | 30 | 40 | 50 |\n\n",
            "text/latex": "A matrix: 10 × 5 of type int\n\\begin{tabular}{lllll}\n\t  1 & 11 & 21 & 31 & 41\\\\\n\t  2 & 12 & 22 & 32 & 42\\\\\n\t  3 & 13 & 23 & 33 & 43\\\\\n\t  4 & 14 & 24 & 34 & 44\\\\\n\t  5 & 15 & 25 & 35 & 45\\\\\n\t  6 & 16 & 26 & 36 & 46\\\\\n\t  7 & 17 & 27 & 37 & 47\\\\\n\t  8 & 18 & 28 & 38 & 48\\\\\n\t  9 & 19 & 29 & 39 & 49\\\\\n\t 10 & 20 & 30 & 40 & 50\\\\\n\\end{tabular}\n",
            "text/plain": [
              "      [,1] [,2] [,3] [,4] [,5]\n",
              " [1,]  1   11   21   31   41  \n",
              " [2,]  2   12   22   32   42  \n",
              " [3,]  3   13   23   33   43  \n",
              " [4,]  4   14   24   34   44  \n",
              " [5,]  5   15   25   35   45  \n",
              " [6,]  6   16   26   36   46  \n",
              " [7,]  7   17   27   37   47  \n",
              " [8,]  8   18   28   38   48  \n",
              " [9,]  9   19   29   39   49  \n",
              "[10,] 10   20   30   40   50  "
            ]
          },
          "metadata": {}
        }
      ]
    },
    {
      "cell_type": "code",
      "source": [
        "row.sum <- numeric()\n",
        "for (i in 1:nrow(A)) {\n",
        "row.sum[i] <- 0\n",
        "for (j in 1:ncol(A))\n",
        "row.sum[i] <- row.sum[i] + A[i, j]\n",
        "}\n",
        "print(row.sum)"
      ],
      "metadata": {
        "colab": {
          "base_uri": "https://localhost:8080/"
        },
        "id": "qsZibQa-jbFL",
        "outputId": "47b8cb0a-2488-4c9a-ddb9-ebf87c4520c6"
      },
      "execution_count": null,
      "outputs": [
        {
          "output_type": "stream",
          "name": "stdout",
          "text": [
            " [1] 105 110 115 120 125 130 135 140 145 150\n"
          ]
        }
      ]
    },
    {
      "cell_type": "markdown",
      "source": [
        "3.3.5.1 Clean-up"
      ],
      "metadata": {
        "id": "dw4pyxwXjeXQ"
      }
    },
    {
      "cell_type": "code",
      "source": [
        "file.create(\"temp.file\")\n",
        "\n",
        "on.exit(file.remove(\"temp.file\"))"
      ],
      "metadata": {
        "colab": {
          "base_uri": "https://localhost:8080/",
          "height": 34
        },
        "id": "ThKNnOpkjcbO",
        "outputId": "94e96ab1-77dd-4268-bfda-a0db9b2aa713"
      },
      "execution_count": null,
      "outputs": [
        {
          "output_type": "display_data",
          "data": {
            "text/html": [
              "TRUE"
            ],
            "text/markdown": "TRUE",
            "text/latex": "TRUE",
            "text/plain": [
              "[1] TRUE"
            ]
          },
          "metadata": {}
        }
      ]
    },
    {
      "cell_type": "markdown",
      "source": [
        "3.4 Apply functions"
      ],
      "metadata": {
        "id": "pb0VQ6WTj7QE"
      }
    },
    {
      "cell_type": "markdown",
      "source": [
        "3.4.1 Applying functions to vectors and lists"
      ],
      "metadata": {
        "id": "ZIOqZoDOj8xI"
      }
    },
    {
      "cell_type": "code",
      "source": [
        "set.seed(123456) # so that a.vector does not change\n",
        "a.vector <- runif(6) # A short vector as input to keep output short\n",
        "str(a.vector)"
      ],
      "metadata": {
        "colab": {
          "base_uri": "https://localhost:8080/"
        },
        "id": "E7O_l87vjhAk",
        "outputId": "1b7ed194-70ed-428f-9ea3-9df160fda87f"
      },
      "execution_count": null,
      "outputs": [
        {
          "output_type": "stream",
          "name": "stdout",
          "text": [
            " num [1:6] 0.798 0.754 0.391 0.342 0.361 ...\n"
          ]
        }
      ]
    },
    {
      "cell_type": "code",
      "source": [
        "my.fun <- function(x, k) {log(x) + k}"
      ],
      "metadata": {
        "id": "aT4iM8VnkAAT"
      },
      "execution_count": null,
      "outputs": []
    },
    {
      "cell_type": "code",
      "source": [
        "z <- lapply(X = a.vector, FUN = my.fun, k = 5)\n",
        "str(z)"
      ],
      "metadata": {
        "colab": {
          "base_uri": "https://localhost:8080/"
        },
        "id": "vjpH51IBkBeU",
        "outputId": "d1350055-4cdc-4fc3-b9f8-6874357f92f6"
      },
      "execution_count": null,
      "outputs": [
        {
          "output_type": "stream",
          "name": "stdout",
          "text": [
            "List of 6\n",
            " $ : num 4.77\n",
            " $ : num 4.72\n",
            " $ : num 4.06\n",
            " $ : num 3.93\n",
            " $ : num 3.98\n",
            " $ : num 3.38\n"
          ]
        }
      ]
    },
    {
      "cell_type": "code",
      "source": [
        "z <- sapply(X = a.vector, FUN = my.fun, k = 5)\n",
        "str(z)"
      ],
      "metadata": {
        "colab": {
          "base_uri": "https://localhost:8080/"
        },
        "id": "y4SrXTQ9kCX_",
        "outputId": "df34adb3-c8cc-45ff-f503-3e5ac52631d4"
      },
      "execution_count": null,
      "outputs": [
        {
          "output_type": "stream",
          "name": "stdout",
          "text": [
            " num [1:6] 4.77 4.72 4.06 3.93 3.98 ...\n"
          ]
        }
      ]
    },
    {
      "cell_type": "code",
      "source": [
        "z <- sapply(X = a.vector, FUN = my.fun, k = 5, simplify = FALSE)\n",
        "str(z)"
      ],
      "metadata": {
        "colab": {
          "base_uri": "https://localhost:8080/"
        },
        "id": "DBvmRDMakDSF",
        "outputId": "9131524d-1615-4fdd-dafd-f3878cf5c6b5"
      },
      "execution_count": null,
      "outputs": [
        {
          "output_type": "stream",
          "name": "stdout",
          "text": [
            "List of 6\n",
            " $ : num 4.77\n",
            " $ : num 4.72\n",
            " $ : num 4.06\n",
            " $ : num 3.93\n",
            " $ : num 3.98\n",
            " $ : num 3.38\n"
          ]
        }
      ]
    },
    {
      "cell_type": "code",
      "source": [
        "z <- sapply(X = a.vector, FUN = function(x, k) {log(x) + k}, k = 5)\n",
        "str(z)"
      ],
      "metadata": {
        "colab": {
          "base_uri": "https://localhost:8080/"
        },
        "id": "DeEkQ586kEpi",
        "outputId": "9935b8bf-7254-436b-9d05-71d817010648"
      },
      "execution_count": null,
      "outputs": [
        {
          "output_type": "stream",
          "name": "stdout",
          "text": [
            " num [1:6] 4.77 4.72 4.06 3.93 3.98 ...\n"
          ]
        }
      ]
    },
    {
      "cell_type": "code",
      "source": [
        "z <- log(a.vector) + 5\n",
        "str(z)"
      ],
      "metadata": {
        "colab": {
          "base_uri": "https://localhost:8080/"
        },
        "id": "DTAC7L85kGkD",
        "outputId": "5b65fbca-2b1a-46fe-abee-8f9da912f007"
      },
      "execution_count": null,
      "outputs": [
        {
          "output_type": "stream",
          "name": "stdout",
          "text": [
            " num [1:6] 4.77 4.72 4.06 3.93 3.98 ...\n"
          ]
        }
      ]
    },
    {
      "cell_type": "markdown",
      "source": [
        "3.4.2 Applying functions to matrices and arrays"
      ],
      "metadata": {
        "id": "HOZ0tGzgkJZA"
      }
    },
    {
      "cell_type": "code",
      "source": [
        "a.matrix <- matrix(runif(100), ncol = 10)\n",
        "z <- apply(a.matrix, MARGIN = 1, FUN = mean)\n",
        "str(z)"
      ],
      "metadata": {
        "colab": {
          "base_uri": "https://localhost:8080/"
        },
        "id": "BVhCS_kwkHkk",
        "outputId": "c1f09674-065c-4652-8104-2fac423bb2b8"
      },
      "execution_count": null,
      "outputs": [
        {
          "output_type": "stream",
          "name": "stdout",
          "text": [
            " num [1:10] 0.656 0.552 0.477 0.345 0.292 ...\n"
          ]
        }
      ]
    },
    {
      "cell_type": "code",
      "source": [
        "a.small.matrix <- matrix(rnorm(6, mean = 10, sd = 1), ncol = 2)\n",
        "a.small.matrix <- round(a.small.matrix, digits = 1)\n",
        "a.small.matrix"
      ],
      "metadata": {
        "colab": {
          "base_uri": "https://localhost:8080/",
          "height": 163
        },
        "id": "s9Qc3r2dkLD7",
        "outputId": "042e43f8-879c-4b26-fd26-e23cdbc57bf7"
      },
      "execution_count": null,
      "outputs": [
        {
          "output_type": "display_data",
          "data": {
            "text/html": [
              "<table class=\"dataframe\">\n",
              "<caption>A matrix: 3 × 2 of type dbl</caption>\n",
              "<tbody>\n",
              "\t<tr><td>11.5</td><td>8.9</td></tr>\n",
              "\t<tr><td>11.5</td><td>8.5</td></tr>\n",
              "\t<tr><td> 9.7</td><td>9.7</td></tr>\n",
              "</tbody>\n",
              "</table>\n"
            ],
            "text/markdown": "\nA matrix: 3 × 2 of type dbl\n\n| 11.5 | 8.9 |\n| 11.5 | 8.5 |\n|  9.7 | 9.7 |\n\n",
            "text/latex": "A matrix: 3 × 2 of type dbl\n\\begin{tabular}{ll}\n\t 11.5 & 8.9\\\\\n\t 11.5 & 8.5\\\\\n\t  9.7 & 9.7\\\\\n\\end{tabular}\n",
            "text/plain": [
              "     [,1] [,2]\n",
              "[1,] 11.5 8.9 \n",
              "[2,] 11.5 8.5 \n",
              "[3,]  9.7 9.7 "
            ]
          },
          "metadata": {}
        }
      ]
    },
    {
      "cell_type": "code",
      "source": [
        "no_op.fun <- function(x) {x}"
      ],
      "metadata": {
        "id": "ZcK8oDCwkMN6"
      },
      "execution_count": null,
      "outputs": []
    },
    {
      "cell_type": "code",
      "source": [
        "z <- apply(X = a.small.matrix, MARGIN = 2, FUN = no_op.fun)\n",
        "class(z)\n",
        "\n",
        "z"
      ],
      "metadata": {
        "colab": {
          "base_uri": "https://localhost:8080/",
          "height": 181
        },
        "id": "0fqx4c-bkNg6",
        "outputId": "6f3f28d8-0300-4443-89d6-54800e186237"
      },
      "execution_count": null,
      "outputs": [
        {
          "output_type": "display_data",
          "data": {
            "text/html": [
              "<style>\n",
              ".list-inline {list-style: none; margin:0; padding: 0}\n",
              ".list-inline>li {display: inline-block}\n",
              ".list-inline>li:not(:last-child)::after {content: \"\\00b7\"; padding: 0 .5ex}\n",
              "</style>\n",
              "<ol class=list-inline><li>'matrix'</li><li>'array'</li></ol>\n"
            ],
            "text/markdown": "1. 'matrix'\n2. 'array'\n\n\n",
            "text/latex": "\\begin{enumerate*}\n\\item 'matrix'\n\\item 'array'\n\\end{enumerate*}\n",
            "text/plain": [
              "[1] \"matrix\" \"array\" "
            ]
          },
          "metadata": {}
        },
        {
          "output_type": "display_data",
          "data": {
            "text/html": [
              "<table class=\"dataframe\">\n",
              "<caption>A matrix: 3 × 2 of type dbl</caption>\n",
              "<tbody>\n",
              "\t<tr><td>11.5</td><td>8.9</td></tr>\n",
              "\t<tr><td>11.5</td><td>8.5</td></tr>\n",
              "\t<tr><td> 9.7</td><td>9.7</td></tr>\n",
              "</tbody>\n",
              "</table>\n"
            ],
            "text/markdown": "\nA matrix: 3 × 2 of type dbl\n\n| 11.5 | 8.9 |\n| 11.5 | 8.5 |\n|  9.7 | 9.7 |\n\n",
            "text/latex": "A matrix: 3 × 2 of type dbl\n\\begin{tabular}{ll}\n\t 11.5 & 8.9\\\\\n\t 11.5 & 8.5\\\\\n\t  9.7 & 9.7\\\\\n\\end{tabular}\n",
            "text/plain": [
              "     [,1] [,2]\n",
              "[1,] 11.5 8.9 \n",
              "[2,] 11.5 8.5 \n",
              "[3,]  9.7 9.7 "
            ]
          },
          "metadata": {}
        }
      ]
    },
    {
      "cell_type": "code",
      "source": [
        "z <- apply(X = a.small.matrix, MARGIN = 1, FUN = no_op.fun)\n",
        "z\n",
        "\n",
        "t(z)"
      ],
      "metadata": {
        "colab": {
          "base_uri": "https://localhost:8080/",
          "height": 261
        },
        "id": "COYCcok9kPgs",
        "outputId": "b6683e5f-3c27-4da5-8027-129080879940"
      },
      "execution_count": null,
      "outputs": [
        {
          "output_type": "display_data",
          "data": {
            "text/html": [
              "<table class=\"dataframe\">\n",
              "<caption>A matrix: 2 × 3 of type dbl</caption>\n",
              "<tbody>\n",
              "\t<tr><td>11.5</td><td>11.5</td><td>9.7</td></tr>\n",
              "\t<tr><td> 8.9</td><td> 8.5</td><td>9.7</td></tr>\n",
              "</tbody>\n",
              "</table>\n"
            ],
            "text/markdown": "\nA matrix: 2 × 3 of type dbl\n\n| 11.5 | 11.5 | 9.7 |\n|  8.9 |  8.5 | 9.7 |\n\n",
            "text/latex": "A matrix: 2 × 3 of type dbl\n\\begin{tabular}{lll}\n\t 11.5 & 11.5 & 9.7\\\\\n\t  8.9 &  8.5 & 9.7\\\\\n\\end{tabular}\n",
            "text/plain": [
              "     [,1] [,2] [,3]\n",
              "[1,] 11.5 11.5 9.7 \n",
              "[2,]  8.9  8.5 9.7 "
            ]
          },
          "metadata": {}
        },
        {
          "output_type": "display_data",
          "data": {
            "text/html": [
              "<table class=\"dataframe\">\n",
              "<caption>A matrix: 3 × 2 of type dbl</caption>\n",
              "<tbody>\n",
              "\t<tr><td>11.5</td><td>8.9</td></tr>\n",
              "\t<tr><td>11.5</td><td>8.5</td></tr>\n",
              "\t<tr><td> 9.7</td><td>9.7</td></tr>\n",
              "</tbody>\n",
              "</table>\n"
            ],
            "text/markdown": "\nA matrix: 3 × 2 of type dbl\n\n| 11.5 | 8.9 |\n| 11.5 | 8.5 |\n|  9.7 | 9.7 |\n\n",
            "text/latex": "A matrix: 3 × 2 of type dbl\n\\begin{tabular}{ll}\n\t 11.5 & 8.9\\\\\n\t 11.5 & 8.5\\\\\n\t  9.7 & 9.7\\\\\n\\end{tabular}\n",
            "text/plain": [
              "     [,1] [,2]\n",
              "[1,] 11.5 8.9 \n",
              "[2,] 11.5 8.5 \n",
              "[3,]  9.7 9.7 "
            ]
          },
          "metadata": {}
        }
      ]
    },
    {
      "cell_type": "code",
      "source": [
        "mean_and_sd <- function(x, na.rm = FALSE) {\n",
        "c(mean(x, na.rm = na.rm), sd(x, na.rm = na.rm))\n",
        "}"
      ],
      "metadata": {
        "id": "YFEnwR1tkRZ9"
      },
      "execution_count": null,
      "outputs": []
    },
    {
      "cell_type": "code",
      "source": [
        "z <- apply(X = a.small.matrix, MARGIN = 2, FUN = mean_and_sd, na.rm = TRUE)\n",
        "z"
      ],
      "metadata": {
        "colab": {
          "base_uri": "https://localhost:8080/",
          "height": 114
        },
        "id": "eTfrNtbNkS5a",
        "outputId": "324062d2-a0f5-4589-b1c4-d1a7c7f087cf"
      },
      "execution_count": null,
      "outputs": [
        {
          "output_type": "display_data",
          "data": {
            "text/html": [
              "<table class=\"dataframe\">\n",
              "<caption>A matrix: 2 × 2 of type dbl</caption>\n",
              "<tbody>\n",
              "\t<tr><td>10.90000</td><td>9.0333333</td></tr>\n",
              "\t<tr><td> 1.03923</td><td>0.6110101</td></tr>\n",
              "</tbody>\n",
              "</table>\n"
            ],
            "text/markdown": "\nA matrix: 2 × 2 of type dbl\n\n| 10.90000 | 9.0333333 |\n|  1.03923 | 0.6110101 |\n\n",
            "text/latex": "A matrix: 2 × 2 of type dbl\n\\begin{tabular}{ll}\n\t 10.90000 & 9.0333333\\\\\n\t  1.03923 & 0.6110101\\\\\n\\end{tabular}\n",
            "text/plain": [
              "     [,1]     [,2]     \n",
              "[1,] 10.90000 9.0333333\n",
              "[2,]  1.03923 0.6110101"
            ]
          },
          "metadata": {}
        }
      ]
    },
    {
      "cell_type": "code",
      "source": [
        "z <- apply(X = a.small.matrix, MARGIN = 1, FUN = mean_and_sd, na.rm = TRUE)\n",
        "z"
      ],
      "metadata": {
        "colab": {
          "base_uri": "https://localhost:8080/",
          "height": 97
        },
        "id": "IcqcVqc9kVHQ",
        "outputId": "1f46116d-5a3e-4028-e231-a4a98be30a95"
      },
      "execution_count": null,
      "outputs": [
        {
          "output_type": "display_data",
          "data": {
            "text/html": [
              "<table class=\"dataframe\">\n",
              "<caption>A matrix: 2 × 3 of type dbl</caption>\n",
              "<tbody>\n",
              "\t<tr><td>10.200000</td><td>10.00000</td><td>9.7</td></tr>\n",
              "\t<tr><td> 1.838478</td><td> 2.12132</td><td>0.0</td></tr>\n",
              "</tbody>\n",
              "</table>\n"
            ],
            "text/markdown": "\nA matrix: 2 × 3 of type dbl\n\n| 10.200000 | 10.00000 | 9.7 |\n|  1.838478 |  2.12132 | 0.0 |\n\n",
            "text/latex": "A matrix: 2 × 3 of type dbl\n\\begin{tabular}{lll}\n\t 10.200000 & 10.00000 & 9.7\\\\\n\t  1.838478 &  2.12132 & 0.0\\\\\n\\end{tabular}\n",
            "text/plain": [
              "     [,1]      [,2]     [,3]\n",
              "[1,] 10.200000 10.00000 9.7 \n",
              "[2,]  1.838478  2.12132 0.0 "
            ]
          },
          "metadata": {}
        }
      ]
    },
    {
      "cell_type": "code",
      "source": [
        "set.seed(123456) # so that a.vector does not change\n",
        "a.vector <- runif(10)\n",
        "z <- sapply(X = a.vector, FUN = `+`, e2 = 5)\n",
        "str(z)"
      ],
      "metadata": {
        "colab": {
          "base_uri": "https://localhost:8080/"
        },
        "id": "gLi68oSFkWX5",
        "outputId": "53237264-a279-49b2-d614-988a0b0ff815"
      },
      "execution_count": null,
      "outputs": [
        {
          "output_type": "stream",
          "name": "stdout",
          "text": [
            " num [1:10] 5.8 5.75 5.39 5.34 5.36 ...\n"
          ]
        }
      ]
    },
    {
      "cell_type": "markdown",
      "source": [
        "3.5 Object names and character strings"
      ],
      "metadata": {
        "id": "tO114_QokY3K"
      }
    },
    {
      "cell_type": "code",
      "source": [
        "assign(\"a\", 9.99)\n",
        "a"
      ],
      "metadata": {
        "colab": {
          "base_uri": "https://localhost:8080/",
          "height": 34
        },
        "id": "jSvNVXJ3kXcv",
        "outputId": "e86eb489-ba44-4749-feb8-1763945f2827"
      },
      "execution_count": null,
      "outputs": [
        {
          "output_type": "display_data",
          "data": {
            "text/html": [
              "9.99"
            ],
            "text/markdown": "9.99",
            "text/latex": "9.99",
            "text/plain": [
              "[1] 9.99"
            ]
          },
          "metadata": {}
        }
      ]
    },
    {
      "cell_type": "code",
      "source": [
        "name.of.var <- \"b\"\n",
        "assign(name.of.var, 9.99)\n",
        "b"
      ],
      "metadata": {
        "colab": {
          "base_uri": "https://localhost:8080/",
          "height": 34
        },
        "id": "Hecz109SkaP0",
        "outputId": "ab44d3bd-5d61-4783-961c-f1743d527744"
      },
      "execution_count": null,
      "outputs": [
        {
          "output_type": "display_data",
          "data": {
            "text/html": [
              "9.99"
            ],
            "text/markdown": "9.99",
            "text/latex": "9.99",
            "text/plain": [
              "[1] 9.99"
            ]
          },
          "metadata": {}
        }
      ]
    },
    {
      "cell_type": "code",
      "source": [
        "for (i in 1:5) {\n",
        "assign(paste(\"zz_\", i, sep = \"\"), i^2)\n",
        "}\n",
        "ls(pattern = \"zz_*\")"
      ],
      "metadata": {
        "colab": {
          "base_uri": "https://localhost:8080/",
          "height": 34
        },
        "id": "6gLNkDNekbdQ",
        "outputId": "f81c34e2-c2d2-4b32-c95d-f95c8571726f"
      },
      "execution_count": null,
      "outputs": [
        {
          "output_type": "display_data",
          "data": {
            "text/html": [
              "<style>\n",
              ".list-inline {list-style: none; margin:0; padding: 0}\n",
              ".list-inline>li {display: inline-block}\n",
              ".list-inline>li:not(:last-child)::after {content: \"\\00b7\"; padding: 0 .5ex}\n",
              "</style>\n",
              "<ol class=list-inline><li>'zz_1'</li><li>'zz_2'</li><li>'zz_3'</li><li>'zz_4'</li><li>'zz_5'</li></ol>\n"
            ],
            "text/markdown": "1. 'zz_1'\n2. 'zz_2'\n3. 'zz_3'\n4. 'zz_4'\n5. 'zz_5'\n\n\n",
            "text/latex": "\\begin{enumerate*}\n\\item 'zz\\_1'\n\\item 'zz\\_2'\n\\item 'zz\\_3'\n\\item 'zz\\_4'\n\\item 'zz\\_5'\n\\end{enumerate*}\n",
            "text/plain": [
              "[1] \"zz_1\" \"zz_2\" \"zz_3\" \"zz_4\" \"zz_5\""
            ]
          },
          "metadata": {}
        }
      ]
    },
    {
      "cell_type": "code",
      "source": [
        "get(\"a\")\n",
        "\n",
        "get(\"b\")"
      ],
      "metadata": {
        "colab": {
          "base_uri": "https://localhost:8080/",
          "height": 52
        },
        "id": "vNYc5CeYkc5B",
        "outputId": "b26840fc-9586-4743-b8ec-922bec4c398a"
      },
      "execution_count": null,
      "outputs": [
        {
          "output_type": "display_data",
          "data": {
            "text/html": [
              "9.99"
            ],
            "text/markdown": "9.99",
            "text/latex": "9.99",
            "text/plain": [
              "[1] 9.99"
            ]
          },
          "metadata": {}
        },
        {
          "output_type": "display_data",
          "data": {
            "text/html": [
              "9.99"
            ],
            "text/markdown": "9.99",
            "text/latex": "9.99",
            "text/plain": [
              "[1] 9.99"
            ]
          },
          "metadata": {}
        }
      ]
    },
    {
      "cell_type": "code",
      "source": [
        "obj_names <- ls(pattern = \"zz_*\")\n",
        "obj_lst <- mget(obj_names)\n",
        "str(obj_lst)"
      ],
      "metadata": {
        "colab": {
          "base_uri": "https://localhost:8080/"
        },
        "id": "8OHQPw9UkfbW",
        "outputId": "84e48d78-f307-4ca1-b345-0255a551239e"
      },
      "execution_count": null,
      "outputs": [
        {
          "output_type": "stream",
          "name": "stdout",
          "text": [
            "List of 5\n",
            " $ zz_1: num 1\n",
            " $ zz_2: num 4\n",
            " $ zz_3: num 9\n",
            " $ zz_4: num 16\n",
            " $ zz_5: num 25\n"
          ]
        }
      ]
    },
    {
      "cell_type": "markdown",
      "source": [
        "3.6 The multiple faces of loops"
      ],
      "metadata": {
        "id": "3TTKJ3JakkJ_"
      }
    },
    {
      "cell_type": "code",
      "source": [
        "x <- rnorm(10)\n",
        "results <- numeric()\n",
        "fun.names <- c(\"mean\", \"max\", \"min\")\n",
        "for (f.name in fun.names) {\n",
        "results[[f.name]] <- do.call(f.name, list(x))\n",
        "}\n",
        "results"
      ],
      "metadata": {
        "colab": {
          "base_uri": "https://localhost:8080/",
          "height": 34
        },
        "id": "Jy74dwtlkiw3",
        "outputId": "6369e1d0-98e8-4576-f58a-7d40730e3300"
      },
      "execution_count": null,
      "outputs": [
        {
          "output_type": "display_data",
          "data": {
            "text/html": [
              "<style>\n",
              ".dl-inline {width: auto; margin:0; padding: 0}\n",
              ".dl-inline>dt, .dl-inline>dd {float: none; width: auto; display: inline-block}\n",
              ".dl-inline>dt::after {content: \":\\0020\"; padding-right: .5ex}\n",
              ".dl-inline>dt:not(:first-of-type) {padding-left: .5ex}\n",
              "</style><dl class=dl-inline><dt>mean</dt><dd>0.545342702442268</dd><dt>max</dt><dd>2.50264540789068</dd><dt>min</dt><dd>-1.11394990363057</dd></dl>\n"
            ],
            "text/markdown": "mean\n:   0.545342702442268max\n:   2.50264540789068min\n:   -1.11394990363057\n\n",
            "text/latex": "\\begin{description*}\n\\item[mean] 0.545342702442268\n\\item[max] 2.50264540789068\n\\item[min] -1.11394990363057\n\\end{description*}\n",
            "text/plain": [
              "      mean        max        min \n",
              " 0.5453427  2.5026454 -1.1139499 "
            ]
          },
          "metadata": {}
        }
      ]
    },
    {
      "cell_type": "code",
      "source": [
        "results <- numeric()\n",
        "funs <- list(mean, max, min)\n",
        "for (f in funs) {\n",
        "results <- c(results, f(x))\n",
        "}\n",
        "results"
      ],
      "metadata": {
        "colab": {
          "base_uri": "https://localhost:8080/",
          "height": 34
        },
        "id": "Arcch0Zskmxq",
        "outputId": "249ce3f7-45fd-4af4-e622-0b00d478c31e"
      },
      "execution_count": null,
      "outputs": [
        {
          "output_type": "display_data",
          "data": {
            "text/html": [
              "<style>\n",
              ".list-inline {list-style: none; margin:0; padding: 0}\n",
              ".list-inline>li {display: inline-block}\n",
              ".list-inline>li:not(:last-child)::after {content: \"\\00b7\"; padding: 0 .5ex}\n",
              "</style>\n",
              "<ol class=list-inline><li>0.545342702442268</li><li>2.50264540789068</li><li>-1.11394990363057</li></ol>\n"
            ],
            "text/markdown": "1. 0.545342702442268\n2. 2.50264540789068\n3. -1.11394990363057\n\n\n",
            "text/latex": "\\begin{enumerate*}\n\\item 0.545342702442268\n\\item 2.50264540789068\n\\item -1.11394990363057\n\\end{enumerate*}\n",
            "text/plain": [
              "[1]  0.5453427  2.5026454 -1.1139499"
            ]
          },
          "metadata": {}
        }
      ]
    },
    {
      "cell_type": "code",
      "source": [
        "results <- numeric()\n",
        "funs <- list(average = mean, maximum = max, minimum = min)\n",
        "for (f in names(funs)) {\n",
        "results[[f]] <- funs[[f]](x)\n",
        "}\n",
        "results"
      ],
      "metadata": {
        "colab": {
          "base_uri": "https://localhost:8080/",
          "height": 34
        },
        "id": "ARBTd0jEkoC7",
        "outputId": "3f67009e-9921-47d9-b310-c0ac5a8213a7"
      },
      "execution_count": null,
      "outputs": [
        {
          "output_type": "display_data",
          "data": {
            "text/html": [
              "<style>\n",
              ".dl-inline {width: auto; margin:0; padding: 0}\n",
              ".dl-inline>dt, .dl-inline>dd {float: none; width: auto; display: inline-block}\n",
              ".dl-inline>dt::after {content: \":\\0020\"; padding-right: .5ex}\n",
              ".dl-inline>dt:not(:first-of-type) {padding-left: .5ex}\n",
              "</style><dl class=dl-inline><dt>average</dt><dd>0.545342702442268</dd><dt>maximum</dt><dd>2.50264540789068</dd><dt>minimum</dt><dd>-1.11394990363057</dd></dl>\n"
            ],
            "text/markdown": "average\n:   0.545342702442268maximum\n:   2.50264540789068minimum\n:   -1.11394990363057\n\n",
            "text/latex": "\\begin{description*}\n\\item[average] 0.545342702442268\n\\item[maximum] 2.50264540789068\n\\item[minimum] -1.11394990363057\n\\end{description*}\n",
            "text/plain": [
              "   average    maximum    minimum \n",
              " 0.5453427  2.5026454 -1.1139499 "
            ]
          },
          "metadata": {}
        }
      ]
    },
    {
      "cell_type": "code",
      "source": [
        "my.data <- data.frame(x = 1:10, y = 1:10 + rnorm(10, 1, 0.1))\n",
        "results <- list()\n",
        "models <- list(linear = y ~ x, linear.orig = y ~ x - 1, quadratic = y ~ x + I(x^2))\n",
        "for (m in names(models)) {\n",
        "results[[m]] <- lm(models[[m]], data = my.data)\n",
        "}\n",
        "str(results, max.level = 1)\n",
        "do.call(anova, unname(results))"
      ],
      "metadata": {
        "colab": {
          "base_uri": "https://localhost:8080/",
          "height": 314
        },
        "id": "PRtN-fu4kpcR",
        "outputId": "1b82690d-8b00-4099-a1c2-b3c45693fba6"
      },
      "execution_count": null,
      "outputs": [
        {
          "output_type": "stream",
          "name": "stdout",
          "text": [
            "List of 3\n",
            " $ linear     :List of 12\n",
            "  ..- attr(*, \"class\")= chr \"lm\"\n",
            " $ linear.orig:List of 12\n",
            "  ..- attr(*, \"class\")= chr \"lm\"\n",
            " $ quadratic  :List of 12\n",
            "  ..- attr(*, \"class\")= chr \"lm\"\n"
          ]
        },
        {
          "output_type": "display_data",
          "data": {
            "text/html": [
              "<table class=\"dataframe\">\n",
              "<caption>A anova: 3 × 6</caption>\n",
              "<thead>\n",
              "\t<tr><th></th><th scope=col>Res.Df</th><th scope=col>RSS</th><th scope=col>Df</th><th scope=col>Sum of Sq</th><th scope=col>F</th><th scope=col>Pr(&gt;F)</th></tr>\n",
              "\t<tr><th></th><th scope=col>&lt;dbl&gt;</th><th scope=col>&lt;dbl&gt;</th><th scope=col>&lt;dbl&gt;</th><th scope=col>&lt;dbl&gt;</th><th scope=col>&lt;dbl&gt;</th><th scope=col>&lt;dbl&gt;</th></tr>\n",
              "</thead>\n",
              "<tbody>\n",
              "\t<tr><th scope=row>1</th><td>8</td><td>0.05874054</td><td>NA</td><td>       NA</td><td>      NA</td><td>          NA</td></tr>\n",
              "\t<tr><th scope=row>2</th><td>9</td><td>2.53018269</td><td>-1</td><td>-2.471442</td><td>357.4695</td><td>2.878930e-07</td></tr>\n",
              "\t<tr><th scope=row>3</th><td>7</td><td>0.04839600</td><td> 2</td><td> 2.481787</td><td>179.4829</td><td>9.678355e-07</td></tr>\n",
              "</tbody>\n",
              "</table>\n"
            ],
            "text/markdown": "\nA anova: 3 × 6\n\n| <!--/--> | Res.Df &lt;dbl&gt; | RSS &lt;dbl&gt; | Df &lt;dbl&gt; | Sum of Sq &lt;dbl&gt; | F &lt;dbl&gt; | Pr(&gt;F) &lt;dbl&gt; |\n|---|---|---|---|---|---|---|\n| 1 | 8 | 0.05874054 | NA |        NA |       NA |           NA |\n| 2 | 9 | 2.53018269 | -1 | -2.471442 | 357.4695 | 2.878930e-07 |\n| 3 | 7 | 0.04839600 |  2 |  2.481787 | 179.4829 | 9.678355e-07 |\n\n",
            "text/latex": "A anova: 3 × 6\n\\begin{tabular}{r|llllll}\n  & Res.Df & RSS & Df & Sum of Sq & F & Pr(>F)\\\\\n  & <dbl> & <dbl> & <dbl> & <dbl> & <dbl> & <dbl>\\\\\n\\hline\n\t1 & 8 & 0.05874054 & NA &        NA &       NA &           NA\\\\\n\t2 & 9 & 2.53018269 & -1 & -2.471442 & 357.4695 & 2.878930e-07\\\\\n\t3 & 7 & 0.04839600 &  2 &  2.481787 & 179.4829 & 9.678355e-07\\\\\n\\end{tabular}\n",
            "text/plain": [
              "  Res.Df RSS        Df Sum of Sq F        Pr(>F)      \n",
              "1 8      0.05874054 NA        NA       NA           NA\n",
              "2 9      2.53018269 -1 -2.471442 357.4695 2.878930e-07\n",
              "3 7      0.04839600  2  2.481787 179.4829 9.678355e-07"
            ]
          },
          "metadata": {}
        }
      ]
    },
    {
      "cell_type": "code",
      "source": [
        "results <- list()\n",
        "models <- list(y ~ x, y ~ x - 1, y ~ x + I(x^2))\n",
        "for (i in seq(along.with = models)) {\n",
        "results[[i]] <- lm(models[[i]], data = my.data)\n",
        "}\n",
        "str(results, max.level = 1)\n",
        "do.call(anova, results)"
      ],
      "metadata": {
        "colab": {
          "base_uri": "https://localhost:8080/",
          "height": 314
        },
        "id": "e85emblikrDp",
        "outputId": "c7a0023a-d67a-4ae9-a249-996ea0fce803"
      },
      "execution_count": null,
      "outputs": [
        {
          "output_type": "stream",
          "name": "stdout",
          "text": [
            "List of 3\n",
            " $ :List of 12\n",
            "  ..- attr(*, \"class\")= chr \"lm\"\n",
            " $ :List of 12\n",
            "  ..- attr(*, \"class\")= chr \"lm\"\n",
            " $ :List of 12\n",
            "  ..- attr(*, \"class\")= chr \"lm\"\n"
          ]
        },
        {
          "output_type": "display_data",
          "data": {
            "text/html": [
              "<table class=\"dataframe\">\n",
              "<caption>A anova: 3 × 6</caption>\n",
              "<thead>\n",
              "\t<tr><th></th><th scope=col>Res.Df</th><th scope=col>RSS</th><th scope=col>Df</th><th scope=col>Sum of Sq</th><th scope=col>F</th><th scope=col>Pr(&gt;F)</th></tr>\n",
              "\t<tr><th></th><th scope=col>&lt;dbl&gt;</th><th scope=col>&lt;dbl&gt;</th><th scope=col>&lt;dbl&gt;</th><th scope=col>&lt;dbl&gt;</th><th scope=col>&lt;dbl&gt;</th><th scope=col>&lt;dbl&gt;</th></tr>\n",
              "</thead>\n",
              "<tbody>\n",
              "\t<tr><th scope=row>1</th><td>8</td><td>0.05874054</td><td>NA</td><td>       NA</td><td>      NA</td><td>          NA</td></tr>\n",
              "\t<tr><th scope=row>2</th><td>9</td><td>2.53018269</td><td>-1</td><td>-2.471442</td><td>357.4695</td><td>2.878930e-07</td></tr>\n",
              "\t<tr><th scope=row>3</th><td>7</td><td>0.04839600</td><td> 2</td><td> 2.481787</td><td>179.4829</td><td>9.678355e-07</td></tr>\n",
              "</tbody>\n",
              "</table>\n"
            ],
            "text/markdown": "\nA anova: 3 × 6\n\n| <!--/--> | Res.Df &lt;dbl&gt; | RSS &lt;dbl&gt; | Df &lt;dbl&gt; | Sum of Sq &lt;dbl&gt; | F &lt;dbl&gt; | Pr(&gt;F) &lt;dbl&gt; |\n|---|---|---|---|---|---|---|\n| 1 | 8 | 0.05874054 | NA |        NA |       NA |           NA |\n| 2 | 9 | 2.53018269 | -1 | -2.471442 | 357.4695 | 2.878930e-07 |\n| 3 | 7 | 0.04839600 |  2 |  2.481787 | 179.4829 | 9.678355e-07 |\n\n",
            "text/latex": "A anova: 3 × 6\n\\begin{tabular}{r|llllll}\n  & Res.Df & RSS & Df & Sum of Sq & F & Pr(>F)\\\\\n  & <dbl> & <dbl> & <dbl> & <dbl> & <dbl> & <dbl>\\\\\n\\hline\n\t1 & 8 & 0.05874054 & NA &        NA &       NA &           NA\\\\\n\t2 & 9 & 2.53018269 & -1 & -2.471442 & 357.4695 & 2.878930e-07\\\\\n\t3 & 7 & 0.04839600 &  2 &  2.481787 & 179.4829 & 9.678355e-07\\\\\n\\end{tabular}\n",
            "text/plain": [
              "  Res.Df RSS        Df Sum of Sq F        Pr(>F)      \n",
              "1 8      0.05874054 NA        NA       NA           NA\n",
              "2 9      2.53018269 -1 -2.471442 357.4695 2.878930e-07\n",
              "3 7      0.04839600  2  2.481787 179.4829 9.678355e-07"
            ]
          },
          "metadata": {}
        }
      ]
    }
  ]
}